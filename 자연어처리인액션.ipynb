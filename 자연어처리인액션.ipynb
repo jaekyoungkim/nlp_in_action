{
  "nbformat": 4,
  "nbformat_minor": 0,
  "metadata": {
    "colab": {
      "name": "자연어처리인액션.ipynb",
      "provenance": [],
      "collapsed_sections": [],
      "machine_shape": "hm",
      "toc_visible": true,
      "authorship_tag": "ABX9TyOcd6GDkLgE/Rk68pQ30dUC",
      "include_colab_link": true
    },
    "kernelspec": {
      "name": "python3",
      "display_name": "Python 3"
    },
    "language_info": {
      "name": "python"
    }
  },
  "cells": [
    {
      "cell_type": "markdown",
      "metadata": {
        "id": "view-in-github",
        "colab_type": "text"
      },
      "source": [
        "<a href=\"https://colab.research.google.com/github/jaekyoungkim/nlp_in_action/blob/main/%EC%9E%90%EC%97%B0%EC%96%B4%EC%B2%98%EB%A6%AC%EC%9D%B8%EC%95%A1%EC%85%98.ipynb\" target=\"_parent\"><img src=\"https://colab.research.google.com/assets/colab-badge.svg\" alt=\"Open In Colab\"/></a>"
      ]
    },
    {
      "cell_type": "code",
      "execution_count": null,
      "metadata": {
        "id": "9DM17p2KE3Gl",
        "colab": {
          "base_uri": "https://localhost:8080/"
        },
        "outputId": "a5747d97-8f9b-4a1a-eec9-36751ddb9ead"
      },
      "outputs": [
        {
          "output_type": "stream",
          "name": "stdout",
          "text": [
            "Cloning into 'nlpia'...\n",
            "remote: Enumerating objects: 6365, done.\u001b[K\n",
            "remote: Counting objects: 100% (189/189), done.\u001b[K\n",
            "remote: Compressing objects: 100% (114/114), done.\u001b[K\n",
            "remote: Total 6365 (delta 86), reused 132 (delta 55), pack-reused 6176\u001b[K\n",
            "Receiving objects: 100% (6365/6365), 124.18 MiB | 28.63 MiB/s, done.\n",
            "Resolving deltas: 100% (4033/4033), done.\n"
          ]
        }
      ],
      "source": [
        "!git clone https://github.com/totalgood/nlpia"
      ]
    },
    {
      "cell_type": "code",
      "source": [
        "!pip install nlpia"
      ],
      "metadata": {
        "id": "5UflWSmumDUu",
        "colab": {
          "base_uri": "https://localhost:8080/"
        },
        "outputId": "67d7b088-64ff-49bc-a4b7-a3682ac8999d"
      },
      "execution_count": null,
      "outputs": [
        {
          "output_type": "stream",
          "name": "stdout",
          "text": [
            "Collecting nlpia\n",
            "  Downloading nlpia-0.5.2-py2.py3-none-any.whl (32.0 MB)\n",
            "\u001b[K     |████████████████████████████████| 32.0 MB 46.1 MB/s \n",
            "\u001b[?25hRequirement already satisfied: tensorflow in /usr/local/lib/python3.7/dist-packages (from nlpia) (2.8.0)\n",
            "Collecting pugnlp\n",
            "  Downloading pugnlp-0.2.6-py2.py3-none-any.whl (706 kB)\n",
            "\u001b[K     |████████████████████████████████| 706 kB 57.5 MB/s \n",
            "\u001b[?25hRequirement already satisfied: matplotlib in /usr/local/lib/python3.7/dist-packages (from nlpia) (3.2.2)\n",
            "Collecting html2text\n",
            "  Downloading html2text-2020.1.16-py3-none-any.whl (32 kB)\n",
            "Requirement already satisfied: regex in /usr/local/lib/python3.7/dist-packages (from nlpia) (2019.12.20)\n",
            "Requirement already satisfied: tqdm in /usr/local/lib/python3.7/dist-packages (from nlpia) (4.63.0)\n",
            "Requirement already satisfied: nltk in /usr/local/lib/python3.7/dist-packages (from nlpia) (3.2.5)\n",
            "Requirement already satisfied: spacy in /usr/local/lib/python3.7/dist-packages (from nlpia) (2.2.4)\n",
            "Requirement already satisfied: seaborn in /usr/local/lib/python3.7/dist-packages (from nlpia) (0.11.2)\n",
            "Requirement already satisfied: pandas-datareader in /usr/local/lib/python3.7/dist-packages (from nlpia) (0.9.0)\n",
            "Requirement already satisfied: keras in /usr/local/lib/python3.7/dist-packages (from nlpia) (2.8.0)\n",
            "Collecting python-Levenshtein\n",
            "  Downloading python-Levenshtein-0.12.2.tar.gz (50 kB)\n",
            "\u001b[K     |████████████████████████████████| 50 kB 5.5 MB/s \n",
            "\u001b[?25hRequirement already satisfied: pandas in /usr/local/lib/python3.7/dist-packages (from nlpia) (1.3.5)\n",
            "Requirement already satisfied: plotly in /usr/local/lib/python3.7/dist-packages (from nlpia) (5.5.0)\n",
            "Requirement already satisfied: lxml in /usr/local/lib/python3.7/dist-packages (from nlpia) (4.2.6)\n",
            "Requirement already satisfied: jupyter in /usr/local/lib/python3.7/dist-packages (from nlpia) (1.0.0)\n",
            "Collecting pypandoc\n",
            "  Downloading pypandoc-1.7.4.tar.gz (30 kB)\n",
            "  Installing build dependencies ... \u001b[?25l\u001b[?25hdone\n",
            "  Getting requirements to build wheel ... \u001b[?25l\u001b[?25hdone\n",
            "    Preparing wheel metadata ... \u001b[?25l\u001b[?25hdone\n",
            "Requirement already satisfied: h5py in /usr/local/lib/python3.7/dist-packages (from nlpia) (3.1.0)\n",
            "Requirement already satisfied: future in /usr/local/lib/python3.7/dist-packages (from nlpia) (0.16.0)\n",
            "Requirement already satisfied: gensim in /usr/local/lib/python3.7/dist-packages (from nlpia) (3.6.0)\n",
            "Requirement already satisfied: scikit-learn in /usr/local/lib/python3.7/dist-packages (from nlpia) (1.0.2)\n",
            "Requirement already satisfied: html5lib in /usr/local/lib/python3.7/dist-packages (from nlpia) (1.0.1)\n",
            "Requirement already satisfied: numpy>=1.11.3 in /usr/local/lib/python3.7/dist-packages (from gensim->nlpia) (1.21.5)\n",
            "Requirement already satisfied: scipy>=0.18.1 in /usr/local/lib/python3.7/dist-packages (from gensim->nlpia) (1.4.1)\n",
            "Requirement already satisfied: six>=1.5.0 in /usr/local/lib/python3.7/dist-packages (from gensim->nlpia) (1.15.0)\n",
            "Requirement already satisfied: smart-open>=1.2.1 in /usr/local/lib/python3.7/dist-packages (from gensim->nlpia) (5.2.1)\n",
            "Requirement already satisfied: cached-property in /usr/local/lib/python3.7/dist-packages (from h5py->nlpia) (1.5.2)\n",
            "Requirement already satisfied: webencodings in /usr/local/lib/python3.7/dist-packages (from html5lib->nlpia) (0.5.1)\n",
            "Requirement already satisfied: ipywidgets in /usr/local/lib/python3.7/dist-packages (from jupyter->nlpia) (7.6.5)\n",
            "Requirement already satisfied: jupyter-console in /usr/local/lib/python3.7/dist-packages (from jupyter->nlpia) (5.2.0)\n",
            "Requirement already satisfied: ipykernel in /usr/local/lib/python3.7/dist-packages (from jupyter->nlpia) (4.10.1)\n",
            "Requirement already satisfied: notebook in /usr/local/lib/python3.7/dist-packages (from jupyter->nlpia) (5.3.1)\n",
            "Requirement already satisfied: qtconsole in /usr/local/lib/python3.7/dist-packages (from jupyter->nlpia) (5.2.2)\n",
            "Requirement already satisfied: nbconvert in /usr/local/lib/python3.7/dist-packages (from jupyter->nlpia) (5.6.1)\n",
            "Requirement already satisfied: ipython>=4.0.0 in /usr/local/lib/python3.7/dist-packages (from ipykernel->jupyter->nlpia) (5.5.0)\n",
            "Requirement already satisfied: traitlets>=4.1.0 in /usr/local/lib/python3.7/dist-packages (from ipykernel->jupyter->nlpia) (5.1.1)\n",
            "Requirement already satisfied: tornado>=4.0 in /usr/local/lib/python3.7/dist-packages (from ipykernel->jupyter->nlpia) (5.1.1)\n",
            "Requirement already satisfied: jupyter-client in /usr/local/lib/python3.7/dist-packages (from ipykernel->jupyter->nlpia) (5.3.5)\n",
            "Requirement already satisfied: pexpect in /usr/local/lib/python3.7/dist-packages (from ipython>=4.0.0->ipykernel->jupyter->nlpia) (4.8.0)\n",
            "Requirement already satisfied: pickleshare in /usr/local/lib/python3.7/dist-packages (from ipython>=4.0.0->ipykernel->jupyter->nlpia) (0.7.5)\n",
            "Requirement already satisfied: pygments in /usr/local/lib/python3.7/dist-packages (from ipython>=4.0.0->ipykernel->jupyter->nlpia) (2.6.1)\n",
            "Requirement already satisfied: prompt-toolkit<2.0.0,>=1.0.4 in /usr/local/lib/python3.7/dist-packages (from ipython>=4.0.0->ipykernel->jupyter->nlpia) (1.0.18)\n",
            "Requirement already satisfied: setuptools>=18.5 in /usr/local/lib/python3.7/dist-packages (from ipython>=4.0.0->ipykernel->jupyter->nlpia) (57.4.0)\n",
            "Requirement already satisfied: simplegeneric>0.8 in /usr/local/lib/python3.7/dist-packages (from ipython>=4.0.0->ipykernel->jupyter->nlpia) (0.8.1)\n",
            "Requirement already satisfied: decorator in /usr/local/lib/python3.7/dist-packages (from ipython>=4.0.0->ipykernel->jupyter->nlpia) (4.4.2)\n",
            "Requirement already satisfied: wcwidth in /usr/local/lib/python3.7/dist-packages (from prompt-toolkit<2.0.0,>=1.0.4->ipython>=4.0.0->ipykernel->jupyter->nlpia) (0.2.5)\n",
            "Requirement already satisfied: ipython-genutils~=0.2.0 in /usr/local/lib/python3.7/dist-packages (from ipywidgets->jupyter->nlpia) (0.2.0)\n",
            "Requirement already satisfied: nbformat>=4.2.0 in /usr/local/lib/python3.7/dist-packages (from ipywidgets->jupyter->nlpia) (5.1.3)\n",
            "Requirement already satisfied: jupyterlab-widgets>=1.0.0 in /usr/local/lib/python3.7/dist-packages (from ipywidgets->jupyter->nlpia) (1.0.2)\n",
            "Requirement already satisfied: widgetsnbextension~=3.5.0 in /usr/local/lib/python3.7/dist-packages (from ipywidgets->jupyter->nlpia) (3.5.2)\n",
            "Requirement already satisfied: jupyter-core in /usr/local/lib/python3.7/dist-packages (from nbformat>=4.2.0->ipywidgets->jupyter->nlpia) (4.9.2)\n",
            "Requirement already satisfied: jsonschema!=2.5.0,>=2.4 in /usr/local/lib/python3.7/dist-packages (from nbformat>=4.2.0->ipywidgets->jupyter->nlpia) (4.3.3)\n",
            "Requirement already satisfied: typing-extensions in /usr/local/lib/python3.7/dist-packages (from jsonschema!=2.5.0,>=2.4->nbformat>=4.2.0->ipywidgets->jupyter->nlpia) (3.10.0.2)\n",
            "Requirement already satisfied: importlib-resources>=1.4.0 in /usr/local/lib/python3.7/dist-packages (from jsonschema!=2.5.0,>=2.4->nbformat>=4.2.0->ipywidgets->jupyter->nlpia) (5.4.0)\n",
            "Requirement already satisfied: pyrsistent!=0.17.0,!=0.17.1,!=0.17.2,>=0.14.0 in /usr/local/lib/python3.7/dist-packages (from jsonschema!=2.5.0,>=2.4->nbformat>=4.2.0->ipywidgets->jupyter->nlpia) (0.18.1)\n",
            "Requirement already satisfied: importlib-metadata in /usr/local/lib/python3.7/dist-packages (from jsonschema!=2.5.0,>=2.4->nbformat>=4.2.0->ipywidgets->jupyter->nlpia) (4.11.2)\n",
            "Requirement already satisfied: attrs>=17.4.0 in /usr/local/lib/python3.7/dist-packages (from jsonschema!=2.5.0,>=2.4->nbformat>=4.2.0->ipywidgets->jupyter->nlpia) (21.4.0)\n",
            "Requirement already satisfied: zipp>=3.1.0 in /usr/local/lib/python3.7/dist-packages (from importlib-resources>=1.4.0->jsonschema!=2.5.0,>=2.4->nbformat>=4.2.0->ipywidgets->jupyter->nlpia) (3.7.0)\n",
            "Requirement already satisfied: Send2Trash in /usr/local/lib/python3.7/dist-packages (from notebook->jupyter->nlpia) (1.8.0)\n",
            "Requirement already satisfied: terminado>=0.8.1 in /usr/local/lib/python3.7/dist-packages (from notebook->jupyter->nlpia) (0.13.3)\n",
            "Requirement already satisfied: jinja2 in /usr/local/lib/python3.7/dist-packages (from notebook->jupyter->nlpia) (2.11.3)\n",
            "Requirement already satisfied: pyzmq>=13 in /usr/local/lib/python3.7/dist-packages (from jupyter-client->ipykernel->jupyter->nlpia) (22.3.0)\n",
            "Requirement already satisfied: python-dateutil>=2.1 in /usr/local/lib/python3.7/dist-packages (from jupyter-client->ipykernel->jupyter->nlpia) (2.8.2)\n",
            "Requirement already satisfied: ptyprocess in /usr/local/lib/python3.7/dist-packages (from terminado>=0.8.1->notebook->jupyter->nlpia) (0.7.0)\n",
            "Requirement already satisfied: MarkupSafe>=0.23 in /usr/local/lib/python3.7/dist-packages (from jinja2->notebook->jupyter->nlpia) (2.0.1)\n",
            "Requirement already satisfied: pyparsing!=2.0.4,!=2.1.2,!=2.1.6,>=2.0.1 in /usr/local/lib/python3.7/dist-packages (from matplotlib->nlpia) (3.0.7)\n",
            "Requirement already satisfied: cycler>=0.10 in /usr/local/lib/python3.7/dist-packages (from matplotlib->nlpia) (0.11.0)\n",
            "Requirement already satisfied: kiwisolver>=1.0.1 in /usr/local/lib/python3.7/dist-packages (from matplotlib->nlpia) (1.3.2)\n",
            "Requirement already satisfied: mistune<2,>=0.8.1 in /usr/local/lib/python3.7/dist-packages (from nbconvert->jupyter->nlpia) (0.8.4)\n",
            "Requirement already satisfied: defusedxml in /usr/local/lib/python3.7/dist-packages (from nbconvert->jupyter->nlpia) (0.7.1)\n",
            "Requirement already satisfied: entrypoints>=0.2.2 in /usr/local/lib/python3.7/dist-packages (from nbconvert->jupyter->nlpia) (0.4)\n",
            "Requirement already satisfied: bleach in /usr/local/lib/python3.7/dist-packages (from nbconvert->jupyter->nlpia) (4.1.0)\n",
            "Requirement already satisfied: testpath in /usr/local/lib/python3.7/dist-packages (from nbconvert->jupyter->nlpia) (0.6.0)\n",
            "Requirement already satisfied: pandocfilters>=1.4.1 in /usr/local/lib/python3.7/dist-packages (from nbconvert->jupyter->nlpia) (1.5.0)\n",
            "Requirement already satisfied: packaging in /usr/local/lib/python3.7/dist-packages (from bleach->nbconvert->jupyter->nlpia) (21.3)\n",
            "Requirement already satisfied: pytz>=2017.3 in /usr/local/lib/python3.7/dist-packages (from pandas->nlpia) (2018.9)\n",
            "Requirement already satisfied: requests>=2.19.0 in /usr/local/lib/python3.7/dist-packages (from pandas-datareader->nlpia) (2.23.0)\n",
            "Requirement already satisfied: chardet<4,>=3.0.2 in /usr/local/lib/python3.7/dist-packages (from requests>=2.19.0->pandas-datareader->nlpia) (3.0.4)\n",
            "Requirement already satisfied: idna<3,>=2.5 in /usr/local/lib/python3.7/dist-packages (from requests>=2.19.0->pandas-datareader->nlpia) (2.10)\n",
            "Requirement already satisfied: certifi>=2017.4.17 in /usr/local/lib/python3.7/dist-packages (from requests>=2.19.0->pandas-datareader->nlpia) (2021.10.8)\n",
            "Requirement already satisfied: urllib3!=1.25.0,!=1.25.1,<1.26,>=1.21.1 in /usr/local/lib/python3.7/dist-packages (from requests>=2.19.0->pandas-datareader->nlpia) (1.24.3)\n",
            "Requirement already satisfied: tenacity>=6.2.0 in /usr/local/lib/python3.7/dist-packages (from plotly->nlpia) (8.0.1)\n",
            "Requirement already satisfied: coverage in /usr/local/lib/python3.7/dist-packages (from pugnlp->nlpia) (3.7.1)\n",
            "Collecting fuzzywuzzy\n",
            "  Downloading fuzzywuzzy-0.18.0-py2.py3-none-any.whl (18 kB)\n",
            "Requirement already satisfied: pip in /usr/local/lib/python3.7/dist-packages (from pugnlp->nlpia) (21.1.3)\n",
            "Requirement already satisfied: python-slugify in /usr/local/lib/python3.7/dist-packages (from pugnlp->nlpia) (6.1.1)\n",
            "Requirement already satisfied: wheel in /usr/local/lib/python3.7/dist-packages (from pugnlp->nlpia) (0.37.1)\n",
            "Requirement already satisfied: text-unidecode>=1.3 in /usr/local/lib/python3.7/dist-packages (from python-slugify->pugnlp->nlpia) (1.3)\n",
            "Requirement already satisfied: qtpy in /usr/local/lib/python3.7/dist-packages (from qtconsole->jupyter->nlpia) (2.0.1)\n",
            "Requirement already satisfied: threadpoolctl>=2.0.0 in /usr/local/lib/python3.7/dist-packages (from scikit-learn->nlpia) (3.1.0)\n",
            "Requirement already satisfied: joblib>=0.11 in /usr/local/lib/python3.7/dist-packages (from scikit-learn->nlpia) (1.1.0)\n",
            "Requirement already satisfied: murmurhash<1.1.0,>=0.28.0 in /usr/local/lib/python3.7/dist-packages (from spacy->nlpia) (1.0.6)\n",
            "Requirement already satisfied: srsly<1.1.0,>=1.0.2 in /usr/local/lib/python3.7/dist-packages (from spacy->nlpia) (1.0.5)\n",
            "Requirement already satisfied: thinc==7.4.0 in /usr/local/lib/python3.7/dist-packages (from spacy->nlpia) (7.4.0)\n",
            "Requirement already satisfied: preshed<3.1.0,>=3.0.2 in /usr/local/lib/python3.7/dist-packages (from spacy->nlpia) (3.0.6)\n",
            "Requirement already satisfied: wasabi<1.1.0,>=0.4.0 in /usr/local/lib/python3.7/dist-packages (from spacy->nlpia) (0.9.0)\n",
            "Requirement already satisfied: catalogue<1.1.0,>=0.0.7 in /usr/local/lib/python3.7/dist-packages (from spacy->nlpia) (1.0.0)\n",
            "Requirement already satisfied: cymem<2.1.0,>=2.0.2 in /usr/local/lib/python3.7/dist-packages (from spacy->nlpia) (2.0.6)\n",
            "Requirement already satisfied: plac<1.2.0,>=0.9.6 in /usr/local/lib/python3.7/dist-packages (from spacy->nlpia) (1.1.3)\n",
            "Requirement already satisfied: blis<0.5.0,>=0.4.0 in /usr/local/lib/python3.7/dist-packages (from spacy->nlpia) (0.4.1)\n",
            "Requirement already satisfied: flatbuffers>=1.12 in /usr/local/lib/python3.7/dist-packages (from tensorflow->nlpia) (2.0)\n",
            "Requirement already satisfied: tensorflow-io-gcs-filesystem>=0.23.1 in /usr/local/lib/python3.7/dist-packages (from tensorflow->nlpia) (0.24.0)\n",
            "Requirement already satisfied: opt-einsum>=2.3.2 in /usr/local/lib/python3.7/dist-packages (from tensorflow->nlpia) (3.3.0)\n",
            "Requirement already satisfied: tensorboard<2.9,>=2.8 in /usr/local/lib/python3.7/dist-packages (from tensorflow->nlpia) (2.8.0)\n",
            "Requirement already satisfied: gast>=0.2.1 in /usr/local/lib/python3.7/dist-packages (from tensorflow->nlpia) (0.5.3)\n",
            "Requirement already satisfied: keras-preprocessing>=1.1.1 in /usr/local/lib/python3.7/dist-packages (from tensorflow->nlpia) (1.1.2)\n",
            "Requirement already satisfied: wrapt>=1.11.0 in /usr/local/lib/python3.7/dist-packages (from tensorflow->nlpia) (1.13.3)\n",
            "Requirement already satisfied: libclang>=9.0.1 in /usr/local/lib/python3.7/dist-packages (from tensorflow->nlpia) (13.0.0)\n",
            "Requirement already satisfied: termcolor>=1.1.0 in /usr/local/lib/python3.7/dist-packages (from tensorflow->nlpia) (1.1.0)\n",
            "Requirement already satisfied: protobuf>=3.9.2 in /usr/local/lib/python3.7/dist-packages (from tensorflow->nlpia) (3.17.3)\n",
            "Requirement already satisfied: absl-py>=0.4.0 in /usr/local/lib/python3.7/dist-packages (from tensorflow->nlpia) (1.0.0)\n",
            "Collecting tf-estimator-nightly==2.8.0.dev2021122109\n",
            "  Downloading tf_estimator_nightly-2.8.0.dev2021122109-py2.py3-none-any.whl (462 kB)\n",
            "\u001b[K     |████████████████████████████████| 462 kB 64.4 MB/s \n",
            "\u001b[?25hRequirement already satisfied: astunparse>=1.6.0 in /usr/local/lib/python3.7/dist-packages (from tensorflow->nlpia) (1.6.3)\n",
            "Requirement already satisfied: grpcio<2.0,>=1.24.3 in /usr/local/lib/python3.7/dist-packages (from tensorflow->nlpia) (1.44.0)\n",
            "Requirement already satisfied: google-pasta>=0.1.1 in /usr/local/lib/python3.7/dist-packages (from tensorflow->nlpia) (0.2.0)\n",
            "Requirement already satisfied: tensorboard-plugin-wit>=1.6.0 in /usr/local/lib/python3.7/dist-packages (from tensorboard<2.9,>=2.8->tensorflow->nlpia) (1.8.1)\n",
            "Requirement already satisfied: werkzeug>=0.11.15 in /usr/local/lib/python3.7/dist-packages (from tensorboard<2.9,>=2.8->tensorflow->nlpia) (1.0.1)\n",
            "Requirement already satisfied: google-auth<3,>=1.6.3 in /usr/local/lib/python3.7/dist-packages (from tensorboard<2.9,>=2.8->tensorflow->nlpia) (1.35.0)\n",
            "Requirement already satisfied: google-auth-oauthlib<0.5,>=0.4.1 in /usr/local/lib/python3.7/dist-packages (from tensorboard<2.9,>=2.8->tensorflow->nlpia) (0.4.6)\n",
            "Requirement already satisfied: tensorboard-data-server<0.7.0,>=0.6.0 in /usr/local/lib/python3.7/dist-packages (from tensorboard<2.9,>=2.8->tensorflow->nlpia) (0.6.1)\n",
            "Requirement already satisfied: markdown>=2.6.8 in /usr/local/lib/python3.7/dist-packages (from tensorboard<2.9,>=2.8->tensorflow->nlpia) (3.3.6)\n",
            "Requirement already satisfied: pyasn1-modules>=0.2.1 in /usr/local/lib/python3.7/dist-packages (from google-auth<3,>=1.6.3->tensorboard<2.9,>=2.8->tensorflow->nlpia) (0.2.8)\n",
            "Requirement already satisfied: rsa<5,>=3.1.4 in /usr/local/lib/python3.7/dist-packages (from google-auth<3,>=1.6.3->tensorboard<2.9,>=2.8->tensorflow->nlpia) (4.8)\n",
            "Requirement already satisfied: cachetools<5.0,>=2.0.0 in /usr/local/lib/python3.7/dist-packages (from google-auth<3,>=1.6.3->tensorboard<2.9,>=2.8->tensorflow->nlpia) (4.2.4)\n",
            "Requirement already satisfied: requests-oauthlib>=0.7.0 in /usr/local/lib/python3.7/dist-packages (from google-auth-oauthlib<0.5,>=0.4.1->tensorboard<2.9,>=2.8->tensorflow->nlpia) (1.3.1)\n",
            "Requirement already satisfied: pyasn1<0.5.0,>=0.4.6 in /usr/local/lib/python3.7/dist-packages (from pyasn1-modules>=0.2.1->google-auth<3,>=1.6.3->tensorboard<2.9,>=2.8->tensorflow->nlpia) (0.4.8)\n",
            "Requirement already satisfied: oauthlib>=3.0.0 in /usr/local/lib/python3.7/dist-packages (from requests-oauthlib>=0.7.0->google-auth-oauthlib<0.5,>=0.4.1->tensorboard<2.9,>=2.8->tensorflow->nlpia) (3.2.0)\n",
            "Building wheels for collected packages: pypandoc, python-Levenshtein\n",
            "  Building wheel for pypandoc (PEP 517) ... \u001b[?25l\u001b[?25hdone\n",
            "  Created wheel for pypandoc: filename=pypandoc-1.7.4-py2.py3-none-any.whl size=32102 sha256=535179eaf5aa11ddd26e01216c49f2fc41a2190d6ffe18d1c8eb9ad71e3a9426\n",
            "  Stored in directory: /root/.cache/pip/wheels/f1/80/ba/d10ff9f1ebfd8386979b7d86b7e8ed055aa8bc8f4900bfc986\n",
            "  Building wheel for python-Levenshtein (setup.py) ... \u001b[?25l\u001b[?25hdone\n",
            "  Created wheel for python-Levenshtein: filename=python_Levenshtein-0.12.2-cp37-cp37m-linux_x86_64.whl size=149871 sha256=b609abe298a65252aa5c7fe42aaa3350b8f30c0419d5bc33267bda2ab6111ccd\n",
            "  Stored in directory: /root/.cache/pip/wheels/05/5f/ca/7c4367734892581bb5ff896f15027a932c551080b2abd3e00d\n",
            "Successfully built pypandoc python-Levenshtein\n",
            "Installing collected packages: tf-estimator-nightly, python-Levenshtein, pypandoc, fuzzywuzzy, pugnlp, html2text, nlpia\n",
            "Successfully installed fuzzywuzzy-0.18.0 html2text-2020.1.16 nlpia-0.5.2 pugnlp-0.2.6 pypandoc-1.7.4 python-Levenshtein-0.12.2 tf-estimator-nightly-2.8.0.dev2021122109\n"
          ]
        }
      ]
    },
    {
      "cell_type": "markdown",
      "source": [
        "# ch01. 사고의 단위 : nlp개요 "
      ],
      "metadata": {
        "id": "w02UuNpRqkSq"
      }
    },
    {
      "cell_type": "code",
      "source": [
        "# 정규식\n",
        "import re  # regex/re 두개 있음 \n",
        "r = \"(hi|hello|hey)[ ] *([a-z]*)\" # a-z에 포함하는 글자가 임의의 횟수로 나타날수 있음"
      ],
      "metadata": {
        "id": "iqInIFhnqndP"
      },
      "execution_count": null,
      "outputs": []
    },
    {
      "cell_type": "code",
      "source": [
        "re.match(r, \"hello rosa\", flags= re.IGNORECASE)\n"
      ],
      "metadata": {
        "colab": {
          "base_uri": "https://localhost:8080/"
        },
        "id": "nUMzjwQtrEky",
        "outputId": "65ddaad2-3af8-4dd0-ddd2-c59693b2a4a7"
      },
      "execution_count": null,
      "outputs": [
        {
          "output_type": "execute_result",
          "data": {
            "text/plain": [
              "<re.Match object; span=(0, 10), match='hello rosa'>"
            ]
          },
          "metadata": {},
          "execution_count": 4
        }
      ]
    },
    {
      "cell_type": "code",
      "source": [
        "re.match(r, \"hi ho, hiho, it's off to work ...\", flags= re.IGNORECASE) \n"
      ],
      "metadata": {
        "colab": {
          "base_uri": "https://localhost:8080/"
        },
        "id": "Ow7MRVOYrFU8",
        "outputId": "c3718d0d-6018-46c8-bed8-18f455e5acd4"
      },
      "execution_count": null,
      "outputs": [
        {
          "output_type": "execute_result",
          "data": {
            "text/plain": [
              "<re.Match object; span=(0, 5), match='hi ho'>"
            ]
          },
          "metadata": {},
          "execution_count": 5
        }
      ]
    },
    {
      "cell_type": "code",
      "source": [
        "re.match(r, \"hey what's up.\", flags= re.IGNORECASE)  # 대소문자 구분 무시함\n"
      ],
      "metadata": {
        "colab": {
          "base_uri": "https://localhost:8080/"
        },
        "id": "hMR19i5erGF4",
        "outputId": "ebd28d1e-175f-44d5-92df-9097fdc26cd7"
      },
      "execution_count": null,
      "outputs": [
        {
          "output_type": "execute_result",
          "data": {
            "text/plain": [
              "<re.Match object; span=(0, 8), match='hey what'>"
            ]
          },
          "metadata": {},
          "execution_count": 7
        }
      ]
    },
    {
      "cell_type": "code",
      "source": [
        "# code error \n",
        "# r = r'[^a-z]*([y]o|[h']?ello|ok|hey|(good[ ])?(morn[gin']{0,3}|'\\r'afternoon|even[gin']{0,3}))[\\s.;:]{1,3}([a-z]{1,20})'\n",
        "# r' : 정규 표현식 아니라 원시 문자열을 뜻함\n"
      ],
      "metadata": {
        "id": "JT-HOeDvq7Si"
      },
      "execution_count": null,
      "outputs": []
    },
    {
      "cell_type": "code",
      "source": [
        "re_greeting = re.compile(r, flags =re.IGNORECASE) # compile 메서드로 정규표현식을 미리 컴파일해두면 정규식을 적용할때마다 옵션을 지정할 필요 없음"
      ],
      "metadata": {
        "id": "9m9dV-Jwt27O"
      },
      "execution_count": null,
      "outputs": []
    },
    {
      "cell_type": "code",
      "source": [
        "re_greeting.match('Hello Rosa') "
      ],
      "metadata": {
        "colab": {
          "base_uri": "https://localhost:8080/"
        },
        "id": "Wp3Y9utluTe6",
        "outputId": "c707d3fa-d439-4857-f677-270bc9aef4d3"
      },
      "execution_count": null,
      "outputs": [
        {
          "output_type": "execute_result",
          "data": {
            "text/plain": [
              "<re.Match object; span=(0, 10), match='Hello Rosa'>"
            ]
          },
          "metadata": {},
          "execution_count": 23
        }
      ]
    },
    {
      "cell_type": "code",
      "source": [
        "re_greeting.match('Good moring Rosa') "
      ],
      "metadata": {
        "id": "9uMLmOyRuXqY"
      },
      "execution_count": null,
      "outputs": []
    },
    {
      "cell_type": "code",
      "source": [
        "re_greeting.match('good evening rosa parks')"
      ],
      "metadata": {
        "id": "Fp1jFLgPubo9"
      },
      "execution_count": null,
      "outputs": []
    },
    {
      "cell_type": "code",
      "source": [
        "my_names = set(['rosa','rose','chatty','chatbot','bot','chatterbot'])\n",
        "curt_names = set(['hal','you','u']) \n",
        "greeter_name ='' #아직 챗봇은 대화상대가 누군지 모름\n",
        "match = re_greeting.match(input())\n",
        "if match:\n",
        "  at_name = match.groups()[-1]\n",
        "  if at_name in curt_names:\n",
        "    print('good one')\n",
        "  elif at_name.lower() in my_names: \n",
        "    print('hi {} how are you?'.format(greeter_name)) \n"
      ],
      "metadata": {
        "colab": {
          "base_uri": "https://localhost:8080/"
        },
        "id": "kMAMVY2V0WFe",
        "outputId": "d17c5f1c-2a3f-4a3b-dbf1-6124f002b098"
      },
      "execution_count": null,
      "outputs": [
        {
          "output_type": "stream",
          "name": "stdout",
          "text": [
            "hello rosa\n",
            "hi  how are you?\n"
          ]
        }
      ]
    },
    {
      "cell_type": "code",
      "source": [
        "my_names = set(['rosa','rose','chatty','chatbot','bot','chatterbot'])\n",
        "curt_names = set(['hal','you','u']) \n",
        "greeter_name ='' #아직 챗봇은 대화상대가 누군지 모름\n",
        "match = re_greeting.match(input())\n",
        "if match:\n",
        "  at_name = match.groups()[-1]\n",
        "  if at_name in curt_names:\n",
        "    print('good one')\n",
        "  elif at_name.lower() in my_names: \n",
        "    print('hi {} how are you?'.format(greeter_name)) "
      ],
      "metadata": {
        "colab": {
          "base_uri": "https://localhost:8080/"
        },
        "id": "PEnEZoXF5LtK",
        "outputId": "f77cc635-0927-476a-d4a9-3bb05001b901"
      },
      "execution_count": null,
      "outputs": [
        {
          "output_type": "stream",
          "name": "stdout",
          "text": [
            "hello you\n",
            "good one\n"
          ]
        }
      ]
    },
    {
      "cell_type": "code",
      "source": [
        "# 부록b의 정규식\n",
        "# 프로그램 언어로 이루어진 하나의 작은 프로그램\n",
        "# 문자열을  컴파일해서 하나의 작은 프로그램을 만들고 그것을 다른 문자열들에 대해 실행함으로써 패턴 부합을 수행\n",
        "# | or\n",
        "# () 그룹묶기\n",
        "# [] 문자부류\n",
        "# \\s \\b \\d \\w  흔히쓰이는 문자 부류들의 단축표기\n",
        "# * ? + 반복횟수 지정\n",
        "# {7,10} : 반복횟수를 좀더 구체적으로 지정\n"
      ],
      "metadata": {
        "id": "DCd0tViO5ULF"
      },
      "execution_count": null,
      "outputs": []
    },
    {
      "cell_type": "code",
      "source": [
        "import re \n",
        "re.findall(r'Hannes|Hobson|Cole', 'Hobson lane, Cole Howard, and Hannes Max Hapke') \n"
      ],
      "metadata": {
        "colab": {
          "base_uri": "https://localhost:8080/"
        },
        "id": "E-EqQ4hz8fw7",
        "outputId": "a246152a-94bd-45ef-bdeb-e8b6292fb131"
      },
      "execution_count": null,
      "outputs": [
        {
          "output_type": "execute_result",
          "data": {
            "text/plain": [
              "['Hobson', 'Cole', 'Hannes']"
            ]
          },
          "metadata": {},
          "execution_count": 35
        }
      ]
    },
    {
      "cell_type": "code",
      "source": [
        "re.findall(r'H|Hobson|Cole', 'Hobson lane, Cole Howard, and Hannes Max Hapke')"
      ],
      "metadata": {
        "colab": {
          "base_uri": "https://localhost:8080/"
        },
        "id": "qaCioZZV8wUT",
        "outputId": "4eaa5e44-dceb-48a0-be89-c38fe4067642"
      },
      "execution_count": null,
      "outputs": [
        {
          "output_type": "execute_result",
          "data": {
            "text/plain": [
              "['H', 'Cole', 'H', 'H', 'H']"
            ]
          },
          "metadata": {},
          "execution_count": 38
        }
      ]
    },
    {
      "cell_type": "code",
      "source": [
        "# () 그룹묶기\n",
        "# r'(kitt|dogg)y\n",
        "match = re.match(r'(kitt|dogg)y' , \"doggy\") "
      ],
      "metadata": {
        "id": "Ope3YSZU89y-"
      },
      "execution_count": null,
      "outputs": []
    },
    {
      "cell_type": "code",
      "source": [
        "match.group()"
      ],
      "metadata": {
        "colab": {
          "base_uri": "https://localhost:8080/",
          "height": 35
        },
        "id": "zohrxK6l9a-i",
        "outputId": "fcface68-2983-461c-b374-02e228ad8b2c"
      },
      "execution_count": null,
      "outputs": [
        {
          "output_type": "execute_result",
          "data": {
            "text/plain": [
              "'doggy'"
            ],
            "application/vnd.google.colaboratory.intrinsic+json": {
              "type": "string"
            }
          },
          "metadata": {},
          "execution_count": 40
        }
      ]
    },
    {
      "cell_type": "code",
      "source": [
        "match.group(0)"
      ],
      "metadata": {
        "colab": {
          "base_uri": "https://localhost:8080/",
          "height": 35
        },
        "id": "JeUWCIoH9cGo",
        "outputId": "14e2ad19-7edb-4d1e-9102-f1c351f8f830"
      },
      "execution_count": null,
      "outputs": [
        {
          "output_type": "execute_result",
          "data": {
            "text/plain": [
              "'doggy'"
            ],
            "application/vnd.google.colaboratory.intrinsic+json": {
              "type": "string"
            }
          },
          "metadata": {},
          "execution_count": 41
        }
      ]
    },
    {
      "cell_type": "code",
      "source": [
        "match.groups()"
      ],
      "metadata": {
        "colab": {
          "base_uri": "https://localhost:8080/"
        },
        "id": "IViMlgrg9ehj",
        "outputId": "12bf2e0f-306d-4aa9-85b3-11129c073b5d"
      },
      "execution_count": null,
      "outputs": [
        {
          "output_type": "execute_result",
          "data": {
            "text/plain": [
              "('dogg',)"
            ]
          },
          "metadata": {},
          "execution_count": 42
        }
      ]
    },
    {
      "cell_type": "code",
      "source": [
        "match = re.match(r'((kitt|dogg)(y))',  \"doggy\") # 괄호를 더 추가해서 전체 부합과 접미사도 개별적인 그룹으로 묶기\n"
      ],
      "metadata": {
        "id": "YAdn53Tq9f8f"
      },
      "execution_count": null,
      "outputs": []
    },
    {
      "cell_type": "code",
      "source": [
        "match.groups()"
      ],
      "metadata": {
        "colab": {
          "base_uri": "https://localhost:8080/"
        },
        "id": "yWGQnBFb9o7o",
        "outputId": "3bb5b0aa-ce60-4474-da48-38240811d3cc"
      },
      "execution_count": null,
      "outputs": [
        {
          "output_type": "execute_result",
          "data": {
            "text/plain": [
              "('doggy', 'dogg', 'y')"
            ]
          },
          "metadata": {},
          "execution_count": 49
        }
      ]
    },
    {
      "cell_type": "code",
      "source": [
        "match.group(3)"
      ],
      "metadata": {
        "colab": {
          "base_uri": "https://localhost:8080/",
          "height": 35
        },
        "id": "e7yEjhfg9s3G",
        "outputId": "1fed5a54-3be9-4e34-8aea-d765895e9eec"
      },
      "execution_count": null,
      "outputs": [
        {
          "output_type": "execute_result",
          "data": {
            "text/plain": [
              "'y'"
            ],
            "application/vnd.google.colaboratory.intrinsic+json": {
              "type": "string"
            }
          },
          "metadata": {},
          "execution_count": 52
        }
      ]
    },
    {
      "cell_type": "code",
      "source": [
        "# [ ] 문자부류\n",
        "# [abcd] : a or b or c or d\n",
        "# [a-d] : a-d\n",
        "# [a-c1-3] : [abc123] \n"
      ],
      "metadata": {
        "id": "OvHhdPM99zL_"
      },
      "execution_count": null,
      "outputs": []
    },
    {
      "cell_type": "code",
      "source": [
        "from collections import Counter  # counter : 토큰들을 각각의 통으로 분류하고 그 개수를 세는 기능 제공 \n",
        "Counter('guten morgen rosa'.split())"
      ],
      "metadata": {
        "colab": {
          "base_uri": "https://localhost:8080/"
        },
        "id": "OT6jBBul_DAp",
        "outputId": "bc93b397-8f7d-4941-d3c8-b06ef6dc4b3d"
      },
      "execution_count": null,
      "outputs": [
        {
          "output_type": "execute_result",
          "data": {
            "text/plain": [
              "Counter({'guten': 1, 'morgen': 1, 'rosa': 1})"
            ]
          },
          "metadata": {},
          "execution_count": 55
        }
      ]
    },
    {
      "cell_type": "code",
      "source": [
        "from itertools import permutations\n",
        "[\" \".join(combo) for combo in permutations(\"good morning rosa!\".split(),3)]"
      ],
      "metadata": {
        "colab": {
          "base_uri": "https://localhost:8080/"
        },
        "id": "_RKZOfzG_IA6",
        "outputId": "98c0f51e-37ad-42a8-e83b-f297e73a5ba9"
      },
      "execution_count": null,
      "outputs": [
        {
          "output_type": "execute_result",
          "data": {
            "text/plain": [
              "['good morning rosa!',\n",
              " 'good rosa! morning',\n",
              " 'morning good rosa!',\n",
              " 'morning rosa! good',\n",
              " 'rosa! good morning',\n",
              " 'rosa! morning good']"
            ]
          },
          "metadata": {},
          "execution_count": 56
        }
      ]
    },
    {
      "cell_type": "code",
      "source": [
        "#  단어 순서가 중요한 좀더 길고 복잡한 문장\n",
        "s = \"\"\"find textbooks with titles containing nlp or natural and language or computational and linguistics.\"\"\"\n",
        "len(set(s.split()))"
      ],
      "metadata": {
        "colab": {
          "base_uri": "https://localhost:8080/"
        },
        "id": "n7dhQUv_GKSB",
        "outputId": "1b87de12-552c-4cea-d33e-a386e5d903de"
      },
      "execution_count": null,
      "outputs": [
        {
          "output_type": "execute_result",
          "data": {
            "text/plain": [
              "12"
            ]
          },
          "metadata": {},
          "execution_count": 57
        }
      ]
    },
    {
      "cell_type": "code",
      "source": [
        "import numpy as np\n",
        "np.arange(1, 12+1).prod()  # factorial(12)\n",
        "# sapcy, syntaxnet: 자연어 문장에서 구문적, 놀리적 관계를 추출하게 해줌\n"
      ],
      "metadata": {
        "colab": {
          "base_uri": "https://localhost:8080/"
        },
        "id": "5Ypi3-lxGgSP",
        "outputId": "f91ccfaf-d9e7-4b69-9815-86f2337ab603"
      },
      "execution_count": null,
      "outputs": [
        {
          "output_type": "execute_result",
          "data": {
            "text/plain": [
              "479001600"
            ]
          },
          "metadata": {},
          "execution_count": 8
        }
      ]
    },
    {
      "cell_type": "code",
      "source": [
        "# 챗봇을 만들기 위한 알고리즘\n",
        "# 1. 파싱 :텍스트에서 특징들과 구조적 수치자료를 추출\n",
        "# 2. 분석 : 정서, 문법성, 으미론에 대한 평점\n",
        "# 3. 생성 : 적절한 응답문 작성\n",
        "# 4, 실행"
      ],
      "metadata": {
        "id": "mqBQtqqrHDsy"
      },
      "execution_count": null,
      "outputs": []
    },
    {
      "cell_type": "code",
      "source": [
        ""
      ],
      "metadata": {
        "id": "oQypiRxuGkEj"
      },
      "execution_count": null,
      "outputs": []
    },
    {
      "cell_type": "markdown",
      "source": [
        "# ch02. 나만의 어취 구축 : 단어 토큰화 "
      ],
      "metadata": {
        "id": "az-xXqq3IhrF"
      }
    },
    {
      "cell_type": "code",
      "source": [
        "# 토큰 : 문자열을 개별적인 의미 단위들로 분할하는 방법을 적용한 단위 \n",
        "# we'll -> we will로 구분할 수 있어야함\n",
        "# 토큰생성기를 이용한 어휘구축\n",
        "# 컴퓨터 언어로된 소스코드를 토크화하는데 쓰이는 토큰 생성기 :  스캐너, 렉서(lexical analyzer) \n",
        "# 어휘집 , 파서(컴파일러), 토큰, 용어, 단어, n그램 등의 용어들이 사용됨\n",
        "# 토큰화는 구조가 없는 자료인 자연어 텍스트를 정보 조각들로 분할함\n"
      ],
      "metadata": {
        "id": "HI3GSx_nIk6F"
      },
      "execution_count": null,
      "outputs": []
    },
    {
      "cell_type": "code",
      "source": [
        "sentence = '''thomas jefferson began building monticello at the age of 26.'''\n",
        "sentence.split()"
      ],
      "metadata": {
        "colab": {
          "base_uri": "https://localhost:8080/"
        },
        "id": "0Y8cGYiBKg0G",
        "outputId": "40874d31-f733-4027-d9a8-296650b95b35"
      },
      "execution_count": null,
      "outputs": [
        {
          "output_type": "execute_result",
          "data": {
            "text/plain": [
              "['thomas',\n",
              " 'jefferson',\n",
              " 'began',\n",
              " 'building',\n",
              " 'monticello',\n",
              " 'at',\n",
              " 'the',\n",
              " 'age',\n",
              " 'of',\n",
              " '26.']"
            ]
          },
          "metadata": {},
          "execution_count": 2
        }
      ]
    },
    {
      "cell_type": "code",
      "source": [
        "str.split(sentence)"
      ],
      "metadata": {
        "colab": {
          "base_uri": "https://localhost:8080/"
        },
        "id": "UN0W4DdvKnlu",
        "outputId": "e5d08a43-6174-40cf-f757-4d6888c33acc"
      },
      "execution_count": null,
      "outputs": [
        {
          "output_type": "execute_result",
          "data": {
            "text/plain": [
              "['thomas',\n",
              " 'jefferson',\n",
              " 'began',\n",
              " 'building',\n",
              " 'monticello',\n",
              " 'at',\n",
              " 'the',\n",
              " 'age',\n",
              " 'of',\n",
              " '26.']"
            ]
          },
          "metadata": {},
          "execution_count": 3
        }
      ]
    },
    {
      "cell_type": "code",
      "source": [
        "token_sequence = str.split(sentence)\n",
        "vocab = sorted(set(token_sequence))\n",
        "', '.join(vocab)"
      ],
      "metadata": {
        "colab": {
          "base_uri": "https://localhost:8080/",
          "height": 35
        },
        "id": "w47F5YHLKqi4",
        "outputId": "47594ffc-a6a5-4d2b-9e70-f2a683c263c5"
      },
      "execution_count": null,
      "outputs": [
        {
          "output_type": "execute_result",
          "data": {
            "text/plain": [
              "'26., age, at, began, building, jefferson, monticello, of, the, thomas'"
            ],
            "application/vnd.google.colaboratory.intrinsic+json": {
              "type": "string"
            }
          },
          "metadata": {},
          "execution_count": 4
        }
      ]
    },
    {
      "cell_type": "code",
      "source": [
        "num_tokens = len(token_sequence) ;num_tokens"
      ],
      "metadata": {
        "colab": {
          "base_uri": "https://localhost:8080/"
        },
        "id": "3KIg3o2fLMtW",
        "outputId": "6d941e0c-710b-47fa-90f2-d58608a17afb"
      },
      "execution_count": null,
      "outputs": [
        {
          "output_type": "execute_result",
          "data": {
            "text/plain": [
              "10"
            ]
          },
          "metadata": {},
          "execution_count": 5
        }
      ]
    },
    {
      "cell_type": "code",
      "source": [
        "vocab_size = len(vocab) ; vocab_size"
      ],
      "metadata": {
        "colab": {
          "base_uri": "https://localhost:8080/"
        },
        "id": "fIWKU25hLPmc",
        "outputId": "d2826b4d-ccc5-422d-ff0e-375030e034e1"
      },
      "execution_count": null,
      "outputs": [
        {
          "output_type": "execute_result",
          "data": {
            "text/plain": [
              "10"
            ]
          },
          "metadata": {},
          "execution_count": 6
        }
      ]
    },
    {
      "cell_type": "code",
      "source": [
        "onehot_vectors = np.zeros((num_tokens, vocab_size), int) ;onehot_vectors"
      ],
      "metadata": {
        "colab": {
          "base_uri": "https://localhost:8080/"
        },
        "id": "8dpjr9BXLYxY",
        "outputId": "661d5f59-f6dc-4cc5-d685-4c4242cbac48"
      },
      "execution_count": null,
      "outputs": [
        {
          "output_type": "execute_result",
          "data": {
            "text/plain": [
              "array([[0, 0, 0, 0, 0, 0, 0, 0, 0, 0],\n",
              "       [0, 0, 0, 0, 0, 0, 0, 0, 0, 0],\n",
              "       [0, 0, 0, 0, 0, 0, 0, 0, 0, 0],\n",
              "       [0, 0, 0, 0, 0, 0, 0, 0, 0, 0],\n",
              "       [0, 0, 0, 0, 0, 0, 0, 0, 0, 0],\n",
              "       [0, 0, 0, 0, 0, 0, 0, 0, 0, 0],\n",
              "       [0, 0, 0, 0, 0, 0, 0, 0, 0, 0],\n",
              "       [0, 0, 0, 0, 0, 0, 0, 0, 0, 0],\n",
              "       [0, 0, 0, 0, 0, 0, 0, 0, 0, 0],\n",
              "       [0, 0, 0, 0, 0, 0, 0, 0, 0, 0]])"
            ]
          },
          "metadata": {},
          "execution_count": 10
        }
      ]
    },
    {
      "cell_type": "code",
      "source": [
        "for i , word in enumerate(token_sequence):\n",
        "  onehot_vectors[i, vocab.index(word)] = 1\n",
        "  "
      ],
      "metadata": {
        "id": "DuXb8PgRLfXX"
      },
      "execution_count": null,
      "outputs": []
    },
    {
      "cell_type": "code",
      "source": [
        "' '.join(vocab)"
      ],
      "metadata": {
        "colab": {
          "base_uri": "https://localhost:8080/",
          "height": 35
        },
        "id": "mzt7afeRL1xt",
        "outputId": "b6ca1508-a3e4-4044-d59a-63fe1f944613"
      },
      "execution_count": null,
      "outputs": [
        {
          "output_type": "execute_result",
          "data": {
            "text/plain": [
              "'26. age at began building jefferson monticello of the thomas'"
            ],
            "application/vnd.google.colaboratory.intrinsic+json": {
              "type": "string"
            }
          },
          "metadata": {},
          "execution_count": 12
        }
      ]
    },
    {
      "cell_type": "code",
      "source": [
        "onehot_vectors"
      ],
      "metadata": {
        "colab": {
          "base_uri": "https://localhost:8080/"
        },
        "id": "uwaGS3p8L3uK",
        "outputId": "f118c2c4-5ff0-4cd2-c24b-08c967e57255"
      },
      "execution_count": null,
      "outputs": [
        {
          "output_type": "execute_result",
          "data": {
            "text/plain": [
              "array([[0, 0, 0, 0, 0, 0, 0, 0, 0, 1],\n",
              "       [0, 0, 0, 0, 0, 1, 0, 0, 0, 0],\n",
              "       [0, 0, 0, 1, 0, 0, 0, 0, 0, 0],\n",
              "       [0, 0, 0, 0, 1, 0, 0, 0, 0, 0],\n",
              "       [0, 0, 0, 0, 0, 0, 1, 0, 0, 0],\n",
              "       [0, 0, 1, 0, 0, 0, 0, 0, 0, 0],\n",
              "       [0, 0, 0, 0, 0, 0, 0, 0, 1, 0],\n",
              "       [0, 1, 0, 0, 0, 0, 0, 0, 0, 0],\n",
              "       [0, 0, 0, 0, 0, 0, 0, 1, 0, 0],\n",
              "       [1, 0, 0, 0, 0, 0, 0, 0, 0, 0]])"
            ]
          },
          "metadata": {},
          "execution_count": 13
        }
      ]
    },
    {
      "cell_type": "code",
      "source": [
        "import pandas as pd\n",
        "pd.DataFrame(onehot_vectors, columns = vocab)"
      ],
      "metadata": {
        "colab": {
          "base_uri": "https://localhost:8080/",
          "height": 363
        },
        "id": "6OGEEO8UL9F3",
        "outputId": "882ad496-471c-4e26-bd02-8c6f8dd317dc"
      },
      "execution_count": null,
      "outputs": [
        {
          "output_type": "execute_result",
          "data": {
            "text/plain": [
              "   26.  age  at  began  building  jefferson  monticello  of  the  thomas\n",
              "0    0    0   0      0         0          0           0   0    0       1\n",
              "1    0    0   0      0         0          1           0   0    0       0\n",
              "2    0    0   0      1         0          0           0   0    0       0\n",
              "3    0    0   0      0         1          0           0   0    0       0\n",
              "4    0    0   0      0         0          0           1   0    0       0\n",
              "5    0    0   1      0         0          0           0   0    0       0\n",
              "6    0    0   0      0         0          0           0   0    1       0\n",
              "7    0    1   0      0         0          0           0   0    0       0\n",
              "8    0    0   0      0         0          0           0   1    0       0\n",
              "9    1    0   0      0         0          0           0   0    0       0"
            ],
            "text/html": [
              "\n",
              "  <div id=\"df-f8ea0a47-ddd5-417a-b1a1-7dc65845ae91\">\n",
              "    <div class=\"colab-df-container\">\n",
              "      <div>\n",
              "<style scoped>\n",
              "    .dataframe tbody tr th:only-of-type {\n",
              "        vertical-align: middle;\n",
              "    }\n",
              "\n",
              "    .dataframe tbody tr th {\n",
              "        vertical-align: top;\n",
              "    }\n",
              "\n",
              "    .dataframe thead th {\n",
              "        text-align: right;\n",
              "    }\n",
              "</style>\n",
              "<table border=\"1\" class=\"dataframe\">\n",
              "  <thead>\n",
              "    <tr style=\"text-align: right;\">\n",
              "      <th></th>\n",
              "      <th>26.</th>\n",
              "      <th>age</th>\n",
              "      <th>at</th>\n",
              "      <th>began</th>\n",
              "      <th>building</th>\n",
              "      <th>jefferson</th>\n",
              "      <th>monticello</th>\n",
              "      <th>of</th>\n",
              "      <th>the</th>\n",
              "      <th>thomas</th>\n",
              "    </tr>\n",
              "  </thead>\n",
              "  <tbody>\n",
              "    <tr>\n",
              "      <th>0</th>\n",
              "      <td>0</td>\n",
              "      <td>0</td>\n",
              "      <td>0</td>\n",
              "      <td>0</td>\n",
              "      <td>0</td>\n",
              "      <td>0</td>\n",
              "      <td>0</td>\n",
              "      <td>0</td>\n",
              "      <td>0</td>\n",
              "      <td>1</td>\n",
              "    </tr>\n",
              "    <tr>\n",
              "      <th>1</th>\n",
              "      <td>0</td>\n",
              "      <td>0</td>\n",
              "      <td>0</td>\n",
              "      <td>0</td>\n",
              "      <td>0</td>\n",
              "      <td>1</td>\n",
              "      <td>0</td>\n",
              "      <td>0</td>\n",
              "      <td>0</td>\n",
              "      <td>0</td>\n",
              "    </tr>\n",
              "    <tr>\n",
              "      <th>2</th>\n",
              "      <td>0</td>\n",
              "      <td>0</td>\n",
              "      <td>0</td>\n",
              "      <td>1</td>\n",
              "      <td>0</td>\n",
              "      <td>0</td>\n",
              "      <td>0</td>\n",
              "      <td>0</td>\n",
              "      <td>0</td>\n",
              "      <td>0</td>\n",
              "    </tr>\n",
              "    <tr>\n",
              "      <th>3</th>\n",
              "      <td>0</td>\n",
              "      <td>0</td>\n",
              "      <td>0</td>\n",
              "      <td>0</td>\n",
              "      <td>1</td>\n",
              "      <td>0</td>\n",
              "      <td>0</td>\n",
              "      <td>0</td>\n",
              "      <td>0</td>\n",
              "      <td>0</td>\n",
              "    </tr>\n",
              "    <tr>\n",
              "      <th>4</th>\n",
              "      <td>0</td>\n",
              "      <td>0</td>\n",
              "      <td>0</td>\n",
              "      <td>0</td>\n",
              "      <td>0</td>\n",
              "      <td>0</td>\n",
              "      <td>1</td>\n",
              "      <td>0</td>\n",
              "      <td>0</td>\n",
              "      <td>0</td>\n",
              "    </tr>\n",
              "    <tr>\n",
              "      <th>5</th>\n",
              "      <td>0</td>\n",
              "      <td>0</td>\n",
              "      <td>1</td>\n",
              "      <td>0</td>\n",
              "      <td>0</td>\n",
              "      <td>0</td>\n",
              "      <td>0</td>\n",
              "      <td>0</td>\n",
              "      <td>0</td>\n",
              "      <td>0</td>\n",
              "    </tr>\n",
              "    <tr>\n",
              "      <th>6</th>\n",
              "      <td>0</td>\n",
              "      <td>0</td>\n",
              "      <td>0</td>\n",
              "      <td>0</td>\n",
              "      <td>0</td>\n",
              "      <td>0</td>\n",
              "      <td>0</td>\n",
              "      <td>0</td>\n",
              "      <td>1</td>\n",
              "      <td>0</td>\n",
              "    </tr>\n",
              "    <tr>\n",
              "      <th>7</th>\n",
              "      <td>0</td>\n",
              "      <td>1</td>\n",
              "      <td>0</td>\n",
              "      <td>0</td>\n",
              "      <td>0</td>\n",
              "      <td>0</td>\n",
              "      <td>0</td>\n",
              "      <td>0</td>\n",
              "      <td>0</td>\n",
              "      <td>0</td>\n",
              "    </tr>\n",
              "    <tr>\n",
              "      <th>8</th>\n",
              "      <td>0</td>\n",
              "      <td>0</td>\n",
              "      <td>0</td>\n",
              "      <td>0</td>\n",
              "      <td>0</td>\n",
              "      <td>0</td>\n",
              "      <td>0</td>\n",
              "      <td>1</td>\n",
              "      <td>0</td>\n",
              "      <td>0</td>\n",
              "    </tr>\n",
              "    <tr>\n",
              "      <th>9</th>\n",
              "      <td>1</td>\n",
              "      <td>0</td>\n",
              "      <td>0</td>\n",
              "      <td>0</td>\n",
              "      <td>0</td>\n",
              "      <td>0</td>\n",
              "      <td>0</td>\n",
              "      <td>0</td>\n",
              "      <td>0</td>\n",
              "      <td>0</td>\n",
              "    </tr>\n",
              "  </tbody>\n",
              "</table>\n",
              "</div>\n",
              "      <button class=\"colab-df-convert\" onclick=\"convertToInteractive('df-f8ea0a47-ddd5-417a-b1a1-7dc65845ae91')\"\n",
              "              title=\"Convert this dataframe to an interactive table.\"\n",
              "              style=\"display:none;\">\n",
              "        \n",
              "  <svg xmlns=\"http://www.w3.org/2000/svg\" height=\"24px\"viewBox=\"0 0 24 24\"\n",
              "       width=\"24px\">\n",
              "    <path d=\"M0 0h24v24H0V0z\" fill=\"none\"/>\n",
              "    <path d=\"M18.56 5.44l.94 2.06.94-2.06 2.06-.94-2.06-.94-.94-2.06-.94 2.06-2.06.94zm-11 1L8.5 8.5l.94-2.06 2.06-.94-2.06-.94L8.5 2.5l-.94 2.06-2.06.94zm10 10l.94 2.06.94-2.06 2.06-.94-2.06-.94-.94-2.06-.94 2.06-2.06.94z\"/><path d=\"M17.41 7.96l-1.37-1.37c-.4-.4-.92-.59-1.43-.59-.52 0-1.04.2-1.43.59L10.3 9.45l-7.72 7.72c-.78.78-.78 2.05 0 2.83L4 21.41c.39.39.9.59 1.41.59.51 0 1.02-.2 1.41-.59l7.78-7.78 2.81-2.81c.8-.78.8-2.07 0-2.86zM5.41 20L4 18.59l7.72-7.72 1.47 1.35L5.41 20z\"/>\n",
              "  </svg>\n",
              "      </button>\n",
              "      \n",
              "  <style>\n",
              "    .colab-df-container {\n",
              "      display:flex;\n",
              "      flex-wrap:wrap;\n",
              "      gap: 12px;\n",
              "    }\n",
              "\n",
              "    .colab-df-convert {\n",
              "      background-color: #E8F0FE;\n",
              "      border: none;\n",
              "      border-radius: 50%;\n",
              "      cursor: pointer;\n",
              "      display: none;\n",
              "      fill: #1967D2;\n",
              "      height: 32px;\n",
              "      padding: 0 0 0 0;\n",
              "      width: 32px;\n",
              "    }\n",
              "\n",
              "    .colab-df-convert:hover {\n",
              "      background-color: #E2EBFA;\n",
              "      box-shadow: 0px 1px 2px rgba(60, 64, 67, 0.3), 0px 1px 3px 1px rgba(60, 64, 67, 0.15);\n",
              "      fill: #174EA6;\n",
              "    }\n",
              "\n",
              "    [theme=dark] .colab-df-convert {\n",
              "      background-color: #3B4455;\n",
              "      fill: #D2E3FC;\n",
              "    }\n",
              "\n",
              "    [theme=dark] .colab-df-convert:hover {\n",
              "      background-color: #434B5C;\n",
              "      box-shadow: 0px 1px 3px 1px rgba(0, 0, 0, 0.15);\n",
              "      filter: drop-shadow(0px 1px 2px rgba(0, 0, 0, 0.3));\n",
              "      fill: #FFFFFF;\n",
              "    }\n",
              "  </style>\n",
              "\n",
              "      <script>\n",
              "        const buttonEl =\n",
              "          document.querySelector('#df-f8ea0a47-ddd5-417a-b1a1-7dc65845ae91 button.colab-df-convert');\n",
              "        buttonEl.style.display =\n",
              "          google.colab.kernel.accessAllowed ? 'block' : 'none';\n",
              "\n",
              "        async function convertToInteractive(key) {\n",
              "          const element = document.querySelector('#df-f8ea0a47-ddd5-417a-b1a1-7dc65845ae91');\n",
              "          const dataTable =\n",
              "            await google.colab.kernel.invokeFunction('convertToInteractive',\n",
              "                                                     [key], {});\n",
              "          if (!dataTable) return;\n",
              "\n",
              "          const docLinkHtml = 'Like what you see? Visit the ' +\n",
              "            '<a target=\"_blank\" href=https://colab.research.google.com/notebooks/data_table.ipynb>data table notebook</a>'\n",
              "            + ' to learn more about interactive tables.';\n",
              "          element.innerHTML = '';\n",
              "          dataTable['output_type'] = 'display_data';\n",
              "          await google.colab.output.renderOutput(dataTable, element);\n",
              "          const docLink = document.createElement('div');\n",
              "          docLink.innerHTML = docLinkHtml;\n",
              "          element.appendChild(docLink);\n",
              "        }\n",
              "      </script>\n",
              "    </div>\n",
              "  </div>\n",
              "  "
            ]
          },
          "metadata": {},
          "execution_count": 14
        }
      ]
    },
    {
      "cell_type": "code",
      "source": [
        "df = pd.DataFrame(onehot_vectors, columns = vocab)"
      ],
      "metadata": {
        "id": "3ynpgOWRMBRP"
      },
      "execution_count": null,
      "outputs": []
    },
    {
      "cell_type": "code",
      "source": [
        "df[df==0] = ''"
      ],
      "metadata": {
        "id": "4tC8XxhQMSB3"
      },
      "execution_count": null,
      "outputs": []
    },
    {
      "cell_type": "code",
      "source": [
        "df"
      ],
      "metadata": {
        "colab": {
          "base_uri": "https://localhost:8080/",
          "height": 363
        },
        "id": "G-zgEa4WMUZg",
        "outputId": "e5eecc98-ce4f-426e-cb43-9144b3a6f437"
      },
      "execution_count": null,
      "outputs": [
        {
          "output_type": "execute_result",
          "data": {
            "text/plain": [
              "  26. age at began building jefferson monticello of the thomas\n",
              "0                                                            1\n",
              "1                                   1                         \n",
              "2                1                                            \n",
              "3                         1                                   \n",
              "4                                              1              \n",
              "5          1                                                  \n",
              "6                                                     1       \n",
              "7       1                                                     \n",
              "8                                                 1           \n",
              "9   1                                                         "
            ],
            "text/html": [
              "\n",
              "  <div id=\"df-2afb5b80-612c-4571-a0a8-178e6a34fe3e\">\n",
              "    <div class=\"colab-df-container\">\n",
              "      <div>\n",
              "<style scoped>\n",
              "    .dataframe tbody tr th:only-of-type {\n",
              "        vertical-align: middle;\n",
              "    }\n",
              "\n",
              "    .dataframe tbody tr th {\n",
              "        vertical-align: top;\n",
              "    }\n",
              "\n",
              "    .dataframe thead th {\n",
              "        text-align: right;\n",
              "    }\n",
              "</style>\n",
              "<table border=\"1\" class=\"dataframe\">\n",
              "  <thead>\n",
              "    <tr style=\"text-align: right;\">\n",
              "      <th></th>\n",
              "      <th>26.</th>\n",
              "      <th>age</th>\n",
              "      <th>at</th>\n",
              "      <th>began</th>\n",
              "      <th>building</th>\n",
              "      <th>jefferson</th>\n",
              "      <th>monticello</th>\n",
              "      <th>of</th>\n",
              "      <th>the</th>\n",
              "      <th>thomas</th>\n",
              "    </tr>\n",
              "  </thead>\n",
              "  <tbody>\n",
              "    <tr>\n",
              "      <th>0</th>\n",
              "      <td></td>\n",
              "      <td></td>\n",
              "      <td></td>\n",
              "      <td></td>\n",
              "      <td></td>\n",
              "      <td></td>\n",
              "      <td></td>\n",
              "      <td></td>\n",
              "      <td></td>\n",
              "      <td>1</td>\n",
              "    </tr>\n",
              "    <tr>\n",
              "      <th>1</th>\n",
              "      <td></td>\n",
              "      <td></td>\n",
              "      <td></td>\n",
              "      <td></td>\n",
              "      <td></td>\n",
              "      <td>1</td>\n",
              "      <td></td>\n",
              "      <td></td>\n",
              "      <td></td>\n",
              "      <td></td>\n",
              "    </tr>\n",
              "    <tr>\n",
              "      <th>2</th>\n",
              "      <td></td>\n",
              "      <td></td>\n",
              "      <td></td>\n",
              "      <td>1</td>\n",
              "      <td></td>\n",
              "      <td></td>\n",
              "      <td></td>\n",
              "      <td></td>\n",
              "      <td></td>\n",
              "      <td></td>\n",
              "    </tr>\n",
              "    <tr>\n",
              "      <th>3</th>\n",
              "      <td></td>\n",
              "      <td></td>\n",
              "      <td></td>\n",
              "      <td></td>\n",
              "      <td>1</td>\n",
              "      <td></td>\n",
              "      <td></td>\n",
              "      <td></td>\n",
              "      <td></td>\n",
              "      <td></td>\n",
              "    </tr>\n",
              "    <tr>\n",
              "      <th>4</th>\n",
              "      <td></td>\n",
              "      <td></td>\n",
              "      <td></td>\n",
              "      <td></td>\n",
              "      <td></td>\n",
              "      <td></td>\n",
              "      <td>1</td>\n",
              "      <td></td>\n",
              "      <td></td>\n",
              "      <td></td>\n",
              "    </tr>\n",
              "    <tr>\n",
              "      <th>5</th>\n",
              "      <td></td>\n",
              "      <td></td>\n",
              "      <td>1</td>\n",
              "      <td></td>\n",
              "      <td></td>\n",
              "      <td></td>\n",
              "      <td></td>\n",
              "      <td></td>\n",
              "      <td></td>\n",
              "      <td></td>\n",
              "    </tr>\n",
              "    <tr>\n",
              "      <th>6</th>\n",
              "      <td></td>\n",
              "      <td></td>\n",
              "      <td></td>\n",
              "      <td></td>\n",
              "      <td></td>\n",
              "      <td></td>\n",
              "      <td></td>\n",
              "      <td></td>\n",
              "      <td>1</td>\n",
              "      <td></td>\n",
              "    </tr>\n",
              "    <tr>\n",
              "      <th>7</th>\n",
              "      <td></td>\n",
              "      <td>1</td>\n",
              "      <td></td>\n",
              "      <td></td>\n",
              "      <td></td>\n",
              "      <td></td>\n",
              "      <td></td>\n",
              "      <td></td>\n",
              "      <td></td>\n",
              "      <td></td>\n",
              "    </tr>\n",
              "    <tr>\n",
              "      <th>8</th>\n",
              "      <td></td>\n",
              "      <td></td>\n",
              "      <td></td>\n",
              "      <td></td>\n",
              "      <td></td>\n",
              "      <td></td>\n",
              "      <td></td>\n",
              "      <td>1</td>\n",
              "      <td></td>\n",
              "      <td></td>\n",
              "    </tr>\n",
              "    <tr>\n",
              "      <th>9</th>\n",
              "      <td>1</td>\n",
              "      <td></td>\n",
              "      <td></td>\n",
              "      <td></td>\n",
              "      <td></td>\n",
              "      <td></td>\n",
              "      <td></td>\n",
              "      <td></td>\n",
              "      <td></td>\n",
              "      <td></td>\n",
              "    </tr>\n",
              "  </tbody>\n",
              "</table>\n",
              "</div>\n",
              "      <button class=\"colab-df-convert\" onclick=\"convertToInteractive('df-2afb5b80-612c-4571-a0a8-178e6a34fe3e')\"\n",
              "              title=\"Convert this dataframe to an interactive table.\"\n",
              "              style=\"display:none;\">\n",
              "        \n",
              "  <svg xmlns=\"http://www.w3.org/2000/svg\" height=\"24px\"viewBox=\"0 0 24 24\"\n",
              "       width=\"24px\">\n",
              "    <path d=\"M0 0h24v24H0V0z\" fill=\"none\"/>\n",
              "    <path d=\"M18.56 5.44l.94 2.06.94-2.06 2.06-.94-2.06-.94-.94-2.06-.94 2.06-2.06.94zm-11 1L8.5 8.5l.94-2.06 2.06-.94-2.06-.94L8.5 2.5l-.94 2.06-2.06.94zm10 10l.94 2.06.94-2.06 2.06-.94-2.06-.94-.94-2.06-.94 2.06-2.06.94z\"/><path d=\"M17.41 7.96l-1.37-1.37c-.4-.4-.92-.59-1.43-.59-.52 0-1.04.2-1.43.59L10.3 9.45l-7.72 7.72c-.78.78-.78 2.05 0 2.83L4 21.41c.39.39.9.59 1.41.59.51 0 1.02-.2 1.41-.59l7.78-7.78 2.81-2.81c.8-.78.8-2.07 0-2.86zM5.41 20L4 18.59l7.72-7.72 1.47 1.35L5.41 20z\"/>\n",
              "  </svg>\n",
              "      </button>\n",
              "      \n",
              "  <style>\n",
              "    .colab-df-container {\n",
              "      display:flex;\n",
              "      flex-wrap:wrap;\n",
              "      gap: 12px;\n",
              "    }\n",
              "\n",
              "    .colab-df-convert {\n",
              "      background-color: #E8F0FE;\n",
              "      border: none;\n",
              "      border-radius: 50%;\n",
              "      cursor: pointer;\n",
              "      display: none;\n",
              "      fill: #1967D2;\n",
              "      height: 32px;\n",
              "      padding: 0 0 0 0;\n",
              "      width: 32px;\n",
              "    }\n",
              "\n",
              "    .colab-df-convert:hover {\n",
              "      background-color: #E2EBFA;\n",
              "      box-shadow: 0px 1px 2px rgba(60, 64, 67, 0.3), 0px 1px 3px 1px rgba(60, 64, 67, 0.15);\n",
              "      fill: #174EA6;\n",
              "    }\n",
              "\n",
              "    [theme=dark] .colab-df-convert {\n",
              "      background-color: #3B4455;\n",
              "      fill: #D2E3FC;\n",
              "    }\n",
              "\n",
              "    [theme=dark] .colab-df-convert:hover {\n",
              "      background-color: #434B5C;\n",
              "      box-shadow: 0px 1px 3px 1px rgba(0, 0, 0, 0.15);\n",
              "      filter: drop-shadow(0px 1px 2px rgba(0, 0, 0, 0.3));\n",
              "      fill: #FFFFFF;\n",
              "    }\n",
              "  </style>\n",
              "\n",
              "      <script>\n",
              "        const buttonEl =\n",
              "          document.querySelector('#df-2afb5b80-612c-4571-a0a8-178e6a34fe3e button.colab-df-convert');\n",
              "        buttonEl.style.display =\n",
              "          google.colab.kernel.accessAllowed ? 'block' : 'none';\n",
              "\n",
              "        async function convertToInteractive(key) {\n",
              "          const element = document.querySelector('#df-2afb5b80-612c-4571-a0a8-178e6a34fe3e');\n",
              "          const dataTable =\n",
              "            await google.colab.kernel.invokeFunction('convertToInteractive',\n",
              "                                                     [key], {});\n",
              "          if (!dataTable) return;\n",
              "\n",
              "          const docLinkHtml = 'Like what you see? Visit the ' +\n",
              "            '<a target=\"_blank\" href=https://colab.research.google.com/notebooks/data_table.ipynb>data table notebook</a>'\n",
              "            + ' to learn more about interactive tables.';\n",
              "          element.innerHTML = '';\n",
              "          dataTable['output_type'] = 'display_data';\n",
              "          await google.colab.output.renderOutput(dataTable, element);\n",
              "          const docLink = document.createElement('div');\n",
              "          docLink.innerHTML = docLinkHtml;\n",
              "          element.appendChild(docLink);\n",
              "        }\n",
              "      </script>\n",
              "    </div>\n",
              "  </div>\n",
              "  "
            ]
          },
          "metadata": {},
          "execution_count": 17
        }
      ]
    },
    {
      "cell_type": "code",
      "source": [
        "# 장점은 어떤 정보도 소실되지 않지만 복원할때도 완벽함\n",
        "# 원문의 모든 세부사항을 유지함, 컴퓨터가 이해할 수 있는 수치자료의 형태임\n",
        "# 단어 모음 벡터(빈도벡터) : 단어의 순서 안나타나기때문에 복원 불가능"
      ],
      "metadata": {
        "id": "WjGRFIXsMUkS"
      },
      "execution_count": null,
      "outputs": []
    },
    {
      "cell_type": "code",
      "source": [
        "sentence_bow = {}\n",
        "for token in sentence.split():\n",
        "  sentence_bow[token] = 1\n",
        "  sorted(sentence_bow.items())"
      ],
      "metadata": {
        "id": "j4gUEH2s-GsQ"
      },
      "execution_count": null,
      "outputs": []
    },
    {
      "cell_type": "code",
      "source": [
        "sentence_bow"
      ],
      "metadata": {
        "colab": {
          "base_uri": "https://localhost:8080/"
        },
        "id": "iHY52vQi-Wnd",
        "outputId": "5e03573e-151d-427e-a1ff-a7799c6ce279"
      },
      "execution_count": null,
      "outputs": [
        {
          "output_type": "execute_result",
          "data": {
            "text/plain": [
              "{'26.': 1,\n",
              " 'age': 1,\n",
              " 'at': 1,\n",
              " 'began': 1,\n",
              " 'building': 1,\n",
              " 'jefferson': 1,\n",
              " 'monticello': 1,\n",
              " 'of': 1,\n",
              " 'the': 1,\n",
              " 'thomas': 1}"
            ]
          },
          "metadata": {},
          "execution_count": 21
        }
      ]
    },
    {
      "cell_type": "code",
      "source": [
        "import pandas as pd\n",
        "df = pd.DataFrame( pd.Series(dict([(token,1) for token in sentence.split()])), columns=['sent']).T"
      ],
      "metadata": {
        "id": "dbATAlnK-ZK4"
      },
      "execution_count": null,
      "outputs": []
    },
    {
      "cell_type": "code",
      "source": [
        "[(token,1) for token in sentence.split()]"
      ],
      "metadata": {
        "colab": {
          "base_uri": "https://localhost:8080/"
        },
        "id": "kYNoQ_v1-uD3",
        "outputId": "38f4fb31-5237-4849-f0f3-9678bb93b574"
      },
      "execution_count": null,
      "outputs": [
        {
          "output_type": "execute_result",
          "data": {
            "text/plain": [
              "[('thomas', 1),\n",
              " ('jefferson', 1),\n",
              " ('began', 1),\n",
              " ('building', 1),\n",
              " ('monticello', 1),\n",
              " ('at', 1),\n",
              " ('the', 1),\n",
              " ('age', 1),\n",
              " ('of', 1),\n",
              " ('26.', 1)]"
            ]
          },
          "metadata": {},
          "execution_count": 26
        }
      ]
    },
    {
      "cell_type": "code",
      "source": [
        "df"
      ],
      "metadata": {
        "colab": {
          "base_uri": "https://localhost:8080/",
          "height": 81
        },
        "id": "3Wa6mUDB-9pG",
        "outputId": "71ad9a9f-49f0-4fe3-f541-a38710003190"
      },
      "execution_count": null,
      "outputs": [
        {
          "output_type": "execute_result",
          "data": {
            "text/plain": [
              "      thomas  jefferson  began  building  monticello  at  the  age  of  26.\n",
              "sent       1          1      1         1           1   1    1    1   1    1"
            ],
            "text/html": [
              "\n",
              "  <div id=\"df-ff3f88e3-15d3-473d-9d7c-e684e1c32394\">\n",
              "    <div class=\"colab-df-container\">\n",
              "      <div>\n",
              "<style scoped>\n",
              "    .dataframe tbody tr th:only-of-type {\n",
              "        vertical-align: middle;\n",
              "    }\n",
              "\n",
              "    .dataframe tbody tr th {\n",
              "        vertical-align: top;\n",
              "    }\n",
              "\n",
              "    .dataframe thead th {\n",
              "        text-align: right;\n",
              "    }\n",
              "</style>\n",
              "<table border=\"1\" class=\"dataframe\">\n",
              "  <thead>\n",
              "    <tr style=\"text-align: right;\">\n",
              "      <th></th>\n",
              "      <th>thomas</th>\n",
              "      <th>jefferson</th>\n",
              "      <th>began</th>\n",
              "      <th>building</th>\n",
              "      <th>monticello</th>\n",
              "      <th>at</th>\n",
              "      <th>the</th>\n",
              "      <th>age</th>\n",
              "      <th>of</th>\n",
              "      <th>26.</th>\n",
              "    </tr>\n",
              "  </thead>\n",
              "  <tbody>\n",
              "    <tr>\n",
              "      <th>sent</th>\n",
              "      <td>1</td>\n",
              "      <td>1</td>\n",
              "      <td>1</td>\n",
              "      <td>1</td>\n",
              "      <td>1</td>\n",
              "      <td>1</td>\n",
              "      <td>1</td>\n",
              "      <td>1</td>\n",
              "      <td>1</td>\n",
              "      <td>1</td>\n",
              "    </tr>\n",
              "  </tbody>\n",
              "</table>\n",
              "</div>\n",
              "      <button class=\"colab-df-convert\" onclick=\"convertToInteractive('df-ff3f88e3-15d3-473d-9d7c-e684e1c32394')\"\n",
              "              title=\"Convert this dataframe to an interactive table.\"\n",
              "              style=\"display:none;\">\n",
              "        \n",
              "  <svg xmlns=\"http://www.w3.org/2000/svg\" height=\"24px\"viewBox=\"0 0 24 24\"\n",
              "       width=\"24px\">\n",
              "    <path d=\"M0 0h24v24H0V0z\" fill=\"none\"/>\n",
              "    <path d=\"M18.56 5.44l.94 2.06.94-2.06 2.06-.94-2.06-.94-.94-2.06-.94 2.06-2.06.94zm-11 1L8.5 8.5l.94-2.06 2.06-.94-2.06-.94L8.5 2.5l-.94 2.06-2.06.94zm10 10l.94 2.06.94-2.06 2.06-.94-2.06-.94-.94-2.06-.94 2.06-2.06.94z\"/><path d=\"M17.41 7.96l-1.37-1.37c-.4-.4-.92-.59-1.43-.59-.52 0-1.04.2-1.43.59L10.3 9.45l-7.72 7.72c-.78.78-.78 2.05 0 2.83L4 21.41c.39.39.9.59 1.41.59.51 0 1.02-.2 1.41-.59l7.78-7.78 2.81-2.81c.8-.78.8-2.07 0-2.86zM5.41 20L4 18.59l7.72-7.72 1.47 1.35L5.41 20z\"/>\n",
              "  </svg>\n",
              "      </button>\n",
              "      \n",
              "  <style>\n",
              "    .colab-df-container {\n",
              "      display:flex;\n",
              "      flex-wrap:wrap;\n",
              "      gap: 12px;\n",
              "    }\n",
              "\n",
              "    .colab-df-convert {\n",
              "      background-color: #E8F0FE;\n",
              "      border: none;\n",
              "      border-radius: 50%;\n",
              "      cursor: pointer;\n",
              "      display: none;\n",
              "      fill: #1967D2;\n",
              "      height: 32px;\n",
              "      padding: 0 0 0 0;\n",
              "      width: 32px;\n",
              "    }\n",
              "\n",
              "    .colab-df-convert:hover {\n",
              "      background-color: #E2EBFA;\n",
              "      box-shadow: 0px 1px 2px rgba(60, 64, 67, 0.3), 0px 1px 3px 1px rgba(60, 64, 67, 0.15);\n",
              "      fill: #174EA6;\n",
              "    }\n",
              "\n",
              "    [theme=dark] .colab-df-convert {\n",
              "      background-color: #3B4455;\n",
              "      fill: #D2E3FC;\n",
              "    }\n",
              "\n",
              "    [theme=dark] .colab-df-convert:hover {\n",
              "      background-color: #434B5C;\n",
              "      box-shadow: 0px 1px 3px 1px rgba(0, 0, 0, 0.15);\n",
              "      filter: drop-shadow(0px 1px 2px rgba(0, 0, 0, 0.3));\n",
              "      fill: #FFFFFF;\n",
              "    }\n",
              "  </style>\n",
              "\n",
              "      <script>\n",
              "        const buttonEl =\n",
              "          document.querySelector('#df-ff3f88e3-15d3-473d-9d7c-e684e1c32394 button.colab-df-convert');\n",
              "        buttonEl.style.display =\n",
              "          google.colab.kernel.accessAllowed ? 'block' : 'none';\n",
              "\n",
              "        async function convertToInteractive(key) {\n",
              "          const element = document.querySelector('#df-ff3f88e3-15d3-473d-9d7c-e684e1c32394');\n",
              "          const dataTable =\n",
              "            await google.colab.kernel.invokeFunction('convertToInteractive',\n",
              "                                                     [key], {});\n",
              "          if (!dataTable) return;\n",
              "\n",
              "          const docLinkHtml = 'Like what you see? Visit the ' +\n",
              "            '<a target=\"_blank\" href=https://colab.research.google.com/notebooks/data_table.ipynb>data table notebook</a>'\n",
              "            + ' to learn more about interactive tables.';\n",
              "          element.innerHTML = '';\n",
              "          dataTable['output_type'] = 'display_data';\n",
              "          await google.colab.output.renderOutput(dataTable, element);\n",
              "          const docLink = document.createElement('div');\n",
              "          docLink.innerHTML = docLinkHtml;\n",
              "          element.appendChild(docLink);\n",
              "        }\n",
              "      </script>\n",
              "    </div>\n",
              "  </div>\n",
              "  "
            ]
          },
          "metadata": {},
          "execution_count": 29
        }
      ]
    },
    {
      "cell_type": "code",
      "source": [
        "sentences = \"\"\"thomas jefferson began building moticello at the age of 26.\\n\"\"\"\n",
        "sentences += \"\"\"construction was done mostly by local masons and carpenters.\\n\"\"\"\n",
        "sentences += \"\"\"he moved into the south pavilion in 1770.\\n\"\"\"\n",
        "sentences += \"\"\"turning moticello into a neoclassical masterpiece was jefferson's obsession.\"\"\"\n",
        "corpus ={}\n",
        "print(sentences)"
      ],
      "metadata": {
        "colab": {
          "base_uri": "https://localhost:8080/"
        },
        "id": "Kh-42TdpBgTy",
        "outputId": "4e597a30-73b6-4c66-e4ad-7d16978d26fb"
      },
      "execution_count": null,
      "outputs": [
        {
          "output_type": "stream",
          "name": "stdout",
          "text": [
            "thomas jefferson began building moticello at the age of 26.\n",
            "construction was done mostly by local masons and carpenters.\n",
            "he moved into the south pavilion in 1770.\n",
            "turning moticello into a neoclassical masterpiece was jefferson's obsession.\n"
          ]
        }
      ]
    },
    {
      "cell_type": "code",
      "source": [
        "for i, sent in enumerate(sentences.split('\\n')):\n",
        "  corpus['sent{}'.format(i)] = dict((tok,1) for tok in sent.split())"
      ],
      "metadata": {
        "id": "5fNCfWEvCGHk"
      },
      "execution_count": null,
      "outputs": []
    },
    {
      "cell_type": "code",
      "source": [
        "corpus"
      ],
      "metadata": {
        "colab": {
          "base_uri": "https://localhost:8080/"
        },
        "id": "RSRhl3TiESnc",
        "outputId": "cf4b29dc-6062-47be-a55b-ea1eb8f29078"
      },
      "execution_count": null,
      "outputs": [
        {
          "output_type": "execute_result",
          "data": {
            "text/plain": [
              "{'sent0': {'26.': 1,\n",
              "  'age': 1,\n",
              "  'at': 1,\n",
              "  'began': 1,\n",
              "  'building': 1,\n",
              "  'jefferson': 1,\n",
              "  'moticello': 1,\n",
              "  'of': 1,\n",
              "  'the': 1,\n",
              "  'thomas': 1},\n",
              " 'sent1': {'and': 1,\n",
              "  'by': 1,\n",
              "  'carpenters.': 1,\n",
              "  'construction': 1,\n",
              "  'done': 1,\n",
              "  'local': 1,\n",
              "  'masons': 1,\n",
              "  'mostly': 1,\n",
              "  'was': 1},\n",
              " 'sent2': {'1770.': 1,\n",
              "  'he': 1,\n",
              "  'in': 1,\n",
              "  'into': 1,\n",
              "  'moved': 1,\n",
              "  'pavilion': 1,\n",
              "  'south': 1,\n",
              "  'the': 1},\n",
              " 'sent3': {'a': 1,\n",
              "  'into': 1,\n",
              "  \"jefferson's\": 1,\n",
              "  'masterpiece': 1,\n",
              "  'moticello': 1,\n",
              "  'neoclassical': 1,\n",
              "  'obsession.': 1,\n",
              "  'turning': 1,\n",
              "  'was': 1}}"
            ]
          },
          "metadata": {},
          "execution_count": 42
        }
      ]
    },
    {
      "cell_type": "code",
      "source": [
        "df =pd.DataFrame.from_records(corpus).fillna(0).astype(int).T\n",
        "df[df.columns[:10]]"
      ],
      "metadata": {
        "colab": {
          "base_uri": "https://localhost:8080/",
          "height": 174
        },
        "id": "nvsYeaWuCZQA",
        "outputId": "fa8fb351-7ee6-4b53-8e6b-5703cc536493"
      },
      "execution_count": null,
      "outputs": [
        {
          "output_type": "execute_result",
          "data": {
            "text/plain": [
              "       thomas  jefferson  began  building  moticello  at  the  age  of  26.\n",
              "sent0       1          1      1         1          1   1    1    1   1    1\n",
              "sent1       0          0      0         0          0   0    0    0   0    0\n",
              "sent2       0          0      0         0          0   0    1    0   0    0\n",
              "sent3       0          0      0         0          1   0    0    0   0    0"
            ],
            "text/html": [
              "\n",
              "  <div id=\"df-7bf433a1-ea99-48bd-83c5-5e7206a94c09\">\n",
              "    <div class=\"colab-df-container\">\n",
              "      <div>\n",
              "<style scoped>\n",
              "    .dataframe tbody tr th:only-of-type {\n",
              "        vertical-align: middle;\n",
              "    }\n",
              "\n",
              "    .dataframe tbody tr th {\n",
              "        vertical-align: top;\n",
              "    }\n",
              "\n",
              "    .dataframe thead th {\n",
              "        text-align: right;\n",
              "    }\n",
              "</style>\n",
              "<table border=\"1\" class=\"dataframe\">\n",
              "  <thead>\n",
              "    <tr style=\"text-align: right;\">\n",
              "      <th></th>\n",
              "      <th>thomas</th>\n",
              "      <th>jefferson</th>\n",
              "      <th>began</th>\n",
              "      <th>building</th>\n",
              "      <th>moticello</th>\n",
              "      <th>at</th>\n",
              "      <th>the</th>\n",
              "      <th>age</th>\n",
              "      <th>of</th>\n",
              "      <th>26.</th>\n",
              "    </tr>\n",
              "  </thead>\n",
              "  <tbody>\n",
              "    <tr>\n",
              "      <th>sent0</th>\n",
              "      <td>1</td>\n",
              "      <td>1</td>\n",
              "      <td>1</td>\n",
              "      <td>1</td>\n",
              "      <td>1</td>\n",
              "      <td>1</td>\n",
              "      <td>1</td>\n",
              "      <td>1</td>\n",
              "      <td>1</td>\n",
              "      <td>1</td>\n",
              "    </tr>\n",
              "    <tr>\n",
              "      <th>sent1</th>\n",
              "      <td>0</td>\n",
              "      <td>0</td>\n",
              "      <td>0</td>\n",
              "      <td>0</td>\n",
              "      <td>0</td>\n",
              "      <td>0</td>\n",
              "      <td>0</td>\n",
              "      <td>0</td>\n",
              "      <td>0</td>\n",
              "      <td>0</td>\n",
              "    </tr>\n",
              "    <tr>\n",
              "      <th>sent2</th>\n",
              "      <td>0</td>\n",
              "      <td>0</td>\n",
              "      <td>0</td>\n",
              "      <td>0</td>\n",
              "      <td>0</td>\n",
              "      <td>0</td>\n",
              "      <td>1</td>\n",
              "      <td>0</td>\n",
              "      <td>0</td>\n",
              "      <td>0</td>\n",
              "    </tr>\n",
              "    <tr>\n",
              "      <th>sent3</th>\n",
              "      <td>0</td>\n",
              "      <td>0</td>\n",
              "      <td>0</td>\n",
              "      <td>0</td>\n",
              "      <td>1</td>\n",
              "      <td>0</td>\n",
              "      <td>0</td>\n",
              "      <td>0</td>\n",
              "      <td>0</td>\n",
              "      <td>0</td>\n",
              "    </tr>\n",
              "  </tbody>\n",
              "</table>\n",
              "</div>\n",
              "      <button class=\"colab-df-convert\" onclick=\"convertToInteractive('df-7bf433a1-ea99-48bd-83c5-5e7206a94c09')\"\n",
              "              title=\"Convert this dataframe to an interactive table.\"\n",
              "              style=\"display:none;\">\n",
              "        \n",
              "  <svg xmlns=\"http://www.w3.org/2000/svg\" height=\"24px\"viewBox=\"0 0 24 24\"\n",
              "       width=\"24px\">\n",
              "    <path d=\"M0 0h24v24H0V0z\" fill=\"none\"/>\n",
              "    <path d=\"M18.56 5.44l.94 2.06.94-2.06 2.06-.94-2.06-.94-.94-2.06-.94 2.06-2.06.94zm-11 1L8.5 8.5l.94-2.06 2.06-.94-2.06-.94L8.5 2.5l-.94 2.06-2.06.94zm10 10l.94 2.06.94-2.06 2.06-.94-2.06-.94-.94-2.06-.94 2.06-2.06.94z\"/><path d=\"M17.41 7.96l-1.37-1.37c-.4-.4-.92-.59-1.43-.59-.52 0-1.04.2-1.43.59L10.3 9.45l-7.72 7.72c-.78.78-.78 2.05 0 2.83L4 21.41c.39.39.9.59 1.41.59.51 0 1.02-.2 1.41-.59l7.78-7.78 2.81-2.81c.8-.78.8-2.07 0-2.86zM5.41 20L4 18.59l7.72-7.72 1.47 1.35L5.41 20z\"/>\n",
              "  </svg>\n",
              "      </button>\n",
              "      \n",
              "  <style>\n",
              "    .colab-df-container {\n",
              "      display:flex;\n",
              "      flex-wrap:wrap;\n",
              "      gap: 12px;\n",
              "    }\n",
              "\n",
              "    .colab-df-convert {\n",
              "      background-color: #E8F0FE;\n",
              "      border: none;\n",
              "      border-radius: 50%;\n",
              "      cursor: pointer;\n",
              "      display: none;\n",
              "      fill: #1967D2;\n",
              "      height: 32px;\n",
              "      padding: 0 0 0 0;\n",
              "      width: 32px;\n",
              "    }\n",
              "\n",
              "    .colab-df-convert:hover {\n",
              "      background-color: #E2EBFA;\n",
              "      box-shadow: 0px 1px 2px rgba(60, 64, 67, 0.3), 0px 1px 3px 1px rgba(60, 64, 67, 0.15);\n",
              "      fill: #174EA6;\n",
              "    }\n",
              "\n",
              "    [theme=dark] .colab-df-convert {\n",
              "      background-color: #3B4455;\n",
              "      fill: #D2E3FC;\n",
              "    }\n",
              "\n",
              "    [theme=dark] .colab-df-convert:hover {\n",
              "      background-color: #434B5C;\n",
              "      box-shadow: 0px 1px 3px 1px rgba(0, 0, 0, 0.15);\n",
              "      filter: drop-shadow(0px 1px 2px rgba(0, 0, 0, 0.3));\n",
              "      fill: #FFFFFF;\n",
              "    }\n",
              "  </style>\n",
              "\n",
              "      <script>\n",
              "        const buttonEl =\n",
              "          document.querySelector('#df-7bf433a1-ea99-48bd-83c5-5e7206a94c09 button.colab-df-convert');\n",
              "        buttonEl.style.display =\n",
              "          google.colab.kernel.accessAllowed ? 'block' : 'none';\n",
              "\n",
              "        async function convertToInteractive(key) {\n",
              "          const element = document.querySelector('#df-7bf433a1-ea99-48bd-83c5-5e7206a94c09');\n",
              "          const dataTable =\n",
              "            await google.colab.kernel.invokeFunction('convertToInteractive',\n",
              "                                                     [key], {});\n",
              "          if (!dataTable) return;\n",
              "\n",
              "          const docLinkHtml = 'Like what you see? Visit the ' +\n",
              "            '<a target=\"_blank\" href=https://colab.research.google.com/notebooks/data_table.ipynb>data table notebook</a>'\n",
              "            + ' to learn more about interactive tables.';\n",
              "          element.innerHTML = '';\n",
              "          dataTable['output_type'] = 'display_data';\n",
              "          await google.colab.output.renderOutput(dataTable, element);\n",
              "          const docLink = document.createElement('div');\n",
              "          docLink.innerHTML = docLinkHtml;\n",
              "          element.appendChild(docLink);\n",
              "        }\n",
              "      </script>\n",
              "    </div>\n",
              "  </div>\n",
              "  "
            ]
          },
          "metadata": {},
          "execution_count": 35
        }
      ]
    },
    {
      "cell_type": "code",
      "source": [
        "# 내적\n",
        "v1 = pd.np.array([1,2,3]) \n",
        "v2 = pd.np.array([2,3,4]) \n",
        "(v1*v2).sum() # 굉장히 효율적인 계산"
      ],
      "metadata": {
        "colab": {
          "base_uri": "https://localhost:8080/"
        },
        "id": "g5rKi9h0ChjK",
        "outputId": "fdd78474-b093-4631-f100-66cf19698ab3"
      },
      "execution_count": null,
      "outputs": [
        {
          "output_type": "stream",
          "name": "stderr",
          "text": [
            "/usr/local/lib/python3.7/dist-packages/ipykernel_launcher.py:2: FutureWarning: The pandas.np module is deprecated and will be removed from pandas in a future version. Import numpy directly instead\n",
            "  \n",
            "/usr/local/lib/python3.7/dist-packages/ipykernel_launcher.py:3: FutureWarning: The pandas.np module is deprecated and will be removed from pandas in a future version. Import numpy directly instead\n",
            "  This is separate from the ipykernel package so we can avoid doing imports until\n"
          ]
        },
        {
          "output_type": "execute_result",
          "data": {
            "text/plain": [
              "20"
            ]
          },
          "metadata": {},
          "execution_count": 43
        }
      ]
    },
    {
      "cell_type": "code",
      "source": [
        "sum([x1 * x2 for x1, x2 in zip(v1,v2)])"
      ],
      "metadata": {
        "colab": {
          "base_uri": "https://localhost:8080/"
        },
        "id": "ahQqP-qSEQvw",
        "outputId": "18487c8e-ea85-4fcb-95e5-3ff3ca66acbd"
      },
      "execution_count": null,
      "outputs": [
        {
          "output_type": "execute_result",
          "data": {
            "text/plain": [
              "20"
            ]
          },
          "metadata": {},
          "execution_count": 50
        }
      ]
    },
    {
      "cell_type": "code",
      "source": [
        "v1"
      ],
      "metadata": {
        "colab": {
          "base_uri": "https://localhost:8080/"
        },
        "id": "mDyuH2VCFD-Q",
        "outputId": "5fa3574f-186e-4ad6-cfab-493b3e36ecc5"
      },
      "execution_count": null,
      "outputs": [
        {
          "output_type": "execute_result",
          "data": {
            "text/plain": [
              "array([1, 2, 3])"
            ]
          },
          "metadata": {},
          "execution_count": 51
        }
      ]
    },
    {
      "cell_type": "code",
      "source": [
        "v1.reshape(-1,1).T"
      ],
      "metadata": {
        "colab": {
          "base_uri": "https://localhost:8080/"
        },
        "id": "eVO8FpESEpo3",
        "outputId": "4b77b20e-4e52-4e64-cf9b-dbef9d4825ae"
      },
      "execution_count": null,
      "outputs": [
        {
          "output_type": "execute_result",
          "data": {
            "text/plain": [
              "array([[1, 2, 3]])"
            ]
          },
          "metadata": {},
          "execution_count": 47
        }
      ]
    },
    {
      "cell_type": "code",
      "source": [
        "v2.reshape(-1,1)"
      ],
      "metadata": {
        "colab": {
          "base_uri": "https://localhost:8080/"
        },
        "id": "ud-C6CyeE314",
        "outputId": "3c9fb13d-3a1c-45c9-8e0f-74964242b74b"
      },
      "execution_count": null,
      "outputs": [
        {
          "output_type": "execute_result",
          "data": {
            "text/plain": [
              "array([[2],\n",
              "       [3],\n",
              "       [4]])"
            ]
          },
          "metadata": {},
          "execution_count": 48
        }
      ]
    },
    {
      "cell_type": "code",
      "source": [
        "v1.reshape(-1,1).T@v2.reshape(-1,1) # @ : 행렬곱 연산자"
      ],
      "metadata": {
        "colab": {
          "base_uri": "https://localhost:8080/"
        },
        "id": "ZQvO0PITE7Qz",
        "outputId": "cb14cb63-c6ec-486a-d96a-83679fb2f133"
      },
      "execution_count": null,
      "outputs": [
        {
          "output_type": "execute_result",
          "data": {
            "text/plain": [
              "array([[20]])"
            ]
          },
          "metadata": {},
          "execution_count": 49
        }
      ]
    },
    {
      "cell_type": "code",
      "source": [
        "# 중복단어 개수세기\n",
        "df = df.T\n",
        "df.sent0.dot(df.sent1)"
      ],
      "metadata": {
        "colab": {
          "base_uri": "https://localhost:8080/"
        },
        "id": "zBXQyprtE83z",
        "outputId": "3563bf2b-552c-4232-875a-6543439cc0a4"
      },
      "execution_count": null,
      "outputs": [
        {
          "output_type": "execute_result",
          "data": {
            "text/plain": [
              "0"
            ]
          },
          "metadata": {},
          "execution_count": 52
        }
      ]
    },
    {
      "cell_type": "code",
      "source": [
        "df.sent0.dot(df.sent2)"
      ],
      "metadata": {
        "colab": {
          "base_uri": "https://localhost:8080/"
        },
        "id": "RKZyoGu7FRau",
        "outputId": "da4bf735-830a-41f7-b6ef-f7ed1a429786"
      },
      "execution_count": null,
      "outputs": [
        {
          "output_type": "execute_result",
          "data": {
            "text/plain": [
              "1"
            ]
          },
          "metadata": {},
          "execution_count": 53
        }
      ]
    },
    {
      "cell_type": "code",
      "source": [
        "df.sent0.dot(df.sent3)"
      ],
      "metadata": {
        "colab": {
          "base_uri": "https://localhost:8080/"
        },
        "id": "vD73SG6IFSUz",
        "outputId": "aa105eab-7d22-4e65-d0c8-de523ac53524"
      },
      "execution_count": null,
      "outputs": [
        {
          "output_type": "execute_result",
          "data": {
            "text/plain": [
              "1"
            ]
          },
          "metadata": {},
          "execution_count": 54
        }
      ]
    },
    {
      "cell_type": "code",
      "source": [
        "# 내적이 1이되게한 단어를 찾기\n",
        "[(k,v) for (k,v) in (df.sent0 & df.sent3).items() if v] "
      ],
      "metadata": {
        "colab": {
          "base_uri": "https://localhost:8080/"
        },
        "id": "mjm2QM7YFTVp",
        "outputId": "cc4820ed-c055-439a-fb4d-9ffa7ebf6328"
      },
      "execution_count": null,
      "outputs": [
        {
          "output_type": "execute_result",
          "data": {
            "text/plain": [
              "[('moticello', 1)]"
            ]
          },
          "metadata": {},
          "execution_count": 55
        }
      ]
    },
    {
      "cell_type": "code",
      "source": [
        "(df.sent0 & df.sent3).items() "
      ],
      "metadata": {
        "colab": {
          "base_uri": "https://localhost:8080/"
        },
        "id": "hHtA77UTFme4",
        "outputId": "0d1b79c5-c068-47f9-96ec-198bc382bb64"
      },
      "execution_count": null,
      "outputs": [
        {
          "output_type": "execute_result",
          "data": {
            "text/plain": [
              "<zip at 0x7fce22d36fa0>"
            ]
          },
          "metadata": {},
          "execution_count": 56
        }
      ]
    },
    {
      "cell_type": "code",
      "source": [
        "(df.sent0 & df.sent3)"
      ],
      "metadata": {
        "colab": {
          "base_uri": "https://localhost:8080/"
        },
        "id": "x2dJOb54FoFD",
        "outputId": "7e982a80-7b66-49da-c029-56b10be46782"
      },
      "execution_count": null,
      "outputs": [
        {
          "output_type": "execute_result",
          "data": {
            "text/plain": [
              "thomas          0\n",
              "jefferson       0\n",
              "began           0\n",
              "building        0\n",
              "moticello       1\n",
              "at              0\n",
              "the             0\n",
              "age             0\n",
              "of              0\n",
              "26.             0\n",
              "construction    0\n",
              "was             0\n",
              "done            0\n",
              "mostly          0\n",
              "by              0\n",
              "local           0\n",
              "masons          0\n",
              "and             0\n",
              "carpenters.     0\n",
              "he              0\n",
              "moved           0\n",
              "into            0\n",
              "south           0\n",
              "pavilion        0\n",
              "in              0\n",
              "1770.           0\n",
              "turning         0\n",
              "a               0\n",
              "neoclassical    0\n",
              "masterpiece     0\n",
              "jefferson's     0\n",
              "obsession.      0\n",
              "dtype: int64"
            ]
          },
          "metadata": {},
          "execution_count": 57
        }
      ]
    },
    {
      "cell_type": "code",
      "source": [
        "import re \n",
        "sentence = \"\"\"thomas jefferson began building moticello at the age of 26.\"\"\"\n",
        "tokens = re.split(r'[-\\s.,;!?]+' , sentence) # 공백이나 몇가지 문장부호를 기준으로 분할함\n",
        "tokens\n",
        "\n",
        "#  정규식 파헤치기\n",
        "# [] : 대괄호는 주어진 텍스트가 부합해야할 문자들의 집합을 지정함\n",
        "# + : []다음 나오는 + , 주어진 문자 부류의 문자들이 하나이상 부합해야함을 뜻함\n",
        "# \\s : \\\\t\\n\\r\\f\\v 등의 공백문자들을 대표함\n",
        "# \\t 탭\n",
        "# \\r 캐리지 리턴\n",
        "# \\n 새줄\n",
        "# \\f 폼피드\n",
        "# \\v 수직탭 문자\n",
        "# r'[a-z] , r'[0-9], r'[_a-zA-Z] : 밑줄문자나 영문소문자, 대문자와 부합함\n",
        "# [-] : 정규 표현식의 까다로운 규칙에 해당함\n"
      ],
      "metadata": {
        "colab": {
          "base_uri": "https://localhost:8080/"
        },
        "id": "Z4--ixYWFr7B",
        "outputId": "1009b335-a2ac-4439-b910-4f3b347c9300"
      },
      "execution_count": null,
      "outputs": [
        {
          "output_type": "execute_result",
          "data": {
            "text/plain": [
              "['thomas',\n",
              " 'jefferson',\n",
              " 'began',\n",
              " 'building',\n",
              " 'moticello',\n",
              " 'at',\n",
              " 'the',\n",
              " 'age',\n",
              " 'of',\n",
              " '26',\n",
              " '']"
            ]
          },
          "metadata": {},
          "execution_count": 58
        }
      ]
    },
    {
      "cell_type": "code",
      "source": [
        "# 단어 분리를 위한 정규 표현식 개선\n",
        "pattern = re.compile(r'([-\\s.,;:!?])+')\n",
        "tokens = pattern.split(sentence) \n",
        "tokens[-10:]"
      ],
      "metadata": {
        "colab": {
          "base_uri": "https://localhost:8080/"
        },
        "id": "InMP5PNCGQTB",
        "outputId": "281a9132-83ba-4e19-bd5d-0c414c025c73"
      },
      "execution_count": null,
      "outputs": [
        {
          "output_type": "execute_result",
          "data": {
            "text/plain": [
              "[' ', 'the', ' ', 'age', ' ', 'of', ' ', '26', '.', '']"
            ]
          },
          "metadata": {},
          "execution_count": 59
        }
      ]
    },
    {
      "cell_type": "code",
      "source": [
        "sentence = \"\"\"thomas jefferson began building moticello at the age of 26.\"\"\"\n",
        "pattern = re.compile(r'([-\\s.,;:!?])+')\n",
        "tokens = pattern.split(sentence) \n",
        "[x for x in tokens if x and x not in '- \\t\\n.,;!?']"
      ],
      "metadata": {
        "colab": {
          "base_uri": "https://localhost:8080/"
        },
        "id": "qEqyFcCeKyVM",
        "outputId": "cc943e93-eb39-44ac-c3f0-10bb30cb6b2e"
      },
      "execution_count": null,
      "outputs": [
        {
          "output_type": "execute_result",
          "data": {
            "text/plain": [
              "['thomas',\n",
              " 'jefferson',\n",
              " 'began',\n",
              " 'building',\n",
              " 'moticello',\n",
              " 'at',\n",
              " 'the',\n",
              " 'age',\n",
              " 'of',\n",
              " '26']"
            ]
          },
          "metadata": {},
          "execution_count": 60
        }
      ]
    },
    {
      "cell_type": "code",
      "source": [
        "# regex : 부합집합중첩, 다중 스레드 적용 유니코드 완벽지원, 근사 정규 표현식 부합, 더큰  maxcache(500개)"
      ],
      "metadata": {
        "id": "bypE0I_gLGgA"
      },
      "execution_count": null,
      "outputs": []
    },
    {
      "cell_type": "code",
      "source": [
        "# 주요 토큰화 라이브러리 \n",
        "# spacy : 정확,유연, 빠름, 파이썬\n",
        "# coreNLP : 스탠퍼드, 더욱 정확하지만 덜 유연, 빠름, JAVA8에 의존\n",
        "# NLTK : 표준 라이브러리, 유명, 파이썬\n"
      ],
      "metadata": {
        "id": "iOO1HSDWLdnA"
      },
      "execution_count": null,
      "outputs": []
    },
    {
      "cell_type": "code",
      "source": [
        "from nltk.tokenize import RegexpTokenizer \n",
        "tokenizer = RegexpTokenizer(r'\\w+|$[0-9.]+|\\S+')\n",
        "tokenizer.tokenize(sentence)"
      ],
      "metadata": {
        "colab": {
          "base_uri": "https://localhost:8080/"
        },
        "id": "r_P8pZ8vLw4C",
        "outputId": "6a3dce32-e78b-4994-e390-eaf0f1fe126e"
      },
      "execution_count": null,
      "outputs": [
        {
          "output_type": "execute_result",
          "data": {
            "text/plain": [
              "['thomas',\n",
              " 'jefferson',\n",
              " 'began',\n",
              " 'building',\n",
              " 'moticello',\n",
              " 'at',\n",
              " 'the',\n",
              " 'age',\n",
              " 'of',\n",
              " '26',\n",
              " '.']"
            ]
          },
          "metadata": {},
          "execution_count": 63
        }
      ]
    },
    {
      "cell_type": "code",
      "source": [
        "# 좀더 강력한 토큰화 함수 :  treebandwordtokenizer, 소숫점, 축양형도 토큰화 가능\n",
        "from nltk.tokenize import TreebankWordTokenizer\n",
        "sentence = \"\"\"Monticello wasn't designated as UNESCO World heritage site until 1987.\"\"\"\n",
        "tokenizer = TreebankWordTokenizer()"
      ],
      "metadata": {
        "id": "l2W2W1_3MII5"
      },
      "execution_count": null,
      "outputs": []
    },
    {
      "cell_type": "code",
      "source": [
        "tokenizer.tokenize(sentence)"
      ],
      "metadata": {
        "colab": {
          "base_uri": "https://localhost:8080/"
        },
        "id": "BZr0fo_FMyFI",
        "outputId": "600943de-2354-49ff-e384-6e1da10f644d"
      },
      "execution_count": null,
      "outputs": [
        {
          "output_type": "execute_result",
          "data": {
            "text/plain": [
              "['Monticello',\n",
              " 'was',\n",
              " \"n't\",\n",
              " 'designated',\n",
              " 'as',\n",
              " 'UNESCO',\n",
              " 'World',\n",
              " 'heritage',\n",
              " 'site',\n",
              " 'until',\n",
              " '1987',\n",
              " '.']"
            ]
          },
          "metadata": {},
          "execution_count": 67
        }
      ]
    },
    {
      "cell_type": "code",
      "source": [
        "# n-gram을 활용한 어휘 확장\n",
        "#tokenize_2grams(sentence)"
      ],
      "metadata": {
        "id": "oKksSJbuM2QQ"
      },
      "execution_count": null,
      "outputs": []
    },
    {
      "cell_type": "code",
      "source": [
        "from nltk.util import ngrams\n",
        "tokens = [x for x in tokens if x and x not in '= \\t\\n.,;:!?']\n",
        "\n",
        "list(ngrams(tokens,2))"
      ],
      "metadata": {
        "colab": {
          "base_uri": "https://localhost:8080/"
        },
        "id": "AIuW2fYANqQc",
        "outputId": "607c6ad7-fbdb-40be-919f-d7d373580cc6"
      },
      "execution_count": null,
      "outputs": [
        {
          "output_type": "execute_result",
          "data": {
            "text/plain": [
              "[('thomas', 'jefferson'),\n",
              " ('jefferson', 'began'),\n",
              " ('began', 'building'),\n",
              " ('building', 'moticello'),\n",
              " ('moticello', 'at'),\n",
              " ('at', 'the'),\n",
              " ('the', 'age'),\n",
              " ('age', 'of'),\n",
              " ('of', '26')]"
            ]
          },
          "metadata": {},
          "execution_count": 78
        }
      ]
    },
    {
      "cell_type": "code",
      "source": [
        "list(ngrams(tokens,3))"
      ],
      "metadata": {
        "colab": {
          "base_uri": "https://localhost:8080/"
        },
        "id": "AT0PJRCCOt46",
        "outputId": "aa74f1c3-9e60-4188-dd1d-e7bf06b10f73"
      },
      "execution_count": null,
      "outputs": [
        {
          "output_type": "execute_result",
          "data": {
            "text/plain": [
              "[('thomas', 'jefferson', 'began'),\n",
              " ('jefferson', 'began', 'building'),\n",
              " ('began', 'building', 'moticello'),\n",
              " ('building', 'moticello', 'at'),\n",
              " ('moticello', 'at', 'the'),\n",
              " ('at', 'the', 'age'),\n",
              " ('the', 'age', 'of'),\n",
              " ('age', 'of', '26')]"
            ]
          },
          "metadata": {},
          "execution_count": 79
        }
      ]
    },
    {
      "cell_type": "code",
      "source": [
        "two_grams = list(ngrams(tokens,2))\n",
        "[\" \".join(x) for x in two_grams]\n"
      ],
      "metadata": {
        "colab": {
          "base_uri": "https://localhost:8080/"
        },
        "id": "pq7RidEkOwvZ",
        "outputId": "6e50e453-406e-43b6-aa4c-247157592274"
      },
      "execution_count": null,
      "outputs": [
        {
          "output_type": "execute_result",
          "data": {
            "text/plain": [
              "['thomas jefferson',\n",
              " 'jefferson began',\n",
              " 'began building',\n",
              " 'building moticello',\n",
              " 'moticello at',\n",
              " 'at the',\n",
              " 'the age',\n",
              " 'age of',\n",
              " 'of 26']"
            ]
          },
          "metadata": {},
          "execution_count": 80
        }
      ]
    },
    {
      "cell_type": "code",
      "source": [
        "stop_words = ['a','an','the','on','of','off','this','is']\n",
        "tokens = ['the','house','is','on','fire'] \n",
        "tokens_without_stopwords = [x for x in tokens if x not in stop_words] \n",
        "tokens_without_stopwords"
      ],
      "metadata": {
        "colab": {
          "base_uri": "https://localhost:8080/"
        },
        "id": "lI_2B0AiPDiK",
        "outputId": "926462e7-6d33-4685-af41-3f2f6bda3d8f"
      },
      "execution_count": null,
      "outputs": [
        {
          "output_type": "execute_result",
          "data": {
            "text/plain": [
              "['house', 'fire']"
            ]
          },
          "metadata": {},
          "execution_count": 81
        }
      ]
    },
    {
      "cell_type": "code",
      "source": [
        "# nltk의 불용어 목록\n",
        "import nltk\n",
        "nltk.download('stopwords') \n",
        "stop_words = nltk.corpus.stopwords.words('english')\n",
        "len(stop_words)\n"
      ],
      "metadata": {
        "colab": {
          "base_uri": "https://localhost:8080/"
        },
        "id": "UBcwFUeNQuom",
        "outputId": "f7d99bf0-10f2-4928-de91-444b809460f1"
      },
      "execution_count": null,
      "outputs": [
        {
          "output_type": "stream",
          "name": "stdout",
          "text": [
            "[nltk_data] Downloading package stopwords to /root/nltk_data...\n",
            "[nltk_data]   Package stopwords is already up-to-date!\n"
          ]
        },
        {
          "output_type": "execute_result",
          "data": {
            "text/plain": [
              "179"
            ]
          },
          "metadata": {},
          "execution_count": 83
        }
      ]
    },
    {
      "cell_type": "code",
      "source": [
        "stop_words[:7]"
      ],
      "metadata": {
        "colab": {
          "base_uri": "https://localhost:8080/"
        },
        "id": "l3AOKwQUQ4rj",
        "outputId": "c27ce3e7-ad40-4114-b152-40ca691d8421"
      },
      "execution_count": null,
      "outputs": [
        {
          "output_type": "execute_result",
          "data": {
            "text/plain": [
              "['i', 'me', 'my', 'myself', 'we', 'our', 'ours']"
            ]
          },
          "metadata": {},
          "execution_count": 84
        }
      ]
    },
    {
      "cell_type": "code",
      "source": [
        "# 여러 불용어 집합을 같이 사용하기\n",
        "from sklearn.feature_extraction.text import ENGLISH_STOP_WORDS as sklearn_stop_words \n",
        "len(sklearn_stop_words)"
      ],
      "metadata": {
        "colab": {
          "base_uri": "https://localhost:8080/"
        },
        "id": "7sGmQvlWQ6kg",
        "outputId": "5a8ca418-f956-4550-80be-299c509c540f"
      },
      "execution_count": null,
      "outputs": [
        {
          "output_type": "execute_result",
          "data": {
            "text/plain": [
              "318"
            ]
          },
          "metadata": {},
          "execution_count": 85
        }
      ]
    },
    {
      "cell_type": "code",
      "source": [
        "len(stop_words)"
      ],
      "metadata": {
        "colab": {
          "base_uri": "https://localhost:8080/"
        },
        "id": "ip4wz1pzRVWv",
        "outputId": "cd565c4f-e2b3-45cc-a7af-ae3332a62ce6"
      },
      "execution_count": null,
      "outputs": [
        {
          "output_type": "execute_result",
          "data": {
            "text/plain": [
              "179"
            ]
          },
          "metadata": {},
          "execution_count": 86
        }
      ]
    },
    {
      "cell_type": "code",
      "source": [
        "# len(stop_words.union(sklearn_stop_words))"
      ],
      "metadata": {
        "id": "IrbzpDNVRXKP"
      },
      "execution_count": null,
      "outputs": []
    },
    {
      "cell_type": "code",
      "source": [
        "# len(stop_words.intersection(sklearn_stop_words))"
      ],
      "metadata": {
        "id": "hHpEvcqDRam1"
      },
      "execution_count": null,
      "outputs": []
    },
    {
      "cell_type": "code",
      "source": [
        "tokens = ['House','Visitors','Center'] \n",
        "normalized_tokens = [x.lower() for x in tokens] \n",
        "print(normalized_tokens)"
      ],
      "metadata": {
        "colab": {
          "base_uri": "https://localhost:8080/"
        },
        "id": "ktGYRHzWRlxc",
        "outputId": "9a13f851-6ee5-4382-fce7-a6159389755d"
      },
      "execution_count": null,
      "outputs": [
        {
          "output_type": "stream",
          "name": "stdout",
          "text": [
            "['house', 'visitors', 'center']\n"
          ]
        }
      ]
    },
    {
      "cell_type": "code",
      "source": [
        "# 정규화 : 재현율을 높여주지만, 정밀도를 낮춤\n",
        "# 별로 관심없는 문서들이 검색결과에 포함될 가능성 생김\n",
        "# 검색엔진을 위한 파이프라인을 구축할때는 두종류의 검색어에 맞는 두종류의 색인을 구축 (정규화 o/x)\n"
      ],
      "metadata": {
        "id": "yToGQyheSj0d"
      },
      "execution_count": null,
      "outputs": []
    },
    {
      "cell_type": "code",
      "source": [
        "# 어간 추출(stemming)\n",
        "# 영어의 어간추출은 단어들에서 접미사를 제거함으로써 의미가 비슷한 단어들을 하나의 공통어간으로 묶음\n",
        "# 어간이 반드시 영어사전에 나오는 정확한 철자의 단어일 필요없음\n",
        "# 어간추출은 문서에 담긴 정보와 의미를 최대한 유지하면서 어휘의 크기를 줄이는 방법\n",
        "def stem(phrase):\n",
        "  return ' '.join([re.findall('^(.*ss|.*?)(s)?$', word)[0][0].strip(\"'\") for word in phrase.lower().split()])\n",
        "\n",
        "  # 만일 단어가 하나의 s로 끝나면 어간은 단어에서 s를 제외한 부분이고 접미사는 S이다\n",
        "  # 만일 단어가 s로 끝나지 않으면 어간은 그 단어 자체이고 접미사는 없다\n"
      ],
      "metadata": {
        "id": "svNJPxrzTvLO"
      },
      "execution_count": null,
      "outputs": []
    },
    {
      "cell_type": "code",
      "source": [
        "stem('houses')"
      ],
      "metadata": {
        "colab": {
          "base_uri": "https://localhost:8080/",
          "height": 35
        },
        "id": "Me_RtmuFXfwX",
        "outputId": "5b337e95-e498-4a9a-ac9e-ad32c8092ed5"
      },
      "execution_count": null,
      "outputs": [
        {
          "output_type": "execute_result",
          "data": {
            "text/plain": [
              "'house'"
            ],
            "application/vnd.google.colaboratory.intrinsic+json": {
              "type": "string"
            }
          },
          "metadata": {},
          "execution_count": 96
        }
      ]
    },
    {
      "cell_type": "code",
      "source": [
        "stem(\"Doctor House's calls\")"
      ],
      "metadata": {
        "colab": {
          "base_uri": "https://localhost:8080/",
          "height": 35
        },
        "id": "SJG_L_ABXhJP",
        "outputId": "dbb32afd-148d-4f21-f9fd-627ec0a401a7"
      },
      "execution_count": null,
      "outputs": [
        {
          "output_type": "execute_result",
          "data": {
            "text/plain": [
              "'doctor house call'"
            ],
            "application/vnd.google.colaboratory.intrinsic+json": {
              "type": "string"
            }
          },
          "metadata": {},
          "execution_count": 97
        }
      ]
    },
    {
      "cell_type": "code",
      "source": [
        "# 어간추출기\n",
        "from nltk.stem.porter import PorterStemmer \n",
        "stemmer = PorterStemmer() \n",
        "' '.join([stemmer.stem(w).strip(\"'\") for w in \"dish washer's washed dishes\".split()])"
      ],
      "metadata": {
        "colab": {
          "base_uri": "https://localhost:8080/",
          "height": 35
        },
        "id": "WaVrn1yZXpEd",
        "outputId": "205f095a-a331-4676-88fe-99771554d508"
      },
      "execution_count": null,
      "outputs": [
        {
          "output_type": "execute_result",
          "data": {
            "text/plain": [
              "'dish washer wash dish'"
            ],
            "application/vnd.google.colaboratory.intrinsic+json": {
              "type": "string"
            }
          },
          "metadata": {},
          "execution_count": 98
        }
      ]
    },
    {
      "cell_type": "code",
      "source": [
        "# 표제어 추출 (lemmatization) \n",
        "# 어근수준으로 내려가서 정규화하는것\n",
        "# 차원축소를 하게 하지만 모형이 덜 정확해지는 단점이 있음\n",
        "# 뿌리가 같지만 의미가 완전히 같지는 않은 여러 철자변형을 모두 같은 단어로 간주함\n",
        "# chat, chatter, chatty, chatting을 똑같이 취급\n",
        "# 단어의 의미를 고려해서 단어들을 정규화한다는 점에서 표제어 추출은 어간추출이나 대소문자 정규화보다 좀더 정확한 정규화 방법이라 할 수있음\n"
      ],
      "metadata": {
        "id": "4rgNcgV6YfpW"
      },
      "execution_count": null,
      "outputs": []
    },
    {
      "cell_type": "code",
      "source": [
        "nltk.download('wordnet')\n",
        "from nltk.stem import WordNetLemmatizer \n",
        "lemmatizer = WordNetLemmatizer()\n",
        "lemmatizer.lemmatize(\"better\")  # 명사로 판단"
      ],
      "metadata": {
        "colab": {
          "base_uri": "https://localhost:8080/",
          "height": 72
        },
        "id": "egbjPhUjZwMS",
        "outputId": "b1068237-4ab1-4d10-e53e-8a04431223dd"
      },
      "execution_count": null,
      "outputs": [
        {
          "output_type": "stream",
          "name": "stdout",
          "text": [
            "[nltk_data] Downloading package wordnet to /root/nltk_data...\n",
            "[nltk_data]   Unzipping corpora/wordnet.zip.\n"
          ]
        },
        {
          "output_type": "execute_result",
          "data": {
            "text/plain": [
              "'better'"
            ],
            "application/vnd.google.colaboratory.intrinsic+json": {
              "type": "string"
            }
          },
          "metadata": {},
          "execution_count": 100
        }
      ]
    },
    {
      "cell_type": "code",
      "source": [
        "lemmatizer.lemmatize(\"better\",pos=\"a\") "
      ],
      "metadata": {
        "colab": {
          "base_uri": "https://localhost:8080/",
          "height": 35
        },
        "id": "duCEhKtPZ8bS",
        "outputId": "fe82ea1d-b61e-487c-f672-c9299b3a03f2"
      },
      "execution_count": null,
      "outputs": [
        {
          "output_type": "execute_result",
          "data": {
            "text/plain": [
              "'good'"
            ],
            "application/vnd.google.colaboratory.intrinsic+json": {
              "type": "string"
            }
          },
          "metadata": {},
          "execution_count": 101
        }
      ]
    },
    {
      "cell_type": "code",
      "source": [
        "lemmatizer.lemmatize(\"goods\", pos=\"n\") "
      ],
      "metadata": {
        "colab": {
          "base_uri": "https://localhost:8080/",
          "height": 35
        },
        "id": "dSGkt5wBaA6J",
        "outputId": "b6e6780f-1ed1-4463-df7a-fffb62da45eb"
      },
      "execution_count": null,
      "outputs": [
        {
          "output_type": "execute_result",
          "data": {
            "text/plain": [
              "'good'"
            ],
            "application/vnd.google.colaboratory.intrinsic+json": {
              "type": "string"
            }
          },
          "metadata": {},
          "execution_count": 102
        }
      ]
    },
    {
      "cell_type": "code",
      "source": [
        "lemmatizer.lemmatize(\"goods\", pos=\"a\") "
      ],
      "metadata": {
        "colab": {
          "base_uri": "https://localhost:8080/",
          "height": 35
        },
        "id": "nwX7gUUKaKGi",
        "outputId": "1c3d1d7c-f407-4c4e-80af-d26133cfa3ba"
      },
      "execution_count": null,
      "outputs": [
        {
          "output_type": "execute_result",
          "data": {
            "text/plain": [
              "'goods'"
            ],
            "application/vnd.google.colaboratory.intrinsic+json": {
              "type": "string"
            }
          },
          "metadata": {},
          "execution_count": 103
        }
      ]
    },
    {
      "cell_type": "code",
      "source": [
        "lemmatizer.lemmatize(\"best\", pos=\"a\") "
      ],
      "metadata": {
        "colab": {
          "base_uri": "https://localhost:8080/",
          "height": 35
        },
        "id": "6LPPqPY-aMSs",
        "outputId": "326f1b94-489d-4b33-bda7-bc93094f6d93"
      },
      "execution_count": null,
      "outputs": [
        {
          "output_type": "execute_result",
          "data": {
            "text/plain": [
              "'best'"
            ],
            "application/vnd.google.colaboratory.intrinsic+json": {
              "type": "string"
            }
          },
          "metadata": {},
          "execution_count": 104
        }
      ]
    },
    {
      "cell_type": "code",
      "source": [
        "# 일반적으로 어간 추출이 표제어 추출보다 더 빠르고 필요한 코드와 자료집합도 덜 복잡함\n",
        "# 둘다 어휘의 크기를 줄이는 대신 텍스트의 중의성을 높인다.\n"
      ],
      "metadata": {
        "id": "BVIPjR5JaOF8"
      },
      "execution_count": null,
      "outputs": []
    },
    {
      "cell_type": "code",
      "source": [
        "# 감정분석\n",
        "# VADER알고리즘이 사용되곤함\n",
        "# 규칙 기반 감정 분석기\n",
        "# Valence aware dictionary for sentiment reasoning \n",
        "# nltk.sentiment.vader 로 사용가능함\n",
        "!pip install vaderSentiment\n",
        "from vaderSentiment.vaderSentiment import SentimentIntensityAnalyzer"
      ],
      "metadata": {
        "id": "Vu3yVoWGcIiK",
        "colab": {
          "base_uri": "https://localhost:8080/"
        },
        "outputId": "49b00d2d-7438-4df7-ecad-a71cb7c84457"
      },
      "execution_count": null,
      "outputs": [
        {
          "output_type": "stream",
          "name": "stdout",
          "text": [
            "Collecting vaderSentiment\n",
            "  Downloading vaderSentiment-3.3.2-py2.py3-none-any.whl (125 kB)\n",
            "\u001b[?25l\r\u001b[K     |██▋                             | 10 kB 15.0 MB/s eta 0:00:01\r\u001b[K     |█████▏                          | 20 kB 18.3 MB/s eta 0:00:01\r\u001b[K     |███████▉                        | 30 kB 8.0 MB/s eta 0:00:01\r\u001b[K     |██████████▍                     | 40 kB 6.9 MB/s eta 0:00:01\r\u001b[K     |█████████████                   | 51 kB 3.5 MB/s eta 0:00:01\r\u001b[K     |███████████████▋                | 61 kB 4.1 MB/s eta 0:00:01\r\u001b[K     |██████████████████▏             | 71 kB 4.3 MB/s eta 0:00:01\r\u001b[K     |████████████████████▉           | 81 kB 4.6 MB/s eta 0:00:01\r\u001b[K     |███████████████████████▍        | 92 kB 5.1 MB/s eta 0:00:01\r\u001b[K     |██████████████████████████      | 102 kB 4.1 MB/s eta 0:00:01\r\u001b[K     |████████████████████████████▋   | 112 kB 4.1 MB/s eta 0:00:01\r\u001b[K     |███████████████████████████████▏| 122 kB 4.1 MB/s eta 0:00:01\r\u001b[K     |████████████████████████████████| 125 kB 4.1 MB/s \n",
            "\u001b[?25hRequirement already satisfied: requests in /usr/local/lib/python3.7/dist-packages (from vaderSentiment) (2.23.0)\n",
            "Requirement already satisfied: certifi>=2017.4.17 in /usr/local/lib/python3.7/dist-packages (from requests->vaderSentiment) (2021.10.8)\n",
            "Requirement already satisfied: idna<3,>=2.5 in /usr/local/lib/python3.7/dist-packages (from requests->vaderSentiment) (2.10)\n",
            "Requirement already satisfied: urllib3!=1.25.0,!=1.25.1,<1.26,>=1.21.1 in /usr/local/lib/python3.7/dist-packages (from requests->vaderSentiment) (1.24.3)\n",
            "Requirement already satisfied: chardet<4,>=3.0.2 in /usr/local/lib/python3.7/dist-packages (from requests->vaderSentiment) (3.0.4)\n",
            "Installing collected packages: vaderSentiment\n",
            "Successfully installed vaderSentiment-3.3.2\n"
          ]
        }
      ]
    },
    {
      "cell_type": "code",
      "source": [
        "sa = SentimentIntensityAnalyzer()\n"
      ],
      "metadata": {
        "id": "YIjmbuVncJg9"
      },
      "execution_count": null,
      "outputs": []
    },
    {
      "cell_type": "code",
      "source": [
        "sa.lexicon # 토큰 감정 점수 쌍들이 들어있음"
      ],
      "metadata": {
        "colab": {
          "base_uri": "https://localhost:8080/"
        },
        "id": "e2YDwPi2-8Vf",
        "outputId": "5f224560-924a-4f83-eb1b-a2a8d83b49cd"
      },
      "execution_count": null,
      "outputs": [
        {
          "output_type": "execute_result",
          "data": {
            "text/plain": [
              "{'$:': -1.5,\n",
              " '%)': -0.4,\n",
              " '%-)': -1.5,\n",
              " '&-:': -0.4,\n",
              " '&:': -0.7,\n",
              " \"( '}{' )\": 1.6,\n",
              " '(%': -0.9,\n",
              " \"('-:\": 2.2,\n",
              " \"(':\": 2.3,\n",
              " '((-:': 2.1,\n",
              " '(*': 1.1,\n",
              " '(-%': -0.7,\n",
              " '(-*': 1.3,\n",
              " '(-:': 1.6,\n",
              " '(-:0': 2.8,\n",
              " '(-:<': -0.4,\n",
              " '(-:o': 1.5,\n",
              " '(-:O': 1.5,\n",
              " '(-:{': -0.1,\n",
              " '(-:|>*': 1.9,\n",
              " '(-;': 1.3,\n",
              " '(-;|': 2.1,\n",
              " '(8': 2.6,\n",
              " '(:': 2.2,\n",
              " '(:0': 2.4,\n",
              " '(:<': -0.2,\n",
              " '(:o': 2.5,\n",
              " '(:O': 2.5,\n",
              " '(;': 1.1,\n",
              " '(;<': 0.3,\n",
              " '(=': 2.2,\n",
              " '(?:': 2.1,\n",
              " '(^:': 1.5,\n",
              " '(^;': 1.5,\n",
              " '(^;0': 2.0,\n",
              " '(^;o': 1.9,\n",
              " '(o:': 1.6,\n",
              " \")':\": -2.0,\n",
              " \")-':\": -2.1,\n",
              " ')-:': -2.1,\n",
              " ')-:<': -2.2,\n",
              " ')-:{': -2.1,\n",
              " '):': -1.8,\n",
              " '):<': -1.9,\n",
              " '):{': -2.3,\n",
              " ');<': -2.6,\n",
              " '*)': 0.6,\n",
              " '*-)': 0.3,\n",
              " '*-:': 2.1,\n",
              " '*-;': 2.4,\n",
              " '*:': 1.9,\n",
              " '*<|:-)': 1.6,\n",
              " '*\\\\0/*': 2.3,\n",
              " '*^:': 1.6,\n",
              " ',-:': 1.2,\n",
              " \"---'-;-{@\": 2.3,\n",
              " '--<--<@': 2.2,\n",
              " '.-:': -1.2,\n",
              " '..###-:': -1.7,\n",
              " '..###:': -1.9,\n",
              " '/-:': -1.3,\n",
              " '/:': -1.3,\n",
              " '/:<': -1.4,\n",
              " '/=': -0.9,\n",
              " '/^:': -1.0,\n",
              " '/o:': -1.4,\n",
              " '0-8': 0.1,\n",
              " '0-|': -1.2,\n",
              " '0:)': 1.9,\n",
              " '0:-)': 1.4,\n",
              " '0:-3': 1.5,\n",
              " '0:03': 1.9,\n",
              " '0;^)': 1.6,\n",
              " '0_o': -0.3,\n",
              " '10q': 2.1,\n",
              " '1337': 2.1,\n",
              " '143': 3.2,\n",
              " '1432': 2.6,\n",
              " '14aa41': 2.4,\n",
              " '182': -2.9,\n",
              " '187': -3.1,\n",
              " '2g2b4g': 2.8,\n",
              " '2g2bt': -0.1,\n",
              " '2qt': 2.1,\n",
              " '3:(': -2.2,\n",
              " '3:)': 0.5,\n",
              " '3:-(': -2.3,\n",
              " '3:-)': -1.4,\n",
              " '4col': -2.2,\n",
              " '4q': -3.1,\n",
              " '5fs': 1.5,\n",
              " '8)': 1.9,\n",
              " '8-d': 1.7,\n",
              " '8-o': -0.3,\n",
              " '86': -1.6,\n",
              " '8d': 2.9,\n",
              " ':###..': -2.4,\n",
              " ':$': -0.2,\n",
              " ':&': -0.6,\n",
              " \":'(\": -2.2,\n",
              " \":')\": 2.3,\n",
              " \":'-(\": -2.4,\n",
              " \":'-)\": 2.7,\n",
              " ':(': -1.9,\n",
              " ':)': 2.0,\n",
              " ':*': 2.5,\n",
              " ':-###..': -2.5,\n",
              " ':-&': -0.5,\n",
              " ':-(': -1.5,\n",
              " ':-)': 1.3,\n",
              " ':-))': 2.8,\n",
              " ':-*': 1.7,\n",
              " ':-,': 1.1,\n",
              " ':-.': -0.9,\n",
              " ':-/': -1.2,\n",
              " ':-<': -1.5,\n",
              " ':-d': 2.3,\n",
              " ':-D': 2.3,\n",
              " ':-o': 0.1,\n",
              " ':-p': 1.5,\n",
              " ':-[': -1.6,\n",
              " ':-\\\\': -0.9,\n",
              " ':-c': -1.3,\n",
              " ':-|': -0.7,\n",
              " ':-||': -2.5,\n",
              " ':-Þ': 0.9,\n",
              " ':/': -1.4,\n",
              " ':3': 2.3,\n",
              " ':<': -2.1,\n",
              " ':>': 2.1,\n",
              " ':?)': 1.3,\n",
              " ':?c': -1.6,\n",
              " ':@': -2.5,\n",
              " ':d': 2.3,\n",
              " ':D': 2.3,\n",
              " ':l': -1.7,\n",
              " ':o': -0.4,\n",
              " ':p': 1.0,\n",
              " ':s': -1.2,\n",
              " ':[': -2.0,\n",
              " ':\\\\': -1.3,\n",
              " ':]': 2.2,\n",
              " ':^)': 2.1,\n",
              " ':^*': 2.6,\n",
              " ':^/': -1.2,\n",
              " ':^\\\\': -1.0,\n",
              " ':^|': -1.0,\n",
              " ':c': -2.1,\n",
              " ':c)': 2.0,\n",
              " ':o)': 2.1,\n",
              " ':o/': -1.4,\n",
              " ':o\\\\': -1.1,\n",
              " ':o|': -0.6,\n",
              " ':P': 1.4,\n",
              " ':{': -1.9,\n",
              " ':|': -0.4,\n",
              " ':}': 2.1,\n",
              " ':Þ': 1.1,\n",
              " ';)': 0.9,\n",
              " ';-)': 1.0,\n",
              " ';-*': 2.2,\n",
              " ';-]': 0.7,\n",
              " ';d': 0.8,\n",
              " ';D': 0.8,\n",
              " ';]': 0.6,\n",
              " ';^)': 1.4,\n",
              " '</3': -3.0,\n",
              " '<3': 1.9,\n",
              " '<:': 2.1,\n",
              " '<:-|': -1.4,\n",
              " '=)': 2.2,\n",
              " '=-3': 2.0,\n",
              " '=-d': 2.4,\n",
              " '=-D': 2.4,\n",
              " '=/': -1.4,\n",
              " '=3': 2.1,\n",
              " '=d': 2.3,\n",
              " '=D': 2.3,\n",
              " '=l': -1.2,\n",
              " '=\\\\': -1.2,\n",
              " '=]': 1.6,\n",
              " '=p': 1.3,\n",
              " '=|': -0.8,\n",
              " '>-:': -2.0,\n",
              " '>.<': -1.3,\n",
              " '>:': -2.1,\n",
              " '>:(': -2.7,\n",
              " '>:)': 0.4,\n",
              " '>:-(': -2.7,\n",
              " '>:-)': -0.4,\n",
              " '>:/': -1.6,\n",
              " '>:o': -1.2,\n",
              " '>:p': 1.0,\n",
              " '>:[': -2.1,\n",
              " '>:\\\\': -1.7,\n",
              " '>;(': -2.9,\n",
              " '>;)': 0.1,\n",
              " '>_>^': 2.1,\n",
              " '@:': -2.1,\n",
              " '@>-->--': 2.1,\n",
              " \"@}-;-'---\": 2.2,\n",
              " 'aas': 2.5,\n",
              " 'aayf': 2.7,\n",
              " 'afu': -2.9,\n",
              " 'alol': 2.8,\n",
              " 'ambw': 2.9,\n",
              " 'aml': 3.4,\n",
              " 'atab': -1.9,\n",
              " 'awol': -1.3,\n",
              " 'ayc': 0.2,\n",
              " 'ayor': -1.2,\n",
              " 'aug-00': 0.3,\n",
              " 'bfd': -2.7,\n",
              " 'bfe': -2.6,\n",
              " 'bff': 2.9,\n",
              " 'bffn': 1.0,\n",
              " 'bl': 2.3,\n",
              " 'bsod': -2.2,\n",
              " 'btd': -2.1,\n",
              " 'btdt': -0.1,\n",
              " 'bz': 0.4,\n",
              " 'b^d': 2.6,\n",
              " 'cwot': -2.3,\n",
              " \"d-':\": -2.5,\n",
              " 'd8': -3.2,\n",
              " 'd:': 1.2,\n",
              " 'd:<': -3.2,\n",
              " 'd;': -2.9,\n",
              " 'd=': 1.5,\n",
              " 'doa': -2.3,\n",
              " 'dx': -3.0,\n",
              " 'ez': 1.5,\n",
              " 'fav': 2.0,\n",
              " 'fcol': -1.8,\n",
              " 'ff': 1.8,\n",
              " 'ffs': -2.8,\n",
              " 'fkm': -2.4,\n",
              " 'foaf': 1.8,\n",
              " 'ftw': 2.0,\n",
              " 'fu': -3.7,\n",
              " 'fubar': -3.0,\n",
              " 'fwb': 2.5,\n",
              " 'fyi': 0.8,\n",
              " 'fysa': 0.4,\n",
              " 'g1': 1.4,\n",
              " 'gg': 1.2,\n",
              " 'gga': 1.7,\n",
              " 'gigo': -0.6,\n",
              " 'gj': 2.0,\n",
              " 'gl': 1.3,\n",
              " 'gla': 2.5,\n",
              " 'gn': 1.2,\n",
              " 'gr8': 2.7,\n",
              " 'grrr': -0.4,\n",
              " 'gt': 1.1,\n",
              " 'h&k': 2.3,\n",
              " 'hagd': 2.2,\n",
              " 'hagn': 2.2,\n",
              " 'hago': 1.2,\n",
              " 'hak': 1.9,\n",
              " 'hand': 2.2,\n",
              " 'heart': 3.2,\n",
              " 'hearts': 3.3,\n",
              " 'hho1/2k': 1.4,\n",
              " 'hhoj': 2.0,\n",
              " 'hhok': 0.9,\n",
              " 'hugz': 2.0,\n",
              " 'hi5': 1.9,\n",
              " 'idk': -0.4,\n",
              " 'ijs': 0.7,\n",
              " 'ilu': 3.4,\n",
              " 'iluaaf': 2.7,\n",
              " 'ily': 3.4,\n",
              " 'ily2': 2.6,\n",
              " 'iou': 0.7,\n",
              " 'iyq': 2.3,\n",
              " 'j/j': 2.0,\n",
              " 'j/k': 1.6,\n",
              " 'j/p': 1.4,\n",
              " 'j/t': -0.2,\n",
              " 'j/w': 1.0,\n",
              " 'j4f': 1.4,\n",
              " 'j4g': 1.7,\n",
              " 'jho': 0.8,\n",
              " 'jhomf': 1.0,\n",
              " 'jj': 1.0,\n",
              " 'jk': 0.9,\n",
              " 'jp': 0.8,\n",
              " 'jt': 0.9,\n",
              " 'jw': 1.6,\n",
              " 'jealz': -1.2,\n",
              " 'k4y': 2.3,\n",
              " 'kfy': 2.3,\n",
              " 'kia': -3.2,\n",
              " 'kk': 1.5,\n",
              " 'kmuf': 2.2,\n",
              " 'l': 2.0,\n",
              " 'l&r': 2.2,\n",
              " 'laoj': 1.3,\n",
              " 'lmao': 2.9,\n",
              " 'lmbao': 1.8,\n",
              " 'lmfao': 2.5,\n",
              " 'lmso': 2.7,\n",
              " 'lol': 1.8,\n",
              " 'lolz': 2.7,\n",
              " 'lts': 1.6,\n",
              " 'ly': 2.6,\n",
              " 'ly4e': 2.7,\n",
              " 'lya': 3.3,\n",
              " 'lyb': 3.0,\n",
              " 'lyl': 3.1,\n",
              " 'lylab': 2.7,\n",
              " 'lylas': 2.6,\n",
              " 'lylb': 1.6,\n",
              " 'm8': 1.4,\n",
              " 'mia': -1.2,\n",
              " 'mml': 2.0,\n",
              " 'mofo': -2.4,\n",
              " 'muah': 2.3,\n",
              " 'mubar': -1.0,\n",
              " 'musm': 0.9,\n",
              " 'mwah': 2.5,\n",
              " 'n1': 1.9,\n",
              " 'nbd': 1.3,\n",
              " 'nbif': -0.5,\n",
              " 'nfc': -2.7,\n",
              " 'nfw': -2.4,\n",
              " 'nh': 2.2,\n",
              " 'nimby': -0.8,\n",
              " 'nimjd': -0.7,\n",
              " 'nimq': -0.2,\n",
              " 'nimy': -1.4,\n",
              " 'nitl': -1.5,\n",
              " 'nme': -2.1,\n",
              " 'noyb': -0.7,\n",
              " 'np': 1.4,\n",
              " 'ntmu': 1.4,\n",
              " 'o-8': -0.5,\n",
              " 'o-:': -0.3,\n",
              " 'o-|': -1.1,\n",
              " 'o.o': -0.8,\n",
              " 'O.o': -0.6,\n",
              " 'o.O': -0.6,\n",
              " 'o:': -0.2,\n",
              " 'o:)': 1.5,\n",
              " 'o:-)': 2.0,\n",
              " 'o:-3': 2.2,\n",
              " 'o:3': 2.3,\n",
              " 'o:<': -0.3,\n",
              " 'o;^)': 1.6,\n",
              " 'ok': 1.2,\n",
              " 'o_o': -0.5,\n",
              " 'O_o': -0.5,\n",
              " 'o_O': -0.5,\n",
              " 'pita': -2.4,\n",
              " 'pls': 0.3,\n",
              " 'plz': 0.3,\n",
              " 'pmbi': 0.8,\n",
              " 'pmfji': 0.3,\n",
              " 'pmji': 0.7,\n",
              " 'po': -2.6,\n",
              " 'ptl': 2.6,\n",
              " 'pu': -1.1,\n",
              " 'qq': -2.2,\n",
              " 'qt': 1.8,\n",
              " 'r&r': 2.4,\n",
              " 'rofl': 2.7,\n",
              " 'roflmao': 2.5,\n",
              " 'rotfl': 2.6,\n",
              " 'rotflmao': 2.8,\n",
              " 'rotflmfao': 2.5,\n",
              " 'rotflol': 3.0,\n",
              " 'rotgl': 2.9,\n",
              " 'rotglmao': 1.8,\n",
              " 's:': -1.1,\n",
              " 'sapfu': -1.1,\n",
              " 'sete': 2.8,\n",
              " 'sfete': 2.7,\n",
              " 'sgtm': 2.4,\n",
              " 'slap': 0.6,\n",
              " 'slaw': 2.1,\n",
              " 'smh': -1.3,\n",
              " 'snafu': -2.5,\n",
              " 'sob': -1.0,\n",
              " 'swak': 2.3,\n",
              " 'tgif': 2.3,\n",
              " 'thks': 1.4,\n",
              " 'thx': 1.5,\n",
              " 'tia': 2.3,\n",
              " 'tmi': -0.3,\n",
              " 'tnx': 1.1,\n",
              " 'true': 1.8,\n",
              " 'tx': 1.5,\n",
              " 'txs': 1.1,\n",
              " 'ty': 1.6,\n",
              " 'tyvm': 2.5,\n",
              " 'urw': 1.9,\n",
              " 'vbg': 2.1,\n",
              " 'vbs': 3.1,\n",
              " 'vip': 2.3,\n",
              " 'vwd': 2.6,\n",
              " 'vwp': 2.1,\n",
              " 'wag': -0.2,\n",
              " 'wd': 2.7,\n",
              " 'wilco': 0.9,\n",
              " 'wp': 1.0,\n",
              " 'wtf': -2.8,\n",
              " 'wtg': 2.1,\n",
              " 'wth': -2.4,\n",
              " 'x-d': 2.6,\n",
              " 'x-p': 1.7,\n",
              " 'xd': 2.8,\n",
              " 'xlnt': 3.0,\n",
              " 'xoxo': 3.0,\n",
              " 'xoxozzz': 2.3,\n",
              " 'xp': 1.6,\n",
              " 'xqzt': 1.6,\n",
              " 'xtc': 0.8,\n",
              " 'yolo': 1.1,\n",
              " 'yoyo': 0.4,\n",
              " 'yvw': 1.6,\n",
              " 'yw': 1.8,\n",
              " 'ywia': 2.5,\n",
              " 'zzz': -1.2,\n",
              " '[-;': 0.5,\n",
              " '[:': 1.3,\n",
              " '[;': 1.0,\n",
              " '[=': 1.7,\n",
              " '\\\\-:': -1.0,\n",
              " '\\\\:': -1.0,\n",
              " '\\\\:<': -1.7,\n",
              " '\\\\=': -1.1,\n",
              " '\\\\^:': -1.3,\n",
              " '\\\\o/': 2.2,\n",
              " '\\\\o:': -1.2,\n",
              " ']-:': -2.1,\n",
              " ']:': -1.6,\n",
              " ']:<': -2.5,\n",
              " '^<_<': 1.4,\n",
              " '^urs': -2.8,\n",
              " 'abandon': -1.9,\n",
              " 'abandoned': -2.0,\n",
              " 'abandoner': -1.9,\n",
              " 'abandoners': -1.9,\n",
              " 'abandoning': -1.6,\n",
              " 'abandonment': -2.4,\n",
              " 'abandonments': -1.7,\n",
              " 'abandons': -1.3,\n",
              " 'abducted': -2.3,\n",
              " 'abduction': -2.8,\n",
              " 'abductions': -2.0,\n",
              " 'abhor': -2.0,\n",
              " 'abhorred': -2.4,\n",
              " 'abhorrent': -3.1,\n",
              " 'abhors': -2.9,\n",
              " 'abilities': 1.0,\n",
              " 'ability': 1.3,\n",
              " 'aboard': 0.1,\n",
              " 'absentee': -1.1,\n",
              " 'absentees': -0.8,\n",
              " 'absolve': 1.2,\n",
              " 'absolved': 1.5,\n",
              " 'absolves': 1.3,\n",
              " 'absolving': 1.6,\n",
              " 'abuse': -3.2,\n",
              " 'abused': -2.3,\n",
              " 'abuser': -2.6,\n",
              " 'abusers': -2.6,\n",
              " 'abuses': -2.6,\n",
              " 'abusing': -2.0,\n",
              " 'abusive': -3.2,\n",
              " 'abusively': -2.8,\n",
              " 'abusiveness': -2.5,\n",
              " 'abusivenesses': -3.0,\n",
              " 'accept': 1.6,\n",
              " 'acceptabilities': 1.6,\n",
              " 'acceptability': 1.1,\n",
              " 'acceptable': 1.3,\n",
              " 'acceptableness': 1.3,\n",
              " 'acceptably': 1.5,\n",
              " 'acceptance': 2.0,\n",
              " 'acceptances': 1.7,\n",
              " 'acceptant': 1.6,\n",
              " 'acceptation': 1.3,\n",
              " 'acceptations': 0.9,\n",
              " 'accepted': 1.1,\n",
              " 'accepting': 1.6,\n",
              " 'accepts': 1.3,\n",
              " 'accident': -2.1,\n",
              " 'accidental': -0.3,\n",
              " 'accidentally': -1.4,\n",
              " 'accidents': -1.3,\n",
              " 'accomplish': 1.8,\n",
              " 'accomplished': 1.9,\n",
              " 'accomplishes': 1.7,\n",
              " 'accusation': -1.0,\n",
              " 'accusations': -1.3,\n",
              " 'accuse': -0.8,\n",
              " 'accused': -1.2,\n",
              " 'accuses': -1.4,\n",
              " 'accusing': -0.7,\n",
              " 'ache': -1.6,\n",
              " 'ached': -1.6,\n",
              " 'aches': -1.0,\n",
              " 'achievable': 1.3,\n",
              " 'aching': -2.2,\n",
              " 'acquit': 0.8,\n",
              " 'acquits': 0.1,\n",
              " 'acquitted': 1.0,\n",
              " 'acquitting': 1.3,\n",
              " 'acrimonious': -1.7,\n",
              " 'active': 1.7,\n",
              " 'actively': 1.3,\n",
              " 'activeness': 0.6,\n",
              " 'activenesses': 0.8,\n",
              " 'actives': 1.1,\n",
              " 'adequate': 0.9,\n",
              " 'admirability': 2.4,\n",
              " 'admirable': 2.6,\n",
              " 'admirableness': 2.2,\n",
              " 'admirably': 2.5,\n",
              " 'admiral': 1.3,\n",
              " 'admirals': 1.5,\n",
              " 'admiralties': 1.6,\n",
              " 'admiralty': 1.2,\n",
              " 'admiration': 2.5,\n",
              " 'admirations': 1.6,\n",
              " 'admire': 2.1,\n",
              " 'admired': 2.3,\n",
              " 'admirer': 1.8,\n",
              " 'admirers': 1.7,\n",
              " 'admires': 1.5,\n",
              " 'admiring': 1.6,\n",
              " 'admiringly': 2.3,\n",
              " 'admit': 0.8,\n",
              " 'admits': 1.2,\n",
              " 'admitted': 0.4,\n",
              " 'admonished': -1.9,\n",
              " 'adopt': 0.7,\n",
              " 'adopts': 0.7,\n",
              " 'adorability': 2.2,\n",
              " 'adorable': 2.2,\n",
              " 'adorableness': 2.5,\n",
              " 'adorably': 2.1,\n",
              " 'adoration': 2.9,\n",
              " 'adorations': 2.2,\n",
              " 'adore': 2.6,\n",
              " 'adored': 1.8,\n",
              " 'adorer': 1.7,\n",
              " 'adorers': 2.1,\n",
              " 'adores': 1.6,\n",
              " 'adoring': 2.6,\n",
              " 'adoringly': 2.4,\n",
              " 'adorn': 0.9,\n",
              " 'adorned': 0.8,\n",
              " 'adorner': 1.3,\n",
              " 'adorners': 0.9,\n",
              " 'adorning': 1.0,\n",
              " 'adornment': 1.3,\n",
              " 'adornments': 0.8,\n",
              " 'adorns': 0.5,\n",
              " 'advanced': 1.0,\n",
              " 'advantage': 1.0,\n",
              " 'advantaged': 1.4,\n",
              " 'advantageous': 1.5,\n",
              " 'advantageously': 1.9,\n",
              " 'advantageousness': 1.6,\n",
              " 'advantages': 1.5,\n",
              " 'advantaging': 1.6,\n",
              " 'adventure': 1.3,\n",
              " 'adventured': 1.3,\n",
              " 'adventurer': 1.2,\n",
              " 'adventurers': 0.9,\n",
              " 'adventures': 1.4,\n",
              " 'adventuresome': 1.7,\n",
              " 'adventuresomeness': 1.3,\n",
              " 'adventuress': 0.8,\n",
              " 'adventuresses': 1.4,\n",
              " 'adventuring': 2.3,\n",
              " 'adventurism': 1.5,\n",
              " 'adventurist': 1.4,\n",
              " 'adventuristic': 1.7,\n",
              " 'adventurists': 1.2,\n",
              " 'adventurous': 1.4,\n",
              " 'adventurously': 1.3,\n",
              " 'adventurousness': 1.8,\n",
              " 'adversarial': -1.5,\n",
              " 'adversaries': -1.0,\n",
              " 'adversary': -0.8,\n",
              " 'adversative': -1.2,\n",
              " 'adversatively': -0.1,\n",
              " 'adversatives': -1.0,\n",
              " 'adverse': -1.5,\n",
              " 'adversely': -0.8,\n",
              " 'adverseness': -0.6,\n",
              " 'adversities': -1.5,\n",
              " 'adversity': -1.8,\n",
              " 'affected': -0.6,\n",
              " 'affection': 2.4,\n",
              " 'affectional': 1.9,\n",
              " 'affectionally': 1.5,\n",
              " 'affectionate': 1.9,\n",
              " 'affectionately': 2.2,\n",
              " 'affectioned': 1.8,\n",
              " 'affectionless': -2.0,\n",
              " 'affections': 1.5,\n",
              " 'afflicted': -1.5,\n",
              " 'affronted': 0.2,\n",
              " 'aggravate': -2.5,\n",
              " 'aggravated': -1.9,\n",
              " 'aggravates': -1.9,\n",
              " 'aggravating': -1.2,\n",
              " 'aggress': -1.3,\n",
              " 'aggressed': -1.4,\n",
              " 'aggresses': -0.5,\n",
              " 'aggressing': -0.6,\n",
              " 'aggression': -1.2,\n",
              " 'aggressions': -1.3,\n",
              " 'aggressive': -0.6,\n",
              " 'aggressively': -1.3,\n",
              " 'aggressiveness': -1.8,\n",
              " 'aggressivities': -1.4,\n",
              " 'aggressivity': -0.6,\n",
              " 'aggressor': -0.8,\n",
              " 'aggressors': -0.9,\n",
              " 'aghast': -1.9,\n",
              " 'agitate': -1.7,\n",
              " 'agitated': -2.0,\n",
              " 'agitatedly': -1.6,\n",
              " 'agitates': -1.4,\n",
              " 'agitating': -1.8,\n",
              " 'agitation': -1.0,\n",
              " 'agitational': -1.2,\n",
              " 'agitations': -1.3,\n",
              " 'agitative': -1.3,\n",
              " 'agitato': -0.1,\n",
              " 'agitator': -1.4,\n",
              " 'agitators': -2.1,\n",
              " 'agog': 1.9,\n",
              " 'agonise': -2.1,\n",
              " 'agonised': -2.3,\n",
              " 'agonises': -2.4,\n",
              " 'agonising': -1.5,\n",
              " 'agonize': -2.3,\n",
              " 'agonized': -2.2,\n",
              " 'agonizes': -2.3,\n",
              " 'agonizing': -2.7,\n",
              " 'agonizingly': -2.3,\n",
              " 'agony': -1.8,\n",
              " 'agree': 1.5,\n",
              " 'agreeability': 1.9,\n",
              " 'agreeable': 1.8,\n",
              " 'agreeableness': 1.8,\n",
              " 'agreeablenesses': 1.3,\n",
              " 'agreeably': 1.6,\n",
              " 'agreed': 1.1,\n",
              " 'agreeing': 1.4,\n",
              " 'agreement': 2.2,\n",
              " 'agreements': 1.1,\n",
              " 'agrees': 0.8,\n",
              " 'alarm': -1.4,\n",
              " 'alarmed': -1.4,\n",
              " 'alarming': -0.5,\n",
              " 'alarmingly': -2.6,\n",
              " 'alarmism': -0.3,\n",
              " 'alarmists': -1.1,\n",
              " 'alarms': -1.1,\n",
              " 'alas': -1.1,\n",
              " 'alert': 1.2,\n",
              " 'alienation': -1.1,\n",
              " 'alive': 1.6,\n",
              " 'allergic': -1.2,\n",
              " 'allow': 0.9,\n",
              " 'alone': -1.0,\n",
              " 'alright': 1.0,\n",
              " 'amaze': 2.5,\n",
              " 'amazed': 2.2,\n",
              " 'amazedly': 2.1,\n",
              " 'amazement': 2.5,\n",
              " 'amazements': 2.2,\n",
              " 'amazes': 2.2,\n",
              " 'amazing': 2.8,\n",
              " 'amazon': 0.7,\n",
              " 'amazonite': 0.2,\n",
              " 'amazons': -0.1,\n",
              " 'amazonstone': 1.0,\n",
              " 'amazonstones': 0.2,\n",
              " 'ambitious': 2.1,\n",
              " 'ambivalent': 0.5,\n",
              " 'amor': 3.0,\n",
              " 'amoral': -1.6,\n",
              " 'amoralism': -0.7,\n",
              " 'amoralisms': -0.7,\n",
              " 'amoralities': -1.2,\n",
              " 'amorality': -1.5,\n",
              " 'amorally': -1.0,\n",
              " 'amoretti': 0.2,\n",
              " 'amoretto': 0.6,\n",
              " 'amorettos': 0.3,\n",
              " 'amorino': 1.2,\n",
              " 'amorist': 1.6,\n",
              " 'amoristic': 1.0,\n",
              " 'amorists': 0.1,\n",
              " 'amoroso': 2.3,\n",
              " 'amorous': 1.8,\n",
              " 'amorously': 2.3,\n",
              " 'amorousness': 2.0,\n",
              " 'amorphous': -0.2,\n",
              " 'amorphously': 0.1,\n",
              " 'amorphousness': 0.3,\n",
              " 'amort': -2.1,\n",
              " 'amortise': 0.5,\n",
              " 'amortised': -0.2,\n",
              " 'amortises': 0.1,\n",
              " 'amortizable': 0.5,\n",
              " 'amortization': 0.6,\n",
              " 'amortizations': 0.2,\n",
              " 'amortize': -0.1,\n",
              " 'amortized': 0.8,\n",
              " 'amortizes': 0.6,\n",
              " 'amortizing': 0.8,\n",
              " 'amusable': 0.7,\n",
              " 'amuse': 1.7,\n",
              " 'amused': 1.8,\n",
              " 'amusedly': 2.2,\n",
              " 'amusement': 1.5,\n",
              " 'amusements': 1.5,\n",
              " 'amuser': 1.1,\n",
              " 'amusers': 1.3,\n",
              " 'amuses': 1.7,\n",
              " 'amusia': 0.3,\n",
              " 'amusias': -0.4,\n",
              " 'amusing': 1.6,\n",
              " 'amusingly': 0.8,\n",
              " 'amusingness': 1.8,\n",
              " 'amusive': 1.7,\n",
              " 'anger': -2.7,\n",
              " 'angered': -2.3,\n",
              " 'angering': -2.2,\n",
              " 'angerly': -1.9,\n",
              " 'angers': -2.3,\n",
              " 'angrier': -2.3,\n",
              " 'angriest': -3.1,\n",
              " 'angrily': -1.8,\n",
              " 'angriness': -1.7,\n",
              " 'angry': -2.3,\n",
              " 'anguish': -2.9,\n",
              " 'anguished': -1.8,\n",
              " 'anguishes': -2.1,\n",
              " 'anguishing': -2.7,\n",
              " 'animosity': -1.9,\n",
              " 'annoy': -1.9,\n",
              " 'annoyance': -1.3,\n",
              " 'annoyances': -1.8,\n",
              " 'annoyed': -1.6,\n",
              " 'annoyer': -2.2,\n",
              " 'annoyers': -1.5,\n",
              " 'annoying': -1.7,\n",
              " 'annoys': -1.8,\n",
              " 'antagonism': -1.9,\n",
              " 'antagonisms': -1.2,\n",
              " 'antagonist': -1.9,\n",
              " 'antagonistic': -1.7,\n",
              " 'antagonistically': -2.2,\n",
              " 'antagonists': -1.7,\n",
              " 'antagonize': -2.0,\n",
              " 'antagonized': -1.4,\n",
              " 'antagonizes': -0.5,\n",
              " 'antagonizing': -2.7,\n",
              " 'anti': -1.3,\n",
              " 'anticipation': 0.4,\n",
              " 'anxieties': -0.6,\n",
              " 'anxiety': -0.7,\n",
              " 'anxious': -1.0,\n",
              " 'anxiously': -0.9,\n",
              " 'anxiousness': -1.0,\n",
              " 'aok': 2.0,\n",
              " 'apathetic': -1.2,\n",
              " 'apathetically': -0.4,\n",
              " 'apathies': -0.6,\n",
              " 'apathy': -1.2,\n",
              " 'apeshit': -0.9,\n",
              " 'apocalyptic': -3.4,\n",
              " 'apologise': 1.6,\n",
              " 'apologised': 0.4,\n",
              " 'apologises': 0.8,\n",
              " 'apologising': 0.2,\n",
              " 'apologize': 0.4,\n",
              " 'apologized': 1.3,\n",
              " 'apologizes': 1.5,\n",
              " 'apologizing': -0.3,\n",
              " 'apology': 0.2,\n",
              " 'appall': -2.4,\n",
              " 'appalled': -2.0,\n",
              " 'appalling': -1.5,\n",
              " 'appallingly': -2.0,\n",
              " 'appalls': -1.9,\n",
              " 'appease': 1.1,\n",
              " 'appeased': 0.9,\n",
              " 'appeases': 0.9,\n",
              " 'appeasing': 1.0,\n",
              " 'applaud': 2.0,\n",
              " 'applauded': 1.5,\n",
              " 'applauding': 2.1,\n",
              " 'applauds': 1.4,\n",
              " 'applause': 1.8,\n",
              " 'appreciate': 1.7,\n",
              " 'appreciated': 2.3,\n",
              " 'appreciates': 2.3,\n",
              " 'appreciating': 1.9,\n",
              " 'appreciation': 2.3,\n",
              " 'appreciations': 1.7,\n",
              " 'appreciative': 2.6,\n",
              " 'appreciatively': 1.8,\n",
              " 'appreciativeness': 1.6,\n",
              " 'appreciator': 2.6,\n",
              " 'appreciators': 1.5,\n",
              " 'appreciatory': 1.7,\n",
              " 'apprehensible': 1.1,\n",
              " 'apprehensibly': -0.2,\n",
              " 'apprehension': -2.1,\n",
              " 'apprehensions': -0.9,\n",
              " 'apprehensively': -0.3,\n",
              " 'apprehensiveness': -0.7,\n",
              " 'approval': 2.1,\n",
              " 'approved': 1.8,\n",
              " 'approves': 1.7,\n",
              " 'ardent': 2.1,\n",
              " 'arguable': -1.0,\n",
              " 'arguably': -1.0,\n",
              " 'argue': -1.4,\n",
              " 'argued': -1.5,\n",
              " 'arguer': -1.6,\n",
              " 'arguers': -1.4,\n",
              " 'argues': -1.6,\n",
              " 'arguing': -2.0,\n",
              " 'argument': -1.5,\n",
              " 'argumentative': -1.5,\n",
              " 'argumentatively': -1.8,\n",
              " 'argumentive': -1.5,\n",
              " 'arguments': -1.7,\n",
              " 'arrest': -1.4,\n",
              " 'arrested': -2.1,\n",
              " 'arrests': -1.9,\n",
              " 'arrogance': -2.4,\n",
              " 'arrogances': -1.9,\n",
              " 'arrogant': -2.2,\n",
              " 'arrogantly': -1.8,\n",
              " 'ashamed': -2.1,\n",
              " 'ashamedly': -1.7,\n",
              " 'ass': -2.5,\n",
              " 'assassination': -2.9,\n",
              " 'assassinations': -2.7,\n",
              " 'assault': -2.8,\n",
              " 'assaulted': -2.4,\n",
              " 'assaulting': -2.3,\n",
              " 'assaultive': -2.8,\n",
              " 'assaults': -2.5,\n",
              " 'asset': 1.5,\n",
              " 'assets': 0.7,\n",
              " 'assfucking': -2.5,\n",
              " 'assholes': -2.8,\n",
              " 'assurance': 1.4,\n",
              " 'assurances': 1.4,\n",
              " 'assure': 1.4,\n",
              " 'assured': 1.5,\n",
              " 'assuredly': 1.6,\n",
              " 'assuredness': 1.4,\n",
              " 'assurer': 0.9,\n",
              " 'assurers': 1.1,\n",
              " 'assures': 1.3,\n",
              " 'assurgent': 1.3,\n",
              " 'assuring': 1.6,\n",
              " 'assuror': 0.5,\n",
              " 'assurors': 0.7,\n",
              " 'astonished': 1.6,\n",
              " 'astound': 1.7,\n",
              " 'astounded': 1.8,\n",
              " 'astounding': 1.8,\n",
              " 'astoundingly': 2.1,\n",
              " 'astounds': 2.1,\n",
              " 'attachment': 1.2,\n",
              " 'attachments': 1.1,\n",
              " 'attack': -2.1,\n",
              " 'attacked': -2.0,\n",
              " 'attacker': -2.7,\n",
              " 'attackers': -2.7,\n",
              " 'attacking': -2.0,\n",
              " 'attacks': -1.9,\n",
              " 'attract': 1.5,\n",
              " 'attractancy': 0.9,\n",
              " 'attractant': 1.3,\n",
              " 'attractants': 1.4,\n",
              " 'attracted': 1.8,\n",
              " 'attracting': 2.1,\n",
              " 'attraction': 2.0,\n",
              " 'attractions': 1.8,\n",
              " 'attractive': 1.9,\n",
              " 'attractively': 2.2,\n",
              " 'attractiveness': 1.8,\n",
              " 'attractivenesses': 2.1,\n",
              " 'attractor': 1.2,\n",
              " 'attractors': 1.2,\n",
              " 'attracts': 1.7,\n",
              " 'audacious': 0.9,\n",
              " 'authority': 0.3,\n",
              " 'aversion': -1.9,\n",
              " 'aversions': -1.1,\n",
              " 'aversive': -1.6,\n",
              " 'aversively': -0.8,\n",
              " 'avert': -0.7,\n",
              " 'averted': -0.3,\n",
              " 'averts': -0.4,\n",
              " 'avid': 1.2,\n",
              " 'avoid': -1.2,\n",
              " 'avoidance': -1.7,\n",
              " 'avoidances': -1.1,\n",
              " 'avoided': -1.4,\n",
              " 'avoider': -1.8,\n",
              " 'avoiders': -1.4,\n",
              " 'avoiding': -1.4,\n",
              " 'avoids': -0.7,\n",
              " 'await': 0.4,\n",
              " 'awaited': -0.1,\n",
              " 'awaits': 0.3,\n",
              " 'award': 2.5,\n",
              " 'awardable': 2.4,\n",
              " 'awarded': 1.7,\n",
              " 'awardee': 1.8,\n",
              " 'awardees': 1.2,\n",
              " 'awarder': 0.9,\n",
              " 'awarders': 1.3,\n",
              " 'awarding': 1.9,\n",
              " 'awards': 2.0,\n",
              " 'awesome': 3.1,\n",
              " 'awful': -2.0,\n",
              " 'awkward': -0.6,\n",
              " 'awkwardly': -1.3,\n",
              " 'awkwardness': -0.7,\n",
              " 'axe': -0.4,\n",
              " 'axed': -1.3,\n",
              " 'backed': 0.1,\n",
              " 'backing': 0.1,\n",
              " 'backs': -0.2,\n",
              " 'bad': -2.5,\n",
              " 'badass': 1.4,\n",
              " 'badly': -2.1,\n",
              " 'bailout': -0.4,\n",
              " 'bamboozle': -1.5,\n",
              " 'bamboozled': -1.5,\n",
              " 'bamboozles': -1.5,\n",
              " 'ban': -2.6,\n",
              " 'banish': -1.9,\n",
              " 'bankrupt': -2.6,\n",
              " 'bankster': -2.1,\n",
              " 'banned': -2.0,\n",
              " 'bargain': 0.8,\n",
              " 'barrier': -0.5,\n",
              " 'bashful': -0.1,\n",
              " 'bashfully': 0.2,\n",
              " 'bashfulness': -0.8,\n",
              " 'bastard': -2.5,\n",
              " 'bastardies': -1.8,\n",
              " 'bastardise': -2.1,\n",
              " 'bastardised': -2.3,\n",
              " 'bastardises': -2.3,\n",
              " 'bastardising': -2.6,\n",
              " 'bastardization': -2.4,\n",
              " 'bastardizations': -2.1,\n",
              " 'bastardize': -2.4,\n",
              " 'bastardized': -2.0,\n",
              " 'bastardizes': -1.8,\n",
              " 'bastardizing': -2.3,\n",
              " 'bastardly': -2.7,\n",
              " 'bastards': -3.0,\n",
              " 'bastardy': -2.7,\n",
              " 'battle': -1.6,\n",
              " 'battled': -1.2,\n",
              " 'battlefield': -1.6,\n",
              " 'battlefields': -0.9,\n",
              " 'battlefront': -1.2,\n",
              " 'battlefronts': -0.8,\n",
              " 'battleground': -1.7,\n",
              " 'battlegrounds': -0.6,\n",
              " 'battlement': -0.4,\n",
              " 'battlements': -0.4,\n",
              " 'battler': -0.8,\n",
              " 'battlers': -0.2,\n",
              " 'battles': -1.6,\n",
              " 'battleship': -0.1,\n",
              " 'battleships': -0.5,\n",
              " 'battlewagon': -0.3,\n",
              " 'battlewagons': -0.5,\n",
              " 'battling': -1.1,\n",
              " 'beaten': -1.8,\n",
              " 'beatific': 1.8,\n",
              " 'beating': -2.0,\n",
              " 'beaut': 1.6,\n",
              " 'beauteous': 2.5,\n",
              " 'beauteously': 2.6,\n",
              " ...}"
            ]
          },
          "metadata": {},
          "execution_count": 4
        }
      ]
    },
    {
      "cell_type": "code",
      "source": [
        "sa.polarity_scores(text={':(': -1.9, ':)': 2.0})"
      ],
      "metadata": {
        "id": "apWcT8A8cJkV",
        "colab": {
          "base_uri": "https://localhost:8080/"
        },
        "outputId": "767d2886-9e9e-4916-e007-56dfd558fa62"
      },
      "execution_count": null,
      "outputs": [
        {
          "output_type": "execute_result",
          "data": {
            "text/plain": [
              "{'compound': 0.0, 'neg': 0.0, 'neu': 1.0, 'pos': 0.0}"
            ]
          },
          "metadata": {},
          "execution_count": 5
        }
      ]
    },
    {
      "cell_type": "code",
      "source": [
        "[(tok, score) for tok, score in sa.lexicon.items() if \" \" in tok] # 7500개 정의된것 중에서 빈칸이 포함된것은 세개뿐"
      ],
      "metadata": {
        "id": "xufCpoNXcJme",
        "colab": {
          "base_uri": "https://localhost:8080/"
        },
        "outputId": "090c2dc2-d20d-43b6-d7e5-299a8bbaed7c"
      },
      "execution_count": null,
      "outputs": [
        {
          "output_type": "execute_result",
          "data": {
            "text/plain": [
              "[(\"( '}{' )\", 1.6),\n",
              " (\"can't stand\", -2.0),\n",
              " ('fed up', -1.8),\n",
              " ('screwed up', -1.5)]"
            ]
          },
          "metadata": {},
          "execution_count": 9
        }
      ]
    },
    {
      "cell_type": "code",
      "source": [
        "sa.polarity_scores(text=\"python is very readable and it's great for NLP.\")"
      ],
      "metadata": {
        "id": "Uuj_gXOrcJou",
        "colab": {
          "base_uri": "https://localhost:8080/"
        },
        "outputId": "8e1c15fd-9104-4c13-a263-a385eec6a3cd"
      },
      "execution_count": null,
      "outputs": [
        {
          "output_type": "execute_result",
          "data": {
            "text/plain": [
              "{'compound': 0.6249, 'neg': 0.0, 'neu': 0.661, 'pos': 0.339}"
            ]
          },
          "metadata": {},
          "execution_count": 7
        }
      ]
    },
    {
      "cell_type": "code",
      "source": [
        "sa.polarity_scores(text=\"Python is not a bad choice for most applications\")"
      ],
      "metadata": {
        "id": "aE-ftJumcJrz",
        "colab": {
          "base_uri": "https://localhost:8080/"
        },
        "outputId": "c7bccee9-4929-467f-be7d-10626f4daab6"
      },
      "execution_count": null,
      "outputs": [
        {
          "output_type": "execute_result",
          "data": {
            "text/plain": [
              "{'compound': 0.431, 'neg': 0.0, 'neu': 0.737, 'pos': 0.263}"
            ]
          },
          "metadata": {},
          "execution_count": 8
        }
      ]
    },
    {
      "cell_type": "code",
      "source": [
        "corpus = [\"absolutely perfect love it :-) :-) :-)\",\n",
        "          \"horrible! completely useless. :(\",\n",
        "          \"it was ok some good and some bad things\"\n",
        "          ]\n",
        "for doc in corpus:\n",
        "  scores=sa.polarity_scores(doc)\n",
        "  print('{:+}:{}'.format(scores['compound'], doc))"
      ],
      "metadata": {
        "colab": {
          "base_uri": "https://localhost:8080/"
        },
        "id": "GSYoCZuqAC3W",
        "outputId": "a9f0f295-fb8e-4300-dd87-01eb6304e0f0"
      },
      "execution_count": null,
      "outputs": [
        {
          "output_type": "stream",
          "name": "stdout",
          "text": [
            "+0.9368:absolutely perfect love it :-) :-) :-)\n",
            "-0.8768:horrible! completely useless. :(\n",
            "+0.1531:it was ok some good and some bad things\n"
          ]
        }
      ]
    },
    {
      "cell_type": "code",
      "source": [
        "# vader의 단점은 모든 단어가 아니라 약 7500개 단어만 고려한다는것\n"
      ],
      "metadata": {
        "id": "92vAPSetAC7L"
      },
      "execution_count": null,
      "outputs": []
    },
    {
      "cell_type": "code",
      "source": [
        "# 단순 베이즈 모\n",
        "# 감정 분석의 경우 목표변수는 평가하고자 하는 감정\n",
        "# VADER처럼 규칙기반 감정분석기와는 달리 사람이 개별 단어들에 대해 일일이 감정 점수를 지정해 둘 필요가 없음\n",
        "# 임의의 문제에 대해 최선의 감정점수를 찾아냄\n",
        "# 언어모델을 사용해 문장생성을 수행\n"
      ],
      "metadata": {
        "id": "QM9sd-8BBoFc"
      },
      "execution_count": null,
      "outputs": []
    },
    {
      "cell_type": "code",
      "source": [
        "from nlpia.loaders import get_data"
      ],
      "metadata": {
        "colab": {
          "base_uri": "https://localhost:8080/"
        },
        "id": "jep7bgGFC18A",
        "outputId": "ae0a7e23-841c-47c8-9db8-d6d10305403d"
      },
      "execution_count": null,
      "outputs": [
        {
          "output_type": "stream",
          "name": "stderr",
          "text": [
            "/usr/local/lib/python3.7/dist-packages/pugnlp/constants.py:136: FutureWarning: The pandas.datetime class is deprecated and will be removed from pandas in a future version. Import from datetime module instead.\n",
            "  [datetime.datetime, pd.datetime, pd.Timestamp])\n",
            "/usr/local/lib/python3.7/dist-packages/pugnlp/constants.py:158: FutureWarning: The pandas.datetime class is deprecated and will be removed from pandas in a future version. Import from datetime module instead.\n",
            "  MIN_TIMESTAMP = pd.Timestamp(pd.datetime(1677, 9, 22, 0, 12, 44), tz='utc')\n",
            "/usr/local/lib/python3.7/dist-packages/pugnlp/tutil.py:100: FutureWarning: The pandas.np module is deprecated and will be removed from pandas in a future version. Import numpy directly instead\n",
            "  np = pd.np\n",
            "/usr/local/lib/python3.7/dist-packages/pugnlp/util.py:80: FutureWarning: The pandas.np module is deprecated and will be removed from pandas in a future version. Import numpy directly instead\n",
            "  np = pd.np\n",
            "/usr/local/lib/python3.7/dist-packages/nlpia/futil.py:30: FutureWarning: The pandas.np module is deprecated and will be removed from pandas in a future version. Import numpy directly instead\n",
            "  np = pd.np\n",
            "/usr/local/lib/python3.7/dist-packages/nlpia/loaders.py:78: FutureWarning: The pandas.np module is deprecated and will be removed from pandas in a future version. Import numpy directly instead\n",
            "  np = pd.np\n"
          ]
        }
      ]
    },
    {
      "cell_type": "code",
      "source": [
        "movies =get_data(\"hutto_movies\")\n",
        "movies.head().round(2)"
      ],
      "metadata": {
        "colab": {
          "base_uri": "https://localhost:8080/",
          "height": 237
        },
        "id": "9Pv4WeXMAC-1",
        "outputId": "9d4f510d-c37f-428e-a2cd-721268d48c13"
      },
      "execution_count": null,
      "outputs": [
        {
          "output_type": "execute_result",
          "data": {
            "text/plain": [
              "    sentiment                                               text\n",
              "id                                                              \n",
              "1        2.27  The Rock is destined to be the 21st Century's ...\n",
              "2        3.53  The gorgeously elaborate continuation of ''The...\n",
              "3       -0.60                     Effective but too tepid biopic\n",
              "4        1.47  If you sometimes like to go to the movies to h...\n",
              "5        1.73  Emerges as something rare, an issue movie that..."
            ],
            "text/html": [
              "\n",
              "  <div id=\"df-a6a7760b-58ef-401c-9cc9-ed83ae0ee201\">\n",
              "    <div class=\"colab-df-container\">\n",
              "      <div>\n",
              "<style scoped>\n",
              "    .dataframe tbody tr th:only-of-type {\n",
              "        vertical-align: middle;\n",
              "    }\n",
              "\n",
              "    .dataframe tbody tr th {\n",
              "        vertical-align: top;\n",
              "    }\n",
              "\n",
              "    .dataframe thead th {\n",
              "        text-align: right;\n",
              "    }\n",
              "</style>\n",
              "<table border=\"1\" class=\"dataframe\">\n",
              "  <thead>\n",
              "    <tr style=\"text-align: right;\">\n",
              "      <th></th>\n",
              "      <th>sentiment</th>\n",
              "      <th>text</th>\n",
              "    </tr>\n",
              "    <tr>\n",
              "      <th>id</th>\n",
              "      <th></th>\n",
              "      <th></th>\n",
              "    </tr>\n",
              "  </thead>\n",
              "  <tbody>\n",
              "    <tr>\n",
              "      <th>1</th>\n",
              "      <td>2.27</td>\n",
              "      <td>The Rock is destined to be the 21st Century's ...</td>\n",
              "    </tr>\n",
              "    <tr>\n",
              "      <th>2</th>\n",
              "      <td>3.53</td>\n",
              "      <td>The gorgeously elaborate continuation of ''The...</td>\n",
              "    </tr>\n",
              "    <tr>\n",
              "      <th>3</th>\n",
              "      <td>-0.60</td>\n",
              "      <td>Effective but too tepid biopic</td>\n",
              "    </tr>\n",
              "    <tr>\n",
              "      <th>4</th>\n",
              "      <td>1.47</td>\n",
              "      <td>If you sometimes like to go to the movies to h...</td>\n",
              "    </tr>\n",
              "    <tr>\n",
              "      <th>5</th>\n",
              "      <td>1.73</td>\n",
              "      <td>Emerges as something rare, an issue movie that...</td>\n",
              "    </tr>\n",
              "  </tbody>\n",
              "</table>\n",
              "</div>\n",
              "      <button class=\"colab-df-convert\" onclick=\"convertToInteractive('df-a6a7760b-58ef-401c-9cc9-ed83ae0ee201')\"\n",
              "              title=\"Convert this dataframe to an interactive table.\"\n",
              "              style=\"display:none;\">\n",
              "        \n",
              "  <svg xmlns=\"http://www.w3.org/2000/svg\" height=\"24px\"viewBox=\"0 0 24 24\"\n",
              "       width=\"24px\">\n",
              "    <path d=\"M0 0h24v24H0V0z\" fill=\"none\"/>\n",
              "    <path d=\"M18.56 5.44l.94 2.06.94-2.06 2.06-.94-2.06-.94-.94-2.06-.94 2.06-2.06.94zm-11 1L8.5 8.5l.94-2.06 2.06-.94-2.06-.94L8.5 2.5l-.94 2.06-2.06.94zm10 10l.94 2.06.94-2.06 2.06-.94-2.06-.94-.94-2.06-.94 2.06-2.06.94z\"/><path d=\"M17.41 7.96l-1.37-1.37c-.4-.4-.92-.59-1.43-.59-.52 0-1.04.2-1.43.59L10.3 9.45l-7.72 7.72c-.78.78-.78 2.05 0 2.83L4 21.41c.39.39.9.59 1.41.59.51 0 1.02-.2 1.41-.59l7.78-7.78 2.81-2.81c.8-.78.8-2.07 0-2.86zM5.41 20L4 18.59l7.72-7.72 1.47 1.35L5.41 20z\"/>\n",
              "  </svg>\n",
              "      </button>\n",
              "      \n",
              "  <style>\n",
              "    .colab-df-container {\n",
              "      display:flex;\n",
              "      flex-wrap:wrap;\n",
              "      gap: 12px;\n",
              "    }\n",
              "\n",
              "    .colab-df-convert {\n",
              "      background-color: #E8F0FE;\n",
              "      border: none;\n",
              "      border-radius: 50%;\n",
              "      cursor: pointer;\n",
              "      display: none;\n",
              "      fill: #1967D2;\n",
              "      height: 32px;\n",
              "      padding: 0 0 0 0;\n",
              "      width: 32px;\n",
              "    }\n",
              "\n",
              "    .colab-df-convert:hover {\n",
              "      background-color: #E2EBFA;\n",
              "      box-shadow: 0px 1px 2px rgba(60, 64, 67, 0.3), 0px 1px 3px 1px rgba(60, 64, 67, 0.15);\n",
              "      fill: #174EA6;\n",
              "    }\n",
              "\n",
              "    [theme=dark] .colab-df-convert {\n",
              "      background-color: #3B4455;\n",
              "      fill: #D2E3FC;\n",
              "    }\n",
              "\n",
              "    [theme=dark] .colab-df-convert:hover {\n",
              "      background-color: #434B5C;\n",
              "      box-shadow: 0px 1px 3px 1px rgba(0, 0, 0, 0.15);\n",
              "      filter: drop-shadow(0px 1px 2px rgba(0, 0, 0, 0.3));\n",
              "      fill: #FFFFFF;\n",
              "    }\n",
              "  </style>\n",
              "\n",
              "      <script>\n",
              "        const buttonEl =\n",
              "          document.querySelector('#df-a6a7760b-58ef-401c-9cc9-ed83ae0ee201 button.colab-df-convert');\n",
              "        buttonEl.style.display =\n",
              "          google.colab.kernel.accessAllowed ? 'block' : 'none';\n",
              "\n",
              "        async function convertToInteractive(key) {\n",
              "          const element = document.querySelector('#df-a6a7760b-58ef-401c-9cc9-ed83ae0ee201');\n",
              "          const dataTable =\n",
              "            await google.colab.kernel.invokeFunction('convertToInteractive',\n",
              "                                                     [key], {});\n",
              "          if (!dataTable) return;\n",
              "\n",
              "          const docLinkHtml = 'Like what you see? Visit the ' +\n",
              "            '<a target=\"_blank\" href=https://colab.research.google.com/notebooks/data_table.ipynb>data table notebook</a>'\n",
              "            + ' to learn more about interactive tables.';\n",
              "          element.innerHTML = '';\n",
              "          dataTable['output_type'] = 'display_data';\n",
              "          await google.colab.output.renderOutput(dataTable, element);\n",
              "          const docLink = document.createElement('div');\n",
              "          docLink.innerHTML = docLinkHtml;\n",
              "          element.appendChild(docLink);\n",
              "        }\n",
              "      </script>\n",
              "    </div>\n",
              "  </div>\n",
              "  "
            ]
          },
          "metadata": {},
          "execution_count": 38
        }
      ]
    },
    {
      "cell_type": "code",
      "source": [
        "import pandas as pd\n",
        "pd.set_option('display.width', 75)  # dataframe의 내용이 좀더 보기좋게 변함\n",
        "from nltk.tokenize import casual_tokenize # 이모티콘과 비표준적인 문장부호, 비속어를 더 잘처리함\n",
        "bags_of_words = []\n",
        "from collections import Counter\n",
        "for text in movies.text:\n",
        "  bags_of_words.append(Counter(casual_tokenize(text))) \n",
        "\n"
      ],
      "metadata": {
        "id": "MpNg7qh6HlxW"
      },
      "execution_count": null,
      "outputs": []
    },
    {
      "cell_type": "code",
      "source": [
        "df_bows = pd.DataFrame.from_records(bags_of_words) \n"
      ],
      "metadata": {
        "id": "McTVoSKaHl5U"
      },
      "execution_count": null,
      "outputs": []
    },
    {
      "cell_type": "code",
      "source": [
        "df_bows = df_bows.fillna(0).astype(int)\n",
        "\n",
        "df_bows.shape"
      ],
      "metadata": {
        "colab": {
          "base_uri": "https://localhost:8080/"
        },
        "id": "U-0jyvvHIH-c",
        "outputId": "973ec712-b693-4218-9669-ccb3760f7e87"
      },
      "execution_count": null,
      "outputs": [
        {
          "output_type": "execute_result",
          "data": {
            "text/plain": [
              "(10605, 20756)"
            ]
          },
          "metadata": {},
          "execution_count": 41
        }
      ]
    },
    {
      "cell_type": "code",
      "source": [
        "df_bows.head()"
      ],
      "metadata": {
        "colab": {
          "base_uri": "https://localhost:8080/",
          "height": 235
        },
        "id": "h3Y1WveQIIWU",
        "outputId": "1ba8312e-c95a-4ddf-de62-6f964b627cd7"
      },
      "execution_count": null,
      "outputs": [
        {
          "output_type": "execute_result",
          "data": {
            "text/plain": [
              "   The  Rock  is  destined  to  be  the  21st  Century's  new  ...  Ill  \\\n",
              "0    1     1   1         1   2   1    1     1          1    1  ...    0   \n",
              "1    2     0   1         0   0   0    1     0          0    0  ...    0   \n",
              "2    0     0   0         0   0   0    0     0          0    0  ...    0   \n",
              "3    0     0   1         0   4   0    1     0          0    0  ...    0   \n",
              "4    0     0   0         0   0   0    0     0          0    0  ...    0   \n",
              "\n",
              "   slummer  Rashomon  dipsticks  Bearable  Staggeringly  ’  ve  \\\n",
              "0        0         0          0         0             0  0   0   \n",
              "1        0         0          0         0             0  0   0   \n",
              "2        0         0          0         0             0  0   0   \n",
              "3        0         0          0         0             0  0   0   \n",
              "4        0         0          0         0             0  0   0   \n",
              "\n",
              "   muttering  dissing  \n",
              "0          0        0  \n",
              "1          0        0  \n",
              "2          0        0  \n",
              "3          0        0  \n",
              "4          0        0  \n",
              "\n",
              "[5 rows x 20756 columns]"
            ],
            "text/html": [
              "\n",
              "  <div id=\"df-13f7f796-27e4-4add-82ce-181184d049f1\">\n",
              "    <div class=\"colab-df-container\">\n",
              "      <div>\n",
              "<style scoped>\n",
              "    .dataframe tbody tr th:only-of-type {\n",
              "        vertical-align: middle;\n",
              "    }\n",
              "\n",
              "    .dataframe tbody tr th {\n",
              "        vertical-align: top;\n",
              "    }\n",
              "\n",
              "    .dataframe thead th {\n",
              "        text-align: right;\n",
              "    }\n",
              "</style>\n",
              "<table border=\"1\" class=\"dataframe\">\n",
              "  <thead>\n",
              "    <tr style=\"text-align: right;\">\n",
              "      <th></th>\n",
              "      <th>The</th>\n",
              "      <th>Rock</th>\n",
              "      <th>is</th>\n",
              "      <th>destined</th>\n",
              "      <th>to</th>\n",
              "      <th>be</th>\n",
              "      <th>the</th>\n",
              "      <th>21st</th>\n",
              "      <th>Century's</th>\n",
              "      <th>new</th>\n",
              "      <th>...</th>\n",
              "      <th>Ill</th>\n",
              "      <th>slummer</th>\n",
              "      <th>Rashomon</th>\n",
              "      <th>dipsticks</th>\n",
              "      <th>Bearable</th>\n",
              "      <th>Staggeringly</th>\n",
              "      <th>’</th>\n",
              "      <th>ve</th>\n",
              "      <th>muttering</th>\n",
              "      <th>dissing</th>\n",
              "    </tr>\n",
              "  </thead>\n",
              "  <tbody>\n",
              "    <tr>\n",
              "      <th>0</th>\n",
              "      <td>1</td>\n",
              "      <td>1</td>\n",
              "      <td>1</td>\n",
              "      <td>1</td>\n",
              "      <td>2</td>\n",
              "      <td>1</td>\n",
              "      <td>1</td>\n",
              "      <td>1</td>\n",
              "      <td>1</td>\n",
              "      <td>1</td>\n",
              "      <td>...</td>\n",
              "      <td>0</td>\n",
              "      <td>0</td>\n",
              "      <td>0</td>\n",
              "      <td>0</td>\n",
              "      <td>0</td>\n",
              "      <td>0</td>\n",
              "      <td>0</td>\n",
              "      <td>0</td>\n",
              "      <td>0</td>\n",
              "      <td>0</td>\n",
              "    </tr>\n",
              "    <tr>\n",
              "      <th>1</th>\n",
              "      <td>2</td>\n",
              "      <td>0</td>\n",
              "      <td>1</td>\n",
              "      <td>0</td>\n",
              "      <td>0</td>\n",
              "      <td>0</td>\n",
              "      <td>1</td>\n",
              "      <td>0</td>\n",
              "      <td>0</td>\n",
              "      <td>0</td>\n",
              "      <td>...</td>\n",
              "      <td>0</td>\n",
              "      <td>0</td>\n",
              "      <td>0</td>\n",
              "      <td>0</td>\n",
              "      <td>0</td>\n",
              "      <td>0</td>\n",
              "      <td>0</td>\n",
              "      <td>0</td>\n",
              "      <td>0</td>\n",
              "      <td>0</td>\n",
              "    </tr>\n",
              "    <tr>\n",
              "      <th>2</th>\n",
              "      <td>0</td>\n",
              "      <td>0</td>\n",
              "      <td>0</td>\n",
              "      <td>0</td>\n",
              "      <td>0</td>\n",
              "      <td>0</td>\n",
              "      <td>0</td>\n",
              "      <td>0</td>\n",
              "      <td>0</td>\n",
              "      <td>0</td>\n",
              "      <td>...</td>\n",
              "      <td>0</td>\n",
              "      <td>0</td>\n",
              "      <td>0</td>\n",
              "      <td>0</td>\n",
              "      <td>0</td>\n",
              "      <td>0</td>\n",
              "      <td>0</td>\n",
              "      <td>0</td>\n",
              "      <td>0</td>\n",
              "      <td>0</td>\n",
              "    </tr>\n",
              "    <tr>\n",
              "      <th>3</th>\n",
              "      <td>0</td>\n",
              "      <td>0</td>\n",
              "      <td>1</td>\n",
              "      <td>0</td>\n",
              "      <td>4</td>\n",
              "      <td>0</td>\n",
              "      <td>1</td>\n",
              "      <td>0</td>\n",
              "      <td>0</td>\n",
              "      <td>0</td>\n",
              "      <td>...</td>\n",
              "      <td>0</td>\n",
              "      <td>0</td>\n",
              "      <td>0</td>\n",
              "      <td>0</td>\n",
              "      <td>0</td>\n",
              "      <td>0</td>\n",
              "      <td>0</td>\n",
              "      <td>0</td>\n",
              "      <td>0</td>\n",
              "      <td>0</td>\n",
              "    </tr>\n",
              "    <tr>\n",
              "      <th>4</th>\n",
              "      <td>0</td>\n",
              "      <td>0</td>\n",
              "      <td>0</td>\n",
              "      <td>0</td>\n",
              "      <td>0</td>\n",
              "      <td>0</td>\n",
              "      <td>0</td>\n",
              "      <td>0</td>\n",
              "      <td>0</td>\n",
              "      <td>0</td>\n",
              "      <td>...</td>\n",
              "      <td>0</td>\n",
              "      <td>0</td>\n",
              "      <td>0</td>\n",
              "      <td>0</td>\n",
              "      <td>0</td>\n",
              "      <td>0</td>\n",
              "      <td>0</td>\n",
              "      <td>0</td>\n",
              "      <td>0</td>\n",
              "      <td>0</td>\n",
              "    </tr>\n",
              "  </tbody>\n",
              "</table>\n",
              "<p>5 rows × 20756 columns</p>\n",
              "</div>\n",
              "      <button class=\"colab-df-convert\" onclick=\"convertToInteractive('df-13f7f796-27e4-4add-82ce-181184d049f1')\"\n",
              "              title=\"Convert this dataframe to an interactive table.\"\n",
              "              style=\"display:none;\">\n",
              "        \n",
              "  <svg xmlns=\"http://www.w3.org/2000/svg\" height=\"24px\"viewBox=\"0 0 24 24\"\n",
              "       width=\"24px\">\n",
              "    <path d=\"M0 0h24v24H0V0z\" fill=\"none\"/>\n",
              "    <path d=\"M18.56 5.44l.94 2.06.94-2.06 2.06-.94-2.06-.94-.94-2.06-.94 2.06-2.06.94zm-11 1L8.5 8.5l.94-2.06 2.06-.94-2.06-.94L8.5 2.5l-.94 2.06-2.06.94zm10 10l.94 2.06.94-2.06 2.06-.94-2.06-.94-.94-2.06-.94 2.06-2.06.94z\"/><path d=\"M17.41 7.96l-1.37-1.37c-.4-.4-.92-.59-1.43-.59-.52 0-1.04.2-1.43.59L10.3 9.45l-7.72 7.72c-.78.78-.78 2.05 0 2.83L4 21.41c.39.39.9.59 1.41.59.51 0 1.02-.2 1.41-.59l7.78-7.78 2.81-2.81c.8-.78.8-2.07 0-2.86zM5.41 20L4 18.59l7.72-7.72 1.47 1.35L5.41 20z\"/>\n",
              "  </svg>\n",
              "      </button>\n",
              "      \n",
              "  <style>\n",
              "    .colab-df-container {\n",
              "      display:flex;\n",
              "      flex-wrap:wrap;\n",
              "      gap: 12px;\n",
              "    }\n",
              "\n",
              "    .colab-df-convert {\n",
              "      background-color: #E8F0FE;\n",
              "      border: none;\n",
              "      border-radius: 50%;\n",
              "      cursor: pointer;\n",
              "      display: none;\n",
              "      fill: #1967D2;\n",
              "      height: 32px;\n",
              "      padding: 0 0 0 0;\n",
              "      width: 32px;\n",
              "    }\n",
              "\n",
              "    .colab-df-convert:hover {\n",
              "      background-color: #E2EBFA;\n",
              "      box-shadow: 0px 1px 2px rgba(60, 64, 67, 0.3), 0px 1px 3px 1px rgba(60, 64, 67, 0.15);\n",
              "      fill: #174EA6;\n",
              "    }\n",
              "\n",
              "    [theme=dark] .colab-df-convert {\n",
              "      background-color: #3B4455;\n",
              "      fill: #D2E3FC;\n",
              "    }\n",
              "\n",
              "    [theme=dark] .colab-df-convert:hover {\n",
              "      background-color: #434B5C;\n",
              "      box-shadow: 0px 1px 3px 1px rgba(0, 0, 0, 0.15);\n",
              "      filter: drop-shadow(0px 1px 2px rgba(0, 0, 0, 0.3));\n",
              "      fill: #FFFFFF;\n",
              "    }\n",
              "  </style>\n",
              "\n",
              "      <script>\n",
              "        const buttonEl =\n",
              "          document.querySelector('#df-13f7f796-27e4-4add-82ce-181184d049f1 button.colab-df-convert');\n",
              "        buttonEl.style.display =\n",
              "          google.colab.kernel.accessAllowed ? 'block' : 'none';\n",
              "\n",
              "        async function convertToInteractive(key) {\n",
              "          const element = document.querySelector('#df-13f7f796-27e4-4add-82ce-181184d049f1');\n",
              "          const dataTable =\n",
              "            await google.colab.kernel.invokeFunction('convertToInteractive',\n",
              "                                                     [key], {});\n",
              "          if (!dataTable) return;\n",
              "\n",
              "          const docLinkHtml = 'Like what you see? Visit the ' +\n",
              "            '<a target=\"_blank\" href=https://colab.research.google.com/notebooks/data_table.ipynb>data table notebook</a>'\n",
              "            + ' to learn more about interactive tables.';\n",
              "          element.innerHTML = '';\n",
              "          dataTable['output_type'] = 'display_data';\n",
              "          await google.colab.output.renderOutput(dataTable, element);\n",
              "          const docLink = document.createElement('div');\n",
              "          docLink.innerHTML = docLinkHtml;\n",
              "          element.appendChild(docLink);\n",
              "        }\n",
              "      </script>\n",
              "    </div>\n",
              "  </div>\n",
              "  "
            ]
          },
          "metadata": {},
          "execution_count": 42
        }
      ]
    },
    {
      "cell_type": "code",
      "source": [
        "df_bows.head()[list(bags_of_words[0].keys())]"
      ],
      "metadata": {
        "colab": {
          "base_uri": "https://localhost:8080/",
          "height": 235
        },
        "id": "doScJFB-IIZb",
        "outputId": "666dc9e6-46ad-4c9b-e8ff-b82a7e8870ae"
      },
      "execution_count": null,
      "outputs": [
        {
          "output_type": "execute_result",
          "data": {
            "text/plain": [
              "   The  Rock  is  destined  to  be  the  21st  Century's  new  ...  \\\n",
              "0    1     1   1         1   2   1    1     1          1    1  ...   \n",
              "1    2     0   1         0   0   0    1     0          0    0  ...   \n",
              "2    0     0   0         0   0   0    0     0          0    0  ...   \n",
              "3    0     0   1         0   4   0    1     0          0    0  ...   \n",
              "4    0     0   0         0   0   0    0     0          0    0  ...   \n",
              "\n",
              "   Schwarzenegger  ,  Jean  Claud  Van  Damme  or  Steven  Segal  .  \n",
              "0               1  1     1      1    1      1   1       1      1  1  \n",
              "1               0  0     0      0    0      0   0       0      0  4  \n",
              "2               0  0     0      0    0      0   0       0      0  0  \n",
              "3               0  1     0      0    0      0   0       0      0  1  \n",
              "4               0  1     0      0    0      0   0       0      0  1  \n",
              "\n",
              "[5 rows x 33 columns]"
            ],
            "text/html": [
              "\n",
              "  <div id=\"df-0657f918-10b5-40aa-9c1a-ed90900ace69\">\n",
              "    <div class=\"colab-df-container\">\n",
              "      <div>\n",
              "<style scoped>\n",
              "    .dataframe tbody tr th:only-of-type {\n",
              "        vertical-align: middle;\n",
              "    }\n",
              "\n",
              "    .dataframe tbody tr th {\n",
              "        vertical-align: top;\n",
              "    }\n",
              "\n",
              "    .dataframe thead th {\n",
              "        text-align: right;\n",
              "    }\n",
              "</style>\n",
              "<table border=\"1\" class=\"dataframe\">\n",
              "  <thead>\n",
              "    <tr style=\"text-align: right;\">\n",
              "      <th></th>\n",
              "      <th>The</th>\n",
              "      <th>Rock</th>\n",
              "      <th>is</th>\n",
              "      <th>destined</th>\n",
              "      <th>to</th>\n",
              "      <th>be</th>\n",
              "      <th>the</th>\n",
              "      <th>21st</th>\n",
              "      <th>Century's</th>\n",
              "      <th>new</th>\n",
              "      <th>...</th>\n",
              "      <th>Schwarzenegger</th>\n",
              "      <th>,</th>\n",
              "      <th>Jean</th>\n",
              "      <th>Claud</th>\n",
              "      <th>Van</th>\n",
              "      <th>Damme</th>\n",
              "      <th>or</th>\n",
              "      <th>Steven</th>\n",
              "      <th>Segal</th>\n",
              "      <th>.</th>\n",
              "    </tr>\n",
              "  </thead>\n",
              "  <tbody>\n",
              "    <tr>\n",
              "      <th>0</th>\n",
              "      <td>1</td>\n",
              "      <td>1</td>\n",
              "      <td>1</td>\n",
              "      <td>1</td>\n",
              "      <td>2</td>\n",
              "      <td>1</td>\n",
              "      <td>1</td>\n",
              "      <td>1</td>\n",
              "      <td>1</td>\n",
              "      <td>1</td>\n",
              "      <td>...</td>\n",
              "      <td>1</td>\n",
              "      <td>1</td>\n",
              "      <td>1</td>\n",
              "      <td>1</td>\n",
              "      <td>1</td>\n",
              "      <td>1</td>\n",
              "      <td>1</td>\n",
              "      <td>1</td>\n",
              "      <td>1</td>\n",
              "      <td>1</td>\n",
              "    </tr>\n",
              "    <tr>\n",
              "      <th>1</th>\n",
              "      <td>2</td>\n",
              "      <td>0</td>\n",
              "      <td>1</td>\n",
              "      <td>0</td>\n",
              "      <td>0</td>\n",
              "      <td>0</td>\n",
              "      <td>1</td>\n",
              "      <td>0</td>\n",
              "      <td>0</td>\n",
              "      <td>0</td>\n",
              "      <td>...</td>\n",
              "      <td>0</td>\n",
              "      <td>0</td>\n",
              "      <td>0</td>\n",
              "      <td>0</td>\n",
              "      <td>0</td>\n",
              "      <td>0</td>\n",
              "      <td>0</td>\n",
              "      <td>0</td>\n",
              "      <td>0</td>\n",
              "      <td>4</td>\n",
              "    </tr>\n",
              "    <tr>\n",
              "      <th>2</th>\n",
              "      <td>0</td>\n",
              "      <td>0</td>\n",
              "      <td>0</td>\n",
              "      <td>0</td>\n",
              "      <td>0</td>\n",
              "      <td>0</td>\n",
              "      <td>0</td>\n",
              "      <td>0</td>\n",
              "      <td>0</td>\n",
              "      <td>0</td>\n",
              "      <td>...</td>\n",
              "      <td>0</td>\n",
              "      <td>0</td>\n",
              "      <td>0</td>\n",
              "      <td>0</td>\n",
              "      <td>0</td>\n",
              "      <td>0</td>\n",
              "      <td>0</td>\n",
              "      <td>0</td>\n",
              "      <td>0</td>\n",
              "      <td>0</td>\n",
              "    </tr>\n",
              "    <tr>\n",
              "      <th>3</th>\n",
              "      <td>0</td>\n",
              "      <td>0</td>\n",
              "      <td>1</td>\n",
              "      <td>0</td>\n",
              "      <td>4</td>\n",
              "      <td>0</td>\n",
              "      <td>1</td>\n",
              "      <td>0</td>\n",
              "      <td>0</td>\n",
              "      <td>0</td>\n",
              "      <td>...</td>\n",
              "      <td>0</td>\n",
              "      <td>1</td>\n",
              "      <td>0</td>\n",
              "      <td>0</td>\n",
              "      <td>0</td>\n",
              "      <td>0</td>\n",
              "      <td>0</td>\n",
              "      <td>0</td>\n",
              "      <td>0</td>\n",
              "      <td>1</td>\n",
              "    </tr>\n",
              "    <tr>\n",
              "      <th>4</th>\n",
              "      <td>0</td>\n",
              "      <td>0</td>\n",
              "      <td>0</td>\n",
              "      <td>0</td>\n",
              "      <td>0</td>\n",
              "      <td>0</td>\n",
              "      <td>0</td>\n",
              "      <td>0</td>\n",
              "      <td>0</td>\n",
              "      <td>0</td>\n",
              "      <td>...</td>\n",
              "      <td>0</td>\n",
              "      <td>1</td>\n",
              "      <td>0</td>\n",
              "      <td>0</td>\n",
              "      <td>0</td>\n",
              "      <td>0</td>\n",
              "      <td>0</td>\n",
              "      <td>0</td>\n",
              "      <td>0</td>\n",
              "      <td>1</td>\n",
              "    </tr>\n",
              "  </tbody>\n",
              "</table>\n",
              "<p>5 rows × 33 columns</p>\n",
              "</div>\n",
              "      <button class=\"colab-df-convert\" onclick=\"convertToInteractive('df-0657f918-10b5-40aa-9c1a-ed90900ace69')\"\n",
              "              title=\"Convert this dataframe to an interactive table.\"\n",
              "              style=\"display:none;\">\n",
              "        \n",
              "  <svg xmlns=\"http://www.w3.org/2000/svg\" height=\"24px\"viewBox=\"0 0 24 24\"\n",
              "       width=\"24px\">\n",
              "    <path d=\"M0 0h24v24H0V0z\" fill=\"none\"/>\n",
              "    <path d=\"M18.56 5.44l.94 2.06.94-2.06 2.06-.94-2.06-.94-.94-2.06-.94 2.06-2.06.94zm-11 1L8.5 8.5l.94-2.06 2.06-.94-2.06-.94L8.5 2.5l-.94 2.06-2.06.94zm10 10l.94 2.06.94-2.06 2.06-.94-2.06-.94-.94-2.06-.94 2.06-2.06.94z\"/><path d=\"M17.41 7.96l-1.37-1.37c-.4-.4-.92-.59-1.43-.59-.52 0-1.04.2-1.43.59L10.3 9.45l-7.72 7.72c-.78.78-.78 2.05 0 2.83L4 21.41c.39.39.9.59 1.41.59.51 0 1.02-.2 1.41-.59l7.78-7.78 2.81-2.81c.8-.78.8-2.07 0-2.86zM5.41 20L4 18.59l7.72-7.72 1.47 1.35L5.41 20z\"/>\n",
              "  </svg>\n",
              "      </button>\n",
              "      \n",
              "  <style>\n",
              "    .colab-df-container {\n",
              "      display:flex;\n",
              "      flex-wrap:wrap;\n",
              "      gap: 12px;\n",
              "    }\n",
              "\n",
              "    .colab-df-convert {\n",
              "      background-color: #E8F0FE;\n",
              "      border: none;\n",
              "      border-radius: 50%;\n",
              "      cursor: pointer;\n",
              "      display: none;\n",
              "      fill: #1967D2;\n",
              "      height: 32px;\n",
              "      padding: 0 0 0 0;\n",
              "      width: 32px;\n",
              "    }\n",
              "\n",
              "    .colab-df-convert:hover {\n",
              "      background-color: #E2EBFA;\n",
              "      box-shadow: 0px 1px 2px rgba(60, 64, 67, 0.3), 0px 1px 3px 1px rgba(60, 64, 67, 0.15);\n",
              "      fill: #174EA6;\n",
              "    }\n",
              "\n",
              "    [theme=dark] .colab-df-convert {\n",
              "      background-color: #3B4455;\n",
              "      fill: #D2E3FC;\n",
              "    }\n",
              "\n",
              "    [theme=dark] .colab-df-convert:hover {\n",
              "      background-color: #434B5C;\n",
              "      box-shadow: 0px 1px 3px 1px rgba(0, 0, 0, 0.15);\n",
              "      filter: drop-shadow(0px 1px 2px rgba(0, 0, 0, 0.3));\n",
              "      fill: #FFFFFF;\n",
              "    }\n",
              "  </style>\n",
              "\n",
              "      <script>\n",
              "        const buttonEl =\n",
              "          document.querySelector('#df-0657f918-10b5-40aa-9c1a-ed90900ace69 button.colab-df-convert');\n",
              "        buttonEl.style.display =\n",
              "          google.colab.kernel.accessAllowed ? 'block' : 'none';\n",
              "\n",
              "        async function convertToInteractive(key) {\n",
              "          const element = document.querySelector('#df-0657f918-10b5-40aa-9c1a-ed90900ace69');\n",
              "          const dataTable =\n",
              "            await google.colab.kernel.invokeFunction('convertToInteractive',\n",
              "                                                     [key], {});\n",
              "          if (!dataTable) return;\n",
              "\n",
              "          const docLinkHtml = 'Like what you see? Visit the ' +\n",
              "            '<a target=\"_blank\" href=https://colab.research.google.com/notebooks/data_table.ipynb>data table notebook</a>'\n",
              "            + ' to learn more about interactive tables.';\n",
              "          element.innerHTML = '';\n",
              "          dataTable['output_type'] = 'display_data';\n",
              "          await google.colab.output.renderOutput(dataTable, element);\n",
              "          const docLink = document.createElement('div');\n",
              "          docLink.innerHTML = docLinkHtml;\n",
              "          element.appendChild(docLink);\n",
              "        }\n",
              "      </script>\n",
              "    </div>\n",
              "  </div>\n",
              "  "
            ]
          },
          "metadata": {},
          "execution_count": 43
        }
      ]
    },
    {
      "cell_type": "code",
      "source": [
        "# 베이즈 모델을 활용한 감정분석\n",
        "from sklearn.naive_bayes import MultinomialNB \n",
        "nb = MultinomialNB()\n",
        "nb = nb.fit(df_bows, movies.sentiment > 0) \n",
        "nb"
      ],
      "metadata": {
        "colab": {
          "base_uri": "https://localhost:8080/"
        },
        "id": "eomXzKomIgOr",
        "outputId": "c0bb7e37-6698-4f60-fb13-2cd4ffce7ce0"
      },
      "execution_count": null,
      "outputs": [
        {
          "output_type": "execute_result",
          "data": {
            "text/plain": [
              "MultinomialNB()"
            ]
          },
          "metadata": {},
          "execution_count": 44
        }
      ]
    },
    {
      "cell_type": "code",
      "source": [
        "movies.sentiment > 0"
      ],
      "metadata": {
        "colab": {
          "base_uri": "https://localhost:8080/"
        },
        "id": "D6n20_1XLQU6",
        "outputId": "27f68d77-3e8b-4809-9a25-77132c1ed252"
      },
      "execution_count": null,
      "outputs": [
        {
          "output_type": "execute_result",
          "data": {
            "text/plain": [
              "id\n",
              "1         True\n",
              "2         True\n",
              "3        False\n",
              "4         True\n",
              "5         True\n",
              "         ...  \n",
              "10601    False\n",
              "10602    False\n",
              "10603    False\n",
              "10604     True\n",
              "10605    False\n",
              "Name: sentiment, Length: 10605, dtype: bool"
            ]
          },
          "metadata": {},
          "execution_count": 36
        }
      ]
    },
    {
      "cell_type": "code",
      "source": [
        "movies"
      ],
      "metadata": {
        "colab": {
          "base_uri": "https://localhost:8080/",
          "height": 454
        },
        "id": "CSb8AMklJhUK",
        "outputId": "84742c3a-ee49-4a46-96a0-74d67f3ed1e6"
      },
      "execution_count": null,
      "outputs": [
        {
          "output_type": "execute_result",
          "data": {
            "text/plain": [
              "       sentiment                                               text\n",
              "id                                                                 \n",
              "1       2.266667  The Rock is destined to be the 21st Century's ...\n",
              "2       3.533333  The gorgeously elaborate continuation of ''The...\n",
              "3      -0.600000                     Effective but too tepid biopic\n",
              "4       1.466667  If you sometimes like to go to the movies to h...\n",
              "5       1.733333  Emerges as something rare, an issue movie that...\n",
              "...          ...                                                ...\n",
              "10601  -0.062500                        Well made but mush hearted.\n",
              "10602  -1.500000                                     A real snooze.\n",
              "10603  -0.625000                                      No surprises.\n",
              "10604   1.437500  We’ve seen the hippie turned yuppie plot befor...\n",
              "10605  -1.812500  Her fans walked out muttering words like ''hor...\n",
              "\n",
              "[10605 rows x 2 columns]"
            ],
            "text/html": [
              "\n",
              "  <div id=\"df-cc4354eb-d7be-4bf1-b44b-d324be6bb0c0\">\n",
              "    <div class=\"colab-df-container\">\n",
              "      <div>\n",
              "<style scoped>\n",
              "    .dataframe tbody tr th:only-of-type {\n",
              "        vertical-align: middle;\n",
              "    }\n",
              "\n",
              "    .dataframe tbody tr th {\n",
              "        vertical-align: top;\n",
              "    }\n",
              "\n",
              "    .dataframe thead th {\n",
              "        text-align: right;\n",
              "    }\n",
              "</style>\n",
              "<table border=\"1\" class=\"dataframe\">\n",
              "  <thead>\n",
              "    <tr style=\"text-align: right;\">\n",
              "      <th></th>\n",
              "      <th>sentiment</th>\n",
              "      <th>text</th>\n",
              "    </tr>\n",
              "    <tr>\n",
              "      <th>id</th>\n",
              "      <th></th>\n",
              "      <th></th>\n",
              "    </tr>\n",
              "  </thead>\n",
              "  <tbody>\n",
              "    <tr>\n",
              "      <th>1</th>\n",
              "      <td>2.266667</td>\n",
              "      <td>The Rock is destined to be the 21st Century's ...</td>\n",
              "    </tr>\n",
              "    <tr>\n",
              "      <th>2</th>\n",
              "      <td>3.533333</td>\n",
              "      <td>The gorgeously elaborate continuation of ''The...</td>\n",
              "    </tr>\n",
              "    <tr>\n",
              "      <th>3</th>\n",
              "      <td>-0.600000</td>\n",
              "      <td>Effective but too tepid biopic</td>\n",
              "    </tr>\n",
              "    <tr>\n",
              "      <th>4</th>\n",
              "      <td>1.466667</td>\n",
              "      <td>If you sometimes like to go to the movies to h...</td>\n",
              "    </tr>\n",
              "    <tr>\n",
              "      <th>5</th>\n",
              "      <td>1.733333</td>\n",
              "      <td>Emerges as something rare, an issue movie that...</td>\n",
              "    </tr>\n",
              "    <tr>\n",
              "      <th>...</th>\n",
              "      <td>...</td>\n",
              "      <td>...</td>\n",
              "    </tr>\n",
              "    <tr>\n",
              "      <th>10601</th>\n",
              "      <td>-0.062500</td>\n",
              "      <td>Well made but mush hearted.</td>\n",
              "    </tr>\n",
              "    <tr>\n",
              "      <th>10602</th>\n",
              "      <td>-1.500000</td>\n",
              "      <td>A real snooze.</td>\n",
              "    </tr>\n",
              "    <tr>\n",
              "      <th>10603</th>\n",
              "      <td>-0.625000</td>\n",
              "      <td>No surprises.</td>\n",
              "    </tr>\n",
              "    <tr>\n",
              "      <th>10604</th>\n",
              "      <td>1.437500</td>\n",
              "      <td>We’ve seen the hippie turned yuppie plot befor...</td>\n",
              "    </tr>\n",
              "    <tr>\n",
              "      <th>10605</th>\n",
              "      <td>-1.812500</td>\n",
              "      <td>Her fans walked out muttering words like ''hor...</td>\n",
              "    </tr>\n",
              "  </tbody>\n",
              "</table>\n",
              "<p>10605 rows × 2 columns</p>\n",
              "</div>\n",
              "      <button class=\"colab-df-convert\" onclick=\"convertToInteractive('df-cc4354eb-d7be-4bf1-b44b-d324be6bb0c0')\"\n",
              "              title=\"Convert this dataframe to an interactive table.\"\n",
              "              style=\"display:none;\">\n",
              "        \n",
              "  <svg xmlns=\"http://www.w3.org/2000/svg\" height=\"24px\"viewBox=\"0 0 24 24\"\n",
              "       width=\"24px\">\n",
              "    <path d=\"M0 0h24v24H0V0z\" fill=\"none\"/>\n",
              "    <path d=\"M18.56 5.44l.94 2.06.94-2.06 2.06-.94-2.06-.94-.94-2.06-.94 2.06-2.06.94zm-11 1L8.5 8.5l.94-2.06 2.06-.94-2.06-.94L8.5 2.5l-.94 2.06-2.06.94zm10 10l.94 2.06.94-2.06 2.06-.94-2.06-.94-.94-2.06-.94 2.06-2.06.94z\"/><path d=\"M17.41 7.96l-1.37-1.37c-.4-.4-.92-.59-1.43-.59-.52 0-1.04.2-1.43.59L10.3 9.45l-7.72 7.72c-.78.78-.78 2.05 0 2.83L4 21.41c.39.39.9.59 1.41.59.51 0 1.02-.2 1.41-.59l7.78-7.78 2.81-2.81c.8-.78.8-2.07 0-2.86zM5.41 20L4 18.59l7.72-7.72 1.47 1.35L5.41 20z\"/>\n",
              "  </svg>\n",
              "      </button>\n",
              "      \n",
              "  <style>\n",
              "    .colab-df-container {\n",
              "      display:flex;\n",
              "      flex-wrap:wrap;\n",
              "      gap: 12px;\n",
              "    }\n",
              "\n",
              "    .colab-df-convert {\n",
              "      background-color: #E8F0FE;\n",
              "      border: none;\n",
              "      border-radius: 50%;\n",
              "      cursor: pointer;\n",
              "      display: none;\n",
              "      fill: #1967D2;\n",
              "      height: 32px;\n",
              "      padding: 0 0 0 0;\n",
              "      width: 32px;\n",
              "    }\n",
              "\n",
              "    .colab-df-convert:hover {\n",
              "      background-color: #E2EBFA;\n",
              "      box-shadow: 0px 1px 2px rgba(60, 64, 67, 0.3), 0px 1px 3px 1px rgba(60, 64, 67, 0.15);\n",
              "      fill: #174EA6;\n",
              "    }\n",
              "\n",
              "    [theme=dark] .colab-df-convert {\n",
              "      background-color: #3B4455;\n",
              "      fill: #D2E3FC;\n",
              "    }\n",
              "\n",
              "    [theme=dark] .colab-df-convert:hover {\n",
              "      background-color: #434B5C;\n",
              "      box-shadow: 0px 1px 3px 1px rgba(0, 0, 0, 0.15);\n",
              "      filter: drop-shadow(0px 1px 2px rgba(0, 0, 0, 0.3));\n",
              "      fill: #FFFFFF;\n",
              "    }\n",
              "  </style>\n",
              "\n",
              "      <script>\n",
              "        const buttonEl =\n",
              "          document.querySelector('#df-cc4354eb-d7be-4bf1-b44b-d324be6bb0c0 button.colab-df-convert');\n",
              "        buttonEl.style.display =\n",
              "          google.colab.kernel.accessAllowed ? 'block' : 'none';\n",
              "\n",
              "        async function convertToInteractive(key) {\n",
              "          const element = document.querySelector('#df-cc4354eb-d7be-4bf1-b44b-d324be6bb0c0');\n",
              "          const dataTable =\n",
              "            await google.colab.kernel.invokeFunction('convertToInteractive',\n",
              "                                                     [key], {});\n",
              "          if (!dataTable) return;\n",
              "\n",
              "          const docLinkHtml = 'Like what you see? Visit the ' +\n",
              "            '<a target=\"_blank\" href=https://colab.research.google.com/notebooks/data_table.ipynb>data table notebook</a>'\n",
              "            + ' to learn more about interactive tables.';\n",
              "          element.innerHTML = '';\n",
              "          dataTable['output_type'] = 'display_data';\n",
              "          await google.colab.output.renderOutput(dataTable, element);\n",
              "          const docLink = document.createElement('div');\n",
              "          docLink.innerHTML = docLinkHtml;\n",
              "          element.appendChild(docLink);\n",
              "        }\n",
              "      </script>\n",
              "    </div>\n",
              "  </div>\n",
              "  "
            ]
          },
          "metadata": {},
          "execution_count": 18
        }
      ]
    },
    {
      "cell_type": "code",
      "source": [
        "df_bows"
      ],
      "metadata": {
        "colab": {
          "base_uri": "https://localhost:8080/",
          "height": 423
        },
        "id": "ysDr5TxCJlmN",
        "outputId": "660e314a-91df-4c3e-ce90-ac2988aaf7e8"
      },
      "execution_count": null,
      "outputs": [
        {
          "output_type": "execute_result",
          "data": {
            "text/plain": [
              "       The  Rock  is  destined  to  be  the  21st  Century's  new  ...  \\\n",
              "0        1     1   1         1   2   1    1     1          1    1  ...   \n",
              "1        2     0   1         0   0   0    1     0          0    0  ...   \n",
              "2        0     0   0         0   0   0    0     0          0    0  ...   \n",
              "3        0     0   1         0   4   0    1     0          0    0  ...   \n",
              "4        0     0   0         0   0   0    0     0          0    0  ...   \n",
              "...    ...   ...  ..       ...  ..  ..  ...   ...        ...  ...  ...   \n",
              "10600    0     0   0         0   0   0    0     0          0    0  ...   \n",
              "10601    0     0   0         0   0   0    0     0          0    0  ...   \n",
              "10602    0     0   0         0   0   0    0     0          0    0  ...   \n",
              "10603    0     0   0         0   0   0    2     0          0    0  ...   \n",
              "10604    0     0   0         0   0   0    2     0          0    0  ...   \n",
              "\n",
              "       Ill  slummer  Rashomon  dipsticks  Bearable  Staggeringly  ’  ve  \\\n",
              "0        0        0         0          0         0             0  0   0   \n",
              "1        0        0         0          0         0             0  0   0   \n",
              "2        0        0         0          0         0             0  0   0   \n",
              "3        0        0         0          0         0             0  0   0   \n",
              "4        0        0         0          0         0             0  0   0   \n",
              "...    ...      ...       ...        ...       ...           ... ..  ..   \n",
              "10600    0        0         0          0         0             0  0   0   \n",
              "10601    0        0         0          0         0             0  0   0   \n",
              "10602    0        0         0          0         0             0  0   0   \n",
              "10603    0        0         0          0         0             0  2   1   \n",
              "10604    0        0         0          0         0             0  0   0   \n",
              "\n",
              "       muttering  dissing  \n",
              "0              0        0  \n",
              "1              0        0  \n",
              "2              0        0  \n",
              "3              0        0  \n",
              "4              0        0  \n",
              "...          ...      ...  \n",
              "10600          0        0  \n",
              "10601          0        0  \n",
              "10602          0        0  \n",
              "10603          0        0  \n",
              "10604          1        1  \n",
              "\n",
              "[10605 rows x 20756 columns]"
            ],
            "text/html": [
              "\n",
              "  <div id=\"df-eca2da9f-d77d-4934-8543-496e9a70038e\">\n",
              "    <div class=\"colab-df-container\">\n",
              "      <div>\n",
              "<style scoped>\n",
              "    .dataframe tbody tr th:only-of-type {\n",
              "        vertical-align: middle;\n",
              "    }\n",
              "\n",
              "    .dataframe tbody tr th {\n",
              "        vertical-align: top;\n",
              "    }\n",
              "\n",
              "    .dataframe thead th {\n",
              "        text-align: right;\n",
              "    }\n",
              "</style>\n",
              "<table border=\"1\" class=\"dataframe\">\n",
              "  <thead>\n",
              "    <tr style=\"text-align: right;\">\n",
              "      <th></th>\n",
              "      <th>The</th>\n",
              "      <th>Rock</th>\n",
              "      <th>is</th>\n",
              "      <th>destined</th>\n",
              "      <th>to</th>\n",
              "      <th>be</th>\n",
              "      <th>the</th>\n",
              "      <th>21st</th>\n",
              "      <th>Century's</th>\n",
              "      <th>new</th>\n",
              "      <th>...</th>\n",
              "      <th>Ill</th>\n",
              "      <th>slummer</th>\n",
              "      <th>Rashomon</th>\n",
              "      <th>dipsticks</th>\n",
              "      <th>Bearable</th>\n",
              "      <th>Staggeringly</th>\n",
              "      <th>’</th>\n",
              "      <th>ve</th>\n",
              "      <th>muttering</th>\n",
              "      <th>dissing</th>\n",
              "    </tr>\n",
              "  </thead>\n",
              "  <tbody>\n",
              "    <tr>\n",
              "      <th>0</th>\n",
              "      <td>1</td>\n",
              "      <td>1</td>\n",
              "      <td>1</td>\n",
              "      <td>1</td>\n",
              "      <td>2</td>\n",
              "      <td>1</td>\n",
              "      <td>1</td>\n",
              "      <td>1</td>\n",
              "      <td>1</td>\n",
              "      <td>1</td>\n",
              "      <td>...</td>\n",
              "      <td>0</td>\n",
              "      <td>0</td>\n",
              "      <td>0</td>\n",
              "      <td>0</td>\n",
              "      <td>0</td>\n",
              "      <td>0</td>\n",
              "      <td>0</td>\n",
              "      <td>0</td>\n",
              "      <td>0</td>\n",
              "      <td>0</td>\n",
              "    </tr>\n",
              "    <tr>\n",
              "      <th>1</th>\n",
              "      <td>2</td>\n",
              "      <td>0</td>\n",
              "      <td>1</td>\n",
              "      <td>0</td>\n",
              "      <td>0</td>\n",
              "      <td>0</td>\n",
              "      <td>1</td>\n",
              "      <td>0</td>\n",
              "      <td>0</td>\n",
              "      <td>0</td>\n",
              "      <td>...</td>\n",
              "      <td>0</td>\n",
              "      <td>0</td>\n",
              "      <td>0</td>\n",
              "      <td>0</td>\n",
              "      <td>0</td>\n",
              "      <td>0</td>\n",
              "      <td>0</td>\n",
              "      <td>0</td>\n",
              "      <td>0</td>\n",
              "      <td>0</td>\n",
              "    </tr>\n",
              "    <tr>\n",
              "      <th>2</th>\n",
              "      <td>0</td>\n",
              "      <td>0</td>\n",
              "      <td>0</td>\n",
              "      <td>0</td>\n",
              "      <td>0</td>\n",
              "      <td>0</td>\n",
              "      <td>0</td>\n",
              "      <td>0</td>\n",
              "      <td>0</td>\n",
              "      <td>0</td>\n",
              "      <td>...</td>\n",
              "      <td>0</td>\n",
              "      <td>0</td>\n",
              "      <td>0</td>\n",
              "      <td>0</td>\n",
              "      <td>0</td>\n",
              "      <td>0</td>\n",
              "      <td>0</td>\n",
              "      <td>0</td>\n",
              "      <td>0</td>\n",
              "      <td>0</td>\n",
              "    </tr>\n",
              "    <tr>\n",
              "      <th>3</th>\n",
              "      <td>0</td>\n",
              "      <td>0</td>\n",
              "      <td>1</td>\n",
              "      <td>0</td>\n",
              "      <td>4</td>\n",
              "      <td>0</td>\n",
              "      <td>1</td>\n",
              "      <td>0</td>\n",
              "      <td>0</td>\n",
              "      <td>0</td>\n",
              "      <td>...</td>\n",
              "      <td>0</td>\n",
              "      <td>0</td>\n",
              "      <td>0</td>\n",
              "      <td>0</td>\n",
              "      <td>0</td>\n",
              "      <td>0</td>\n",
              "      <td>0</td>\n",
              "      <td>0</td>\n",
              "      <td>0</td>\n",
              "      <td>0</td>\n",
              "    </tr>\n",
              "    <tr>\n",
              "      <th>4</th>\n",
              "      <td>0</td>\n",
              "      <td>0</td>\n",
              "      <td>0</td>\n",
              "      <td>0</td>\n",
              "      <td>0</td>\n",
              "      <td>0</td>\n",
              "      <td>0</td>\n",
              "      <td>0</td>\n",
              "      <td>0</td>\n",
              "      <td>0</td>\n",
              "      <td>...</td>\n",
              "      <td>0</td>\n",
              "      <td>0</td>\n",
              "      <td>0</td>\n",
              "      <td>0</td>\n",
              "      <td>0</td>\n",
              "      <td>0</td>\n",
              "      <td>0</td>\n",
              "      <td>0</td>\n",
              "      <td>0</td>\n",
              "      <td>0</td>\n",
              "    </tr>\n",
              "    <tr>\n",
              "      <th>...</th>\n",
              "      <td>...</td>\n",
              "      <td>...</td>\n",
              "      <td>...</td>\n",
              "      <td>...</td>\n",
              "      <td>...</td>\n",
              "      <td>...</td>\n",
              "      <td>...</td>\n",
              "      <td>...</td>\n",
              "      <td>...</td>\n",
              "      <td>...</td>\n",
              "      <td>...</td>\n",
              "      <td>...</td>\n",
              "      <td>...</td>\n",
              "      <td>...</td>\n",
              "      <td>...</td>\n",
              "      <td>...</td>\n",
              "      <td>...</td>\n",
              "      <td>...</td>\n",
              "      <td>...</td>\n",
              "      <td>...</td>\n",
              "      <td>...</td>\n",
              "    </tr>\n",
              "    <tr>\n",
              "      <th>10600</th>\n",
              "      <td>0</td>\n",
              "      <td>0</td>\n",
              "      <td>0</td>\n",
              "      <td>0</td>\n",
              "      <td>0</td>\n",
              "      <td>0</td>\n",
              "      <td>0</td>\n",
              "      <td>0</td>\n",
              "      <td>0</td>\n",
              "      <td>0</td>\n",
              "      <td>...</td>\n",
              "      <td>0</td>\n",
              "      <td>0</td>\n",
              "      <td>0</td>\n",
              "      <td>0</td>\n",
              "      <td>0</td>\n",
              "      <td>0</td>\n",
              "      <td>0</td>\n",
              "      <td>0</td>\n",
              "      <td>0</td>\n",
              "      <td>0</td>\n",
              "    </tr>\n",
              "    <tr>\n",
              "      <th>10601</th>\n",
              "      <td>0</td>\n",
              "      <td>0</td>\n",
              "      <td>0</td>\n",
              "      <td>0</td>\n",
              "      <td>0</td>\n",
              "      <td>0</td>\n",
              "      <td>0</td>\n",
              "      <td>0</td>\n",
              "      <td>0</td>\n",
              "      <td>0</td>\n",
              "      <td>...</td>\n",
              "      <td>0</td>\n",
              "      <td>0</td>\n",
              "      <td>0</td>\n",
              "      <td>0</td>\n",
              "      <td>0</td>\n",
              "      <td>0</td>\n",
              "      <td>0</td>\n",
              "      <td>0</td>\n",
              "      <td>0</td>\n",
              "      <td>0</td>\n",
              "    </tr>\n",
              "    <tr>\n",
              "      <th>10602</th>\n",
              "      <td>0</td>\n",
              "      <td>0</td>\n",
              "      <td>0</td>\n",
              "      <td>0</td>\n",
              "      <td>0</td>\n",
              "      <td>0</td>\n",
              "      <td>0</td>\n",
              "      <td>0</td>\n",
              "      <td>0</td>\n",
              "      <td>0</td>\n",
              "      <td>...</td>\n",
              "      <td>0</td>\n",
              "      <td>0</td>\n",
              "      <td>0</td>\n",
              "      <td>0</td>\n",
              "      <td>0</td>\n",
              "      <td>0</td>\n",
              "      <td>0</td>\n",
              "      <td>0</td>\n",
              "      <td>0</td>\n",
              "      <td>0</td>\n",
              "    </tr>\n",
              "    <tr>\n",
              "      <th>10603</th>\n",
              "      <td>0</td>\n",
              "      <td>0</td>\n",
              "      <td>0</td>\n",
              "      <td>0</td>\n",
              "      <td>0</td>\n",
              "      <td>0</td>\n",
              "      <td>2</td>\n",
              "      <td>0</td>\n",
              "      <td>0</td>\n",
              "      <td>0</td>\n",
              "      <td>...</td>\n",
              "      <td>0</td>\n",
              "      <td>0</td>\n",
              "      <td>0</td>\n",
              "      <td>0</td>\n",
              "      <td>0</td>\n",
              "      <td>0</td>\n",
              "      <td>2</td>\n",
              "      <td>1</td>\n",
              "      <td>0</td>\n",
              "      <td>0</td>\n",
              "    </tr>\n",
              "    <tr>\n",
              "      <th>10604</th>\n",
              "      <td>0</td>\n",
              "      <td>0</td>\n",
              "      <td>0</td>\n",
              "      <td>0</td>\n",
              "      <td>0</td>\n",
              "      <td>0</td>\n",
              "      <td>2</td>\n",
              "      <td>0</td>\n",
              "      <td>0</td>\n",
              "      <td>0</td>\n",
              "      <td>...</td>\n",
              "      <td>0</td>\n",
              "      <td>0</td>\n",
              "      <td>0</td>\n",
              "      <td>0</td>\n",
              "      <td>0</td>\n",
              "      <td>0</td>\n",
              "      <td>0</td>\n",
              "      <td>0</td>\n",
              "      <td>1</td>\n",
              "      <td>1</td>\n",
              "    </tr>\n",
              "  </tbody>\n",
              "</table>\n",
              "<p>10605 rows × 20756 columns</p>\n",
              "</div>\n",
              "      <button class=\"colab-df-convert\" onclick=\"convertToInteractive('df-eca2da9f-d77d-4934-8543-496e9a70038e')\"\n",
              "              title=\"Convert this dataframe to an interactive table.\"\n",
              "              style=\"display:none;\">\n",
              "        \n",
              "  <svg xmlns=\"http://www.w3.org/2000/svg\" height=\"24px\"viewBox=\"0 0 24 24\"\n",
              "       width=\"24px\">\n",
              "    <path d=\"M0 0h24v24H0V0z\" fill=\"none\"/>\n",
              "    <path d=\"M18.56 5.44l.94 2.06.94-2.06 2.06-.94-2.06-.94-.94-2.06-.94 2.06-2.06.94zm-11 1L8.5 8.5l.94-2.06 2.06-.94-2.06-.94L8.5 2.5l-.94 2.06-2.06.94zm10 10l.94 2.06.94-2.06 2.06-.94-2.06-.94-.94-2.06-.94 2.06-2.06.94z\"/><path d=\"M17.41 7.96l-1.37-1.37c-.4-.4-.92-.59-1.43-.59-.52 0-1.04.2-1.43.59L10.3 9.45l-7.72 7.72c-.78.78-.78 2.05 0 2.83L4 21.41c.39.39.9.59 1.41.59.51 0 1.02-.2 1.41-.59l7.78-7.78 2.81-2.81c.8-.78.8-2.07 0-2.86zM5.41 20L4 18.59l7.72-7.72 1.47 1.35L5.41 20z\"/>\n",
              "  </svg>\n",
              "      </button>\n",
              "      \n",
              "  <style>\n",
              "    .colab-df-container {\n",
              "      display:flex;\n",
              "      flex-wrap:wrap;\n",
              "      gap: 12px;\n",
              "    }\n",
              "\n",
              "    .colab-df-convert {\n",
              "      background-color: #E8F0FE;\n",
              "      border: none;\n",
              "      border-radius: 50%;\n",
              "      cursor: pointer;\n",
              "      display: none;\n",
              "      fill: #1967D2;\n",
              "      height: 32px;\n",
              "      padding: 0 0 0 0;\n",
              "      width: 32px;\n",
              "    }\n",
              "\n",
              "    .colab-df-convert:hover {\n",
              "      background-color: #E2EBFA;\n",
              "      box-shadow: 0px 1px 2px rgba(60, 64, 67, 0.3), 0px 1px 3px 1px rgba(60, 64, 67, 0.15);\n",
              "      fill: #174EA6;\n",
              "    }\n",
              "\n",
              "    [theme=dark] .colab-df-convert {\n",
              "      background-color: #3B4455;\n",
              "      fill: #D2E3FC;\n",
              "    }\n",
              "\n",
              "    [theme=dark] .colab-df-convert:hover {\n",
              "      background-color: #434B5C;\n",
              "      box-shadow: 0px 1px 3px 1px rgba(0, 0, 0, 0.15);\n",
              "      filter: drop-shadow(0px 1px 2px rgba(0, 0, 0, 0.3));\n",
              "      fill: #FFFFFF;\n",
              "    }\n",
              "  </style>\n",
              "\n",
              "      <script>\n",
              "        const buttonEl =\n",
              "          document.querySelector('#df-eca2da9f-d77d-4934-8543-496e9a70038e button.colab-df-convert');\n",
              "        buttonEl.style.display =\n",
              "          google.colab.kernel.accessAllowed ? 'block' : 'none';\n",
              "\n",
              "        async function convertToInteractive(key) {\n",
              "          const element = document.querySelector('#df-eca2da9f-d77d-4934-8543-496e9a70038e');\n",
              "          const dataTable =\n",
              "            await google.colab.kernel.invokeFunction('convertToInteractive',\n",
              "                                                     [key], {});\n",
              "          if (!dataTable) return;\n",
              "\n",
              "          const docLinkHtml = 'Like what you see? Visit the ' +\n",
              "            '<a target=\"_blank\" href=https://colab.research.google.com/notebooks/data_table.ipynb>data table notebook</a>'\n",
              "            + ' to learn more about interactive tables.';\n",
              "          element.innerHTML = '';\n",
              "          dataTable['output_type'] = 'display_data';\n",
              "          await google.colab.output.renderOutput(dataTable, element);\n",
              "          const docLink = document.createElement('div');\n",
              "          docLink.innerHTML = docLinkHtml;\n",
              "          element.appendChild(docLink);\n",
              "        }\n",
              "      </script>\n",
              "    </div>\n",
              "  </div>\n",
              "  "
            ]
          },
          "metadata": {},
          "execution_count": 19
        }
      ]
    },
    {
      "cell_type": "code",
      "source": [
        "movies['predicted_sentiment'] = nb.predict_proba(df_bows)[:,1] * 8 -4 "
      ],
      "metadata": {
        "id": "YObhIA1JJaZe"
      },
      "execution_count": null,
      "outputs": []
    },
    {
      "cell_type": "code",
      "source": [
        "nb.predict_proba(df_bows) * 8 -4"
      ],
      "metadata": {
        "colab": {
          "base_uri": "https://localhost:8080/"
        },
        "id": "7SHIlsHlJx7G",
        "outputId": "a639c33f-1946-4bdc-eb3a-3cc9829da4fc"
      },
      "execution_count": null,
      "outputs": [
        {
          "output_type": "execute_result",
          "data": {
            "text/plain": [
              "array([[-2.51151475,  2.51151475],\n",
              "       [-3.9999042 ,  3.9999042 ],\n",
              "       [ 3.655976  , -3.655976  ],\n",
              "       ...,\n",
              "       [ 1.48144924, -1.48144924],\n",
              "       [-3.98898791,  3.98898791],\n",
              "       [ 3.99795422, -3.99795422]])"
            ]
          },
          "metadata": {},
          "execution_count": 24
        }
      ]
    },
    {
      "cell_type": "code",
      "source": [
        "movies.head()"
      ],
      "metadata": {
        "colab": {
          "base_uri": "https://localhost:8080/",
          "height": 237
        },
        "id": "S9tj0wqdKMtc",
        "outputId": "ce6b379a-9c0c-4e26-b58e-9282d8db8ed9"
      },
      "execution_count": null,
      "outputs": [
        {
          "output_type": "execute_result",
          "data": {
            "text/plain": [
              "    sentiment                                               text  \\\n",
              "id                                                                 \n",
              "1    2.266667  The Rock is destined to be the 21st Century's ...   \n",
              "2    3.533333  The gorgeously elaborate continuation of ''The...   \n",
              "3   -0.600000                     Effective but too tepid biopic   \n",
              "4    1.466667  If you sometimes like to go to the movies to h...   \n",
              "5    1.733333  Emerges as something rare, an issue movie that...   \n",
              "\n",
              "    predicted_sentiment  \n",
              "id                       \n",
              "1              2.511515  \n",
              "2              3.999904  \n",
              "3             -3.655976  \n",
              "4              1.940954  \n",
              "5              3.910373  "
            ],
            "text/html": [
              "\n",
              "  <div id=\"df-b457db08-f3c5-4a9f-a16c-0981ebba7356\">\n",
              "    <div class=\"colab-df-container\">\n",
              "      <div>\n",
              "<style scoped>\n",
              "    .dataframe tbody tr th:only-of-type {\n",
              "        vertical-align: middle;\n",
              "    }\n",
              "\n",
              "    .dataframe tbody tr th {\n",
              "        vertical-align: top;\n",
              "    }\n",
              "\n",
              "    .dataframe thead th {\n",
              "        text-align: right;\n",
              "    }\n",
              "</style>\n",
              "<table border=\"1\" class=\"dataframe\">\n",
              "  <thead>\n",
              "    <tr style=\"text-align: right;\">\n",
              "      <th></th>\n",
              "      <th>sentiment</th>\n",
              "      <th>text</th>\n",
              "      <th>predicted_sentiment</th>\n",
              "    </tr>\n",
              "    <tr>\n",
              "      <th>id</th>\n",
              "      <th></th>\n",
              "      <th></th>\n",
              "      <th></th>\n",
              "    </tr>\n",
              "  </thead>\n",
              "  <tbody>\n",
              "    <tr>\n",
              "      <th>1</th>\n",
              "      <td>2.266667</td>\n",
              "      <td>The Rock is destined to be the 21st Century's ...</td>\n",
              "      <td>2.511515</td>\n",
              "    </tr>\n",
              "    <tr>\n",
              "      <th>2</th>\n",
              "      <td>3.533333</td>\n",
              "      <td>The gorgeously elaborate continuation of ''The...</td>\n",
              "      <td>3.999904</td>\n",
              "    </tr>\n",
              "    <tr>\n",
              "      <th>3</th>\n",
              "      <td>-0.600000</td>\n",
              "      <td>Effective but too tepid biopic</td>\n",
              "      <td>-3.655976</td>\n",
              "    </tr>\n",
              "    <tr>\n",
              "      <th>4</th>\n",
              "      <td>1.466667</td>\n",
              "      <td>If you sometimes like to go to the movies to h...</td>\n",
              "      <td>1.940954</td>\n",
              "    </tr>\n",
              "    <tr>\n",
              "      <th>5</th>\n",
              "      <td>1.733333</td>\n",
              "      <td>Emerges as something rare, an issue movie that...</td>\n",
              "      <td>3.910373</td>\n",
              "    </tr>\n",
              "  </tbody>\n",
              "</table>\n",
              "</div>\n",
              "      <button class=\"colab-df-convert\" onclick=\"convertToInteractive('df-b457db08-f3c5-4a9f-a16c-0981ebba7356')\"\n",
              "              title=\"Convert this dataframe to an interactive table.\"\n",
              "              style=\"display:none;\">\n",
              "        \n",
              "  <svg xmlns=\"http://www.w3.org/2000/svg\" height=\"24px\"viewBox=\"0 0 24 24\"\n",
              "       width=\"24px\">\n",
              "    <path d=\"M0 0h24v24H0V0z\" fill=\"none\"/>\n",
              "    <path d=\"M18.56 5.44l.94 2.06.94-2.06 2.06-.94-2.06-.94-.94-2.06-.94 2.06-2.06.94zm-11 1L8.5 8.5l.94-2.06 2.06-.94-2.06-.94L8.5 2.5l-.94 2.06-2.06.94zm10 10l.94 2.06.94-2.06 2.06-.94-2.06-.94-.94-2.06-.94 2.06-2.06.94z\"/><path d=\"M17.41 7.96l-1.37-1.37c-.4-.4-.92-.59-1.43-.59-.52 0-1.04.2-1.43.59L10.3 9.45l-7.72 7.72c-.78.78-.78 2.05 0 2.83L4 21.41c.39.39.9.59 1.41.59.51 0 1.02-.2 1.41-.59l7.78-7.78 2.81-2.81c.8-.78.8-2.07 0-2.86zM5.41 20L4 18.59l7.72-7.72 1.47 1.35L5.41 20z\"/>\n",
              "  </svg>\n",
              "      </button>\n",
              "      \n",
              "  <style>\n",
              "    .colab-df-container {\n",
              "      display:flex;\n",
              "      flex-wrap:wrap;\n",
              "      gap: 12px;\n",
              "    }\n",
              "\n",
              "    .colab-df-convert {\n",
              "      background-color: #E8F0FE;\n",
              "      border: none;\n",
              "      border-radius: 50%;\n",
              "      cursor: pointer;\n",
              "      display: none;\n",
              "      fill: #1967D2;\n",
              "      height: 32px;\n",
              "      padding: 0 0 0 0;\n",
              "      width: 32px;\n",
              "    }\n",
              "\n",
              "    .colab-df-convert:hover {\n",
              "      background-color: #E2EBFA;\n",
              "      box-shadow: 0px 1px 2px rgba(60, 64, 67, 0.3), 0px 1px 3px 1px rgba(60, 64, 67, 0.15);\n",
              "      fill: #174EA6;\n",
              "    }\n",
              "\n",
              "    [theme=dark] .colab-df-convert {\n",
              "      background-color: #3B4455;\n",
              "      fill: #D2E3FC;\n",
              "    }\n",
              "\n",
              "    [theme=dark] .colab-df-convert:hover {\n",
              "      background-color: #434B5C;\n",
              "      box-shadow: 0px 1px 3px 1px rgba(0, 0, 0, 0.15);\n",
              "      filter: drop-shadow(0px 1px 2px rgba(0, 0, 0, 0.3));\n",
              "      fill: #FFFFFF;\n",
              "    }\n",
              "  </style>\n",
              "\n",
              "      <script>\n",
              "        const buttonEl =\n",
              "          document.querySelector('#df-b457db08-f3c5-4a9f-a16c-0981ebba7356 button.colab-df-convert');\n",
              "        buttonEl.style.display =\n",
              "          google.colab.kernel.accessAllowed ? 'block' : 'none';\n",
              "\n",
              "        async function convertToInteractive(key) {\n",
              "          const element = document.querySelector('#df-b457db08-f3c5-4a9f-a16c-0981ebba7356');\n",
              "          const dataTable =\n",
              "            await google.colab.kernel.invokeFunction('convertToInteractive',\n",
              "                                                     [key], {});\n",
              "          if (!dataTable) return;\n",
              "\n",
              "          const docLinkHtml = 'Like what you see? Visit the ' +\n",
              "            '<a target=\"_blank\" href=https://colab.research.google.com/notebooks/data_table.ipynb>data table notebook</a>'\n",
              "            + ' to learn more about interactive tables.';\n",
              "          element.innerHTML = '';\n",
              "          dataTable['output_type'] = 'display_data';\n",
              "          await google.colab.output.renderOutput(dataTable, element);\n",
              "          const docLink = document.createElement('div');\n",
              "          docLink.innerHTML = docLinkHtml;\n",
              "          element.appendChild(docLink);\n",
              "        }\n",
              "      </script>\n",
              "    </div>\n",
              "  </div>\n",
              "  "
            ]
          },
          "metadata": {},
          "execution_count": 47
        }
      ]
    },
    {
      "cell_type": "code",
      "source": [
        "movies['error'] = (movies.predicted_sentiment - movies.sentiment).abs()"
      ],
      "metadata": {
        "id": "zlUXES3TJPKU"
      },
      "execution_count": null,
      "outputs": []
    },
    {
      "cell_type": "code",
      "source": [
        "movies.error.mean()"
      ],
      "metadata": {
        "colab": {
          "base_uri": "https://localhost:8080/"
        },
        "id": "Ifk6mtz1IgSa",
        "outputId": "fb71f01c-4026-41fa-b944-3f4a05f2464d"
      },
      "execution_count": null,
      "outputs": [
        {
          "output_type": "execute_result",
          "data": {
            "text/plain": [
              "1.869883754974617"
            ]
          },
          "metadata": {},
          "execution_count": 49
        }
      ]
    },
    {
      "cell_type": "code",
      "source": [
        "movies['sentiment_ispositive'] = (movies.sentiment>0).astype(int) \n",
        "movies['predicted_ispositive'] = (movies.predicted_sentiment >0).astype(int)\n",
        "movies['''sentiment predicted_sentiment sentiment_ispositive predicted_ispositive'''.split()].head(8) \n"
      ],
      "metadata": {
        "colab": {
          "base_uri": "https://localhost:8080/",
          "height": 331
        },
        "id": "ehNfwGCsKY3f",
        "outputId": "334353dc-476b-4ba6-9433-0f985a1de8ad"
      },
      "execution_count": null,
      "outputs": [
        {
          "output_type": "execute_result",
          "data": {
            "text/plain": [
              "    sentiment  predicted_sentiment  sentiment_ispositive  \\\n",
              "id                                                         \n",
              "1    2.266667             2.511515                     1   \n",
              "2    3.533333             3.999904                     1   \n",
              "3   -0.600000            -3.655976                     0   \n",
              "4    1.466667             1.940954                     1   \n",
              "5    1.733333             3.910373                     1   \n",
              "6    2.533333             3.995188                     1   \n",
              "7    2.466667             3.960466                     1   \n",
              "8    1.266667            -1.918701                     1   \n",
              "\n",
              "    predicted_ispositive  \n",
              "id                        \n",
              "1                      1  \n",
              "2                      1  \n",
              "3                      0  \n",
              "4                      1  \n",
              "5                      1  \n",
              "6                      1  \n",
              "7                      1  \n",
              "8                      0  "
            ],
            "text/html": [
              "\n",
              "  <div id=\"df-80f65ded-15c9-41d1-a55c-6d977b17c2d1\">\n",
              "    <div class=\"colab-df-container\">\n",
              "      <div>\n",
              "<style scoped>\n",
              "    .dataframe tbody tr th:only-of-type {\n",
              "        vertical-align: middle;\n",
              "    }\n",
              "\n",
              "    .dataframe tbody tr th {\n",
              "        vertical-align: top;\n",
              "    }\n",
              "\n",
              "    .dataframe thead th {\n",
              "        text-align: right;\n",
              "    }\n",
              "</style>\n",
              "<table border=\"1\" class=\"dataframe\">\n",
              "  <thead>\n",
              "    <tr style=\"text-align: right;\">\n",
              "      <th></th>\n",
              "      <th>sentiment</th>\n",
              "      <th>predicted_sentiment</th>\n",
              "      <th>sentiment_ispositive</th>\n",
              "      <th>predicted_ispositive</th>\n",
              "    </tr>\n",
              "    <tr>\n",
              "      <th>id</th>\n",
              "      <th></th>\n",
              "      <th></th>\n",
              "      <th></th>\n",
              "      <th></th>\n",
              "    </tr>\n",
              "  </thead>\n",
              "  <tbody>\n",
              "    <tr>\n",
              "      <th>1</th>\n",
              "      <td>2.266667</td>\n",
              "      <td>2.511515</td>\n",
              "      <td>1</td>\n",
              "      <td>1</td>\n",
              "    </tr>\n",
              "    <tr>\n",
              "      <th>2</th>\n",
              "      <td>3.533333</td>\n",
              "      <td>3.999904</td>\n",
              "      <td>1</td>\n",
              "      <td>1</td>\n",
              "    </tr>\n",
              "    <tr>\n",
              "      <th>3</th>\n",
              "      <td>-0.600000</td>\n",
              "      <td>-3.655976</td>\n",
              "      <td>0</td>\n",
              "      <td>0</td>\n",
              "    </tr>\n",
              "    <tr>\n",
              "      <th>4</th>\n",
              "      <td>1.466667</td>\n",
              "      <td>1.940954</td>\n",
              "      <td>1</td>\n",
              "      <td>1</td>\n",
              "    </tr>\n",
              "    <tr>\n",
              "      <th>5</th>\n",
              "      <td>1.733333</td>\n",
              "      <td>3.910373</td>\n",
              "      <td>1</td>\n",
              "      <td>1</td>\n",
              "    </tr>\n",
              "    <tr>\n",
              "      <th>6</th>\n",
              "      <td>2.533333</td>\n",
              "      <td>3.995188</td>\n",
              "      <td>1</td>\n",
              "      <td>1</td>\n",
              "    </tr>\n",
              "    <tr>\n",
              "      <th>7</th>\n",
              "      <td>2.466667</td>\n",
              "      <td>3.960466</td>\n",
              "      <td>1</td>\n",
              "      <td>1</td>\n",
              "    </tr>\n",
              "    <tr>\n",
              "      <th>8</th>\n",
              "      <td>1.266667</td>\n",
              "      <td>-1.918701</td>\n",
              "      <td>1</td>\n",
              "      <td>0</td>\n",
              "    </tr>\n",
              "  </tbody>\n",
              "</table>\n",
              "</div>\n",
              "      <button class=\"colab-df-convert\" onclick=\"convertToInteractive('df-80f65ded-15c9-41d1-a55c-6d977b17c2d1')\"\n",
              "              title=\"Convert this dataframe to an interactive table.\"\n",
              "              style=\"display:none;\">\n",
              "        \n",
              "  <svg xmlns=\"http://www.w3.org/2000/svg\" height=\"24px\"viewBox=\"0 0 24 24\"\n",
              "       width=\"24px\">\n",
              "    <path d=\"M0 0h24v24H0V0z\" fill=\"none\"/>\n",
              "    <path d=\"M18.56 5.44l.94 2.06.94-2.06 2.06-.94-2.06-.94-.94-2.06-.94 2.06-2.06.94zm-11 1L8.5 8.5l.94-2.06 2.06-.94-2.06-.94L8.5 2.5l-.94 2.06-2.06.94zm10 10l.94 2.06.94-2.06 2.06-.94-2.06-.94-.94-2.06-.94 2.06-2.06.94z\"/><path d=\"M17.41 7.96l-1.37-1.37c-.4-.4-.92-.59-1.43-.59-.52 0-1.04.2-1.43.59L10.3 9.45l-7.72 7.72c-.78.78-.78 2.05 0 2.83L4 21.41c.39.39.9.59 1.41.59.51 0 1.02-.2 1.41-.59l7.78-7.78 2.81-2.81c.8-.78.8-2.07 0-2.86zM5.41 20L4 18.59l7.72-7.72 1.47 1.35L5.41 20z\"/>\n",
              "  </svg>\n",
              "      </button>\n",
              "      \n",
              "  <style>\n",
              "    .colab-df-container {\n",
              "      display:flex;\n",
              "      flex-wrap:wrap;\n",
              "      gap: 12px;\n",
              "    }\n",
              "\n",
              "    .colab-df-convert {\n",
              "      background-color: #E8F0FE;\n",
              "      border: none;\n",
              "      border-radius: 50%;\n",
              "      cursor: pointer;\n",
              "      display: none;\n",
              "      fill: #1967D2;\n",
              "      height: 32px;\n",
              "      padding: 0 0 0 0;\n",
              "      width: 32px;\n",
              "    }\n",
              "\n",
              "    .colab-df-convert:hover {\n",
              "      background-color: #E2EBFA;\n",
              "      box-shadow: 0px 1px 2px rgba(60, 64, 67, 0.3), 0px 1px 3px 1px rgba(60, 64, 67, 0.15);\n",
              "      fill: #174EA6;\n",
              "    }\n",
              "\n",
              "    [theme=dark] .colab-df-convert {\n",
              "      background-color: #3B4455;\n",
              "      fill: #D2E3FC;\n",
              "    }\n",
              "\n",
              "    [theme=dark] .colab-df-convert:hover {\n",
              "      background-color: #434B5C;\n",
              "      box-shadow: 0px 1px 3px 1px rgba(0, 0, 0, 0.15);\n",
              "      filter: drop-shadow(0px 1px 2px rgba(0, 0, 0, 0.3));\n",
              "      fill: #FFFFFF;\n",
              "    }\n",
              "  </style>\n",
              "\n",
              "      <script>\n",
              "        const buttonEl =\n",
              "          document.querySelector('#df-80f65ded-15c9-41d1-a55c-6d977b17c2d1 button.colab-df-convert');\n",
              "        buttonEl.style.display =\n",
              "          google.colab.kernel.accessAllowed ? 'block' : 'none';\n",
              "\n",
              "        async function convertToInteractive(key) {\n",
              "          const element = document.querySelector('#df-80f65ded-15c9-41d1-a55c-6d977b17c2d1');\n",
              "          const dataTable =\n",
              "            await google.colab.kernel.invokeFunction('convertToInteractive',\n",
              "                                                     [key], {});\n",
              "          if (!dataTable) return;\n",
              "\n",
              "          const docLinkHtml = 'Like what you see? Visit the ' +\n",
              "            '<a target=\"_blank\" href=https://colab.research.google.com/notebooks/data_table.ipynb>data table notebook</a>'\n",
              "            + ' to learn more about interactive tables.';\n",
              "          element.innerHTML = '';\n",
              "          dataTable['output_type'] = 'display_data';\n",
              "          await google.colab.output.renderOutput(dataTable, element);\n",
              "          const docLink = document.createElement('div');\n",
              "          docLink.innerHTML = docLinkHtml;\n",
              "          element.appendChild(docLink);\n",
              "        }\n",
              "      </script>\n",
              "    </div>\n",
              "  </div>\n",
              "  "
            ]
          },
          "metadata": {},
          "execution_count": 50
        }
      ]
    },
    {
      "cell_type": "code",
      "source": [
        "(movies.predicted_ispositive == movies.sentiment_ispositive).sum() / len(movies)\n",
        "# 긍정적 추천평가는 93%경우에 정확"
      ],
      "metadata": {
        "colab": {
          "base_uri": "https://localhost:8080/"
        },
        "id": "_PITJZksK9G5",
        "outputId": "2153e976-432c-47bb-984f-5787cecbcd7d"
      },
      "execution_count": null,
      "outputs": [
        {
          "output_type": "execute_result",
          "data": {
            "text/plain": [
              "0.9344648750589345"
            ]
          },
          "metadata": {},
          "execution_count": 53
        }
      ]
    },
    {
      "cell_type": "code",
      "source": [
        "products = get_data(\"hutto_products\")\n",
        "bags_of_words = []\n",
        "for text in products.text:\n",
        "  bags_of_words.append(Counter(casual_tokenize(text)))\n",
        "  "
      ],
      "metadata": {
        "id": "mdyT2L0EMGRu"
      },
      "execution_count": null,
      "outputs": []
    },
    {
      "cell_type": "code",
      "source": [
        "df_product_bows = pd.DataFrame.from_records(bags_of_words) \n"
      ],
      "metadata": {
        "id": "UPy3WrLVMcHP"
      },
      "execution_count": null,
      "outputs": []
    },
    {
      "cell_type": "code",
      "source": [
        "df_product_bows = df_product_bows.fillna(0).astype(int)"
      ],
      "metadata": {
        "id": "gnxmbST4Mh-x"
      },
      "execution_count": null,
      "outputs": []
    },
    {
      "cell_type": "code",
      "source": [
        "df_product_bows"
      ],
      "metadata": {
        "colab": {
          "base_uri": "https://localhost:8080/",
          "height": 423
        },
        "id": "6TN6w03YMpZA",
        "outputId": "a2a5f5da-d147-455a-8797-c2eb8f5af3e1"
      },
      "execution_count": null,
      "outputs": [
        {
          "output_type": "execute_result",
          "data": {
            "text/plain": [
              "      troubleshooting  ad  -  2500  and  2600  no  picture  scrolling  b  \\\n",
              "0                   1   2  2     1    1     1   1        1          1  1   \n",
              "1                   0   0  0     0    0     0   0        0          0  0   \n",
              "2                   0   0  0     0    0     0   0        0          0  0   \n",
              "3                   0   0  0     0    2     0   0        0          1  0   \n",
              "4                   1   0  0     0    0     0   0        0          0  0   \n",
              "...               ...  .. ..   ...  ...   ...  ..      ...        ... ..   \n",
              "3541                0   0  0     0    1     0   0        0          0  0   \n",
              "3542                0   0  0     0    0     0   0        0          0  0   \n",
              "3543                0   0  0     0    2     0   0        0          0  0   \n",
              "3544                0   0  0     0    0     0   0        0          0  0   \n",
              "3545                0   0  0     0    2     0   0        0          0  0   \n",
              "\n",
              "      ...  undone  warrranty  expire  expired  voids  develops  soldier  \\\n",
              "0     ...       0          0       0        0      0         0        0   \n",
              "1     ...       0          0       0        0      0         0        0   \n",
              "2     ...       0          0       0        0      0         0        0   \n",
              "3     ...       0          0       0        0      0         0        0   \n",
              "4     ...       0          0       0        0      0         0        0   \n",
              "...   ...     ...        ...     ...      ...    ...       ...      ...   \n",
              "3541  ...       0          0       0        0      0         0        0   \n",
              "3542  ...       0          0       0        0      0         0        0   \n",
              "3543  ...       0          0       0        0      0         0        0   \n",
              "3544  ...       0          0       0        0      0         0        0   \n",
              "3545  ...       0          0       0        0      0         0        0   \n",
              "\n",
              "      serving  baghdad  harddisk  \n",
              "0           0        0         0  \n",
              "1           0        0         0  \n",
              "2           0        0         0  \n",
              "3           0        0         0  \n",
              "4           0        0         0  \n",
              "...       ...      ...       ...  \n",
              "3541        0        0         0  \n",
              "3542        0        0         1  \n",
              "3543        0        0         0  \n",
              "3544        0        0         0  \n",
              "3545        0        0         0  \n",
              "\n",
              "[3546 rows x 5687 columns]"
            ],
            "text/html": [
              "\n",
              "  <div id=\"df-bb5f8f88-7824-45d4-bcf9-dc50e9a68c24\">\n",
              "    <div class=\"colab-df-container\">\n",
              "      <div>\n",
              "<style scoped>\n",
              "    .dataframe tbody tr th:only-of-type {\n",
              "        vertical-align: middle;\n",
              "    }\n",
              "\n",
              "    .dataframe tbody tr th {\n",
              "        vertical-align: top;\n",
              "    }\n",
              "\n",
              "    .dataframe thead th {\n",
              "        text-align: right;\n",
              "    }\n",
              "</style>\n",
              "<table border=\"1\" class=\"dataframe\">\n",
              "  <thead>\n",
              "    <tr style=\"text-align: right;\">\n",
              "      <th></th>\n",
              "      <th>troubleshooting</th>\n",
              "      <th>ad</th>\n",
              "      <th>-</th>\n",
              "      <th>2500</th>\n",
              "      <th>and</th>\n",
              "      <th>2600</th>\n",
              "      <th>no</th>\n",
              "      <th>picture</th>\n",
              "      <th>scrolling</th>\n",
              "      <th>b</th>\n",
              "      <th>...</th>\n",
              "      <th>undone</th>\n",
              "      <th>warrranty</th>\n",
              "      <th>expire</th>\n",
              "      <th>expired</th>\n",
              "      <th>voids</th>\n",
              "      <th>develops</th>\n",
              "      <th>soldier</th>\n",
              "      <th>serving</th>\n",
              "      <th>baghdad</th>\n",
              "      <th>harddisk</th>\n",
              "    </tr>\n",
              "  </thead>\n",
              "  <tbody>\n",
              "    <tr>\n",
              "      <th>0</th>\n",
              "      <td>1</td>\n",
              "      <td>2</td>\n",
              "      <td>2</td>\n",
              "      <td>1</td>\n",
              "      <td>1</td>\n",
              "      <td>1</td>\n",
              "      <td>1</td>\n",
              "      <td>1</td>\n",
              "      <td>1</td>\n",
              "      <td>1</td>\n",
              "      <td>...</td>\n",
              "      <td>0</td>\n",
              "      <td>0</td>\n",
              "      <td>0</td>\n",
              "      <td>0</td>\n",
              "      <td>0</td>\n",
              "      <td>0</td>\n",
              "      <td>0</td>\n",
              "      <td>0</td>\n",
              "      <td>0</td>\n",
              "      <td>0</td>\n",
              "    </tr>\n",
              "    <tr>\n",
              "      <th>1</th>\n",
              "      <td>0</td>\n",
              "      <td>0</td>\n",
              "      <td>0</td>\n",
              "      <td>0</td>\n",
              "      <td>0</td>\n",
              "      <td>0</td>\n",
              "      <td>0</td>\n",
              "      <td>0</td>\n",
              "      <td>0</td>\n",
              "      <td>0</td>\n",
              "      <td>...</td>\n",
              "      <td>0</td>\n",
              "      <td>0</td>\n",
              "      <td>0</td>\n",
              "      <td>0</td>\n",
              "      <td>0</td>\n",
              "      <td>0</td>\n",
              "      <td>0</td>\n",
              "      <td>0</td>\n",
              "      <td>0</td>\n",
              "      <td>0</td>\n",
              "    </tr>\n",
              "    <tr>\n",
              "      <th>2</th>\n",
              "      <td>0</td>\n",
              "      <td>0</td>\n",
              "      <td>0</td>\n",
              "      <td>0</td>\n",
              "      <td>0</td>\n",
              "      <td>0</td>\n",
              "      <td>0</td>\n",
              "      <td>0</td>\n",
              "      <td>0</td>\n",
              "      <td>0</td>\n",
              "      <td>...</td>\n",
              "      <td>0</td>\n",
              "      <td>0</td>\n",
              "      <td>0</td>\n",
              "      <td>0</td>\n",
              "      <td>0</td>\n",
              "      <td>0</td>\n",
              "      <td>0</td>\n",
              "      <td>0</td>\n",
              "      <td>0</td>\n",
              "      <td>0</td>\n",
              "    </tr>\n",
              "    <tr>\n",
              "      <th>3</th>\n",
              "      <td>0</td>\n",
              "      <td>0</td>\n",
              "      <td>0</td>\n",
              "      <td>0</td>\n",
              "      <td>2</td>\n",
              "      <td>0</td>\n",
              "      <td>0</td>\n",
              "      <td>0</td>\n",
              "      <td>1</td>\n",
              "      <td>0</td>\n",
              "      <td>...</td>\n",
              "      <td>0</td>\n",
              "      <td>0</td>\n",
              "      <td>0</td>\n",
              "      <td>0</td>\n",
              "      <td>0</td>\n",
              "      <td>0</td>\n",
              "      <td>0</td>\n",
              "      <td>0</td>\n",
              "      <td>0</td>\n",
              "      <td>0</td>\n",
              "    </tr>\n",
              "    <tr>\n",
              "      <th>4</th>\n",
              "      <td>1</td>\n",
              "      <td>0</td>\n",
              "      <td>0</td>\n",
              "      <td>0</td>\n",
              "      <td>0</td>\n",
              "      <td>0</td>\n",
              "      <td>0</td>\n",
              "      <td>0</td>\n",
              "      <td>0</td>\n",
              "      <td>0</td>\n",
              "      <td>...</td>\n",
              "      <td>0</td>\n",
              "      <td>0</td>\n",
              "      <td>0</td>\n",
              "      <td>0</td>\n",
              "      <td>0</td>\n",
              "      <td>0</td>\n",
              "      <td>0</td>\n",
              "      <td>0</td>\n",
              "      <td>0</td>\n",
              "      <td>0</td>\n",
              "    </tr>\n",
              "    <tr>\n",
              "      <th>...</th>\n",
              "      <td>...</td>\n",
              "      <td>...</td>\n",
              "      <td>...</td>\n",
              "      <td>...</td>\n",
              "      <td>...</td>\n",
              "      <td>...</td>\n",
              "      <td>...</td>\n",
              "      <td>...</td>\n",
              "      <td>...</td>\n",
              "      <td>...</td>\n",
              "      <td>...</td>\n",
              "      <td>...</td>\n",
              "      <td>...</td>\n",
              "      <td>...</td>\n",
              "      <td>...</td>\n",
              "      <td>...</td>\n",
              "      <td>...</td>\n",
              "      <td>...</td>\n",
              "      <td>...</td>\n",
              "      <td>...</td>\n",
              "      <td>...</td>\n",
              "    </tr>\n",
              "    <tr>\n",
              "      <th>3541</th>\n",
              "      <td>0</td>\n",
              "      <td>0</td>\n",
              "      <td>0</td>\n",
              "      <td>0</td>\n",
              "      <td>1</td>\n",
              "      <td>0</td>\n",
              "      <td>0</td>\n",
              "      <td>0</td>\n",
              "      <td>0</td>\n",
              "      <td>0</td>\n",
              "      <td>...</td>\n",
              "      <td>0</td>\n",
              "      <td>0</td>\n",
              "      <td>0</td>\n",
              "      <td>0</td>\n",
              "      <td>0</td>\n",
              "      <td>0</td>\n",
              "      <td>0</td>\n",
              "      <td>0</td>\n",
              "      <td>0</td>\n",
              "      <td>0</td>\n",
              "    </tr>\n",
              "    <tr>\n",
              "      <th>3542</th>\n",
              "      <td>0</td>\n",
              "      <td>0</td>\n",
              "      <td>0</td>\n",
              "      <td>0</td>\n",
              "      <td>0</td>\n",
              "      <td>0</td>\n",
              "      <td>0</td>\n",
              "      <td>0</td>\n",
              "      <td>0</td>\n",
              "      <td>0</td>\n",
              "      <td>...</td>\n",
              "      <td>0</td>\n",
              "      <td>0</td>\n",
              "      <td>0</td>\n",
              "      <td>0</td>\n",
              "      <td>0</td>\n",
              "      <td>0</td>\n",
              "      <td>0</td>\n",
              "      <td>0</td>\n",
              "      <td>0</td>\n",
              "      <td>1</td>\n",
              "    </tr>\n",
              "    <tr>\n",
              "      <th>3543</th>\n",
              "      <td>0</td>\n",
              "      <td>0</td>\n",
              "      <td>0</td>\n",
              "      <td>0</td>\n",
              "      <td>2</td>\n",
              "      <td>0</td>\n",
              "      <td>0</td>\n",
              "      <td>0</td>\n",
              "      <td>0</td>\n",
              "      <td>0</td>\n",
              "      <td>...</td>\n",
              "      <td>0</td>\n",
              "      <td>0</td>\n",
              "      <td>0</td>\n",
              "      <td>0</td>\n",
              "      <td>0</td>\n",
              "      <td>0</td>\n",
              "      <td>0</td>\n",
              "      <td>0</td>\n",
              "      <td>0</td>\n",
              "      <td>0</td>\n",
              "    </tr>\n",
              "    <tr>\n",
              "      <th>3544</th>\n",
              "      <td>0</td>\n",
              "      <td>0</td>\n",
              "      <td>0</td>\n",
              "      <td>0</td>\n",
              "      <td>0</td>\n",
              "      <td>0</td>\n",
              "      <td>0</td>\n",
              "      <td>0</td>\n",
              "      <td>0</td>\n",
              "      <td>0</td>\n",
              "      <td>...</td>\n",
              "      <td>0</td>\n",
              "      <td>0</td>\n",
              "      <td>0</td>\n",
              "      <td>0</td>\n",
              "      <td>0</td>\n",
              "      <td>0</td>\n",
              "      <td>0</td>\n",
              "      <td>0</td>\n",
              "      <td>0</td>\n",
              "      <td>0</td>\n",
              "    </tr>\n",
              "    <tr>\n",
              "      <th>3545</th>\n",
              "      <td>0</td>\n",
              "      <td>0</td>\n",
              "      <td>0</td>\n",
              "      <td>0</td>\n",
              "      <td>2</td>\n",
              "      <td>0</td>\n",
              "      <td>0</td>\n",
              "      <td>0</td>\n",
              "      <td>0</td>\n",
              "      <td>0</td>\n",
              "      <td>...</td>\n",
              "      <td>0</td>\n",
              "      <td>0</td>\n",
              "      <td>0</td>\n",
              "      <td>0</td>\n",
              "      <td>0</td>\n",
              "      <td>0</td>\n",
              "      <td>0</td>\n",
              "      <td>0</td>\n",
              "      <td>0</td>\n",
              "      <td>0</td>\n",
              "    </tr>\n",
              "  </tbody>\n",
              "</table>\n",
              "<p>3546 rows × 5687 columns</p>\n",
              "</div>\n",
              "      <button class=\"colab-df-convert\" onclick=\"convertToInteractive('df-bb5f8f88-7824-45d4-bcf9-dc50e9a68c24')\"\n",
              "              title=\"Convert this dataframe to an interactive table.\"\n",
              "              style=\"display:none;\">\n",
              "        \n",
              "  <svg xmlns=\"http://www.w3.org/2000/svg\" height=\"24px\"viewBox=\"0 0 24 24\"\n",
              "       width=\"24px\">\n",
              "    <path d=\"M0 0h24v24H0V0z\" fill=\"none\"/>\n",
              "    <path d=\"M18.56 5.44l.94 2.06.94-2.06 2.06-.94-2.06-.94-.94-2.06-.94 2.06-2.06.94zm-11 1L8.5 8.5l.94-2.06 2.06-.94-2.06-.94L8.5 2.5l-.94 2.06-2.06.94zm10 10l.94 2.06.94-2.06 2.06-.94-2.06-.94-.94-2.06-.94 2.06-2.06.94z\"/><path d=\"M17.41 7.96l-1.37-1.37c-.4-.4-.92-.59-1.43-.59-.52 0-1.04.2-1.43.59L10.3 9.45l-7.72 7.72c-.78.78-.78 2.05 0 2.83L4 21.41c.39.39.9.59 1.41.59.51 0 1.02-.2 1.41-.59l7.78-7.78 2.81-2.81c.8-.78.8-2.07 0-2.86zM5.41 20L4 18.59l7.72-7.72 1.47 1.35L5.41 20z\"/>\n",
              "  </svg>\n",
              "      </button>\n",
              "      \n",
              "  <style>\n",
              "    .colab-df-container {\n",
              "      display:flex;\n",
              "      flex-wrap:wrap;\n",
              "      gap: 12px;\n",
              "    }\n",
              "\n",
              "    .colab-df-convert {\n",
              "      background-color: #E8F0FE;\n",
              "      border: none;\n",
              "      border-radius: 50%;\n",
              "      cursor: pointer;\n",
              "      display: none;\n",
              "      fill: #1967D2;\n",
              "      height: 32px;\n",
              "      padding: 0 0 0 0;\n",
              "      width: 32px;\n",
              "    }\n",
              "\n",
              "    .colab-df-convert:hover {\n",
              "      background-color: #E2EBFA;\n",
              "      box-shadow: 0px 1px 2px rgba(60, 64, 67, 0.3), 0px 1px 3px 1px rgba(60, 64, 67, 0.15);\n",
              "      fill: #174EA6;\n",
              "    }\n",
              "\n",
              "    [theme=dark] .colab-df-convert {\n",
              "      background-color: #3B4455;\n",
              "      fill: #D2E3FC;\n",
              "    }\n",
              "\n",
              "    [theme=dark] .colab-df-convert:hover {\n",
              "      background-color: #434B5C;\n",
              "      box-shadow: 0px 1px 3px 1px rgba(0, 0, 0, 0.15);\n",
              "      filter: drop-shadow(0px 1px 2px rgba(0, 0, 0, 0.3));\n",
              "      fill: #FFFFFF;\n",
              "    }\n",
              "  </style>\n",
              "\n",
              "      <script>\n",
              "        const buttonEl =\n",
              "          document.querySelector('#df-bb5f8f88-7824-45d4-bcf9-dc50e9a68c24 button.colab-df-convert');\n",
              "        buttonEl.style.display =\n",
              "          google.colab.kernel.accessAllowed ? 'block' : 'none';\n",
              "\n",
              "        async function convertToInteractive(key) {\n",
              "          const element = document.querySelector('#df-bb5f8f88-7824-45d4-bcf9-dc50e9a68c24');\n",
              "          const dataTable =\n",
              "            await google.colab.kernel.invokeFunction('convertToInteractive',\n",
              "                                                     [key], {});\n",
              "          if (!dataTable) return;\n",
              "\n",
              "          const docLinkHtml = 'Like what you see? Visit the ' +\n",
              "            '<a target=\"_blank\" href=https://colab.research.google.com/notebooks/data_table.ipynb>data table notebook</a>'\n",
              "            + ' to learn more about interactive tables.';\n",
              "          element.innerHTML = '';\n",
              "          dataTable['output_type'] = 'display_data';\n",
              "          await google.colab.output.renderOutput(dataTable, element);\n",
              "          const docLink = document.createElement('div');\n",
              "          docLink.innerHTML = docLinkHtml;\n",
              "          element.appendChild(docLink);\n",
              "        }\n",
              "      </script>\n",
              "    </div>\n",
              "  </div>\n",
              "  "
            ]
          },
          "metadata": {},
          "execution_count": 76
        }
      ]
    },
    {
      "cell_type": "code",
      "source": [
        "df_all_bows = df_bows.append(df_product_bows); df_all_bows"
      ],
      "metadata": {
        "colab": {
          "base_uri": "https://localhost:8080/",
          "height": 423
        },
        "id": "upjm5RBEMGgF",
        "outputId": "cfc4bb71-a017-467d-80d9-2721195c250b"
      },
      "execution_count": null,
      "outputs": [
        {
          "output_type": "execute_result",
          "data": {
            "text/plain": [
              "      The  Rock  is  destined  to  be  the  21st  Century's  new  ...  \\\n",
              "0     1.0   1.0   1       1.0   2   1    1     1        1.0    1  ...   \n",
              "1     2.0   0.0   1       0.0   0   0    1     0        0.0    0  ...   \n",
              "2     0.0   0.0   0       0.0   0   0    0     0        0.0    0  ...   \n",
              "3     0.0   0.0   1       0.0   4   0    1     0        0.0    0  ...   \n",
              "4     0.0   0.0   0       0.0   0   0    0     0        0.0    0  ...   \n",
              "...   ...   ...  ..       ...  ..  ..  ...   ...        ...  ...  ...   \n",
              "3541  NaN   NaN   0       NaN   1   0    1     0        NaN    0  ...   \n",
              "3542  NaN   NaN   0       NaN   0   0    0     0        NaN    0  ...   \n",
              "3543  NaN   NaN   0       NaN   0   0    2     0        NaN    0  ...   \n",
              "3544  NaN   NaN   0       NaN   0   0    0     0        NaN    0  ...   \n",
              "3545  NaN   NaN   0       NaN   0   0    0     0        NaN    0  ...   \n",
              "\n",
              "      sligtly  owner   81  defectively  warrranty  expire  expired  \\\n",
              "0         NaN    NaN  NaN          NaN        NaN     NaN      NaN   \n",
              "1         NaN    NaN  NaN          NaN        NaN     NaN      NaN   \n",
              "2         NaN    NaN  NaN          NaN        NaN     NaN      NaN   \n",
              "3         NaN    NaN  NaN          NaN        NaN     NaN      NaN   \n",
              "4         NaN    NaN  NaN          NaN        NaN     NaN      NaN   \n",
              "...       ...    ...  ...          ...        ...     ...      ...   \n",
              "3541      0.0    0.0  0.0          0.0        0.0     0.0      0.0   \n",
              "3542      0.0    0.0  0.0          0.0        0.0     0.0      0.0   \n",
              "3543      0.0    0.0  0.0          0.0        0.0     0.0      0.0   \n",
              "3544      0.0    0.0  0.0          0.0        0.0     0.0      0.0   \n",
              "3545      0.0    0.0  0.0          0.0        0.0     0.0      0.0   \n",
              "\n",
              "      voids  baghdad  harddisk  \n",
              "0       NaN      NaN       NaN  \n",
              "1       NaN      NaN       NaN  \n",
              "2       NaN      NaN       NaN  \n",
              "3       NaN      NaN       NaN  \n",
              "4       NaN      NaN       NaN  \n",
              "...     ...      ...       ...  \n",
              "3541    0.0      0.0       0.0  \n",
              "3542    0.0      0.0       1.0  \n",
              "3543    0.0      0.0       0.0  \n",
              "3544    0.0      0.0       0.0  \n",
              "3545    0.0      0.0       0.0  \n",
              "\n",
              "[14151 rows x 23302 columns]"
            ],
            "text/html": [
              "\n",
              "  <div id=\"df-7dfe95b5-3da6-408f-baa9-8c2c66cfd5c5\">\n",
              "    <div class=\"colab-df-container\">\n",
              "      <div>\n",
              "<style scoped>\n",
              "    .dataframe tbody tr th:only-of-type {\n",
              "        vertical-align: middle;\n",
              "    }\n",
              "\n",
              "    .dataframe tbody tr th {\n",
              "        vertical-align: top;\n",
              "    }\n",
              "\n",
              "    .dataframe thead th {\n",
              "        text-align: right;\n",
              "    }\n",
              "</style>\n",
              "<table border=\"1\" class=\"dataframe\">\n",
              "  <thead>\n",
              "    <tr style=\"text-align: right;\">\n",
              "      <th></th>\n",
              "      <th>The</th>\n",
              "      <th>Rock</th>\n",
              "      <th>is</th>\n",
              "      <th>destined</th>\n",
              "      <th>to</th>\n",
              "      <th>be</th>\n",
              "      <th>the</th>\n",
              "      <th>21st</th>\n",
              "      <th>Century's</th>\n",
              "      <th>new</th>\n",
              "      <th>...</th>\n",
              "      <th>sligtly</th>\n",
              "      <th>owner</th>\n",
              "      <th>81</th>\n",
              "      <th>defectively</th>\n",
              "      <th>warrranty</th>\n",
              "      <th>expire</th>\n",
              "      <th>expired</th>\n",
              "      <th>voids</th>\n",
              "      <th>baghdad</th>\n",
              "      <th>harddisk</th>\n",
              "    </tr>\n",
              "  </thead>\n",
              "  <tbody>\n",
              "    <tr>\n",
              "      <th>0</th>\n",
              "      <td>1.0</td>\n",
              "      <td>1.0</td>\n",
              "      <td>1</td>\n",
              "      <td>1.0</td>\n",
              "      <td>2</td>\n",
              "      <td>1</td>\n",
              "      <td>1</td>\n",
              "      <td>1</td>\n",
              "      <td>1.0</td>\n",
              "      <td>1</td>\n",
              "      <td>...</td>\n",
              "      <td>NaN</td>\n",
              "      <td>NaN</td>\n",
              "      <td>NaN</td>\n",
              "      <td>NaN</td>\n",
              "      <td>NaN</td>\n",
              "      <td>NaN</td>\n",
              "      <td>NaN</td>\n",
              "      <td>NaN</td>\n",
              "      <td>NaN</td>\n",
              "      <td>NaN</td>\n",
              "    </tr>\n",
              "    <tr>\n",
              "      <th>1</th>\n",
              "      <td>2.0</td>\n",
              "      <td>0.0</td>\n",
              "      <td>1</td>\n",
              "      <td>0.0</td>\n",
              "      <td>0</td>\n",
              "      <td>0</td>\n",
              "      <td>1</td>\n",
              "      <td>0</td>\n",
              "      <td>0.0</td>\n",
              "      <td>0</td>\n",
              "      <td>...</td>\n",
              "      <td>NaN</td>\n",
              "      <td>NaN</td>\n",
              "      <td>NaN</td>\n",
              "      <td>NaN</td>\n",
              "      <td>NaN</td>\n",
              "      <td>NaN</td>\n",
              "      <td>NaN</td>\n",
              "      <td>NaN</td>\n",
              "      <td>NaN</td>\n",
              "      <td>NaN</td>\n",
              "    </tr>\n",
              "    <tr>\n",
              "      <th>2</th>\n",
              "      <td>0.0</td>\n",
              "      <td>0.0</td>\n",
              "      <td>0</td>\n",
              "      <td>0.0</td>\n",
              "      <td>0</td>\n",
              "      <td>0</td>\n",
              "      <td>0</td>\n",
              "      <td>0</td>\n",
              "      <td>0.0</td>\n",
              "      <td>0</td>\n",
              "      <td>...</td>\n",
              "      <td>NaN</td>\n",
              "      <td>NaN</td>\n",
              "      <td>NaN</td>\n",
              "      <td>NaN</td>\n",
              "      <td>NaN</td>\n",
              "      <td>NaN</td>\n",
              "      <td>NaN</td>\n",
              "      <td>NaN</td>\n",
              "      <td>NaN</td>\n",
              "      <td>NaN</td>\n",
              "    </tr>\n",
              "    <tr>\n",
              "      <th>3</th>\n",
              "      <td>0.0</td>\n",
              "      <td>0.0</td>\n",
              "      <td>1</td>\n",
              "      <td>0.0</td>\n",
              "      <td>4</td>\n",
              "      <td>0</td>\n",
              "      <td>1</td>\n",
              "      <td>0</td>\n",
              "      <td>0.0</td>\n",
              "      <td>0</td>\n",
              "      <td>...</td>\n",
              "      <td>NaN</td>\n",
              "      <td>NaN</td>\n",
              "      <td>NaN</td>\n",
              "      <td>NaN</td>\n",
              "      <td>NaN</td>\n",
              "      <td>NaN</td>\n",
              "      <td>NaN</td>\n",
              "      <td>NaN</td>\n",
              "      <td>NaN</td>\n",
              "      <td>NaN</td>\n",
              "    </tr>\n",
              "    <tr>\n",
              "      <th>4</th>\n",
              "      <td>0.0</td>\n",
              "      <td>0.0</td>\n",
              "      <td>0</td>\n",
              "      <td>0.0</td>\n",
              "      <td>0</td>\n",
              "      <td>0</td>\n",
              "      <td>0</td>\n",
              "      <td>0</td>\n",
              "      <td>0.0</td>\n",
              "      <td>0</td>\n",
              "      <td>...</td>\n",
              "      <td>NaN</td>\n",
              "      <td>NaN</td>\n",
              "      <td>NaN</td>\n",
              "      <td>NaN</td>\n",
              "      <td>NaN</td>\n",
              "      <td>NaN</td>\n",
              "      <td>NaN</td>\n",
              "      <td>NaN</td>\n",
              "      <td>NaN</td>\n",
              "      <td>NaN</td>\n",
              "    </tr>\n",
              "    <tr>\n",
              "      <th>...</th>\n",
              "      <td>...</td>\n",
              "      <td>...</td>\n",
              "      <td>...</td>\n",
              "      <td>...</td>\n",
              "      <td>...</td>\n",
              "      <td>...</td>\n",
              "      <td>...</td>\n",
              "      <td>...</td>\n",
              "      <td>...</td>\n",
              "      <td>...</td>\n",
              "      <td>...</td>\n",
              "      <td>...</td>\n",
              "      <td>...</td>\n",
              "      <td>...</td>\n",
              "      <td>...</td>\n",
              "      <td>...</td>\n",
              "      <td>...</td>\n",
              "      <td>...</td>\n",
              "      <td>...</td>\n",
              "      <td>...</td>\n",
              "      <td>...</td>\n",
              "    </tr>\n",
              "    <tr>\n",
              "      <th>3541</th>\n",
              "      <td>NaN</td>\n",
              "      <td>NaN</td>\n",
              "      <td>0</td>\n",
              "      <td>NaN</td>\n",
              "      <td>1</td>\n",
              "      <td>0</td>\n",
              "      <td>1</td>\n",
              "      <td>0</td>\n",
              "      <td>NaN</td>\n",
              "      <td>0</td>\n",
              "      <td>...</td>\n",
              "      <td>0.0</td>\n",
              "      <td>0.0</td>\n",
              "      <td>0.0</td>\n",
              "      <td>0.0</td>\n",
              "      <td>0.0</td>\n",
              "      <td>0.0</td>\n",
              "      <td>0.0</td>\n",
              "      <td>0.0</td>\n",
              "      <td>0.0</td>\n",
              "      <td>0.0</td>\n",
              "    </tr>\n",
              "    <tr>\n",
              "      <th>3542</th>\n",
              "      <td>NaN</td>\n",
              "      <td>NaN</td>\n",
              "      <td>0</td>\n",
              "      <td>NaN</td>\n",
              "      <td>0</td>\n",
              "      <td>0</td>\n",
              "      <td>0</td>\n",
              "      <td>0</td>\n",
              "      <td>NaN</td>\n",
              "      <td>0</td>\n",
              "      <td>...</td>\n",
              "      <td>0.0</td>\n",
              "      <td>0.0</td>\n",
              "      <td>0.0</td>\n",
              "      <td>0.0</td>\n",
              "      <td>0.0</td>\n",
              "      <td>0.0</td>\n",
              "      <td>0.0</td>\n",
              "      <td>0.0</td>\n",
              "      <td>0.0</td>\n",
              "      <td>1.0</td>\n",
              "    </tr>\n",
              "    <tr>\n",
              "      <th>3543</th>\n",
              "      <td>NaN</td>\n",
              "      <td>NaN</td>\n",
              "      <td>0</td>\n",
              "      <td>NaN</td>\n",
              "      <td>0</td>\n",
              "      <td>0</td>\n",
              "      <td>2</td>\n",
              "      <td>0</td>\n",
              "      <td>NaN</td>\n",
              "      <td>0</td>\n",
              "      <td>...</td>\n",
              "      <td>0.0</td>\n",
              "      <td>0.0</td>\n",
              "      <td>0.0</td>\n",
              "      <td>0.0</td>\n",
              "      <td>0.0</td>\n",
              "      <td>0.0</td>\n",
              "      <td>0.0</td>\n",
              "      <td>0.0</td>\n",
              "      <td>0.0</td>\n",
              "      <td>0.0</td>\n",
              "    </tr>\n",
              "    <tr>\n",
              "      <th>3544</th>\n",
              "      <td>NaN</td>\n",
              "      <td>NaN</td>\n",
              "      <td>0</td>\n",
              "      <td>NaN</td>\n",
              "      <td>0</td>\n",
              "      <td>0</td>\n",
              "      <td>0</td>\n",
              "      <td>0</td>\n",
              "      <td>NaN</td>\n",
              "      <td>0</td>\n",
              "      <td>...</td>\n",
              "      <td>0.0</td>\n",
              "      <td>0.0</td>\n",
              "      <td>0.0</td>\n",
              "      <td>0.0</td>\n",
              "      <td>0.0</td>\n",
              "      <td>0.0</td>\n",
              "      <td>0.0</td>\n",
              "      <td>0.0</td>\n",
              "      <td>0.0</td>\n",
              "      <td>0.0</td>\n",
              "    </tr>\n",
              "    <tr>\n",
              "      <th>3545</th>\n",
              "      <td>NaN</td>\n",
              "      <td>NaN</td>\n",
              "      <td>0</td>\n",
              "      <td>NaN</td>\n",
              "      <td>0</td>\n",
              "      <td>0</td>\n",
              "      <td>0</td>\n",
              "      <td>0</td>\n",
              "      <td>NaN</td>\n",
              "      <td>0</td>\n",
              "      <td>...</td>\n",
              "      <td>0.0</td>\n",
              "      <td>0.0</td>\n",
              "      <td>0.0</td>\n",
              "      <td>0.0</td>\n",
              "      <td>0.0</td>\n",
              "      <td>0.0</td>\n",
              "      <td>0.0</td>\n",
              "      <td>0.0</td>\n",
              "      <td>0.0</td>\n",
              "      <td>0.0</td>\n",
              "    </tr>\n",
              "  </tbody>\n",
              "</table>\n",
              "<p>14151 rows × 23302 columns</p>\n",
              "</div>\n",
              "      <button class=\"colab-df-convert\" onclick=\"convertToInteractive('df-7dfe95b5-3da6-408f-baa9-8c2c66cfd5c5')\"\n",
              "              title=\"Convert this dataframe to an interactive table.\"\n",
              "              style=\"display:none;\">\n",
              "        \n",
              "  <svg xmlns=\"http://www.w3.org/2000/svg\" height=\"24px\"viewBox=\"0 0 24 24\"\n",
              "       width=\"24px\">\n",
              "    <path d=\"M0 0h24v24H0V0z\" fill=\"none\"/>\n",
              "    <path d=\"M18.56 5.44l.94 2.06.94-2.06 2.06-.94-2.06-.94-.94-2.06-.94 2.06-2.06.94zm-11 1L8.5 8.5l.94-2.06 2.06-.94-2.06-.94L8.5 2.5l-.94 2.06-2.06.94zm10 10l.94 2.06.94-2.06 2.06-.94-2.06-.94-.94-2.06-.94 2.06-2.06.94z\"/><path d=\"M17.41 7.96l-1.37-1.37c-.4-.4-.92-.59-1.43-.59-.52 0-1.04.2-1.43.59L10.3 9.45l-7.72 7.72c-.78.78-.78 2.05 0 2.83L4 21.41c.39.39.9.59 1.41.59.51 0 1.02-.2 1.41-.59l7.78-7.78 2.81-2.81c.8-.78.8-2.07 0-2.86zM5.41 20L4 18.59l7.72-7.72 1.47 1.35L5.41 20z\"/>\n",
              "  </svg>\n",
              "      </button>\n",
              "      \n",
              "  <style>\n",
              "    .colab-df-container {\n",
              "      display:flex;\n",
              "      flex-wrap:wrap;\n",
              "      gap: 12px;\n",
              "    }\n",
              "\n",
              "    .colab-df-convert {\n",
              "      background-color: #E8F0FE;\n",
              "      border: none;\n",
              "      border-radius: 50%;\n",
              "      cursor: pointer;\n",
              "      display: none;\n",
              "      fill: #1967D2;\n",
              "      height: 32px;\n",
              "      padding: 0 0 0 0;\n",
              "      width: 32px;\n",
              "    }\n",
              "\n",
              "    .colab-df-convert:hover {\n",
              "      background-color: #E2EBFA;\n",
              "      box-shadow: 0px 1px 2px rgba(60, 64, 67, 0.3), 0px 1px 3px 1px rgba(60, 64, 67, 0.15);\n",
              "      fill: #174EA6;\n",
              "    }\n",
              "\n",
              "    [theme=dark] .colab-df-convert {\n",
              "      background-color: #3B4455;\n",
              "      fill: #D2E3FC;\n",
              "    }\n",
              "\n",
              "    [theme=dark] .colab-df-convert:hover {\n",
              "      background-color: #434B5C;\n",
              "      box-shadow: 0px 1px 3px 1px rgba(0, 0, 0, 0.15);\n",
              "      filter: drop-shadow(0px 1px 2px rgba(0, 0, 0, 0.3));\n",
              "      fill: #FFFFFF;\n",
              "    }\n",
              "  </style>\n",
              "\n",
              "      <script>\n",
              "        const buttonEl =\n",
              "          document.querySelector('#df-7dfe95b5-3da6-408f-baa9-8c2c66cfd5c5 button.colab-df-convert');\n",
              "        buttonEl.style.display =\n",
              "          google.colab.kernel.accessAllowed ? 'block' : 'none';\n",
              "\n",
              "        async function convertToInteractive(key) {\n",
              "          const element = document.querySelector('#df-7dfe95b5-3da6-408f-baa9-8c2c66cfd5c5');\n",
              "          const dataTable =\n",
              "            await google.colab.kernel.invokeFunction('convertToInteractive',\n",
              "                                                     [key], {});\n",
              "          if (!dataTable) return;\n",
              "\n",
              "          const docLinkHtml = 'Like what you see? Visit the ' +\n",
              "            '<a target=\"_blank\" href=https://colab.research.google.com/notebooks/data_table.ipynb>data table notebook</a>'\n",
              "            + ' to learn more about interactive tables.';\n",
              "          element.innerHTML = '';\n",
              "          dataTable['output_type'] = 'display_data';\n",
              "          await google.colab.output.renderOutput(dataTable, element);\n",
              "          const docLink = document.createElement('div');\n",
              "          docLink.innerHTML = docLinkHtml;\n",
              "          element.appendChild(docLink);\n",
              "        }\n",
              "      </script>\n",
              "    </div>\n",
              "  </div>\n",
              "  "
            ]
          },
          "metadata": {},
          "execution_count": 77
        }
      ]
    },
    {
      "cell_type": "code",
      "source": [
        "df_all_bows.columns # 영화평 말뭉치를 상품평에 적용하기"
      ],
      "metadata": {
        "colab": {
          "base_uri": "https://localhost:8080/"
        },
        "id": "Hn_49OHzMskp",
        "outputId": "99764fdb-0cd7-4d0a-d15b-87d676ca6065"
      },
      "execution_count": null,
      "outputs": [
        {
          "output_type": "execute_result",
          "data": {
            "text/plain": [
              "Index(['The', 'Rock', 'is', 'destined', 'to', 'be', 'the', '21st',\n",
              "       'Century's', 'new',\n",
              "       ...\n",
              "       'sligtly', 'owner', '81', 'defectively', 'warrranty', 'expire',\n",
              "       'expired', 'voids', 'baghdad', 'harddisk'],\n",
              "      dtype='object', length=23302)"
            ]
          },
          "metadata": {},
          "execution_count": 60
        }
      ]
    },
    {
      "cell_type": "code",
      "source": [
        "df_all_bows= df_all_bows.fillna(0).astype(int)"
      ],
      "metadata": {
        "id": "TRLJOGTQPn6W"
      },
      "execution_count": null,
      "outputs": []
    },
    {
      "cell_type": "code",
      "source": [
        "df_products_bows = df_all_bows.iloc[len(movies):][df_bows.columns] "
      ],
      "metadata": {
        "id": "UoMIGNKTMst-"
      },
      "execution_count": null,
      "outputs": []
    },
    {
      "cell_type": "code",
      "source": [
        "df_products_bows"
      ],
      "metadata": {
        "colab": {
          "base_uri": "https://localhost:8080/",
          "height": 423
        },
        "id": "cRJkKmRBNChO",
        "outputId": "81b164b1-61da-4b9d-e292-359d872ecbdd"
      },
      "execution_count": null,
      "outputs": [
        {
          "output_type": "execute_result",
          "data": {
            "text/plain": [
              "      The  Rock  is  destined  to  be  the  21st  Century's  new  ...  \\\n",
              "0       0     0   0         0   0   0    0     0          0    0  ...   \n",
              "1       0     0   0         0   0   0    0     0          0    0  ...   \n",
              "2       0     0   0         0   0   0    0     0          0    0  ...   \n",
              "3       0     0   0         0   0   0    0     0          0    0  ...   \n",
              "4       0     0   0         0   1   0    2     0          0    0  ...   \n",
              "...   ...   ...  ..       ...  ..  ..  ...   ...        ...  ...  ...   \n",
              "3541    0     0   0         0   1   0    1     0          0    0  ...   \n",
              "3542    0     0   0         0   0   0    0     0          0    0  ...   \n",
              "3543    0     0   0         0   0   0    2     0          0    0  ...   \n",
              "3544    0     0   0         0   0   0    0     0          0    0  ...   \n",
              "3545    0     0   0         0   0   0    0     0          0    0  ...   \n",
              "\n",
              "      Ill  slummer  Rashomon  dipsticks  Bearable  Staggeringly  ’  ve  \\\n",
              "0       0        0         0          0         0             0  0   0   \n",
              "1       0        0         0          0         0             0  0   0   \n",
              "2       0        0         0          0         0             0  0   0   \n",
              "3       0        0         0          0         0             0  0   0   \n",
              "4       0        0         0          0         0             0  0   0   \n",
              "...   ...      ...       ...        ...       ...           ... ..  ..   \n",
              "3541    0        0         0          0         0             0  0   0   \n",
              "3542    0        0         0          0         0             0  0   0   \n",
              "3543    0        0         0          0         0             0  0   0   \n",
              "3544    0        0         0          0         0             0  0   0   \n",
              "3545    0        0         0          0         0             0  0   0   \n",
              "\n",
              "      muttering  dissing  \n",
              "0             0        0  \n",
              "1             0        0  \n",
              "2             0        0  \n",
              "3             0        0  \n",
              "4             0        0  \n",
              "...         ...      ...  \n",
              "3541          0        0  \n",
              "3542          0        0  \n",
              "3543          0        0  \n",
              "3544          0        0  \n",
              "3545          0        0  \n",
              "\n",
              "[3546 rows x 20756 columns]"
            ],
            "text/html": [
              "\n",
              "  <div id=\"df-e5ef9585-0d0d-4876-bef1-46a453550d9e\">\n",
              "    <div class=\"colab-df-container\">\n",
              "      <div>\n",
              "<style scoped>\n",
              "    .dataframe tbody tr th:only-of-type {\n",
              "        vertical-align: middle;\n",
              "    }\n",
              "\n",
              "    .dataframe tbody tr th {\n",
              "        vertical-align: top;\n",
              "    }\n",
              "\n",
              "    .dataframe thead th {\n",
              "        text-align: right;\n",
              "    }\n",
              "</style>\n",
              "<table border=\"1\" class=\"dataframe\">\n",
              "  <thead>\n",
              "    <tr style=\"text-align: right;\">\n",
              "      <th></th>\n",
              "      <th>The</th>\n",
              "      <th>Rock</th>\n",
              "      <th>is</th>\n",
              "      <th>destined</th>\n",
              "      <th>to</th>\n",
              "      <th>be</th>\n",
              "      <th>the</th>\n",
              "      <th>21st</th>\n",
              "      <th>Century's</th>\n",
              "      <th>new</th>\n",
              "      <th>...</th>\n",
              "      <th>Ill</th>\n",
              "      <th>slummer</th>\n",
              "      <th>Rashomon</th>\n",
              "      <th>dipsticks</th>\n",
              "      <th>Bearable</th>\n",
              "      <th>Staggeringly</th>\n",
              "      <th>’</th>\n",
              "      <th>ve</th>\n",
              "      <th>muttering</th>\n",
              "      <th>dissing</th>\n",
              "    </tr>\n",
              "  </thead>\n",
              "  <tbody>\n",
              "    <tr>\n",
              "      <th>0</th>\n",
              "      <td>0</td>\n",
              "      <td>0</td>\n",
              "      <td>0</td>\n",
              "      <td>0</td>\n",
              "      <td>0</td>\n",
              "      <td>0</td>\n",
              "      <td>0</td>\n",
              "      <td>0</td>\n",
              "      <td>0</td>\n",
              "      <td>0</td>\n",
              "      <td>...</td>\n",
              "      <td>0</td>\n",
              "      <td>0</td>\n",
              "      <td>0</td>\n",
              "      <td>0</td>\n",
              "      <td>0</td>\n",
              "      <td>0</td>\n",
              "      <td>0</td>\n",
              "      <td>0</td>\n",
              "      <td>0</td>\n",
              "      <td>0</td>\n",
              "    </tr>\n",
              "    <tr>\n",
              "      <th>1</th>\n",
              "      <td>0</td>\n",
              "      <td>0</td>\n",
              "      <td>0</td>\n",
              "      <td>0</td>\n",
              "      <td>0</td>\n",
              "      <td>0</td>\n",
              "      <td>0</td>\n",
              "      <td>0</td>\n",
              "      <td>0</td>\n",
              "      <td>0</td>\n",
              "      <td>...</td>\n",
              "      <td>0</td>\n",
              "      <td>0</td>\n",
              "      <td>0</td>\n",
              "      <td>0</td>\n",
              "      <td>0</td>\n",
              "      <td>0</td>\n",
              "      <td>0</td>\n",
              "      <td>0</td>\n",
              "      <td>0</td>\n",
              "      <td>0</td>\n",
              "    </tr>\n",
              "    <tr>\n",
              "      <th>2</th>\n",
              "      <td>0</td>\n",
              "      <td>0</td>\n",
              "      <td>0</td>\n",
              "      <td>0</td>\n",
              "      <td>0</td>\n",
              "      <td>0</td>\n",
              "      <td>0</td>\n",
              "      <td>0</td>\n",
              "      <td>0</td>\n",
              "      <td>0</td>\n",
              "      <td>...</td>\n",
              "      <td>0</td>\n",
              "      <td>0</td>\n",
              "      <td>0</td>\n",
              "      <td>0</td>\n",
              "      <td>0</td>\n",
              "      <td>0</td>\n",
              "      <td>0</td>\n",
              "      <td>0</td>\n",
              "      <td>0</td>\n",
              "      <td>0</td>\n",
              "    </tr>\n",
              "    <tr>\n",
              "      <th>3</th>\n",
              "      <td>0</td>\n",
              "      <td>0</td>\n",
              "      <td>0</td>\n",
              "      <td>0</td>\n",
              "      <td>0</td>\n",
              "      <td>0</td>\n",
              "      <td>0</td>\n",
              "      <td>0</td>\n",
              "      <td>0</td>\n",
              "      <td>0</td>\n",
              "      <td>...</td>\n",
              "      <td>0</td>\n",
              "      <td>0</td>\n",
              "      <td>0</td>\n",
              "      <td>0</td>\n",
              "      <td>0</td>\n",
              "      <td>0</td>\n",
              "      <td>0</td>\n",
              "      <td>0</td>\n",
              "      <td>0</td>\n",
              "      <td>0</td>\n",
              "    </tr>\n",
              "    <tr>\n",
              "      <th>4</th>\n",
              "      <td>0</td>\n",
              "      <td>0</td>\n",
              "      <td>0</td>\n",
              "      <td>0</td>\n",
              "      <td>1</td>\n",
              "      <td>0</td>\n",
              "      <td>2</td>\n",
              "      <td>0</td>\n",
              "      <td>0</td>\n",
              "      <td>0</td>\n",
              "      <td>...</td>\n",
              "      <td>0</td>\n",
              "      <td>0</td>\n",
              "      <td>0</td>\n",
              "      <td>0</td>\n",
              "      <td>0</td>\n",
              "      <td>0</td>\n",
              "      <td>0</td>\n",
              "      <td>0</td>\n",
              "      <td>0</td>\n",
              "      <td>0</td>\n",
              "    </tr>\n",
              "    <tr>\n",
              "      <th>...</th>\n",
              "      <td>...</td>\n",
              "      <td>...</td>\n",
              "      <td>...</td>\n",
              "      <td>...</td>\n",
              "      <td>...</td>\n",
              "      <td>...</td>\n",
              "      <td>...</td>\n",
              "      <td>...</td>\n",
              "      <td>...</td>\n",
              "      <td>...</td>\n",
              "      <td>...</td>\n",
              "      <td>...</td>\n",
              "      <td>...</td>\n",
              "      <td>...</td>\n",
              "      <td>...</td>\n",
              "      <td>...</td>\n",
              "      <td>...</td>\n",
              "      <td>...</td>\n",
              "      <td>...</td>\n",
              "      <td>...</td>\n",
              "      <td>...</td>\n",
              "    </tr>\n",
              "    <tr>\n",
              "      <th>3541</th>\n",
              "      <td>0</td>\n",
              "      <td>0</td>\n",
              "      <td>0</td>\n",
              "      <td>0</td>\n",
              "      <td>1</td>\n",
              "      <td>0</td>\n",
              "      <td>1</td>\n",
              "      <td>0</td>\n",
              "      <td>0</td>\n",
              "      <td>0</td>\n",
              "      <td>...</td>\n",
              "      <td>0</td>\n",
              "      <td>0</td>\n",
              "      <td>0</td>\n",
              "      <td>0</td>\n",
              "      <td>0</td>\n",
              "      <td>0</td>\n",
              "      <td>0</td>\n",
              "      <td>0</td>\n",
              "      <td>0</td>\n",
              "      <td>0</td>\n",
              "    </tr>\n",
              "    <tr>\n",
              "      <th>3542</th>\n",
              "      <td>0</td>\n",
              "      <td>0</td>\n",
              "      <td>0</td>\n",
              "      <td>0</td>\n",
              "      <td>0</td>\n",
              "      <td>0</td>\n",
              "      <td>0</td>\n",
              "      <td>0</td>\n",
              "      <td>0</td>\n",
              "      <td>0</td>\n",
              "      <td>...</td>\n",
              "      <td>0</td>\n",
              "      <td>0</td>\n",
              "      <td>0</td>\n",
              "      <td>0</td>\n",
              "      <td>0</td>\n",
              "      <td>0</td>\n",
              "      <td>0</td>\n",
              "      <td>0</td>\n",
              "      <td>0</td>\n",
              "      <td>0</td>\n",
              "    </tr>\n",
              "    <tr>\n",
              "      <th>3543</th>\n",
              "      <td>0</td>\n",
              "      <td>0</td>\n",
              "      <td>0</td>\n",
              "      <td>0</td>\n",
              "      <td>0</td>\n",
              "      <td>0</td>\n",
              "      <td>2</td>\n",
              "      <td>0</td>\n",
              "      <td>0</td>\n",
              "      <td>0</td>\n",
              "      <td>...</td>\n",
              "      <td>0</td>\n",
              "      <td>0</td>\n",
              "      <td>0</td>\n",
              "      <td>0</td>\n",
              "      <td>0</td>\n",
              "      <td>0</td>\n",
              "      <td>0</td>\n",
              "      <td>0</td>\n",
              "      <td>0</td>\n",
              "      <td>0</td>\n",
              "    </tr>\n",
              "    <tr>\n",
              "      <th>3544</th>\n",
              "      <td>0</td>\n",
              "      <td>0</td>\n",
              "      <td>0</td>\n",
              "      <td>0</td>\n",
              "      <td>0</td>\n",
              "      <td>0</td>\n",
              "      <td>0</td>\n",
              "      <td>0</td>\n",
              "      <td>0</td>\n",
              "      <td>0</td>\n",
              "      <td>...</td>\n",
              "      <td>0</td>\n",
              "      <td>0</td>\n",
              "      <td>0</td>\n",
              "      <td>0</td>\n",
              "      <td>0</td>\n",
              "      <td>0</td>\n",
              "      <td>0</td>\n",
              "      <td>0</td>\n",
              "      <td>0</td>\n",
              "      <td>0</td>\n",
              "    </tr>\n",
              "    <tr>\n",
              "      <th>3545</th>\n",
              "      <td>0</td>\n",
              "      <td>0</td>\n",
              "      <td>0</td>\n",
              "      <td>0</td>\n",
              "      <td>0</td>\n",
              "      <td>0</td>\n",
              "      <td>0</td>\n",
              "      <td>0</td>\n",
              "      <td>0</td>\n",
              "      <td>0</td>\n",
              "      <td>...</td>\n",
              "      <td>0</td>\n",
              "      <td>0</td>\n",
              "      <td>0</td>\n",
              "      <td>0</td>\n",
              "      <td>0</td>\n",
              "      <td>0</td>\n",
              "      <td>0</td>\n",
              "      <td>0</td>\n",
              "      <td>0</td>\n",
              "      <td>0</td>\n",
              "    </tr>\n",
              "  </tbody>\n",
              "</table>\n",
              "<p>3546 rows × 20756 columns</p>\n",
              "</div>\n",
              "      <button class=\"colab-df-convert\" onclick=\"convertToInteractive('df-e5ef9585-0d0d-4876-bef1-46a453550d9e')\"\n",
              "              title=\"Convert this dataframe to an interactive table.\"\n",
              "              style=\"display:none;\">\n",
              "        \n",
              "  <svg xmlns=\"http://www.w3.org/2000/svg\" height=\"24px\"viewBox=\"0 0 24 24\"\n",
              "       width=\"24px\">\n",
              "    <path d=\"M0 0h24v24H0V0z\" fill=\"none\"/>\n",
              "    <path d=\"M18.56 5.44l.94 2.06.94-2.06 2.06-.94-2.06-.94-.94-2.06-.94 2.06-2.06.94zm-11 1L8.5 8.5l.94-2.06 2.06-.94-2.06-.94L8.5 2.5l-.94 2.06-2.06.94zm10 10l.94 2.06.94-2.06 2.06-.94-2.06-.94-.94-2.06-.94 2.06-2.06.94z\"/><path d=\"M17.41 7.96l-1.37-1.37c-.4-.4-.92-.59-1.43-.59-.52 0-1.04.2-1.43.59L10.3 9.45l-7.72 7.72c-.78.78-.78 2.05 0 2.83L4 21.41c.39.39.9.59 1.41.59.51 0 1.02-.2 1.41-.59l7.78-7.78 2.81-2.81c.8-.78.8-2.07 0-2.86zM5.41 20L4 18.59l7.72-7.72 1.47 1.35L5.41 20z\"/>\n",
              "  </svg>\n",
              "      </button>\n",
              "      \n",
              "  <style>\n",
              "    .colab-df-container {\n",
              "      display:flex;\n",
              "      flex-wrap:wrap;\n",
              "      gap: 12px;\n",
              "    }\n",
              "\n",
              "    .colab-df-convert {\n",
              "      background-color: #E8F0FE;\n",
              "      border: none;\n",
              "      border-radius: 50%;\n",
              "      cursor: pointer;\n",
              "      display: none;\n",
              "      fill: #1967D2;\n",
              "      height: 32px;\n",
              "      padding: 0 0 0 0;\n",
              "      width: 32px;\n",
              "    }\n",
              "\n",
              "    .colab-df-convert:hover {\n",
              "      background-color: #E2EBFA;\n",
              "      box-shadow: 0px 1px 2px rgba(60, 64, 67, 0.3), 0px 1px 3px 1px rgba(60, 64, 67, 0.15);\n",
              "      fill: #174EA6;\n",
              "    }\n",
              "\n",
              "    [theme=dark] .colab-df-convert {\n",
              "      background-color: #3B4455;\n",
              "      fill: #D2E3FC;\n",
              "    }\n",
              "\n",
              "    [theme=dark] .colab-df-convert:hover {\n",
              "      background-color: #434B5C;\n",
              "      box-shadow: 0px 1px 3px 1px rgba(0, 0, 0, 0.15);\n",
              "      filter: drop-shadow(0px 1px 2px rgba(0, 0, 0, 0.3));\n",
              "      fill: #FFFFFF;\n",
              "    }\n",
              "  </style>\n",
              "\n",
              "      <script>\n",
              "        const buttonEl =\n",
              "          document.querySelector('#df-e5ef9585-0d0d-4876-bef1-46a453550d9e button.colab-df-convert');\n",
              "        buttonEl.style.display =\n",
              "          google.colab.kernel.accessAllowed ? 'block' : 'none';\n",
              "\n",
              "        async function convertToInteractive(key) {\n",
              "          const element = document.querySelector('#df-e5ef9585-0d0d-4876-bef1-46a453550d9e');\n",
              "          const dataTable =\n",
              "            await google.colab.kernel.invokeFunction('convertToInteractive',\n",
              "                                                     [key], {});\n",
              "          if (!dataTable) return;\n",
              "\n",
              "          const docLinkHtml = 'Like what you see? Visit the ' +\n",
              "            '<a target=\"_blank\" href=https://colab.research.google.com/notebooks/data_table.ipynb>data table notebook</a>'\n",
              "            + ' to learn more about interactive tables.';\n",
              "          element.innerHTML = '';\n",
              "          dataTable['output_type'] = 'display_data';\n",
              "          await google.colab.output.renderOutput(dataTable, element);\n",
              "          const docLink = document.createElement('div');\n",
              "          docLink.innerHTML = docLinkHtml;\n",
              "          element.appendChild(docLink);\n",
              "        }\n",
              "      </script>\n",
              "    </div>\n",
              "  </div>\n",
              "  "
            ]
          },
          "metadata": {},
          "execution_count": 83
        }
      ]
    },
    {
      "cell_type": "code",
      "source": [
        "df_products_bows.shape"
      ],
      "metadata": {
        "colab": {
          "base_uri": "https://localhost:8080/"
        },
        "id": "LY5EIs5rNDmc",
        "outputId": "1900178b-c08f-4be9-faa4-08b97aed468c"
      },
      "execution_count": null,
      "outputs": [
        {
          "output_type": "execute_result",
          "data": {
            "text/plain": [
              "(3546, 20756)"
            ]
          },
          "metadata": {},
          "execution_count": 84
        }
      ]
    },
    {
      "cell_type": "code",
      "source": [
        "products['ispos'] = (products.sentiment > 0).astype(int) \n",
        "products['predicted_ispositive'] = nb.predict(df_products_bows.values).astype(int) \n",
        "products.head()"
      ],
      "metadata": {
        "colab": {
          "base_uri": "https://localhost:8080/",
          "height": 243
        },
        "id": "U8vNWMxBNGAT",
        "outputId": "b7297f0b-a2f5-468c-9f44-0c82259ac125"
      },
      "execution_count": null,
      "outputs": [
        {
          "output_type": "stream",
          "name": "stderr",
          "text": [
            "/usr/local/lib/python3.7/dist-packages/sklearn/base.py:451: UserWarning: X does not have valid feature names, but MultinomialNB was fitted with feature names\n",
            "  \"X does not have valid feature names, but\"\n"
          ]
        },
        {
          "output_type": "execute_result",
          "data": {
            "text/plain": [
              "    id  sentiment                                               text  \\\n",
              "0  1_1      -0.90  troubleshooting ad-2500 and ad-2600 no picture...   \n",
              "1  1_2      -0.15  repost from january 13, 2004 with a better fit...   \n",
              "2  1_3      -0.20  does your apex dvd player only play dvd audio ...   \n",
              "3  1_4      -0.10  or does it play audio and video but scrolling ...   \n",
              "4  1_5      -0.50  before you try to return the player or waste h...   \n",
              "\n",
              "   ispos  predicted_ispositive  \n",
              "0      0                     0  \n",
              "1      0                     0  \n",
              "2      0                     0  \n",
              "3      0                     0  \n",
              "4      0                     0  "
            ],
            "text/html": [
              "\n",
              "  <div id=\"df-f4325eb3-4ac7-46b6-bee2-88d14d8e39f1\">\n",
              "    <div class=\"colab-df-container\">\n",
              "      <div>\n",
              "<style scoped>\n",
              "    .dataframe tbody tr th:only-of-type {\n",
              "        vertical-align: middle;\n",
              "    }\n",
              "\n",
              "    .dataframe tbody tr th {\n",
              "        vertical-align: top;\n",
              "    }\n",
              "\n",
              "    .dataframe thead th {\n",
              "        text-align: right;\n",
              "    }\n",
              "</style>\n",
              "<table border=\"1\" class=\"dataframe\">\n",
              "  <thead>\n",
              "    <tr style=\"text-align: right;\">\n",
              "      <th></th>\n",
              "      <th>id</th>\n",
              "      <th>sentiment</th>\n",
              "      <th>text</th>\n",
              "      <th>ispos</th>\n",
              "      <th>predicted_ispositive</th>\n",
              "    </tr>\n",
              "  </thead>\n",
              "  <tbody>\n",
              "    <tr>\n",
              "      <th>0</th>\n",
              "      <td>1_1</td>\n",
              "      <td>-0.90</td>\n",
              "      <td>troubleshooting ad-2500 and ad-2600 no picture...</td>\n",
              "      <td>0</td>\n",
              "      <td>0</td>\n",
              "    </tr>\n",
              "    <tr>\n",
              "      <th>1</th>\n",
              "      <td>1_2</td>\n",
              "      <td>-0.15</td>\n",
              "      <td>repost from january 13, 2004 with a better fit...</td>\n",
              "      <td>0</td>\n",
              "      <td>0</td>\n",
              "    </tr>\n",
              "    <tr>\n",
              "      <th>2</th>\n",
              "      <td>1_3</td>\n",
              "      <td>-0.20</td>\n",
              "      <td>does your apex dvd player only play dvd audio ...</td>\n",
              "      <td>0</td>\n",
              "      <td>0</td>\n",
              "    </tr>\n",
              "    <tr>\n",
              "      <th>3</th>\n",
              "      <td>1_4</td>\n",
              "      <td>-0.10</td>\n",
              "      <td>or does it play audio and video but scrolling ...</td>\n",
              "      <td>0</td>\n",
              "      <td>0</td>\n",
              "    </tr>\n",
              "    <tr>\n",
              "      <th>4</th>\n",
              "      <td>1_5</td>\n",
              "      <td>-0.50</td>\n",
              "      <td>before you try to return the player or waste h...</td>\n",
              "      <td>0</td>\n",
              "      <td>0</td>\n",
              "    </tr>\n",
              "  </tbody>\n",
              "</table>\n",
              "</div>\n",
              "      <button class=\"colab-df-convert\" onclick=\"convertToInteractive('df-f4325eb3-4ac7-46b6-bee2-88d14d8e39f1')\"\n",
              "              title=\"Convert this dataframe to an interactive table.\"\n",
              "              style=\"display:none;\">\n",
              "        \n",
              "  <svg xmlns=\"http://www.w3.org/2000/svg\" height=\"24px\"viewBox=\"0 0 24 24\"\n",
              "       width=\"24px\">\n",
              "    <path d=\"M0 0h24v24H0V0z\" fill=\"none\"/>\n",
              "    <path d=\"M18.56 5.44l.94 2.06.94-2.06 2.06-.94-2.06-.94-.94-2.06-.94 2.06-2.06.94zm-11 1L8.5 8.5l.94-2.06 2.06-.94-2.06-.94L8.5 2.5l-.94 2.06-2.06.94zm10 10l.94 2.06.94-2.06 2.06-.94-2.06-.94-.94-2.06-.94 2.06-2.06.94z\"/><path d=\"M17.41 7.96l-1.37-1.37c-.4-.4-.92-.59-1.43-.59-.52 0-1.04.2-1.43.59L10.3 9.45l-7.72 7.72c-.78.78-.78 2.05 0 2.83L4 21.41c.39.39.9.59 1.41.59.51 0 1.02-.2 1.41-.59l7.78-7.78 2.81-2.81c.8-.78.8-2.07 0-2.86zM5.41 20L4 18.59l7.72-7.72 1.47 1.35L5.41 20z\"/>\n",
              "  </svg>\n",
              "      </button>\n",
              "      \n",
              "  <style>\n",
              "    .colab-df-container {\n",
              "      display:flex;\n",
              "      flex-wrap:wrap;\n",
              "      gap: 12px;\n",
              "    }\n",
              "\n",
              "    .colab-df-convert {\n",
              "      background-color: #E8F0FE;\n",
              "      border: none;\n",
              "      border-radius: 50%;\n",
              "      cursor: pointer;\n",
              "      display: none;\n",
              "      fill: #1967D2;\n",
              "      height: 32px;\n",
              "      padding: 0 0 0 0;\n",
              "      width: 32px;\n",
              "    }\n",
              "\n",
              "    .colab-df-convert:hover {\n",
              "      background-color: #E2EBFA;\n",
              "      box-shadow: 0px 1px 2px rgba(60, 64, 67, 0.3), 0px 1px 3px 1px rgba(60, 64, 67, 0.15);\n",
              "      fill: #174EA6;\n",
              "    }\n",
              "\n",
              "    [theme=dark] .colab-df-convert {\n",
              "      background-color: #3B4455;\n",
              "      fill: #D2E3FC;\n",
              "    }\n",
              "\n",
              "    [theme=dark] .colab-df-convert:hover {\n",
              "      background-color: #434B5C;\n",
              "      box-shadow: 0px 1px 3px 1px rgba(0, 0, 0, 0.15);\n",
              "      filter: drop-shadow(0px 1px 2px rgba(0, 0, 0, 0.3));\n",
              "      fill: #FFFFFF;\n",
              "    }\n",
              "  </style>\n",
              "\n",
              "      <script>\n",
              "        const buttonEl =\n",
              "          document.querySelector('#df-f4325eb3-4ac7-46b6-bee2-88d14d8e39f1 button.colab-df-convert');\n",
              "        buttonEl.style.display =\n",
              "          google.colab.kernel.accessAllowed ? 'block' : 'none';\n",
              "\n",
              "        async function convertToInteractive(key) {\n",
              "          const element = document.querySelector('#df-f4325eb3-4ac7-46b6-bee2-88d14d8e39f1');\n",
              "          const dataTable =\n",
              "            await google.colab.kernel.invokeFunction('convertToInteractive',\n",
              "                                                     [key], {});\n",
              "          if (!dataTable) return;\n",
              "\n",
              "          const docLinkHtml = 'Like what you see? Visit the ' +\n",
              "            '<a target=\"_blank\" href=https://colab.research.google.com/notebooks/data_table.ipynb>data table notebook</a>'\n",
              "            + ' to learn more about interactive tables.';\n",
              "          element.innerHTML = '';\n",
              "          dataTable['output_type'] = 'display_data';\n",
              "          await google.colab.output.renderOutput(dataTable, element);\n",
              "          const docLink = document.createElement('div');\n",
              "          docLink.innerHTML = docLinkHtml;\n",
              "          element.appendChild(docLink);\n",
              "        }\n",
              "      </script>\n",
              "    </div>\n",
              "  </div>\n",
              "  "
            ]
          },
          "metadata": {},
          "execution_count": 85
        }
      ]
    },
    {
      "cell_type": "code",
      "source": [
        "df_product_bows.values"
      ],
      "metadata": {
        "colab": {
          "base_uri": "https://localhost:8080/"
        },
        "id": "ys5jo1HINZ9U",
        "outputId": "0ed246f4-5471-46ea-cfca-16148de2aa42"
      },
      "execution_count": null,
      "outputs": [
        {
          "output_type": "execute_result",
          "data": {
            "text/plain": [
              "array([[1, 2, 2, ..., 0, 0, 0],\n",
              "       [0, 0, 0, ..., 0, 0, 0],\n",
              "       [0, 0, 0, ..., 0, 0, 0],\n",
              "       ...,\n",
              "       [0, 0, 0, ..., 0, 0, 0],\n",
              "       [0, 0, 0, ..., 0, 0, 0],\n",
              "       [0, 0, 0, ..., 0, 0, 0]])"
            ]
          },
          "metadata": {},
          "execution_count": 70
        }
      ]
    },
    {
      "cell_type": "code",
      "source": [
        "products"
      ],
      "metadata": {
        "colab": {
          "base_uri": "https://localhost:8080/",
          "height": 423
        },
        "id": "UQzuUD5RP4_0",
        "outputId": "953ed4b5-3b84-411f-9a40-9f052fdfcfa0"
      },
      "execution_count": null,
      "outputs": [
        {
          "output_type": "execute_result",
          "data": {
            "text/plain": [
              "         id  sentiment  \\\n",
              "0       1_1      -0.90   \n",
              "1       1_2      -0.15   \n",
              "2       1_3      -0.20   \n",
              "3       1_4      -0.10   \n",
              "4       1_5      -0.50   \n",
              "...     ...        ...   \n",
              "3541  309_4      -1.80   \n",
              "3542  309_5      -1.30   \n",
              "3543  309_6      -1.95   \n",
              "3544  309_7       0.45   \n",
              "3545  309_8      -2.75   \n",
              "\n",
              "                                                   text  ispos  \\\n",
              "0     troubleshooting ad-2500 and ad-2600 no picture...      0   \n",
              "1     repost from january 13, 2004 with a better fit...      0   \n",
              "2     does your apex dvd player only play dvd audio ...      0   \n",
              "3     or does it play audio and video but scrolling ...      0   \n",
              "4     before you try to return the player or waste h...      0   \n",
              "...                                                 ...    ...   \n",
              "3541  the other day when i was listening to a song, ...      0   \n",
              "3542                 it says i have a harddisk problem.      0   \n",
              "3543  and since i'm out here i can't mail it back un...      0   \n",
              "3544                        it worked good for a while.      1   \n",
              "3545  it did lock up on me a couple of times, and th...      0   \n",
              "\n",
              "      predicted_ispositive  \n",
              "0                        0  \n",
              "1                        0  \n",
              "2                        0  \n",
              "3                        0  \n",
              "4                        0  \n",
              "...                    ...  \n",
              "3541                     0  \n",
              "3542                     0  \n",
              "3543                     0  \n",
              "3544                     0  \n",
              "3545                     0  \n",
              "\n",
              "[3546 rows x 5 columns]"
            ],
            "text/html": [
              "\n",
              "  <div id=\"df-2c57ed83-886b-4ae3-8ddb-3e4338e34597\">\n",
              "    <div class=\"colab-df-container\">\n",
              "      <div>\n",
              "<style scoped>\n",
              "    .dataframe tbody tr th:only-of-type {\n",
              "        vertical-align: middle;\n",
              "    }\n",
              "\n",
              "    .dataframe tbody tr th {\n",
              "        vertical-align: top;\n",
              "    }\n",
              "\n",
              "    .dataframe thead th {\n",
              "        text-align: right;\n",
              "    }\n",
              "</style>\n",
              "<table border=\"1\" class=\"dataframe\">\n",
              "  <thead>\n",
              "    <tr style=\"text-align: right;\">\n",
              "      <th></th>\n",
              "      <th>id</th>\n",
              "      <th>sentiment</th>\n",
              "      <th>text</th>\n",
              "      <th>ispos</th>\n",
              "      <th>predicted_ispositive</th>\n",
              "    </tr>\n",
              "  </thead>\n",
              "  <tbody>\n",
              "    <tr>\n",
              "      <th>0</th>\n",
              "      <td>1_1</td>\n",
              "      <td>-0.90</td>\n",
              "      <td>troubleshooting ad-2500 and ad-2600 no picture...</td>\n",
              "      <td>0</td>\n",
              "      <td>0</td>\n",
              "    </tr>\n",
              "    <tr>\n",
              "      <th>1</th>\n",
              "      <td>1_2</td>\n",
              "      <td>-0.15</td>\n",
              "      <td>repost from january 13, 2004 with a better fit...</td>\n",
              "      <td>0</td>\n",
              "      <td>0</td>\n",
              "    </tr>\n",
              "    <tr>\n",
              "      <th>2</th>\n",
              "      <td>1_3</td>\n",
              "      <td>-0.20</td>\n",
              "      <td>does your apex dvd player only play dvd audio ...</td>\n",
              "      <td>0</td>\n",
              "      <td>0</td>\n",
              "    </tr>\n",
              "    <tr>\n",
              "      <th>3</th>\n",
              "      <td>1_4</td>\n",
              "      <td>-0.10</td>\n",
              "      <td>or does it play audio and video but scrolling ...</td>\n",
              "      <td>0</td>\n",
              "      <td>0</td>\n",
              "    </tr>\n",
              "    <tr>\n",
              "      <th>4</th>\n",
              "      <td>1_5</td>\n",
              "      <td>-0.50</td>\n",
              "      <td>before you try to return the player or waste h...</td>\n",
              "      <td>0</td>\n",
              "      <td>0</td>\n",
              "    </tr>\n",
              "    <tr>\n",
              "      <th>...</th>\n",
              "      <td>...</td>\n",
              "      <td>...</td>\n",
              "      <td>...</td>\n",
              "      <td>...</td>\n",
              "      <td>...</td>\n",
              "    </tr>\n",
              "    <tr>\n",
              "      <th>3541</th>\n",
              "      <td>309_4</td>\n",
              "      <td>-1.80</td>\n",
              "      <td>the other day when i was listening to a song, ...</td>\n",
              "      <td>0</td>\n",
              "      <td>0</td>\n",
              "    </tr>\n",
              "    <tr>\n",
              "      <th>3542</th>\n",
              "      <td>309_5</td>\n",
              "      <td>-1.30</td>\n",
              "      <td>it says i have a harddisk problem.</td>\n",
              "      <td>0</td>\n",
              "      <td>0</td>\n",
              "    </tr>\n",
              "    <tr>\n",
              "      <th>3543</th>\n",
              "      <td>309_6</td>\n",
              "      <td>-1.95</td>\n",
              "      <td>and since i'm out here i can't mail it back un...</td>\n",
              "      <td>0</td>\n",
              "      <td>0</td>\n",
              "    </tr>\n",
              "    <tr>\n",
              "      <th>3544</th>\n",
              "      <td>309_7</td>\n",
              "      <td>0.45</td>\n",
              "      <td>it worked good for a while.</td>\n",
              "      <td>1</td>\n",
              "      <td>0</td>\n",
              "    </tr>\n",
              "    <tr>\n",
              "      <th>3545</th>\n",
              "      <td>309_8</td>\n",
              "      <td>-2.75</td>\n",
              "      <td>it did lock up on me a couple of times, and th...</td>\n",
              "      <td>0</td>\n",
              "      <td>0</td>\n",
              "    </tr>\n",
              "  </tbody>\n",
              "</table>\n",
              "<p>3546 rows × 5 columns</p>\n",
              "</div>\n",
              "      <button class=\"colab-df-convert\" onclick=\"convertToInteractive('df-2c57ed83-886b-4ae3-8ddb-3e4338e34597')\"\n",
              "              title=\"Convert this dataframe to an interactive table.\"\n",
              "              style=\"display:none;\">\n",
              "        \n",
              "  <svg xmlns=\"http://www.w3.org/2000/svg\" height=\"24px\"viewBox=\"0 0 24 24\"\n",
              "       width=\"24px\">\n",
              "    <path d=\"M0 0h24v24H0V0z\" fill=\"none\"/>\n",
              "    <path d=\"M18.56 5.44l.94 2.06.94-2.06 2.06-.94-2.06-.94-.94-2.06-.94 2.06-2.06.94zm-11 1L8.5 8.5l.94-2.06 2.06-.94-2.06-.94L8.5 2.5l-.94 2.06-2.06.94zm10 10l.94 2.06.94-2.06 2.06-.94-2.06-.94-.94-2.06-.94 2.06-2.06.94z\"/><path d=\"M17.41 7.96l-1.37-1.37c-.4-.4-.92-.59-1.43-.59-.52 0-1.04.2-1.43.59L10.3 9.45l-7.72 7.72c-.78.78-.78 2.05 0 2.83L4 21.41c.39.39.9.59 1.41.59.51 0 1.02-.2 1.41-.59l7.78-7.78 2.81-2.81c.8-.78.8-2.07 0-2.86zM5.41 20L4 18.59l7.72-7.72 1.47 1.35L5.41 20z\"/>\n",
              "  </svg>\n",
              "      </button>\n",
              "      \n",
              "  <style>\n",
              "    .colab-df-container {\n",
              "      display:flex;\n",
              "      flex-wrap:wrap;\n",
              "      gap: 12px;\n",
              "    }\n",
              "\n",
              "    .colab-df-convert {\n",
              "      background-color: #E8F0FE;\n",
              "      border: none;\n",
              "      border-radius: 50%;\n",
              "      cursor: pointer;\n",
              "      display: none;\n",
              "      fill: #1967D2;\n",
              "      height: 32px;\n",
              "      padding: 0 0 0 0;\n",
              "      width: 32px;\n",
              "    }\n",
              "\n",
              "    .colab-df-convert:hover {\n",
              "      background-color: #E2EBFA;\n",
              "      box-shadow: 0px 1px 2px rgba(60, 64, 67, 0.3), 0px 1px 3px 1px rgba(60, 64, 67, 0.15);\n",
              "      fill: #174EA6;\n",
              "    }\n",
              "\n",
              "    [theme=dark] .colab-df-convert {\n",
              "      background-color: #3B4455;\n",
              "      fill: #D2E3FC;\n",
              "    }\n",
              "\n",
              "    [theme=dark] .colab-df-convert:hover {\n",
              "      background-color: #434B5C;\n",
              "      box-shadow: 0px 1px 3px 1px rgba(0, 0, 0, 0.15);\n",
              "      filter: drop-shadow(0px 1px 2px rgba(0, 0, 0, 0.3));\n",
              "      fill: #FFFFFF;\n",
              "    }\n",
              "  </style>\n",
              "\n",
              "      <script>\n",
              "        const buttonEl =\n",
              "          document.querySelector('#df-2c57ed83-886b-4ae3-8ddb-3e4338e34597 button.colab-df-convert');\n",
              "        buttonEl.style.display =\n",
              "          google.colab.kernel.accessAllowed ? 'block' : 'none';\n",
              "\n",
              "        async function convertToInteractive(key) {\n",
              "          const element = document.querySelector('#df-2c57ed83-886b-4ae3-8ddb-3e4338e34597');\n",
              "          const dataTable =\n",
              "            await google.colab.kernel.invokeFunction('convertToInteractive',\n",
              "                                                     [key], {});\n",
              "          if (!dataTable) return;\n",
              "\n",
              "          const docLinkHtml = 'Like what you see? Visit the ' +\n",
              "            '<a target=\"_blank\" href=https://colab.research.google.com/notebooks/data_table.ipynb>data table notebook</a>'\n",
              "            + ' to learn more about interactive tables.';\n",
              "          element.innerHTML = '';\n",
              "          dataTable['output_type'] = 'display_data';\n",
              "          await google.colab.output.renderOutput(dataTable, element);\n",
              "          const docLink = document.createElement('div');\n",
              "          docLink.innerHTML = docLinkHtml;\n",
              "          element.appendChild(docLink);\n",
              "        }\n",
              "      </script>\n",
              "    </div>\n",
              "  </div>\n",
              "  "
            ]
          },
          "metadata": {},
          "execution_count": 88
        }
      ]
    },
    {
      "cell_type": "code",
      "source": [
        "(products.predicted_ispositive == products.ispos).sum() / len(products)"
      ],
      "metadata": {
        "colab": {
          "base_uri": "https://localhost:8080/"
        },
        "id": "osBq58EMNxDP",
        "outputId": "2db265f7-eefa-4331-fa3f-bd2de8b931f1"
      },
      "execution_count": null,
      "outputs": [
        {
          "output_type": "execute_result",
          "data": {
            "text/plain": [
              "0.5572476029328821"
            ]
          },
          "metadata": {},
          "execution_count": 89
        }
      ]
    },
    {
      "cell_type": "code",
      "source": [
        ""
      ],
      "metadata": {
        "id": "IJMPnP1qO7e0"
      },
      "execution_count": null,
      "outputs": []
    },
    {
      "cell_type": "markdown",
      "source": [
        "# ch03. 말잘하는 수학 : TF-IDF 벡터 "
      ],
      "metadata": {
        "id": "oJ2mGbXGQBah"
      }
    },
    {
      "cell_type": "code",
      "source": [
        "# 1. 단어모음 : 단어빈도들의 벡터\n",
        "# 2. n-그램 모음 \n",
        "# 3. TF-IDF 벡터 : 단어의 중요도를 좀더 잘 표현하는 단어 점수 벡터\n",
        "# -> 통계에 기초한다는 점에서 모두 통계적 모형에 해당"
      ],
      "metadata": {
        "id": "EquCseEqQM_M"
      },
      "execution_count": null,
      "outputs": []
    },
    {
      "cell_type": "code",
      "source": [
        "!pip install nltk"
      ],
      "metadata": {
        "colab": {
          "base_uri": "https://localhost:8080/"
        },
        "id": "1J3IdB2SOghn",
        "outputId": "a68e0fa6-9b8b-46f7-8e0c-e8d70914ef92"
      },
      "execution_count": null,
      "outputs": [
        {
          "output_type": "stream",
          "name": "stdout",
          "text": [
            "Requirement already satisfied: nltk in /usr/local/lib/python3.7/dist-packages (3.2.5)\n",
            "Requirement already satisfied: six in /usr/local/lib/python3.7/dist-packages (from nltk) (1.15.0)\n"
          ]
        }
      ]
    },
    {
      "cell_type": "code",
      "source": [
        "# 단어 모음\n",
        "from nltk.tokenize import TreebankWordTokenizer \n",
        "sentence = \"\"\" the faster harry got to the store, the faster harry, the faster, would get home.\"\"\"\n",
        "tokenizer = TreebankWordTokenizer()\n",
        "tokens = tokenizer.tokenize(sentence.lower())"
      ],
      "metadata": {
        "id": "kzV53A9CNvvX"
      },
      "execution_count": 7,
      "outputs": []
    },
    {
      "cell_type": "code",
      "source": [
        "tokens"
      ],
      "metadata": {
        "colab": {
          "base_uri": "https://localhost:8080/"
        },
        "id": "aimApMsMOe4H",
        "outputId": "bf9e3487-13f5-45ea-9f8b-8474eed3a9f7"
      },
      "execution_count": null,
      "outputs": [
        {
          "output_type": "execute_result",
          "data": {
            "text/plain": [
              "['the',\n",
              " 'faster',\n",
              " 'harry',\n",
              " 'got',\n",
              " 'to',\n",
              " 'the',\n",
              " 'store',\n",
              " ',',\n",
              " 'the',\n",
              " 'faster',\n",
              " 'harry',\n",
              " ',',\n",
              " 'the',\n",
              " 'faster',\n",
              " ',',\n",
              " 'would',\n",
              " 'get',\n",
              " 'home',\n",
              " '.']"
            ]
          },
          "metadata": {},
          "execution_count": 9
        }
      ]
    },
    {
      "cell_type": "code",
      "source": [
        "from collections import Counter\n",
        "bag_of_words = Counter(tokens) \n",
        "bag_of_words"
      ],
      "metadata": {
        "colab": {
          "base_uri": "https://localhost:8080/"
        },
        "id": "Y0WjjxegOq5t",
        "outputId": "62f1cf99-1b58-4a65-bea6-b4dbb20d76dd"
      },
      "execution_count": 9,
      "outputs": [
        {
          "output_type": "execute_result",
          "data": {
            "text/plain": [
              "Counter({\"'s\": 2,\n",
              "         '(': 1,\n",
              "         ')': 1,\n",
              "         ',': 15,\n",
              "         '.': 2,\n",
              "         ';': 2,\n",
              "         'a': 20,\n",
              "         'above': 1,\n",
              "         'activities': 1,\n",
              "         'aerial': 1,\n",
              "         'against': 1,\n",
              "         'air': 2,\n",
              "         'along': 1,\n",
              "         'also': 3,\n",
              "         'anchor': 1,\n",
              "         'anchors': 1,\n",
              "         'anchors.': 2,\n",
              "         'and': 10,\n",
              "         'angle': 1,\n",
              "         'apply': 1,\n",
              "         'are': 3,\n",
              "         'around': 1,\n",
              "         'art': 1,\n",
              "         'as': 5,\n",
              "         'at': 3,\n",
              "         'attached.': 1,\n",
              "         'ballet': 1,\n",
              "         'balloon': 1,\n",
              "         'be': 5,\n",
              "         'been': 1,\n",
              "         'below': 1,\n",
              "         'boat': 1,\n",
              "         'both': 1,\n",
              "         'bridle': 2,\n",
              "         'buggying': 1,\n",
              "         'by': 2,\n",
              "         'called': 2,\n",
              "         'can': 3,\n",
              "         'competition.': 1,\n",
              "         'components': 1,\n",
              "         'comprising': 1,\n",
              "         'consists': 2,\n",
              "         'correct': 1,\n",
              "         'craft': 2,\n",
              "         'create': 1,\n",
              "         'designed': 2,\n",
              "         'different': 1,\n",
              "         'direction': 1,\n",
              "         'drag': 2,\n",
              "         'drag.': 1,\n",
              "         'e.g.': 1,\n",
              "         'even': 2,\n",
              "         'face': 1,\n",
              "         'festivals': 1,\n",
              "         'fishing': 1,\n",
              "         'fixed': 1,\n",
              "         'flight': 1,\n",
              "         'flow': 1,\n",
              "         'flown': 3,\n",
              "         'flows': 1,\n",
              "         'fluid': 1,\n",
              "         'for': 2,\n",
              "         'force': 2,\n",
              "         'forces': 1,\n",
              "         'free-falling': 1,\n",
              "         'from': 1,\n",
              "         'fugitive': 1,\n",
              "         'generate': 1,\n",
              "         'generated': 1,\n",
              "         'generates': 1,\n",
              "         'guide': 1,\n",
              "         'have': 4,\n",
              "         'heavier-than-air': 1,\n",
              "         'high': 1,\n",
              "         'history': 1,\n",
              "         'horizontal': 1,\n",
              "         'hybrid': 1,\n",
              "         'in': 7,\n",
              "         'individually': 1,\n",
              "         'interaction': 1,\n",
              "         'is': 7,\n",
              "         'it.': 1,\n",
              "         'kite': 16,\n",
              "         'kite.': 1,\n",
              "         'kites': 8,\n",
              "         'kiting': 3,\n",
              "         'kiting.': 1,\n",
              "         'kytoon.': 1,\n",
              "         'landboarding': 1,\n",
              "         'large': 1,\n",
              "         'launch': 1,\n",
              "         'lift': 4,\n",
              "         'lifting': 1,\n",
              "         'lighter-than-air': 1,\n",
              "         'line': 1,\n",
              "         'lines': 1,\n",
              "         'liquids': 1,\n",
              "         'long': 1,\n",
              "         'low': 1,\n",
              "         'made': 1,\n",
              "         'man-lifting': 1,\n",
              "         'many': 1,\n",
              "         'may': 4,\n",
              "         'meets': 1,\n",
              "         'more': 1,\n",
              "         'moving': 2,\n",
              "         'multi-line': 1,\n",
              "         'needed': 1,\n",
              "         'new': 1,\n",
              "         'not': 1,\n",
              "         'of': 10,\n",
              "         'often': 2,\n",
              "         'one': 1,\n",
              "         'opposed': 1,\n",
              "         'or': 6,\n",
              "         'other': 1,\n",
              "         'paragliders': 1,\n",
              "         'parakites': 1,\n",
              "         'part': 1,\n",
              "         'person': 1,\n",
              "         'point': 1,\n",
              "         'point.': 1,\n",
              "         'power': 2,\n",
              "         'practical': 1,\n",
              "         'pressure': 2,\n",
              "         'principles': 1,\n",
              "         'producing': 1,\n",
              "         'react': 1,\n",
              "         'recreation': 1,\n",
              "         'resultant': 1,\n",
              "         'running': 1,\n",
              "         'sailplane': 1,\n",
              "         'same': 1,\n",
              "         'sets': 1,\n",
              "         'single': 1,\n",
              "         'snow': 1,\n",
              "         'so': 3,\n",
              "         'sometimes': 1,\n",
              "         'sport': 1,\n",
              "         'static': 1,\n",
              "         'steerable': 1,\n",
              "         'still': 1,\n",
              "         'such': 1,\n",
              "         'surface': 2,\n",
              "         'surfaces': 1,\n",
              "         'surfing': 1,\n",
              "         'sustains': 1,\n",
              "         'system': 1,\n",
              "         'technical': 2,\n",
              "         'tension': 1,\n",
              "         'tether': 1,\n",
              "         'tether-set-coupled': 1,\n",
              "         'tethered': 2,\n",
              "         'tethers': 2,\n",
              "         'that': 2,\n",
              "         'the': 26,\n",
              "         'though': 1,\n",
              "         'to': 5,\n",
              "         'towing': 1,\n",
              "         'traditionally': 1,\n",
              "         'trend': 1,\n",
              "         'types': 1,\n",
              "         'under': 1,\n",
              "         'untraditionally': 1,\n",
              "         'used': 2,\n",
              "         'uses.': 1,\n",
              "         'varied': 1,\n",
              "         'vector': 1,\n",
              "         'vehicle': 1,\n",
              "         'water.': 1,\n",
              "         'well': 1,\n",
              "         'when': 2,\n",
              "         'which': 2,\n",
              "         'wind': 2,\n",
              "         'wind.': 1,\n",
              "         'wing': 5,\n",
              "         'wings': 1,\n",
              "         'wings.': 1,\n",
              "         'with': 2,\n",
              "         'worldwide.': 1})"
            ]
          },
          "metadata": {},
          "execution_count": 9
        }
      ]
    },
    {
      "cell_type": "code",
      "source": [
        "bag_of_words.most_common(4)"
      ],
      "metadata": {
        "colab": {
          "base_uri": "https://localhost:8080/"
        },
        "id": "H5aCYYhCO4IK",
        "outputId": "4671e985-beca-40fd-cbd4-214c1616d2b2"
      },
      "execution_count": null,
      "outputs": [
        {
          "output_type": "execute_result",
          "data": {
            "text/plain": [
              "[('the', 4), ('faster', 3), (',', 3), ('harry', 2)]"
            ]
          },
          "metadata": {},
          "execution_count": 11
        }
      ]
    },
    {
      "cell_type": "code",
      "source": [
        "times_harry_appears = bag_of_words['harry']\n",
        "num_unique_words = len(bag_of_words) \n",
        "num_unique_words"
      ],
      "metadata": {
        "colab": {
          "base_uri": "https://localhost:8080/"
        },
        "id": "42oTJvrIUwuv",
        "outputId": "35bc0b96-ee56-4708-fb59-d26ac75e3b53"
      },
      "execution_count": null,
      "outputs": [
        {
          "output_type": "execute_result",
          "data": {
            "text/plain": [
              "11"
            ]
          },
          "metadata": {},
          "execution_count": 12
        }
      ]
    },
    {
      "cell_type": "code",
      "source": [
        "tf = times_harry_appears / num_unique_words;tf"
      ],
      "metadata": {
        "colab": {
          "base_uri": "https://localhost:8080/"
        },
        "id": "qFD2V-3WU9p3",
        "outputId": "ac6d4d6f-cee7-4dd8-d397-f2f144c46963"
      },
      "execution_count": null,
      "outputs": [
        {
          "output_type": "execute_result",
          "data": {
            "text/plain": [
              "0.18181818181818182"
            ]
          },
          "metadata": {},
          "execution_count": 14
        }
      ]
    },
    {
      "cell_type": "code",
      "source": [
        "from nlpia.data.loaders import kite_text"
      ],
      "metadata": {
        "colab": {
          "base_uri": "https://localhost:8080/"
        },
        "id": "l8dVaMrHVCH8",
        "outputId": "28f30d92-3873-4437-d0a3-27889ef6d88e"
      },
      "execution_count": 3,
      "outputs": [
        {
          "output_type": "stream",
          "name": "stderr",
          "text": [
            "/usr/local/lib/python3.7/dist-packages/pugnlp/constants.py:136: FutureWarning: The pandas.datetime class is deprecated and will be removed from pandas in a future version. Import from datetime module instead.\n",
            "  [datetime.datetime, pd.datetime, pd.Timestamp])\n",
            "/usr/local/lib/python3.7/dist-packages/pugnlp/constants.py:158: FutureWarning: The pandas.datetime class is deprecated and will be removed from pandas in a future version. Import from datetime module instead.\n",
            "  MIN_TIMESTAMP = pd.Timestamp(pd.datetime(1677, 9, 22, 0, 12, 44), tz='utc')\n",
            "/usr/local/lib/python3.7/dist-packages/pugnlp/tutil.py:100: FutureWarning: The pandas.np module is deprecated and will be removed from pandas in a future version. Import numpy directly instead\n",
            "  np = pd.np\n",
            "/usr/local/lib/python3.7/dist-packages/pugnlp/util.py:80: FutureWarning: The pandas.np module is deprecated and will be removed from pandas in a future version. Import numpy directly instead\n",
            "  np = pd.np\n",
            "/usr/local/lib/python3.7/dist-packages/nlpia/futil.py:30: FutureWarning: The pandas.np module is deprecated and will be removed from pandas in a future version. Import numpy directly instead\n",
            "  np = pd.np\n",
            "/usr/local/lib/python3.7/dist-packages/nlpia/loaders.py:78: FutureWarning: The pandas.np module is deprecated and will be removed from pandas in a future version. Import numpy directly instead\n",
            "  np = pd.np\n"
          ]
        }
      ]
    },
    {
      "cell_type": "code",
      "source": [
        "tokenizer = TreebankWordTokenizer()\n",
        "tokens = tokenizer.tokenize(kite_text.lower())\n",
        "token_counts = Counter(tokens) \n",
        "token_counts"
      ],
      "metadata": {
        "id": "7eCb_xGMVWhE",
        "colab": {
          "base_uri": "https://localhost:8080/"
        },
        "outputId": "8f064b21-f6e2-43f1-b062-adecbf89f3c0"
      },
      "execution_count": 10,
      "outputs": [
        {
          "output_type": "execute_result",
          "data": {
            "text/plain": [
              "Counter({\"'s\": 2,\n",
              "         '(': 1,\n",
              "         ')': 1,\n",
              "         ',': 15,\n",
              "         '.': 2,\n",
              "         ';': 2,\n",
              "         'a': 20,\n",
              "         'above': 1,\n",
              "         'activities': 1,\n",
              "         'aerial': 1,\n",
              "         'against': 1,\n",
              "         'air': 2,\n",
              "         'along': 1,\n",
              "         'also': 3,\n",
              "         'anchor': 1,\n",
              "         'anchors': 1,\n",
              "         'anchors.': 2,\n",
              "         'and': 10,\n",
              "         'angle': 1,\n",
              "         'apply': 1,\n",
              "         'are': 3,\n",
              "         'around': 1,\n",
              "         'art': 1,\n",
              "         'as': 5,\n",
              "         'at': 3,\n",
              "         'attached.': 1,\n",
              "         'ballet': 1,\n",
              "         'balloon': 1,\n",
              "         'be': 5,\n",
              "         'been': 1,\n",
              "         'below': 1,\n",
              "         'boat': 1,\n",
              "         'both': 1,\n",
              "         'bridle': 2,\n",
              "         'buggying': 1,\n",
              "         'by': 2,\n",
              "         'called': 2,\n",
              "         'can': 3,\n",
              "         'competition.': 1,\n",
              "         'components': 1,\n",
              "         'comprising': 1,\n",
              "         'consists': 2,\n",
              "         'correct': 1,\n",
              "         'craft': 2,\n",
              "         'create': 1,\n",
              "         'designed': 2,\n",
              "         'different': 1,\n",
              "         'direction': 1,\n",
              "         'drag': 2,\n",
              "         'drag.': 1,\n",
              "         'e.g.': 1,\n",
              "         'even': 2,\n",
              "         'face': 1,\n",
              "         'festivals': 1,\n",
              "         'fishing': 1,\n",
              "         'fixed': 1,\n",
              "         'flight': 1,\n",
              "         'flow': 1,\n",
              "         'flown': 3,\n",
              "         'flows': 1,\n",
              "         'fluid': 1,\n",
              "         'for': 2,\n",
              "         'force': 2,\n",
              "         'forces': 1,\n",
              "         'free-falling': 1,\n",
              "         'from': 1,\n",
              "         'fugitive': 1,\n",
              "         'generate': 1,\n",
              "         'generated': 1,\n",
              "         'generates': 1,\n",
              "         'guide': 1,\n",
              "         'have': 4,\n",
              "         'heavier-than-air': 1,\n",
              "         'high': 1,\n",
              "         'history': 1,\n",
              "         'horizontal': 1,\n",
              "         'hybrid': 1,\n",
              "         'in': 7,\n",
              "         'individually': 1,\n",
              "         'interaction': 1,\n",
              "         'is': 7,\n",
              "         'it.': 1,\n",
              "         'kite': 16,\n",
              "         'kite.': 1,\n",
              "         'kites': 8,\n",
              "         'kiting': 3,\n",
              "         'kiting.': 1,\n",
              "         'kytoon.': 1,\n",
              "         'landboarding': 1,\n",
              "         'large': 1,\n",
              "         'launch': 1,\n",
              "         'lift': 4,\n",
              "         'lifting': 1,\n",
              "         'lighter-than-air': 1,\n",
              "         'line': 1,\n",
              "         'lines': 1,\n",
              "         'liquids': 1,\n",
              "         'long': 1,\n",
              "         'low': 1,\n",
              "         'made': 1,\n",
              "         'man-lifting': 1,\n",
              "         'many': 1,\n",
              "         'may': 4,\n",
              "         'meets': 1,\n",
              "         'more': 1,\n",
              "         'moving': 2,\n",
              "         'multi-line': 1,\n",
              "         'needed': 1,\n",
              "         'new': 1,\n",
              "         'not': 1,\n",
              "         'of': 10,\n",
              "         'often': 2,\n",
              "         'one': 1,\n",
              "         'opposed': 1,\n",
              "         'or': 6,\n",
              "         'other': 1,\n",
              "         'paragliders': 1,\n",
              "         'parakites': 1,\n",
              "         'part': 1,\n",
              "         'person': 1,\n",
              "         'point': 1,\n",
              "         'point.': 1,\n",
              "         'power': 2,\n",
              "         'practical': 1,\n",
              "         'pressure': 2,\n",
              "         'principles': 1,\n",
              "         'producing': 1,\n",
              "         'react': 1,\n",
              "         'recreation': 1,\n",
              "         'resultant': 1,\n",
              "         'running': 1,\n",
              "         'sailplane': 1,\n",
              "         'same': 1,\n",
              "         'sets': 1,\n",
              "         'single': 1,\n",
              "         'snow': 1,\n",
              "         'so': 3,\n",
              "         'sometimes': 1,\n",
              "         'sport': 1,\n",
              "         'static': 1,\n",
              "         'steerable': 1,\n",
              "         'still': 1,\n",
              "         'such': 1,\n",
              "         'surface': 2,\n",
              "         'surfaces': 1,\n",
              "         'surfing': 1,\n",
              "         'sustains': 1,\n",
              "         'system': 1,\n",
              "         'technical': 2,\n",
              "         'tension': 1,\n",
              "         'tether': 1,\n",
              "         'tether-set-coupled': 1,\n",
              "         'tethered': 2,\n",
              "         'tethers': 2,\n",
              "         'that': 2,\n",
              "         'the': 26,\n",
              "         'though': 1,\n",
              "         'to': 5,\n",
              "         'towing': 1,\n",
              "         'traditionally': 1,\n",
              "         'trend': 1,\n",
              "         'types': 1,\n",
              "         'under': 1,\n",
              "         'untraditionally': 1,\n",
              "         'used': 2,\n",
              "         'uses.': 1,\n",
              "         'varied': 1,\n",
              "         'vector': 1,\n",
              "         'vehicle': 1,\n",
              "         'water.': 1,\n",
              "         'well': 1,\n",
              "         'when': 2,\n",
              "         'which': 2,\n",
              "         'wind': 2,\n",
              "         'wind.': 1,\n",
              "         'wing': 5,\n",
              "         'wings': 1,\n",
              "         'wings.': 1,\n",
              "         'with': 2,\n",
              "         'worldwide.': 1})"
            ]
          },
          "metadata": {},
          "execution_count": 10
        }
      ]
    },
    {
      "cell_type": "code",
      "source": [
        "# 불용어 제거\n",
        "import nltk \n",
        "nltk.download('stopwords', quiet=True)"
      ],
      "metadata": {
        "colab": {
          "base_uri": "https://localhost:8080/"
        },
        "id": "bFhqsa0saaxE",
        "outputId": "11d6a8a5-f96f-4671-d2fb-ac4e5c9b45d4"
      },
      "execution_count": 11,
      "outputs": [
        {
          "output_type": "execute_result",
          "data": {
            "text/plain": [
              "True"
            ]
          },
          "metadata": {},
          "execution_count": 11
        }
      ]
    },
    {
      "cell_type": "code",
      "source": [
        "stopwords = nltk.corpus.stopwords.words('english') \n",
        "tokens = [ x for x in tokens if x not in stopwords]\n",
        "kite_tokens = Counter(tokens) \n",
        "kite_tokens"
      ],
      "metadata": {
        "colab": {
          "base_uri": "https://localhost:8080/"
        },
        "id": "s3pnUTyhar-k",
        "outputId": "5fb30d1f-c82d-4fa0-8852-6e5cfff4a951"
      },
      "execution_count": 12,
      "outputs": [
        {
          "output_type": "execute_result",
          "data": {
            "text/plain": [
              "Counter({\"'s\": 2,\n",
              "         '(': 1,\n",
              "         ')': 1,\n",
              "         ',': 15,\n",
              "         '.': 2,\n",
              "         ';': 2,\n",
              "         'activities': 1,\n",
              "         'aerial': 1,\n",
              "         'air': 2,\n",
              "         'along': 1,\n",
              "         'also': 3,\n",
              "         'anchor': 1,\n",
              "         'anchors': 1,\n",
              "         'anchors.': 2,\n",
              "         'angle': 1,\n",
              "         'apply': 1,\n",
              "         'around': 1,\n",
              "         'art': 1,\n",
              "         'attached.': 1,\n",
              "         'ballet': 1,\n",
              "         'balloon': 1,\n",
              "         'boat': 1,\n",
              "         'bridle': 2,\n",
              "         'buggying': 1,\n",
              "         'called': 2,\n",
              "         'competition.': 1,\n",
              "         'components': 1,\n",
              "         'comprising': 1,\n",
              "         'consists': 2,\n",
              "         'correct': 1,\n",
              "         'craft': 2,\n",
              "         'create': 1,\n",
              "         'designed': 2,\n",
              "         'different': 1,\n",
              "         'direction': 1,\n",
              "         'drag': 2,\n",
              "         'drag.': 1,\n",
              "         'e.g.': 1,\n",
              "         'even': 2,\n",
              "         'face': 1,\n",
              "         'festivals': 1,\n",
              "         'fishing': 1,\n",
              "         'fixed': 1,\n",
              "         'flight': 1,\n",
              "         'flow': 1,\n",
              "         'flown': 3,\n",
              "         'flows': 1,\n",
              "         'fluid': 1,\n",
              "         'force': 2,\n",
              "         'forces': 1,\n",
              "         'free-falling': 1,\n",
              "         'fugitive': 1,\n",
              "         'generate': 1,\n",
              "         'generated': 1,\n",
              "         'generates': 1,\n",
              "         'guide': 1,\n",
              "         'heavier-than-air': 1,\n",
              "         'high': 1,\n",
              "         'history': 1,\n",
              "         'horizontal': 1,\n",
              "         'hybrid': 1,\n",
              "         'individually': 1,\n",
              "         'interaction': 1,\n",
              "         'it.': 1,\n",
              "         'kite': 16,\n",
              "         'kite.': 1,\n",
              "         'kites': 8,\n",
              "         'kiting': 3,\n",
              "         'kiting.': 1,\n",
              "         'kytoon.': 1,\n",
              "         'landboarding': 1,\n",
              "         'large': 1,\n",
              "         'launch': 1,\n",
              "         'lift': 4,\n",
              "         'lifting': 1,\n",
              "         'lighter-than-air': 1,\n",
              "         'line': 1,\n",
              "         'lines': 1,\n",
              "         'liquids': 1,\n",
              "         'long': 1,\n",
              "         'low': 1,\n",
              "         'made': 1,\n",
              "         'man-lifting': 1,\n",
              "         'many': 1,\n",
              "         'may': 4,\n",
              "         'meets': 1,\n",
              "         'moving': 2,\n",
              "         'multi-line': 1,\n",
              "         'needed': 1,\n",
              "         'new': 1,\n",
              "         'often': 2,\n",
              "         'one': 1,\n",
              "         'opposed': 1,\n",
              "         'paragliders': 1,\n",
              "         'parakites': 1,\n",
              "         'part': 1,\n",
              "         'person': 1,\n",
              "         'point': 1,\n",
              "         'point.': 1,\n",
              "         'power': 2,\n",
              "         'practical': 1,\n",
              "         'pressure': 2,\n",
              "         'principles': 1,\n",
              "         'producing': 1,\n",
              "         'react': 1,\n",
              "         'recreation': 1,\n",
              "         'resultant': 1,\n",
              "         'running': 1,\n",
              "         'sailplane': 1,\n",
              "         'sets': 1,\n",
              "         'single': 1,\n",
              "         'snow': 1,\n",
              "         'sometimes': 1,\n",
              "         'sport': 1,\n",
              "         'static': 1,\n",
              "         'steerable': 1,\n",
              "         'still': 1,\n",
              "         'surface': 2,\n",
              "         'surfaces': 1,\n",
              "         'surfing': 1,\n",
              "         'sustains': 1,\n",
              "         'system': 1,\n",
              "         'technical': 2,\n",
              "         'tension': 1,\n",
              "         'tether': 1,\n",
              "         'tether-set-coupled': 1,\n",
              "         'tethered': 2,\n",
              "         'tethers': 2,\n",
              "         'though': 1,\n",
              "         'towing': 1,\n",
              "         'traditionally': 1,\n",
              "         'trend': 1,\n",
              "         'types': 1,\n",
              "         'untraditionally': 1,\n",
              "         'used': 2,\n",
              "         'uses.': 1,\n",
              "         'varied': 1,\n",
              "         'vector': 1,\n",
              "         'vehicle': 1,\n",
              "         'water.': 1,\n",
              "         'well': 1,\n",
              "         'wind': 2,\n",
              "         'wind.': 1,\n",
              "         'wing': 5,\n",
              "         'wings': 1,\n",
              "         'wings.': 1,\n",
              "         'worldwide.': 1})"
            ]
          },
          "metadata": {},
          "execution_count": 12
        }
      ]
    },
    {
      "cell_type": "code",
      "source": [
        "# 단어 빈도를 벡터로 만들기\n",
        "document_vector  = []\n",
        "doc_length = len(tokens) \n",
        "for key, value in kite_tokens.most_common():\n",
        "  document_vector.append(value/ doc_length) \n"
      ],
      "metadata": {
        "id": "tKNdwbr0a5Ut"
      },
      "execution_count": 14,
      "outputs": []
    },
    {
      "cell_type": "code",
      "source": [
        "document_vector"
      ],
      "metadata": {
        "colab": {
          "base_uri": "https://localhost:8080/"
        },
        "id": "F7BYLNN_cZCI",
        "outputId": "8a3b03c9-e5f1-4b0a-b4ec-ae554bff3b2b"
      },
      "execution_count": 15,
      "outputs": [
        {
          "output_type": "execute_result",
          "data": {
            "text/plain": [
              "[0.07207207207207207,\n",
              " 0.06756756756756757,\n",
              " 0.036036036036036036,\n",
              " 0.02252252252252252,\n",
              " 0.018018018018018018,\n",
              " 0.018018018018018018,\n",
              " 0.013513513513513514,\n",
              " 0.013513513513513514,\n",
              " 0.013513513513513514,\n",
              " 0.009009009009009009,\n",
              " 0.009009009009009009,\n",
              " 0.009009009009009009,\n",
              " 0.009009009009009009,\n",
              " 0.009009009009009009,\n",
              " 0.009009009009009009,\n",
              " 0.009009009009009009,\n",
              " 0.009009009009009009,\n",
              " 0.009009009009009009,\n",
              " 0.009009009009009009,\n",
              " 0.009009009009009009,\n",
              " 0.009009009009009009,\n",
              " 0.009009009009009009,\n",
              " 0.009009009009009009,\n",
              " 0.009009009009009009,\n",
              " 0.009009009009009009,\n",
              " 0.009009009009009009,\n",
              " 0.009009009009009009,\n",
              " 0.009009009009009009,\n",
              " 0.009009009009009009,\n",
              " 0.009009009009009009,\n",
              " 0.009009009009009009,\n",
              " 0.009009009009009009,\n",
              " 0.0045045045045045045,\n",
              " 0.0045045045045045045,\n",
              " 0.0045045045045045045,\n",
              " 0.0045045045045045045,\n",
              " 0.0045045045045045045,\n",
              " 0.0045045045045045045,\n",
              " 0.0045045045045045045,\n",
              " 0.0045045045045045045,\n",
              " 0.0045045045045045045,\n",
              " 0.0045045045045045045,\n",
              " 0.0045045045045045045,\n",
              " 0.0045045045045045045,\n",
              " 0.0045045045045045045,\n",
              " 0.0045045045045045045,\n",
              " 0.0045045045045045045,\n",
              " 0.0045045045045045045,\n",
              " 0.0045045045045045045,\n",
              " 0.0045045045045045045,\n",
              " 0.0045045045045045045,\n",
              " 0.0045045045045045045,\n",
              " 0.0045045045045045045,\n",
              " 0.0045045045045045045,\n",
              " 0.0045045045045045045,\n",
              " 0.0045045045045045045,\n",
              " 0.0045045045045045045,\n",
              " 0.0045045045045045045,\n",
              " 0.0045045045045045045,\n",
              " 0.0045045045045045045,\n",
              " 0.0045045045045045045,\n",
              " 0.0045045045045045045,\n",
              " 0.0045045045045045045,\n",
              " 0.0045045045045045045,\n",
              " 0.0045045045045045045,\n",
              " 0.0045045045045045045,\n",
              " 0.0045045045045045045,\n",
              " 0.0045045045045045045,\n",
              " 0.0045045045045045045,\n",
              " 0.0045045045045045045,\n",
              " 0.0045045045045045045,\n",
              " 0.0045045045045045045,\n",
              " 0.0045045045045045045,\n",
              " 0.0045045045045045045,\n",
              " 0.0045045045045045045,\n",
              " 0.0045045045045045045,\n",
              " 0.0045045045045045045,\n",
              " 0.0045045045045045045,\n",
              " 0.0045045045045045045,\n",
              " 0.0045045045045045045,\n",
              " 0.0045045045045045045,\n",
              " 0.0045045045045045045,\n",
              " 0.0045045045045045045,\n",
              " 0.0045045045045045045,\n",
              " 0.0045045045045045045,\n",
              " 0.0045045045045045045,\n",
              " 0.0045045045045045045,\n",
              " 0.0045045045045045045,\n",
              " 0.0045045045045045045,\n",
              " 0.0045045045045045045,\n",
              " 0.0045045045045045045,\n",
              " 0.0045045045045045045,\n",
              " 0.0045045045045045045,\n",
              " 0.0045045045045045045,\n",
              " 0.0045045045045045045,\n",
              " 0.0045045045045045045,\n",
              " 0.0045045045045045045,\n",
              " 0.0045045045045045045,\n",
              " 0.0045045045045045045,\n",
              " 0.0045045045045045045,\n",
              " 0.0045045045045045045,\n",
              " 0.0045045045045045045,\n",
              " 0.0045045045045045045,\n",
              " 0.0045045045045045045,\n",
              " 0.0045045045045045045,\n",
              " 0.0045045045045045045,\n",
              " 0.0045045045045045045,\n",
              " 0.0045045045045045045,\n",
              " 0.0045045045045045045,\n",
              " 0.0045045045045045045,\n",
              " 0.0045045045045045045,\n",
              " 0.0045045045045045045,\n",
              " 0.0045045045045045045,\n",
              " 0.0045045045045045045,\n",
              " 0.0045045045045045045,\n",
              " 0.0045045045045045045,\n",
              " 0.0045045045045045045,\n",
              " 0.0045045045045045045,\n",
              " 0.0045045045045045045,\n",
              " 0.0045045045045045045,\n",
              " 0.0045045045045045045,\n",
              " 0.0045045045045045045,\n",
              " 0.0045045045045045045,\n",
              " 0.0045045045045045045,\n",
              " 0.0045045045045045045,\n",
              " 0.0045045045045045045,\n",
              " 0.0045045045045045045,\n",
              " 0.0045045045045045045,\n",
              " 0.0045045045045045045,\n",
              " 0.0045045045045045045,\n",
              " 0.0045045045045045045,\n",
              " 0.0045045045045045045,\n",
              " 0.0045045045045045045,\n",
              " 0.0045045045045045045,\n",
              " 0.0045045045045045045,\n",
              " 0.0045045045045045045,\n",
              " 0.0045045045045045045,\n",
              " 0.0045045045045045045,\n",
              " 0.0045045045045045045,\n",
              " 0.0045045045045045045,\n",
              " 0.0045045045045045045,\n",
              " 0.0045045045045045045,\n",
              " 0.0045045045045045045,\n",
              " 0.0045045045045045045,\n",
              " 0.0045045045045045045,\n",
              " 0.0045045045045045045,\n",
              " 0.0045045045045045045]"
            ]
          },
          "metadata": {},
          "execution_count": 15
        }
      ]
    },
    {
      "cell_type": "code",
      "source": [
        "docs = [\"the faster harry got to the store, the faster harry, the faster, would get home.\"]\n",
        "docs.append(\"harry is hairy and faster than jill.\")\n",
        "docs.append(\"jill is not as hairy as harry.\")\n",
        "docs"
      ],
      "metadata": {
        "colab": {
          "base_uri": "https://localhost:8080/"
        },
        "id": "8SbnnxwDcjaN",
        "outputId": "8a9161b2-ec3f-4f26-8250-a13bdea91a56"
      },
      "execution_count": 24,
      "outputs": [
        {
          "output_type": "execute_result",
          "data": {
            "text/plain": [
              "['the faster harry got to the store, the faster harry, the faster, would get home.',\n",
              " 'harry is hairy and faster than jill.',\n",
              " 'jill is not as hairy as harry.']"
            ]
          },
          "metadata": {},
          "execution_count": 24
        }
      ]
    },
    {
      "cell_type": "code",
      "source": [
        "doc_tokens= []\n",
        "for doc in docs :\n",
        "  doc_tokens += [ sorted(tokenizer.tokenize(doc.lower()))] \n",
        "doc_tokens"
      ],
      "metadata": {
        "colab": {
          "base_uri": "https://localhost:8080/"
        },
        "id": "MUP-XRH8dDxB",
        "outputId": "77cfbb29-353a-4a6e-dd38-8e0e5f618054"
      },
      "execution_count": 25,
      "outputs": [
        {
          "output_type": "execute_result",
          "data": {
            "text/plain": [
              "[[',',\n",
              "  ',',\n",
              "  ',',\n",
              "  '.',\n",
              "  'faster',\n",
              "  'faster',\n",
              "  'faster',\n",
              "  'get',\n",
              "  'got',\n",
              "  'harry',\n",
              "  'harry',\n",
              "  'home',\n",
              "  'store',\n",
              "  'the',\n",
              "  'the',\n",
              "  'the',\n",
              "  'the',\n",
              "  'to',\n",
              "  'would'],\n",
              " ['.', 'and', 'faster', 'hairy', 'harry', 'is', 'jill', 'than'],\n",
              " ['.', 'as', 'as', 'hairy', 'harry', 'is', 'jill', 'not']]"
            ]
          },
          "metadata": {},
          "execution_count": 25
        }
      ]
    },
    {
      "cell_type": "code",
      "source": [
        "len(doc_tokens[0])"
      ],
      "metadata": {
        "colab": {
          "base_uri": "https://localhost:8080/"
        },
        "id": "-kybzS-hdL9N",
        "outputId": "a0559b6e-4021-4202-abac-e39c70c2bcdb"
      },
      "execution_count": 28,
      "outputs": [
        {
          "output_type": "execute_result",
          "data": {
            "text/plain": [
              "19"
            ]
          },
          "metadata": {},
          "execution_count": 28
        }
      ]
    },
    {
      "cell_type": "code",
      "source": [
        "all_doc_tokens = sum(doc_tokens,[]) ;all_doc_tokens\n",
        "len(all_doc_tokens)"
      ],
      "metadata": {
        "colab": {
          "base_uri": "https://localhost:8080/"
        },
        "id": "48wfr4jgdTQn",
        "outputId": "c0eece28-f231-4f63-e955-b7f08d2e5721"
      },
      "execution_count": 32,
      "outputs": [
        {
          "output_type": "execute_result",
          "data": {
            "text/plain": [
              "35"
            ]
          },
          "metadata": {},
          "execution_count": 32
        }
      ]
    },
    {
      "cell_type": "code",
      "source": [
        "lexicon = sorted(set(all_doc_tokens)) \n",
        "len(lexicon)\n"
      ],
      "metadata": {
        "colab": {
          "base_uri": "https://localhost:8080/"
        },
        "id": "whU-lWM_dsCA",
        "outputId": "85c22f9d-1972-4ac8-eb69-294e6d6487a4"
      },
      "execution_count": 33,
      "outputs": [
        {
          "output_type": "execute_result",
          "data": {
            "text/plain": [
              "18"
            ]
          },
          "metadata": {},
          "execution_count": 33
        }
      ]
    },
    {
      "cell_type": "code",
      "source": [
        "from collections import OrderedDict \n",
        "zero_vector = OrderedDict((token,0) for token in lexicon) \n",
        "zero_vector"
      ],
      "metadata": {
        "colab": {
          "base_uri": "https://localhost:8080/"
        },
        "id": "ui_8fOJzedE7",
        "outputId": "cc7c9062-7dc7-4618-c097-f549671cfb56"
      },
      "execution_count": 34,
      "outputs": [
        {
          "output_type": "execute_result",
          "data": {
            "text/plain": [
              "OrderedDict([(',', 0),\n",
              "             ('.', 0),\n",
              "             ('and', 0),\n",
              "             ('as', 0),\n",
              "             ('faster', 0),\n",
              "             ('get', 0),\n",
              "             ('got', 0),\n",
              "             ('hairy', 0),\n",
              "             ('harry', 0),\n",
              "             ('home', 0),\n",
              "             ('is', 0),\n",
              "             ('jill', 0),\n",
              "             ('not', 0),\n",
              "             ('store', 0),\n",
              "             ('than', 0),\n",
              "             ('the', 0),\n",
              "             ('to', 0),\n",
              "             ('would', 0)])"
            ]
          },
          "metadata": {},
          "execution_count": 34
        }
      ]
    },
    {
      "cell_type": "code",
      "source": [
        "len(lexicon) "
      ],
      "metadata": {
        "colab": {
          "base_uri": "https://localhost:8080/"
        },
        "id": "t_1K95jYedQV",
        "outputId": "c6504272-4ed6-47fc-85ce-433f0b188631"
      },
      "execution_count": 38,
      "outputs": [
        {
          "output_type": "execute_result",
          "data": {
            "text/plain": [
              "18"
            ]
          },
          "metadata": {},
          "execution_count": 38
        }
      ]
    },
    {
      "cell_type": "code",
      "source": [
        "docs"
      ],
      "metadata": {
        "colab": {
          "base_uri": "https://localhost:8080/"
        },
        "id": "k7188kVMf4jq",
        "outputId": "c07049c7-3574-427a-c4fa-1537c52f28e1"
      },
      "execution_count": 39,
      "outputs": [
        {
          "output_type": "execute_result",
          "data": {
            "text/plain": [
              "['the faster harry got to the store, the faster harry, the faster, would get home.',\n",
              " 'harry is hairy and faster than jill.',\n",
              " 'jill is not as hairy as harry.']"
            ]
          },
          "metadata": {},
          "execution_count": 39
        }
      ]
    },
    {
      "cell_type": "code",
      "source": [
        "import copy \n",
        "doc_vectors = []\n",
        "for doc in docs : \n",
        "  vec = copy.copy(zero_vector) # 주어진 벡터를 복사해서 그 벡터와는 독립적인 벡터를 생성 참조를 해서 재사용하는 것이 아니라 새로운 벡터를 생성\n",
        "  tokens = tokenizer.tokenize(doc.lower()) \n",
        "  token_counts = Counter(tokens) \n",
        "  for key, value in token_counts.items():\n",
        "    vec[key] = value / len(lexicon)  # len(lexicon) = 18\n",
        "  doc_vectors.append(vec)"
      ],
      "metadata": {
        "id": "4J2Vc9KneotO"
      },
      "execution_count": 35,
      "outputs": []
    },
    {
      "cell_type": "code",
      "source": [
        "doc_vectors"
      ],
      "metadata": {
        "colab": {
          "base_uri": "https://localhost:8080/"
        },
        "id": "T3soxkyNeKbl",
        "outputId": "49cf49fb-b6f7-4b9e-dbdc-0b9cb6dc5b64"
      },
      "execution_count": 36,
      "outputs": [
        {
          "output_type": "execute_result",
          "data": {
            "text/plain": [
              "[OrderedDict([(',', 0.16666666666666666),\n",
              "              ('.', 0.05555555555555555),\n",
              "              ('and', 0),\n",
              "              ('as', 0),\n",
              "              ('faster', 0.16666666666666666),\n",
              "              ('get', 0.05555555555555555),\n",
              "              ('got', 0.05555555555555555),\n",
              "              ('hairy', 0),\n",
              "              ('harry', 0.1111111111111111),\n",
              "              ('home', 0.05555555555555555),\n",
              "              ('is', 0),\n",
              "              ('jill', 0),\n",
              "              ('not', 0),\n",
              "              ('store', 0.05555555555555555),\n",
              "              ('than', 0),\n",
              "              ('the', 0.2222222222222222),\n",
              "              ('to', 0.05555555555555555),\n",
              "              ('would', 0.05555555555555555)]),\n",
              " OrderedDict([(',', 0),\n",
              "              ('.', 0.05555555555555555),\n",
              "              ('and', 0.05555555555555555),\n",
              "              ('as', 0),\n",
              "              ('faster', 0.05555555555555555),\n",
              "              ('get', 0),\n",
              "              ('got', 0),\n",
              "              ('hairy', 0.05555555555555555),\n",
              "              ('harry', 0.05555555555555555),\n",
              "              ('home', 0),\n",
              "              ('is', 0.05555555555555555),\n",
              "              ('jill', 0.05555555555555555),\n",
              "              ('not', 0),\n",
              "              ('store', 0),\n",
              "              ('than', 0.05555555555555555),\n",
              "              ('the', 0),\n",
              "              ('to', 0),\n",
              "              ('would', 0)]),\n",
              " OrderedDict([(',', 0),\n",
              "              ('.', 0.05555555555555555),\n",
              "              ('and', 0),\n",
              "              ('as', 0.1111111111111111),\n",
              "              ('faster', 0),\n",
              "              ('get', 0),\n",
              "              ('got', 0),\n",
              "              ('hairy', 0.05555555555555555),\n",
              "              ('harry', 0.05555555555555555),\n",
              "              ('home', 0),\n",
              "              ('is', 0.05555555555555555),\n",
              "              ('jill', 0.05555555555555555),\n",
              "              ('not', 0.05555555555555555),\n",
              "              ('store', 0),\n",
              "              ('than', 0),\n",
              "              ('the', 0),\n",
              "              ('to', 0),\n",
              "              ('would', 0)])]"
            ]
          },
          "metadata": {},
          "execution_count": 36
        }
      ]
    },
    {
      "cell_type": "code",
      "source": [
        "# 벡터공간 : 그 공간안에 나타날 수 있는 모든 가능한 벡터의 집합, 벡터의 성분개수는 해당 벡터 공간의 차원수 \n",
        "# 코사인 유사도,  두벡터의 거리 대신 각도에 기초해서 두벡터의 유사도를 측정, 유클리드 내적 공식에서 유도\n",
        "# a.dot(b) ==np.linalg.nom(a) * np.linalg.norm(b) / np.cos(theta) "
      ],
      "metadata": {
        "id": "x27LykHJeLC0"
      },
      "execution_count": 40,
      "outputs": []
    },
    {
      "cell_type": "code",
      "source": [
        "import math \n",
        "def cosine_sim(vec1,vec2):\n",
        "  \"\"\"두 문서 표현 벡터의 코사인 유사도를 계산하는 함수\"\"\"\n",
        "  vec1= [val for val in vec1.values()] \n",
        "  vec2= [val for val in vec2.values()] \n",
        "  dot_prod = 0\n",
        "  for i, v in enumerate(vec1):  # 곱한것들의 합\n",
        "    dot_prod += v*vec2[i] \n",
        "  \n",
        "  mag_1 = math.sqrt(sum([x**2 for x in vec1])) # norm(a)\n",
        "  mag_2 = math.sqrt(sum([x**2 for x in vec2])) # norm(b)\n",
        "  return dot_prod / (mag1*mag2)\n",
        "# 코사인유사도1 : 길이는 다를수있지만 방향은 정확히 일치함을 의미. 두 문서의 유사도가 1이면 비슷한 내용을 담고있을 가능성이 크다\n",
        "# tf벡터는 같은 사분면에 있다. 그러나 코사인 유사도가 음수가 되려면 두벡터 중 하나가 다른 사분면에 있어야하는데 tf벡터는 모든성분이 양수이기에 불가능\n"
      ],
      "metadata": {
        "id": "VbSFgDx5noqC"
      },
      "execution_count": 41,
      "outputs": []
    },
    {
      "cell_type": "code",
      "source": [
        ""
      ],
      "metadata": {
        "id": "TOqvdldcoL_G"
      },
      "execution_count": null,
      "outputs": []
    }
  ]
}