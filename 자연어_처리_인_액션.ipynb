{
  "nbformat": 4,
  "nbformat_minor": 0,
  "metadata": {
    "colab": {
      "name": "자연어 처리 인 액션.ipynb",
      "provenance": [],
      "collapsed_sections": [],
      "toc_visible": true,
      "authorship_tag": "ABX9TyOxlRc/FwjlglKBMDRskk3C",
      "include_colab_link": true
    },
    "kernelspec": {
      "name": "python3",
      "display_name": "Python 3"
    },
    "language_info": {
      "name": "python"
    }
  },
  "cells": [
    {
      "cell_type": "markdown",
      "metadata": {
        "id": "view-in-github",
        "colab_type": "text"
      },
      "source": [
        "<a href=\"https://colab.research.google.com/github/jaekyoungkim/nlp_in_action/blob/main/%EC%9E%90%EC%97%B0%EC%96%B4_%EC%B2%98%EB%A6%AC_%EC%9D%B8_%EC%95%A1%EC%85%98.ipynb\" target=\"_parent\"><img src=\"https://colab.research.google.com/assets/colab-badge.svg\" alt=\"Open In Colab\"/></a>"
      ]
    },
    {
      "cell_type": "code",
      "execution_count": 1,
      "metadata": {
        "id": "9DM17p2KE3Gl",
        "colab": {
          "base_uri": "https://localhost:8080/"
        },
        "outputId": "a9347751-cffb-496b-a0a8-4aa0742a8f69"
      },
      "outputs": [
        {
          "output_type": "stream",
          "name": "stdout",
          "text": [
            "Cloning into 'nlpia'...\n",
            "remote: Enumerating objects: 6365, done.\u001b[K\n",
            "remote: Counting objects: 100% (189/189), done.\u001b[K\n",
            "remote: Compressing objects: 100% (114/114), done.\u001b[K\n",
            "remote: Total 6365 (delta 86), reused 132 (delta 55), pack-reused 6176\u001b[K\n",
            "Receiving objects: 100% (6365/6365), 124.18 MiB | 26.38 MiB/s, done.\n",
            "Resolving deltas: 100% (4033/4033), done.\n"
          ]
        }
      ],
      "source": [
        "!git clone https://github.com/totalgood/nlpia"
      ]
    },
    {
      "cell_type": "code",
      "source": [
        "#"
      ],
      "metadata": {
        "id": "5UflWSmumDUu"
      },
      "execution_count": null,
      "outputs": []
    },
    {
      "cell_type": "markdown",
      "source": [
        "# ch01. 사고의 단위 : nlp개요 "
      ],
      "metadata": {
        "id": "w02UuNpRqkSq"
      }
    },
    {
      "cell_type": "code",
      "source": [
        "# 정규식\n",
        "import re  # regex/re 두개 있음 \n",
        "r = \"(hi|hello|hey)[ ] *([a-z]*)\" # a-z에 포함하는 글자가 임의의 횟수로 나타날수 있음"
      ],
      "metadata": {
        "id": "iqInIFhnqndP"
      },
      "execution_count": 21,
      "outputs": []
    },
    {
      "cell_type": "code",
      "source": [
        "re.match(r, \"hello rosa\", flags= re.IGNORECASE)\n"
      ],
      "metadata": {
        "colab": {
          "base_uri": "https://localhost:8080/"
        },
        "id": "nUMzjwQtrEky",
        "outputId": "65ddaad2-3af8-4dd0-ddd2-c59693b2a4a7"
      },
      "execution_count": 4,
      "outputs": [
        {
          "output_type": "execute_result",
          "data": {
            "text/plain": [
              "<re.Match object; span=(0, 10), match='hello rosa'>"
            ]
          },
          "metadata": {},
          "execution_count": 4
        }
      ]
    },
    {
      "cell_type": "code",
      "source": [
        "re.match(r, \"hi ho, hiho, it's off to work ...\", flags= re.IGNORECASE) \n"
      ],
      "metadata": {
        "colab": {
          "base_uri": "https://localhost:8080/"
        },
        "id": "Ow7MRVOYrFU8",
        "outputId": "c3718d0d-6018-46c8-bed8-18f455e5acd4"
      },
      "execution_count": 5,
      "outputs": [
        {
          "output_type": "execute_result",
          "data": {
            "text/plain": [
              "<re.Match object; span=(0, 5), match='hi ho'>"
            ]
          },
          "metadata": {},
          "execution_count": 5
        }
      ]
    },
    {
      "cell_type": "code",
      "source": [
        "re.match(r, \"hey what's up.\", flags= re.IGNORECASE)  # 대소문자 구분 무시함\n"
      ],
      "metadata": {
        "colab": {
          "base_uri": "https://localhost:8080/"
        },
        "id": "hMR19i5erGF4",
        "outputId": "ebd28d1e-175f-44d5-92df-9097fdc26cd7"
      },
      "execution_count": 7,
      "outputs": [
        {
          "output_type": "execute_result",
          "data": {
            "text/plain": [
              "<re.Match object; span=(0, 8), match='hey what'>"
            ]
          },
          "metadata": {},
          "execution_count": 7
        }
      ]
    },
    {
      "cell_type": "code",
      "source": [
        "# code error \n",
        "# r = r'[^a-z]*([y]o|[h']?ello|ok|hey|(good[ ])?(morn[gin']{0,3}|'\\r'afternoon|even[gin']{0,3}))[\\s.;:]{1,3}([a-z]{1,20})'\n",
        "# r' : 정규 표현식 아니라 원시 문자열을 뜻함\n"
      ],
      "metadata": {
        "id": "JT-HOeDvq7Si"
      },
      "execution_count": 31,
      "outputs": []
    },
    {
      "cell_type": "code",
      "source": [
        "re_greeting = re.compile(r, flags =re.IGNORECASE) # compile 메서드로 정규표현식을 미리 컴파일해두면 정규식을 적용할때마다 옵션을 지정할 필요 없음"
      ],
      "metadata": {
        "id": "9m9dV-Jwt27O"
      },
      "execution_count": 22,
      "outputs": []
    },
    {
      "cell_type": "code",
      "source": [
        "re_greeting.match('Hello Rosa') "
      ],
      "metadata": {
        "colab": {
          "base_uri": "https://localhost:8080/"
        },
        "id": "Wp3Y9utluTe6",
        "outputId": "c707d3fa-d439-4857-f677-270bc9aef4d3"
      },
      "execution_count": 23,
      "outputs": [
        {
          "output_type": "execute_result",
          "data": {
            "text/plain": [
              "<re.Match object; span=(0, 10), match='Hello Rosa'>"
            ]
          },
          "metadata": {},
          "execution_count": 23
        }
      ]
    },
    {
      "cell_type": "code",
      "source": [
        "re_greeting.match('Good moring Rosa') "
      ],
      "metadata": {
        "id": "9uMLmOyRuXqY"
      },
      "execution_count": 24,
      "outputs": []
    },
    {
      "cell_type": "code",
      "source": [
        "re_greeting.match('good evening rosa parks')"
      ],
      "metadata": {
        "id": "Fp1jFLgPubo9"
      },
      "execution_count": 25,
      "outputs": []
    },
    {
      "cell_type": "code",
      "source": [
        "my_names = set(['rosa','rose','chatty','chatbot','bot','chatterbot'])\n",
        "curt_names = set(['hal','you','u']) \n",
        "greeter_name ='' #아직 챗봇은 대화상대가 누군지 모름\n",
        "match = re_greeting.match(input())\n",
        "if match:\n",
        "  at_name = match.groups()[-1]\n",
        "  if at_name in curt_names:\n",
        "    print('good one')\n",
        "  elif at_name.lower() in my_names: \n",
        "    print('hi {} how are you?'.format(greeter_name)) \n"
      ],
      "metadata": {
        "colab": {
          "base_uri": "https://localhost:8080/"
        },
        "id": "kMAMVY2V0WFe",
        "outputId": "d17c5f1c-2a3f-4a3b-dbf1-6124f002b098"
      },
      "execution_count": 30,
      "outputs": [
        {
          "output_type": "stream",
          "name": "stdout",
          "text": [
            "hello rosa\n",
            "hi  how are you?\n"
          ]
        }
      ]
    },
    {
      "cell_type": "code",
      "source": [
        "my_names = set(['rosa','rose','chatty','chatbot','bot','chatterbot'])\n",
        "curt_names = set(['hal','you','u']) \n",
        "greeter_name ='' #아직 챗봇은 대화상대가 누군지 모름\n",
        "match = re_greeting.match(input())\n",
        "if match:\n",
        "  at_name = match.groups()[-1]\n",
        "  if at_name in curt_names:\n",
        "    print('good one')\n",
        "  elif at_name.lower() in my_names: \n",
        "    print('hi {} how are you?'.format(greeter_name)) "
      ],
      "metadata": {
        "colab": {
          "base_uri": "https://localhost:8080/"
        },
        "id": "PEnEZoXF5LtK",
        "outputId": "f77cc635-0927-476a-d4a9-3bb05001b901"
      },
      "execution_count": 33,
      "outputs": [
        {
          "output_type": "stream",
          "name": "stdout",
          "text": [
            "hello you\n",
            "good one\n"
          ]
        }
      ]
    },
    {
      "cell_type": "code",
      "source": [
        "# 부록b의 정규식\n",
        "# 프로그램 언어로 이루어진 하나의 작은 프로그램\n",
        "# 문자열을  컴파일해서 하나의 작은 프로그램을 만들고 그것을 다른 문자열들에 대해 실행함으로써 패턴 부합을 수행\n",
        "# | or\n",
        "# () 그룹묶기\n",
        "# [] 문자부류\n",
        "# \\s \\b \\d \\w  흔히쓰이는 문자 부류들의 단축표기\n",
        "# * ? + 반복횟수 지정\n",
        "# {7,10} : 반복횟수를 좀더 구체적으로 지정\n"
      ],
      "metadata": {
        "id": "DCd0tViO5ULF"
      },
      "execution_count": 34,
      "outputs": []
    },
    {
      "cell_type": "code",
      "source": [
        "import re \n",
        "re.findall(r'Hannes|Hobson|Cole', 'Hobson lane, Cole Howard, and Hannes Max Hapke') \n"
      ],
      "metadata": {
        "colab": {
          "base_uri": "https://localhost:8080/"
        },
        "id": "E-EqQ4hz8fw7",
        "outputId": "a246152a-94bd-45ef-bdeb-e8b6292fb131"
      },
      "execution_count": 35,
      "outputs": [
        {
          "output_type": "execute_result",
          "data": {
            "text/plain": [
              "['Hobson', 'Cole', 'Hannes']"
            ]
          },
          "metadata": {},
          "execution_count": 35
        }
      ]
    },
    {
      "cell_type": "code",
      "source": [
        "re.findall(r'H|Hobson|Cole', 'Hobson lane, Cole Howard, and Hannes Max Hapke')"
      ],
      "metadata": {
        "colab": {
          "base_uri": "https://localhost:8080/"
        },
        "id": "qaCioZZV8wUT",
        "outputId": "4eaa5e44-dceb-48a0-be89-c38fe4067642"
      },
      "execution_count": 38,
      "outputs": [
        {
          "output_type": "execute_result",
          "data": {
            "text/plain": [
              "['H', 'Cole', 'H', 'H', 'H']"
            ]
          },
          "metadata": {},
          "execution_count": 38
        }
      ]
    },
    {
      "cell_type": "code",
      "source": [
        "# () 그룹묶기\n",
        "# r'(kitt|dogg)y\n",
        "match = re.match(r'(kitt|dogg)y' , \"doggy\") "
      ],
      "metadata": {
        "id": "Ope3YSZU89y-"
      },
      "execution_count": 39,
      "outputs": []
    },
    {
      "cell_type": "code",
      "source": [
        "match.group()"
      ],
      "metadata": {
        "colab": {
          "base_uri": "https://localhost:8080/",
          "height": 35
        },
        "id": "zohrxK6l9a-i",
        "outputId": "fcface68-2983-461c-b374-02e228ad8b2c"
      },
      "execution_count": 40,
      "outputs": [
        {
          "output_type": "execute_result",
          "data": {
            "text/plain": [
              "'doggy'"
            ],
            "application/vnd.google.colaboratory.intrinsic+json": {
              "type": "string"
            }
          },
          "metadata": {},
          "execution_count": 40
        }
      ]
    },
    {
      "cell_type": "code",
      "source": [
        "match.group(0)"
      ],
      "metadata": {
        "colab": {
          "base_uri": "https://localhost:8080/",
          "height": 35
        },
        "id": "JeUWCIoH9cGo",
        "outputId": "14e2ad19-7edb-4d1e-9102-f1c351f8f830"
      },
      "execution_count": 41,
      "outputs": [
        {
          "output_type": "execute_result",
          "data": {
            "text/plain": [
              "'doggy'"
            ],
            "application/vnd.google.colaboratory.intrinsic+json": {
              "type": "string"
            }
          },
          "metadata": {},
          "execution_count": 41
        }
      ]
    },
    {
      "cell_type": "code",
      "source": [
        "match.groups()"
      ],
      "metadata": {
        "colab": {
          "base_uri": "https://localhost:8080/"
        },
        "id": "IViMlgrg9ehj",
        "outputId": "12bf2e0f-306d-4aa9-85b3-11129c073b5d"
      },
      "execution_count": 42,
      "outputs": [
        {
          "output_type": "execute_result",
          "data": {
            "text/plain": [
              "('dogg',)"
            ]
          },
          "metadata": {},
          "execution_count": 42
        }
      ]
    },
    {
      "cell_type": "code",
      "source": [
        "match = re.match(r'((kitt|dogg)(y))',  \"doggy\") # 괄호를 더 추가해서 전체 부합과 접미사도 개별적인 그룹으로 묶기\n"
      ],
      "metadata": {
        "id": "YAdn53Tq9f8f"
      },
      "execution_count": 46,
      "outputs": []
    },
    {
      "cell_type": "code",
      "source": [
        "match.groups()"
      ],
      "metadata": {
        "colab": {
          "base_uri": "https://localhost:8080/"
        },
        "id": "yWGQnBFb9o7o",
        "outputId": "3bb5b0aa-ce60-4474-da48-38240811d3cc"
      },
      "execution_count": 49,
      "outputs": [
        {
          "output_type": "execute_result",
          "data": {
            "text/plain": [
              "('doggy', 'dogg', 'y')"
            ]
          },
          "metadata": {},
          "execution_count": 49
        }
      ]
    },
    {
      "cell_type": "code",
      "source": [
        "match.group(3)"
      ],
      "metadata": {
        "colab": {
          "base_uri": "https://localhost:8080/",
          "height": 35
        },
        "id": "e7yEjhfg9s3G",
        "outputId": "1fed5a54-3be9-4e34-8aea-d765895e9eec"
      },
      "execution_count": 52,
      "outputs": [
        {
          "output_type": "execute_result",
          "data": {
            "text/plain": [
              "'y'"
            ],
            "application/vnd.google.colaboratory.intrinsic+json": {
              "type": "string"
            }
          },
          "metadata": {},
          "execution_count": 52
        }
      ]
    },
    {
      "cell_type": "code",
      "source": [
        "# [ ] 문자부류\n",
        "# [abcd] : a or b or c or d\n",
        "# [a-d] : a-d\n",
        "# [a-c1-3] : [abc123] \n"
      ],
      "metadata": {
        "id": "OvHhdPM99zL_"
      },
      "execution_count": 53,
      "outputs": []
    },
    {
      "cell_type": "code",
      "source": [
        "from collections import Counter  # counter : 토큰들을 각각의 통으로 분류하고 그 개수를 세는 기능 제공 \n",
        "Counter('guten morgen rosa'.split())"
      ],
      "metadata": {
        "colab": {
          "base_uri": "https://localhost:8080/"
        },
        "id": "OT6jBBul_DAp",
        "outputId": "bc93b397-8f7d-4941-d3c8-b06ef6dc4b3d"
      },
      "execution_count": 55,
      "outputs": [
        {
          "output_type": "execute_result",
          "data": {
            "text/plain": [
              "Counter({'guten': 1, 'morgen': 1, 'rosa': 1})"
            ]
          },
          "metadata": {},
          "execution_count": 55
        }
      ]
    },
    {
      "cell_type": "code",
      "source": [
        "from itertools import permutations\n",
        "[\" \".join(combo) for combo in permutations(\"good morning rosa!\".split(),3)]"
      ],
      "metadata": {
        "colab": {
          "base_uri": "https://localhost:8080/"
        },
        "id": "_RKZOfzG_IA6",
        "outputId": "98c0f51e-37ad-42a8-e83b-f297e73a5ba9"
      },
      "execution_count": 56,
      "outputs": [
        {
          "output_type": "execute_result",
          "data": {
            "text/plain": [
              "['good morning rosa!',\n",
              " 'good rosa! morning',\n",
              " 'morning good rosa!',\n",
              " 'morning rosa! good',\n",
              " 'rosa! good morning',\n",
              " 'rosa! morning good']"
            ]
          },
          "metadata": {},
          "execution_count": 56
        }
      ]
    },
    {
      "cell_type": "code",
      "source": [
        "#  단어 순서가 중요한 좀더 길고 복잡한 문장\n",
        "s = \"\"\"find textbooks with titles containing nlp or natural and language or computational and linguistics.\"\"\"\n",
        "len(set(s.split()))"
      ],
      "metadata": {
        "colab": {
          "base_uri": "https://localhost:8080/"
        },
        "id": "n7dhQUv_GKSB",
        "outputId": "1b87de12-552c-4cea-d33e-a386e5d903de"
      },
      "execution_count": 57,
      "outputs": [
        {
          "output_type": "execute_result",
          "data": {
            "text/plain": [
              "12"
            ]
          },
          "metadata": {},
          "execution_count": 57
        }
      ]
    },
    {
      "cell_type": "code",
      "source": [
        "import numpy as np\n",
        "np.arange(1, 12+1).prod()  # factorial(12)\n",
        "# sapcy, syntaxnet: 자연어 문장에서 구문적, 놀리적 관계를 추출하게 해줌\n"
      ],
      "metadata": {
        "colab": {
          "base_uri": "https://localhost:8080/"
        },
        "id": "5Ypi3-lxGgSP",
        "outputId": "f91ccfaf-d9e7-4b69-9815-86f2337ab603"
      },
      "execution_count": 8,
      "outputs": [
        {
          "output_type": "execute_result",
          "data": {
            "text/plain": [
              "479001600"
            ]
          },
          "metadata": {},
          "execution_count": 8
        }
      ]
    },
    {
      "cell_type": "code",
      "source": [
        "# 챗봇을 만들기 위한 알고리즘\n",
        "# 1. 파싱 :텍스트에서 특징들과 구조적 수치자료를 추출\n",
        "# 2. 분석 : 정서, 문법성, 으미론에 대한 평점\n",
        "# 3. 생성 : 적절한 응답문 작성\n",
        "# 4, 실행"
      ],
      "metadata": {
        "id": "mqBQtqqrHDsy"
      },
      "execution_count": null,
      "outputs": []
    },
    {
      "cell_type": "code",
      "source": [
        ""
      ],
      "metadata": {
        "id": "oQypiRxuGkEj"
      },
      "execution_count": null,
      "outputs": []
    },
    {
      "cell_type": "markdown",
      "source": [
        "# ch02. 나만의 어취 구축 : 단어 토큰화 "
      ],
      "metadata": {
        "id": "az-xXqq3IhrF"
      }
    },
    {
      "cell_type": "code",
      "source": [
        "# 토큰 : 문자열을 개별적인 의미 단위들로 분할하는 방법을 적용한 단위 \n",
        "# we'll -> we will로 구분할 수 있어야함\n",
        "# 토큰생성기를 이용한 어휘구축\n",
        "# 컴퓨터 언어로된 소스코드를 토크화하는데 쓰이는 토큰 생성기 :  스캐너, 렉서(lexical analyzer) \n",
        "# 어휘집 , 파서(컴파일러), 토큰, 용어, 단어, n그램 등의 용어들이 사용됨\n",
        "# 토큰화는 구조가 없는 자료인 자연어 텍스트를 정보 조각들로 분할함\n"
      ],
      "metadata": {
        "id": "HI3GSx_nIk6F"
      },
      "execution_count": 60,
      "outputs": []
    },
    {
      "cell_type": "code",
      "source": [
        "sentence = '''thomas jefferson began building monticello at the age of 26.'''\n",
        "sentence.split()"
      ],
      "metadata": {
        "colab": {
          "base_uri": "https://localhost:8080/"
        },
        "id": "0Y8cGYiBKg0G",
        "outputId": "40874d31-f733-4027-d9a8-296650b95b35"
      },
      "execution_count": 2,
      "outputs": [
        {
          "output_type": "execute_result",
          "data": {
            "text/plain": [
              "['thomas',\n",
              " 'jefferson',\n",
              " 'began',\n",
              " 'building',\n",
              " 'monticello',\n",
              " 'at',\n",
              " 'the',\n",
              " 'age',\n",
              " 'of',\n",
              " '26.']"
            ]
          },
          "metadata": {},
          "execution_count": 2
        }
      ]
    },
    {
      "cell_type": "code",
      "source": [
        "str.split(sentence)"
      ],
      "metadata": {
        "colab": {
          "base_uri": "https://localhost:8080/"
        },
        "id": "UN0W4DdvKnlu",
        "outputId": "e5d08a43-6174-40cf-f757-4d6888c33acc"
      },
      "execution_count": 3,
      "outputs": [
        {
          "output_type": "execute_result",
          "data": {
            "text/plain": [
              "['thomas',\n",
              " 'jefferson',\n",
              " 'began',\n",
              " 'building',\n",
              " 'monticello',\n",
              " 'at',\n",
              " 'the',\n",
              " 'age',\n",
              " 'of',\n",
              " '26.']"
            ]
          },
          "metadata": {},
          "execution_count": 3
        }
      ]
    },
    {
      "cell_type": "code",
      "source": [
        "token_sequence = str.split(sentence)\n",
        "vocab = sorted(set(token_sequence))\n",
        "', '.join(vocab)"
      ],
      "metadata": {
        "colab": {
          "base_uri": "https://localhost:8080/",
          "height": 35
        },
        "id": "w47F5YHLKqi4",
        "outputId": "47594ffc-a6a5-4d2b-9e70-f2a683c263c5"
      },
      "execution_count": 4,
      "outputs": [
        {
          "output_type": "execute_result",
          "data": {
            "text/plain": [
              "'26., age, at, began, building, jefferson, monticello, of, the, thomas'"
            ],
            "application/vnd.google.colaboratory.intrinsic+json": {
              "type": "string"
            }
          },
          "metadata": {},
          "execution_count": 4
        }
      ]
    },
    {
      "cell_type": "code",
      "source": [
        "num_tokens = len(token_sequence) ;num_tokens"
      ],
      "metadata": {
        "colab": {
          "base_uri": "https://localhost:8080/"
        },
        "id": "3KIg3o2fLMtW",
        "outputId": "6d941e0c-710b-47fa-90f2-d58608a17afb"
      },
      "execution_count": 5,
      "outputs": [
        {
          "output_type": "execute_result",
          "data": {
            "text/plain": [
              "10"
            ]
          },
          "metadata": {},
          "execution_count": 5
        }
      ]
    },
    {
      "cell_type": "code",
      "source": [
        "vocab_size = len(vocab) ; vocab_size"
      ],
      "metadata": {
        "colab": {
          "base_uri": "https://localhost:8080/"
        },
        "id": "fIWKU25hLPmc",
        "outputId": "d2826b4d-ccc5-422d-ff0e-375030e034e1"
      },
      "execution_count": 6,
      "outputs": [
        {
          "output_type": "execute_result",
          "data": {
            "text/plain": [
              "10"
            ]
          },
          "metadata": {},
          "execution_count": 6
        }
      ]
    },
    {
      "cell_type": "code",
      "source": [
        "onehot_vectors = np.zeros((num_tokens, vocab_size), int) ;onehot_vectors"
      ],
      "metadata": {
        "colab": {
          "base_uri": "https://localhost:8080/"
        },
        "id": "8dpjr9BXLYxY",
        "outputId": "661d5f59-f6dc-4cc5-d685-4c4242cbac48"
      },
      "execution_count": 10,
      "outputs": [
        {
          "output_type": "execute_result",
          "data": {
            "text/plain": [
              "array([[0, 0, 0, 0, 0, 0, 0, 0, 0, 0],\n",
              "       [0, 0, 0, 0, 0, 0, 0, 0, 0, 0],\n",
              "       [0, 0, 0, 0, 0, 0, 0, 0, 0, 0],\n",
              "       [0, 0, 0, 0, 0, 0, 0, 0, 0, 0],\n",
              "       [0, 0, 0, 0, 0, 0, 0, 0, 0, 0],\n",
              "       [0, 0, 0, 0, 0, 0, 0, 0, 0, 0],\n",
              "       [0, 0, 0, 0, 0, 0, 0, 0, 0, 0],\n",
              "       [0, 0, 0, 0, 0, 0, 0, 0, 0, 0],\n",
              "       [0, 0, 0, 0, 0, 0, 0, 0, 0, 0],\n",
              "       [0, 0, 0, 0, 0, 0, 0, 0, 0, 0]])"
            ]
          },
          "metadata": {},
          "execution_count": 10
        }
      ]
    },
    {
      "cell_type": "code",
      "source": [
        "for i , word in enumerate(token_sequence):\n",
        "  onehot_vectors[i, vocab.index(word)] = 1\n",
        "  "
      ],
      "metadata": {
        "id": "DuXb8PgRLfXX"
      },
      "execution_count": 11,
      "outputs": []
    },
    {
      "cell_type": "code",
      "source": [
        "' '.join(vocab)"
      ],
      "metadata": {
        "colab": {
          "base_uri": "https://localhost:8080/",
          "height": 35
        },
        "id": "mzt7afeRL1xt",
        "outputId": "b6ca1508-a3e4-4044-d59a-63fe1f944613"
      },
      "execution_count": 12,
      "outputs": [
        {
          "output_type": "execute_result",
          "data": {
            "text/plain": [
              "'26. age at began building jefferson monticello of the thomas'"
            ],
            "application/vnd.google.colaboratory.intrinsic+json": {
              "type": "string"
            }
          },
          "metadata": {},
          "execution_count": 12
        }
      ]
    },
    {
      "cell_type": "code",
      "source": [
        "onehot_vectors"
      ],
      "metadata": {
        "colab": {
          "base_uri": "https://localhost:8080/"
        },
        "id": "uwaGS3p8L3uK",
        "outputId": "f118c2c4-5ff0-4cd2-c24b-08c967e57255"
      },
      "execution_count": 13,
      "outputs": [
        {
          "output_type": "execute_result",
          "data": {
            "text/plain": [
              "array([[0, 0, 0, 0, 0, 0, 0, 0, 0, 1],\n",
              "       [0, 0, 0, 0, 0, 1, 0, 0, 0, 0],\n",
              "       [0, 0, 0, 1, 0, 0, 0, 0, 0, 0],\n",
              "       [0, 0, 0, 0, 1, 0, 0, 0, 0, 0],\n",
              "       [0, 0, 0, 0, 0, 0, 1, 0, 0, 0],\n",
              "       [0, 0, 1, 0, 0, 0, 0, 0, 0, 0],\n",
              "       [0, 0, 0, 0, 0, 0, 0, 0, 1, 0],\n",
              "       [0, 1, 0, 0, 0, 0, 0, 0, 0, 0],\n",
              "       [0, 0, 0, 0, 0, 0, 0, 1, 0, 0],\n",
              "       [1, 0, 0, 0, 0, 0, 0, 0, 0, 0]])"
            ]
          },
          "metadata": {},
          "execution_count": 13
        }
      ]
    },
    {
      "cell_type": "code",
      "source": [
        "import pandas as pd\n",
        "pd.DataFrame(onehot_vectors, columns = vocab)"
      ],
      "metadata": {
        "colab": {
          "base_uri": "https://localhost:8080/",
          "height": 363
        },
        "id": "6OGEEO8UL9F3",
        "outputId": "882ad496-471c-4e26-bd02-8c6f8dd317dc"
      },
      "execution_count": 14,
      "outputs": [
        {
          "output_type": "execute_result",
          "data": {
            "text/plain": [
              "   26.  age  at  began  building  jefferson  monticello  of  the  thomas\n",
              "0    0    0   0      0         0          0           0   0    0       1\n",
              "1    0    0   0      0         0          1           0   0    0       0\n",
              "2    0    0   0      1         0          0           0   0    0       0\n",
              "3    0    0   0      0         1          0           0   0    0       0\n",
              "4    0    0   0      0         0          0           1   0    0       0\n",
              "5    0    0   1      0         0          0           0   0    0       0\n",
              "6    0    0   0      0         0          0           0   0    1       0\n",
              "7    0    1   0      0         0          0           0   0    0       0\n",
              "8    0    0   0      0         0          0           0   1    0       0\n",
              "9    1    0   0      0         0          0           0   0    0       0"
            ],
            "text/html": [
              "\n",
              "  <div id=\"df-f8ea0a47-ddd5-417a-b1a1-7dc65845ae91\">\n",
              "    <div class=\"colab-df-container\">\n",
              "      <div>\n",
              "<style scoped>\n",
              "    .dataframe tbody tr th:only-of-type {\n",
              "        vertical-align: middle;\n",
              "    }\n",
              "\n",
              "    .dataframe tbody tr th {\n",
              "        vertical-align: top;\n",
              "    }\n",
              "\n",
              "    .dataframe thead th {\n",
              "        text-align: right;\n",
              "    }\n",
              "</style>\n",
              "<table border=\"1\" class=\"dataframe\">\n",
              "  <thead>\n",
              "    <tr style=\"text-align: right;\">\n",
              "      <th></th>\n",
              "      <th>26.</th>\n",
              "      <th>age</th>\n",
              "      <th>at</th>\n",
              "      <th>began</th>\n",
              "      <th>building</th>\n",
              "      <th>jefferson</th>\n",
              "      <th>monticello</th>\n",
              "      <th>of</th>\n",
              "      <th>the</th>\n",
              "      <th>thomas</th>\n",
              "    </tr>\n",
              "  </thead>\n",
              "  <tbody>\n",
              "    <tr>\n",
              "      <th>0</th>\n",
              "      <td>0</td>\n",
              "      <td>0</td>\n",
              "      <td>0</td>\n",
              "      <td>0</td>\n",
              "      <td>0</td>\n",
              "      <td>0</td>\n",
              "      <td>0</td>\n",
              "      <td>0</td>\n",
              "      <td>0</td>\n",
              "      <td>1</td>\n",
              "    </tr>\n",
              "    <tr>\n",
              "      <th>1</th>\n",
              "      <td>0</td>\n",
              "      <td>0</td>\n",
              "      <td>0</td>\n",
              "      <td>0</td>\n",
              "      <td>0</td>\n",
              "      <td>1</td>\n",
              "      <td>0</td>\n",
              "      <td>0</td>\n",
              "      <td>0</td>\n",
              "      <td>0</td>\n",
              "    </tr>\n",
              "    <tr>\n",
              "      <th>2</th>\n",
              "      <td>0</td>\n",
              "      <td>0</td>\n",
              "      <td>0</td>\n",
              "      <td>1</td>\n",
              "      <td>0</td>\n",
              "      <td>0</td>\n",
              "      <td>0</td>\n",
              "      <td>0</td>\n",
              "      <td>0</td>\n",
              "      <td>0</td>\n",
              "    </tr>\n",
              "    <tr>\n",
              "      <th>3</th>\n",
              "      <td>0</td>\n",
              "      <td>0</td>\n",
              "      <td>0</td>\n",
              "      <td>0</td>\n",
              "      <td>1</td>\n",
              "      <td>0</td>\n",
              "      <td>0</td>\n",
              "      <td>0</td>\n",
              "      <td>0</td>\n",
              "      <td>0</td>\n",
              "    </tr>\n",
              "    <tr>\n",
              "      <th>4</th>\n",
              "      <td>0</td>\n",
              "      <td>0</td>\n",
              "      <td>0</td>\n",
              "      <td>0</td>\n",
              "      <td>0</td>\n",
              "      <td>0</td>\n",
              "      <td>1</td>\n",
              "      <td>0</td>\n",
              "      <td>0</td>\n",
              "      <td>0</td>\n",
              "    </tr>\n",
              "    <tr>\n",
              "      <th>5</th>\n",
              "      <td>0</td>\n",
              "      <td>0</td>\n",
              "      <td>1</td>\n",
              "      <td>0</td>\n",
              "      <td>0</td>\n",
              "      <td>0</td>\n",
              "      <td>0</td>\n",
              "      <td>0</td>\n",
              "      <td>0</td>\n",
              "      <td>0</td>\n",
              "    </tr>\n",
              "    <tr>\n",
              "      <th>6</th>\n",
              "      <td>0</td>\n",
              "      <td>0</td>\n",
              "      <td>0</td>\n",
              "      <td>0</td>\n",
              "      <td>0</td>\n",
              "      <td>0</td>\n",
              "      <td>0</td>\n",
              "      <td>0</td>\n",
              "      <td>1</td>\n",
              "      <td>0</td>\n",
              "    </tr>\n",
              "    <tr>\n",
              "      <th>7</th>\n",
              "      <td>0</td>\n",
              "      <td>1</td>\n",
              "      <td>0</td>\n",
              "      <td>0</td>\n",
              "      <td>0</td>\n",
              "      <td>0</td>\n",
              "      <td>0</td>\n",
              "      <td>0</td>\n",
              "      <td>0</td>\n",
              "      <td>0</td>\n",
              "    </tr>\n",
              "    <tr>\n",
              "      <th>8</th>\n",
              "      <td>0</td>\n",
              "      <td>0</td>\n",
              "      <td>0</td>\n",
              "      <td>0</td>\n",
              "      <td>0</td>\n",
              "      <td>0</td>\n",
              "      <td>0</td>\n",
              "      <td>1</td>\n",
              "      <td>0</td>\n",
              "      <td>0</td>\n",
              "    </tr>\n",
              "    <tr>\n",
              "      <th>9</th>\n",
              "      <td>1</td>\n",
              "      <td>0</td>\n",
              "      <td>0</td>\n",
              "      <td>0</td>\n",
              "      <td>0</td>\n",
              "      <td>0</td>\n",
              "      <td>0</td>\n",
              "      <td>0</td>\n",
              "      <td>0</td>\n",
              "      <td>0</td>\n",
              "    </tr>\n",
              "  </tbody>\n",
              "</table>\n",
              "</div>\n",
              "      <button class=\"colab-df-convert\" onclick=\"convertToInteractive('df-f8ea0a47-ddd5-417a-b1a1-7dc65845ae91')\"\n",
              "              title=\"Convert this dataframe to an interactive table.\"\n",
              "              style=\"display:none;\">\n",
              "        \n",
              "  <svg xmlns=\"http://www.w3.org/2000/svg\" height=\"24px\"viewBox=\"0 0 24 24\"\n",
              "       width=\"24px\">\n",
              "    <path d=\"M0 0h24v24H0V0z\" fill=\"none\"/>\n",
              "    <path d=\"M18.56 5.44l.94 2.06.94-2.06 2.06-.94-2.06-.94-.94-2.06-.94 2.06-2.06.94zm-11 1L8.5 8.5l.94-2.06 2.06-.94-2.06-.94L8.5 2.5l-.94 2.06-2.06.94zm10 10l.94 2.06.94-2.06 2.06-.94-2.06-.94-.94-2.06-.94 2.06-2.06.94z\"/><path d=\"M17.41 7.96l-1.37-1.37c-.4-.4-.92-.59-1.43-.59-.52 0-1.04.2-1.43.59L10.3 9.45l-7.72 7.72c-.78.78-.78 2.05 0 2.83L4 21.41c.39.39.9.59 1.41.59.51 0 1.02-.2 1.41-.59l7.78-7.78 2.81-2.81c.8-.78.8-2.07 0-2.86zM5.41 20L4 18.59l7.72-7.72 1.47 1.35L5.41 20z\"/>\n",
              "  </svg>\n",
              "      </button>\n",
              "      \n",
              "  <style>\n",
              "    .colab-df-container {\n",
              "      display:flex;\n",
              "      flex-wrap:wrap;\n",
              "      gap: 12px;\n",
              "    }\n",
              "\n",
              "    .colab-df-convert {\n",
              "      background-color: #E8F0FE;\n",
              "      border: none;\n",
              "      border-radius: 50%;\n",
              "      cursor: pointer;\n",
              "      display: none;\n",
              "      fill: #1967D2;\n",
              "      height: 32px;\n",
              "      padding: 0 0 0 0;\n",
              "      width: 32px;\n",
              "    }\n",
              "\n",
              "    .colab-df-convert:hover {\n",
              "      background-color: #E2EBFA;\n",
              "      box-shadow: 0px 1px 2px rgba(60, 64, 67, 0.3), 0px 1px 3px 1px rgba(60, 64, 67, 0.15);\n",
              "      fill: #174EA6;\n",
              "    }\n",
              "\n",
              "    [theme=dark] .colab-df-convert {\n",
              "      background-color: #3B4455;\n",
              "      fill: #D2E3FC;\n",
              "    }\n",
              "\n",
              "    [theme=dark] .colab-df-convert:hover {\n",
              "      background-color: #434B5C;\n",
              "      box-shadow: 0px 1px 3px 1px rgba(0, 0, 0, 0.15);\n",
              "      filter: drop-shadow(0px 1px 2px rgba(0, 0, 0, 0.3));\n",
              "      fill: #FFFFFF;\n",
              "    }\n",
              "  </style>\n",
              "\n",
              "      <script>\n",
              "        const buttonEl =\n",
              "          document.querySelector('#df-f8ea0a47-ddd5-417a-b1a1-7dc65845ae91 button.colab-df-convert');\n",
              "        buttonEl.style.display =\n",
              "          google.colab.kernel.accessAllowed ? 'block' : 'none';\n",
              "\n",
              "        async function convertToInteractive(key) {\n",
              "          const element = document.querySelector('#df-f8ea0a47-ddd5-417a-b1a1-7dc65845ae91');\n",
              "          const dataTable =\n",
              "            await google.colab.kernel.invokeFunction('convertToInteractive',\n",
              "                                                     [key], {});\n",
              "          if (!dataTable) return;\n",
              "\n",
              "          const docLinkHtml = 'Like what you see? Visit the ' +\n",
              "            '<a target=\"_blank\" href=https://colab.research.google.com/notebooks/data_table.ipynb>data table notebook</a>'\n",
              "            + ' to learn more about interactive tables.';\n",
              "          element.innerHTML = '';\n",
              "          dataTable['output_type'] = 'display_data';\n",
              "          await google.colab.output.renderOutput(dataTable, element);\n",
              "          const docLink = document.createElement('div');\n",
              "          docLink.innerHTML = docLinkHtml;\n",
              "          element.appendChild(docLink);\n",
              "        }\n",
              "      </script>\n",
              "    </div>\n",
              "  </div>\n",
              "  "
            ]
          },
          "metadata": {},
          "execution_count": 14
        }
      ]
    },
    {
      "cell_type": "code",
      "source": [
        "df = pd.DataFrame(onehot_vectors, columns = vocab)"
      ],
      "metadata": {
        "id": "3ynpgOWRMBRP"
      },
      "execution_count": 15,
      "outputs": []
    },
    {
      "cell_type": "code",
      "source": [
        "df[df==0] = ''"
      ],
      "metadata": {
        "id": "4tC8XxhQMSB3"
      },
      "execution_count": 16,
      "outputs": []
    },
    {
      "cell_type": "code",
      "source": [
        "df"
      ],
      "metadata": {
        "colab": {
          "base_uri": "https://localhost:8080/",
          "height": 363
        },
        "id": "G-zgEa4WMUZg",
        "outputId": "e5eecc98-ce4f-426e-cb43-9144b3a6f437"
      },
      "execution_count": 17,
      "outputs": [
        {
          "output_type": "execute_result",
          "data": {
            "text/plain": [
              "  26. age at began building jefferson monticello of the thomas\n",
              "0                                                            1\n",
              "1                                   1                         \n",
              "2                1                                            \n",
              "3                         1                                   \n",
              "4                                              1              \n",
              "5          1                                                  \n",
              "6                                                     1       \n",
              "7       1                                                     \n",
              "8                                                 1           \n",
              "9   1                                                         "
            ],
            "text/html": [
              "\n",
              "  <div id=\"df-2afb5b80-612c-4571-a0a8-178e6a34fe3e\">\n",
              "    <div class=\"colab-df-container\">\n",
              "      <div>\n",
              "<style scoped>\n",
              "    .dataframe tbody tr th:only-of-type {\n",
              "        vertical-align: middle;\n",
              "    }\n",
              "\n",
              "    .dataframe tbody tr th {\n",
              "        vertical-align: top;\n",
              "    }\n",
              "\n",
              "    .dataframe thead th {\n",
              "        text-align: right;\n",
              "    }\n",
              "</style>\n",
              "<table border=\"1\" class=\"dataframe\">\n",
              "  <thead>\n",
              "    <tr style=\"text-align: right;\">\n",
              "      <th></th>\n",
              "      <th>26.</th>\n",
              "      <th>age</th>\n",
              "      <th>at</th>\n",
              "      <th>began</th>\n",
              "      <th>building</th>\n",
              "      <th>jefferson</th>\n",
              "      <th>monticello</th>\n",
              "      <th>of</th>\n",
              "      <th>the</th>\n",
              "      <th>thomas</th>\n",
              "    </tr>\n",
              "  </thead>\n",
              "  <tbody>\n",
              "    <tr>\n",
              "      <th>0</th>\n",
              "      <td></td>\n",
              "      <td></td>\n",
              "      <td></td>\n",
              "      <td></td>\n",
              "      <td></td>\n",
              "      <td></td>\n",
              "      <td></td>\n",
              "      <td></td>\n",
              "      <td></td>\n",
              "      <td>1</td>\n",
              "    </tr>\n",
              "    <tr>\n",
              "      <th>1</th>\n",
              "      <td></td>\n",
              "      <td></td>\n",
              "      <td></td>\n",
              "      <td></td>\n",
              "      <td></td>\n",
              "      <td>1</td>\n",
              "      <td></td>\n",
              "      <td></td>\n",
              "      <td></td>\n",
              "      <td></td>\n",
              "    </tr>\n",
              "    <tr>\n",
              "      <th>2</th>\n",
              "      <td></td>\n",
              "      <td></td>\n",
              "      <td></td>\n",
              "      <td>1</td>\n",
              "      <td></td>\n",
              "      <td></td>\n",
              "      <td></td>\n",
              "      <td></td>\n",
              "      <td></td>\n",
              "      <td></td>\n",
              "    </tr>\n",
              "    <tr>\n",
              "      <th>3</th>\n",
              "      <td></td>\n",
              "      <td></td>\n",
              "      <td></td>\n",
              "      <td></td>\n",
              "      <td>1</td>\n",
              "      <td></td>\n",
              "      <td></td>\n",
              "      <td></td>\n",
              "      <td></td>\n",
              "      <td></td>\n",
              "    </tr>\n",
              "    <tr>\n",
              "      <th>4</th>\n",
              "      <td></td>\n",
              "      <td></td>\n",
              "      <td></td>\n",
              "      <td></td>\n",
              "      <td></td>\n",
              "      <td></td>\n",
              "      <td>1</td>\n",
              "      <td></td>\n",
              "      <td></td>\n",
              "      <td></td>\n",
              "    </tr>\n",
              "    <tr>\n",
              "      <th>5</th>\n",
              "      <td></td>\n",
              "      <td></td>\n",
              "      <td>1</td>\n",
              "      <td></td>\n",
              "      <td></td>\n",
              "      <td></td>\n",
              "      <td></td>\n",
              "      <td></td>\n",
              "      <td></td>\n",
              "      <td></td>\n",
              "    </tr>\n",
              "    <tr>\n",
              "      <th>6</th>\n",
              "      <td></td>\n",
              "      <td></td>\n",
              "      <td></td>\n",
              "      <td></td>\n",
              "      <td></td>\n",
              "      <td></td>\n",
              "      <td></td>\n",
              "      <td></td>\n",
              "      <td>1</td>\n",
              "      <td></td>\n",
              "    </tr>\n",
              "    <tr>\n",
              "      <th>7</th>\n",
              "      <td></td>\n",
              "      <td>1</td>\n",
              "      <td></td>\n",
              "      <td></td>\n",
              "      <td></td>\n",
              "      <td></td>\n",
              "      <td></td>\n",
              "      <td></td>\n",
              "      <td></td>\n",
              "      <td></td>\n",
              "    </tr>\n",
              "    <tr>\n",
              "      <th>8</th>\n",
              "      <td></td>\n",
              "      <td></td>\n",
              "      <td></td>\n",
              "      <td></td>\n",
              "      <td></td>\n",
              "      <td></td>\n",
              "      <td></td>\n",
              "      <td>1</td>\n",
              "      <td></td>\n",
              "      <td></td>\n",
              "    </tr>\n",
              "    <tr>\n",
              "      <th>9</th>\n",
              "      <td>1</td>\n",
              "      <td></td>\n",
              "      <td></td>\n",
              "      <td></td>\n",
              "      <td></td>\n",
              "      <td></td>\n",
              "      <td></td>\n",
              "      <td></td>\n",
              "      <td></td>\n",
              "      <td></td>\n",
              "    </tr>\n",
              "  </tbody>\n",
              "</table>\n",
              "</div>\n",
              "      <button class=\"colab-df-convert\" onclick=\"convertToInteractive('df-2afb5b80-612c-4571-a0a8-178e6a34fe3e')\"\n",
              "              title=\"Convert this dataframe to an interactive table.\"\n",
              "              style=\"display:none;\">\n",
              "        \n",
              "  <svg xmlns=\"http://www.w3.org/2000/svg\" height=\"24px\"viewBox=\"0 0 24 24\"\n",
              "       width=\"24px\">\n",
              "    <path d=\"M0 0h24v24H0V0z\" fill=\"none\"/>\n",
              "    <path d=\"M18.56 5.44l.94 2.06.94-2.06 2.06-.94-2.06-.94-.94-2.06-.94 2.06-2.06.94zm-11 1L8.5 8.5l.94-2.06 2.06-.94-2.06-.94L8.5 2.5l-.94 2.06-2.06.94zm10 10l.94 2.06.94-2.06 2.06-.94-2.06-.94-.94-2.06-.94 2.06-2.06.94z\"/><path d=\"M17.41 7.96l-1.37-1.37c-.4-.4-.92-.59-1.43-.59-.52 0-1.04.2-1.43.59L10.3 9.45l-7.72 7.72c-.78.78-.78 2.05 0 2.83L4 21.41c.39.39.9.59 1.41.59.51 0 1.02-.2 1.41-.59l7.78-7.78 2.81-2.81c.8-.78.8-2.07 0-2.86zM5.41 20L4 18.59l7.72-7.72 1.47 1.35L5.41 20z\"/>\n",
              "  </svg>\n",
              "      </button>\n",
              "      \n",
              "  <style>\n",
              "    .colab-df-container {\n",
              "      display:flex;\n",
              "      flex-wrap:wrap;\n",
              "      gap: 12px;\n",
              "    }\n",
              "\n",
              "    .colab-df-convert {\n",
              "      background-color: #E8F0FE;\n",
              "      border: none;\n",
              "      border-radius: 50%;\n",
              "      cursor: pointer;\n",
              "      display: none;\n",
              "      fill: #1967D2;\n",
              "      height: 32px;\n",
              "      padding: 0 0 0 0;\n",
              "      width: 32px;\n",
              "    }\n",
              "\n",
              "    .colab-df-convert:hover {\n",
              "      background-color: #E2EBFA;\n",
              "      box-shadow: 0px 1px 2px rgba(60, 64, 67, 0.3), 0px 1px 3px 1px rgba(60, 64, 67, 0.15);\n",
              "      fill: #174EA6;\n",
              "    }\n",
              "\n",
              "    [theme=dark] .colab-df-convert {\n",
              "      background-color: #3B4455;\n",
              "      fill: #D2E3FC;\n",
              "    }\n",
              "\n",
              "    [theme=dark] .colab-df-convert:hover {\n",
              "      background-color: #434B5C;\n",
              "      box-shadow: 0px 1px 3px 1px rgba(0, 0, 0, 0.15);\n",
              "      filter: drop-shadow(0px 1px 2px rgba(0, 0, 0, 0.3));\n",
              "      fill: #FFFFFF;\n",
              "    }\n",
              "  </style>\n",
              "\n",
              "      <script>\n",
              "        const buttonEl =\n",
              "          document.querySelector('#df-2afb5b80-612c-4571-a0a8-178e6a34fe3e button.colab-df-convert');\n",
              "        buttonEl.style.display =\n",
              "          google.colab.kernel.accessAllowed ? 'block' : 'none';\n",
              "\n",
              "        async function convertToInteractive(key) {\n",
              "          const element = document.querySelector('#df-2afb5b80-612c-4571-a0a8-178e6a34fe3e');\n",
              "          const dataTable =\n",
              "            await google.colab.kernel.invokeFunction('convertToInteractive',\n",
              "                                                     [key], {});\n",
              "          if (!dataTable) return;\n",
              "\n",
              "          const docLinkHtml = 'Like what you see? Visit the ' +\n",
              "            '<a target=\"_blank\" href=https://colab.research.google.com/notebooks/data_table.ipynb>data table notebook</a>'\n",
              "            + ' to learn more about interactive tables.';\n",
              "          element.innerHTML = '';\n",
              "          dataTable['output_type'] = 'display_data';\n",
              "          await google.colab.output.renderOutput(dataTable, element);\n",
              "          const docLink = document.createElement('div');\n",
              "          docLink.innerHTML = docLinkHtml;\n",
              "          element.appendChild(docLink);\n",
              "        }\n",
              "      </script>\n",
              "    </div>\n",
              "  </div>\n",
              "  "
            ]
          },
          "metadata": {},
          "execution_count": 17
        }
      ]
    },
    {
      "cell_type": "code",
      "source": [
        "# 장점은 어떤 정보도 소실되지 않지만 복원할때도 완벽함\n",
        "# 원문의 모든 세부사항을 유지함, 컴퓨터가 이해할 수 있는 수치자료의 형태임\n",
        "# 단어 모음 벡터(빈도벡터) : 단어의 순서 안나타나기때문에 복원 불가능"
      ],
      "metadata": {
        "id": "WjGRFIXsMUkS"
      },
      "execution_count": 18,
      "outputs": []
    },
    {
      "cell_type": "code",
      "source": [
        "sentence_bow = {}\n",
        "for token in sentence.split():\n",
        "  sentence_bow[token] = 1\n",
        "  sorted(sentence_bow.items())"
      ],
      "metadata": {
        "id": "j4gUEH2s-GsQ"
      },
      "execution_count": 20,
      "outputs": []
    },
    {
      "cell_type": "code",
      "source": [
        "sentence_bow"
      ],
      "metadata": {
        "colab": {
          "base_uri": "https://localhost:8080/"
        },
        "id": "iHY52vQi-Wnd",
        "outputId": "5e03573e-151d-427e-a1ff-a7799c6ce279"
      },
      "execution_count": 21,
      "outputs": [
        {
          "output_type": "execute_result",
          "data": {
            "text/plain": [
              "{'26.': 1,\n",
              " 'age': 1,\n",
              " 'at': 1,\n",
              " 'began': 1,\n",
              " 'building': 1,\n",
              " 'jefferson': 1,\n",
              " 'monticello': 1,\n",
              " 'of': 1,\n",
              " 'the': 1,\n",
              " 'thomas': 1}"
            ]
          },
          "metadata": {},
          "execution_count": 21
        }
      ]
    },
    {
      "cell_type": "code",
      "source": [
        "import pandas as pd\n",
        "df = pd.DataFrame( pd.Series(dict([(token,1) for token in sentence.split()])), columns=['sent']).T"
      ],
      "metadata": {
        "id": "dbATAlnK-ZK4"
      },
      "execution_count": 28,
      "outputs": []
    },
    {
      "cell_type": "code",
      "source": [
        "[(token,1) for token in sentence.split()]"
      ],
      "metadata": {
        "colab": {
          "base_uri": "https://localhost:8080/"
        },
        "id": "kYNoQ_v1-uD3",
        "outputId": "38f4fb31-5237-4849-f0f3-9678bb93b574"
      },
      "execution_count": 26,
      "outputs": [
        {
          "output_type": "execute_result",
          "data": {
            "text/plain": [
              "[('thomas', 1),\n",
              " ('jefferson', 1),\n",
              " ('began', 1),\n",
              " ('building', 1),\n",
              " ('monticello', 1),\n",
              " ('at', 1),\n",
              " ('the', 1),\n",
              " ('age', 1),\n",
              " ('of', 1),\n",
              " ('26.', 1)]"
            ]
          },
          "metadata": {},
          "execution_count": 26
        }
      ]
    },
    {
      "cell_type": "code",
      "source": [
        "df"
      ],
      "metadata": {
        "colab": {
          "base_uri": "https://localhost:8080/",
          "height": 81
        },
        "id": "3Wa6mUDB-9pG",
        "outputId": "71ad9a9f-49f0-4fe3-f541-a38710003190"
      },
      "execution_count": 29,
      "outputs": [
        {
          "output_type": "execute_result",
          "data": {
            "text/plain": [
              "      thomas  jefferson  began  building  monticello  at  the  age  of  26.\n",
              "sent       1          1      1         1           1   1    1    1   1    1"
            ],
            "text/html": [
              "\n",
              "  <div id=\"df-ff3f88e3-15d3-473d-9d7c-e684e1c32394\">\n",
              "    <div class=\"colab-df-container\">\n",
              "      <div>\n",
              "<style scoped>\n",
              "    .dataframe tbody tr th:only-of-type {\n",
              "        vertical-align: middle;\n",
              "    }\n",
              "\n",
              "    .dataframe tbody tr th {\n",
              "        vertical-align: top;\n",
              "    }\n",
              "\n",
              "    .dataframe thead th {\n",
              "        text-align: right;\n",
              "    }\n",
              "</style>\n",
              "<table border=\"1\" class=\"dataframe\">\n",
              "  <thead>\n",
              "    <tr style=\"text-align: right;\">\n",
              "      <th></th>\n",
              "      <th>thomas</th>\n",
              "      <th>jefferson</th>\n",
              "      <th>began</th>\n",
              "      <th>building</th>\n",
              "      <th>monticello</th>\n",
              "      <th>at</th>\n",
              "      <th>the</th>\n",
              "      <th>age</th>\n",
              "      <th>of</th>\n",
              "      <th>26.</th>\n",
              "    </tr>\n",
              "  </thead>\n",
              "  <tbody>\n",
              "    <tr>\n",
              "      <th>sent</th>\n",
              "      <td>1</td>\n",
              "      <td>1</td>\n",
              "      <td>1</td>\n",
              "      <td>1</td>\n",
              "      <td>1</td>\n",
              "      <td>1</td>\n",
              "      <td>1</td>\n",
              "      <td>1</td>\n",
              "      <td>1</td>\n",
              "      <td>1</td>\n",
              "    </tr>\n",
              "  </tbody>\n",
              "</table>\n",
              "</div>\n",
              "      <button class=\"colab-df-convert\" onclick=\"convertToInteractive('df-ff3f88e3-15d3-473d-9d7c-e684e1c32394')\"\n",
              "              title=\"Convert this dataframe to an interactive table.\"\n",
              "              style=\"display:none;\">\n",
              "        \n",
              "  <svg xmlns=\"http://www.w3.org/2000/svg\" height=\"24px\"viewBox=\"0 0 24 24\"\n",
              "       width=\"24px\">\n",
              "    <path d=\"M0 0h24v24H0V0z\" fill=\"none\"/>\n",
              "    <path d=\"M18.56 5.44l.94 2.06.94-2.06 2.06-.94-2.06-.94-.94-2.06-.94 2.06-2.06.94zm-11 1L8.5 8.5l.94-2.06 2.06-.94-2.06-.94L8.5 2.5l-.94 2.06-2.06.94zm10 10l.94 2.06.94-2.06 2.06-.94-2.06-.94-.94-2.06-.94 2.06-2.06.94z\"/><path d=\"M17.41 7.96l-1.37-1.37c-.4-.4-.92-.59-1.43-.59-.52 0-1.04.2-1.43.59L10.3 9.45l-7.72 7.72c-.78.78-.78 2.05 0 2.83L4 21.41c.39.39.9.59 1.41.59.51 0 1.02-.2 1.41-.59l7.78-7.78 2.81-2.81c.8-.78.8-2.07 0-2.86zM5.41 20L4 18.59l7.72-7.72 1.47 1.35L5.41 20z\"/>\n",
              "  </svg>\n",
              "      </button>\n",
              "      \n",
              "  <style>\n",
              "    .colab-df-container {\n",
              "      display:flex;\n",
              "      flex-wrap:wrap;\n",
              "      gap: 12px;\n",
              "    }\n",
              "\n",
              "    .colab-df-convert {\n",
              "      background-color: #E8F0FE;\n",
              "      border: none;\n",
              "      border-radius: 50%;\n",
              "      cursor: pointer;\n",
              "      display: none;\n",
              "      fill: #1967D2;\n",
              "      height: 32px;\n",
              "      padding: 0 0 0 0;\n",
              "      width: 32px;\n",
              "    }\n",
              "\n",
              "    .colab-df-convert:hover {\n",
              "      background-color: #E2EBFA;\n",
              "      box-shadow: 0px 1px 2px rgba(60, 64, 67, 0.3), 0px 1px 3px 1px rgba(60, 64, 67, 0.15);\n",
              "      fill: #174EA6;\n",
              "    }\n",
              "\n",
              "    [theme=dark] .colab-df-convert {\n",
              "      background-color: #3B4455;\n",
              "      fill: #D2E3FC;\n",
              "    }\n",
              "\n",
              "    [theme=dark] .colab-df-convert:hover {\n",
              "      background-color: #434B5C;\n",
              "      box-shadow: 0px 1px 3px 1px rgba(0, 0, 0, 0.15);\n",
              "      filter: drop-shadow(0px 1px 2px rgba(0, 0, 0, 0.3));\n",
              "      fill: #FFFFFF;\n",
              "    }\n",
              "  </style>\n",
              "\n",
              "      <script>\n",
              "        const buttonEl =\n",
              "          document.querySelector('#df-ff3f88e3-15d3-473d-9d7c-e684e1c32394 button.colab-df-convert');\n",
              "        buttonEl.style.display =\n",
              "          google.colab.kernel.accessAllowed ? 'block' : 'none';\n",
              "\n",
              "        async function convertToInteractive(key) {\n",
              "          const element = document.querySelector('#df-ff3f88e3-15d3-473d-9d7c-e684e1c32394');\n",
              "          const dataTable =\n",
              "            await google.colab.kernel.invokeFunction('convertToInteractive',\n",
              "                                                     [key], {});\n",
              "          if (!dataTable) return;\n",
              "\n",
              "          const docLinkHtml = 'Like what you see? Visit the ' +\n",
              "            '<a target=\"_blank\" href=https://colab.research.google.com/notebooks/data_table.ipynb>data table notebook</a>'\n",
              "            + ' to learn more about interactive tables.';\n",
              "          element.innerHTML = '';\n",
              "          dataTable['output_type'] = 'display_data';\n",
              "          await google.colab.output.renderOutput(dataTable, element);\n",
              "          const docLink = document.createElement('div');\n",
              "          docLink.innerHTML = docLinkHtml;\n",
              "          element.appendChild(docLink);\n",
              "        }\n",
              "      </script>\n",
              "    </div>\n",
              "  </div>\n",
              "  "
            ]
          },
          "metadata": {},
          "execution_count": 29
        }
      ]
    },
    {
      "cell_type": "code",
      "source": [
        "sentences = \"\"\"thomas jefferson began building moticello at the age of 26.\\n\"\"\"\n",
        "sentences += \"\"\"construction was done mostly by local masons and carpenters.\\n\"\"\"\n",
        "sentences += \"\"\"he moved into the south pavilion in 1770.\\n\"\"\"\n",
        "sentences += \"\"\"turning moticello into a neoclassical masterpiece was jefferson's obsession.\"\"\"\n",
        "corpus ={}\n",
        "print(sentences)"
      ],
      "metadata": {
        "colab": {
          "base_uri": "https://localhost:8080/"
        },
        "id": "Kh-42TdpBgTy",
        "outputId": "4e597a30-73b6-4c66-e4ad-7d16978d26fb"
      },
      "execution_count": 39,
      "outputs": [
        {
          "output_type": "stream",
          "name": "stdout",
          "text": [
            "thomas jefferson began building moticello at the age of 26.\n",
            "construction was done mostly by local masons and carpenters.\n",
            "he moved into the south pavilion in 1770.\n",
            "turning moticello into a neoclassical masterpiece was jefferson's obsession.\n"
          ]
        }
      ]
    },
    {
      "cell_type": "code",
      "source": [
        "for i, sent in enumerate(sentences.split('\\n')):\n",
        "  corpus['sent{}'.format(i)] = dict((tok,1) for tok in sent.split())"
      ],
      "metadata": {
        "id": "5fNCfWEvCGHk"
      },
      "execution_count": 41,
      "outputs": []
    },
    {
      "cell_type": "code",
      "source": [
        "corpus"
      ],
      "metadata": {
        "colab": {
          "base_uri": "https://localhost:8080/"
        },
        "id": "RSRhl3TiESnc",
        "outputId": "cf4b29dc-6062-47be-a55b-ea1eb8f29078"
      },
      "execution_count": 42,
      "outputs": [
        {
          "output_type": "execute_result",
          "data": {
            "text/plain": [
              "{'sent0': {'26.': 1,\n",
              "  'age': 1,\n",
              "  'at': 1,\n",
              "  'began': 1,\n",
              "  'building': 1,\n",
              "  'jefferson': 1,\n",
              "  'moticello': 1,\n",
              "  'of': 1,\n",
              "  'the': 1,\n",
              "  'thomas': 1},\n",
              " 'sent1': {'and': 1,\n",
              "  'by': 1,\n",
              "  'carpenters.': 1,\n",
              "  'construction': 1,\n",
              "  'done': 1,\n",
              "  'local': 1,\n",
              "  'masons': 1,\n",
              "  'mostly': 1,\n",
              "  'was': 1},\n",
              " 'sent2': {'1770.': 1,\n",
              "  'he': 1,\n",
              "  'in': 1,\n",
              "  'into': 1,\n",
              "  'moved': 1,\n",
              "  'pavilion': 1,\n",
              "  'south': 1,\n",
              "  'the': 1},\n",
              " 'sent3': {'a': 1,\n",
              "  'into': 1,\n",
              "  \"jefferson's\": 1,\n",
              "  'masterpiece': 1,\n",
              "  'moticello': 1,\n",
              "  'neoclassical': 1,\n",
              "  'obsession.': 1,\n",
              "  'turning': 1,\n",
              "  'was': 1}}"
            ]
          },
          "metadata": {},
          "execution_count": 42
        }
      ]
    },
    {
      "cell_type": "code",
      "source": [
        "df =pd.DataFrame.from_records(corpus).fillna(0).astype(int).T\n",
        "df[df.columns[:10]]"
      ],
      "metadata": {
        "colab": {
          "base_uri": "https://localhost:8080/",
          "height": 174
        },
        "id": "nvsYeaWuCZQA",
        "outputId": "fa8fb351-7ee6-4b53-8e6b-5703cc536493"
      },
      "execution_count": 35,
      "outputs": [
        {
          "output_type": "execute_result",
          "data": {
            "text/plain": [
              "       thomas  jefferson  began  building  moticello  at  the  age  of  26.\n",
              "sent0       1          1      1         1          1   1    1    1   1    1\n",
              "sent1       0          0      0         0          0   0    0    0   0    0\n",
              "sent2       0          0      0         0          0   0    1    0   0    0\n",
              "sent3       0          0      0         0          1   0    0    0   0    0"
            ],
            "text/html": [
              "\n",
              "  <div id=\"df-7bf433a1-ea99-48bd-83c5-5e7206a94c09\">\n",
              "    <div class=\"colab-df-container\">\n",
              "      <div>\n",
              "<style scoped>\n",
              "    .dataframe tbody tr th:only-of-type {\n",
              "        vertical-align: middle;\n",
              "    }\n",
              "\n",
              "    .dataframe tbody tr th {\n",
              "        vertical-align: top;\n",
              "    }\n",
              "\n",
              "    .dataframe thead th {\n",
              "        text-align: right;\n",
              "    }\n",
              "</style>\n",
              "<table border=\"1\" class=\"dataframe\">\n",
              "  <thead>\n",
              "    <tr style=\"text-align: right;\">\n",
              "      <th></th>\n",
              "      <th>thomas</th>\n",
              "      <th>jefferson</th>\n",
              "      <th>began</th>\n",
              "      <th>building</th>\n",
              "      <th>moticello</th>\n",
              "      <th>at</th>\n",
              "      <th>the</th>\n",
              "      <th>age</th>\n",
              "      <th>of</th>\n",
              "      <th>26.</th>\n",
              "    </tr>\n",
              "  </thead>\n",
              "  <tbody>\n",
              "    <tr>\n",
              "      <th>sent0</th>\n",
              "      <td>1</td>\n",
              "      <td>1</td>\n",
              "      <td>1</td>\n",
              "      <td>1</td>\n",
              "      <td>1</td>\n",
              "      <td>1</td>\n",
              "      <td>1</td>\n",
              "      <td>1</td>\n",
              "      <td>1</td>\n",
              "      <td>1</td>\n",
              "    </tr>\n",
              "    <tr>\n",
              "      <th>sent1</th>\n",
              "      <td>0</td>\n",
              "      <td>0</td>\n",
              "      <td>0</td>\n",
              "      <td>0</td>\n",
              "      <td>0</td>\n",
              "      <td>0</td>\n",
              "      <td>0</td>\n",
              "      <td>0</td>\n",
              "      <td>0</td>\n",
              "      <td>0</td>\n",
              "    </tr>\n",
              "    <tr>\n",
              "      <th>sent2</th>\n",
              "      <td>0</td>\n",
              "      <td>0</td>\n",
              "      <td>0</td>\n",
              "      <td>0</td>\n",
              "      <td>0</td>\n",
              "      <td>0</td>\n",
              "      <td>1</td>\n",
              "      <td>0</td>\n",
              "      <td>0</td>\n",
              "      <td>0</td>\n",
              "    </tr>\n",
              "    <tr>\n",
              "      <th>sent3</th>\n",
              "      <td>0</td>\n",
              "      <td>0</td>\n",
              "      <td>0</td>\n",
              "      <td>0</td>\n",
              "      <td>1</td>\n",
              "      <td>0</td>\n",
              "      <td>0</td>\n",
              "      <td>0</td>\n",
              "      <td>0</td>\n",
              "      <td>0</td>\n",
              "    </tr>\n",
              "  </tbody>\n",
              "</table>\n",
              "</div>\n",
              "      <button class=\"colab-df-convert\" onclick=\"convertToInteractive('df-7bf433a1-ea99-48bd-83c5-5e7206a94c09')\"\n",
              "              title=\"Convert this dataframe to an interactive table.\"\n",
              "              style=\"display:none;\">\n",
              "        \n",
              "  <svg xmlns=\"http://www.w3.org/2000/svg\" height=\"24px\"viewBox=\"0 0 24 24\"\n",
              "       width=\"24px\">\n",
              "    <path d=\"M0 0h24v24H0V0z\" fill=\"none\"/>\n",
              "    <path d=\"M18.56 5.44l.94 2.06.94-2.06 2.06-.94-2.06-.94-.94-2.06-.94 2.06-2.06.94zm-11 1L8.5 8.5l.94-2.06 2.06-.94-2.06-.94L8.5 2.5l-.94 2.06-2.06.94zm10 10l.94 2.06.94-2.06 2.06-.94-2.06-.94-.94-2.06-.94 2.06-2.06.94z\"/><path d=\"M17.41 7.96l-1.37-1.37c-.4-.4-.92-.59-1.43-.59-.52 0-1.04.2-1.43.59L10.3 9.45l-7.72 7.72c-.78.78-.78 2.05 0 2.83L4 21.41c.39.39.9.59 1.41.59.51 0 1.02-.2 1.41-.59l7.78-7.78 2.81-2.81c.8-.78.8-2.07 0-2.86zM5.41 20L4 18.59l7.72-7.72 1.47 1.35L5.41 20z\"/>\n",
              "  </svg>\n",
              "      </button>\n",
              "      \n",
              "  <style>\n",
              "    .colab-df-container {\n",
              "      display:flex;\n",
              "      flex-wrap:wrap;\n",
              "      gap: 12px;\n",
              "    }\n",
              "\n",
              "    .colab-df-convert {\n",
              "      background-color: #E8F0FE;\n",
              "      border: none;\n",
              "      border-radius: 50%;\n",
              "      cursor: pointer;\n",
              "      display: none;\n",
              "      fill: #1967D2;\n",
              "      height: 32px;\n",
              "      padding: 0 0 0 0;\n",
              "      width: 32px;\n",
              "    }\n",
              "\n",
              "    .colab-df-convert:hover {\n",
              "      background-color: #E2EBFA;\n",
              "      box-shadow: 0px 1px 2px rgba(60, 64, 67, 0.3), 0px 1px 3px 1px rgba(60, 64, 67, 0.15);\n",
              "      fill: #174EA6;\n",
              "    }\n",
              "\n",
              "    [theme=dark] .colab-df-convert {\n",
              "      background-color: #3B4455;\n",
              "      fill: #D2E3FC;\n",
              "    }\n",
              "\n",
              "    [theme=dark] .colab-df-convert:hover {\n",
              "      background-color: #434B5C;\n",
              "      box-shadow: 0px 1px 3px 1px rgba(0, 0, 0, 0.15);\n",
              "      filter: drop-shadow(0px 1px 2px rgba(0, 0, 0, 0.3));\n",
              "      fill: #FFFFFF;\n",
              "    }\n",
              "  </style>\n",
              "\n",
              "      <script>\n",
              "        const buttonEl =\n",
              "          document.querySelector('#df-7bf433a1-ea99-48bd-83c5-5e7206a94c09 button.colab-df-convert');\n",
              "        buttonEl.style.display =\n",
              "          google.colab.kernel.accessAllowed ? 'block' : 'none';\n",
              "\n",
              "        async function convertToInteractive(key) {\n",
              "          const element = document.querySelector('#df-7bf433a1-ea99-48bd-83c5-5e7206a94c09');\n",
              "          const dataTable =\n",
              "            await google.colab.kernel.invokeFunction('convertToInteractive',\n",
              "                                                     [key], {});\n",
              "          if (!dataTable) return;\n",
              "\n",
              "          const docLinkHtml = 'Like what you see? Visit the ' +\n",
              "            '<a target=\"_blank\" href=https://colab.research.google.com/notebooks/data_table.ipynb>data table notebook</a>'\n",
              "            + ' to learn more about interactive tables.';\n",
              "          element.innerHTML = '';\n",
              "          dataTable['output_type'] = 'display_data';\n",
              "          await google.colab.output.renderOutput(dataTable, element);\n",
              "          const docLink = document.createElement('div');\n",
              "          docLink.innerHTML = docLinkHtml;\n",
              "          element.appendChild(docLink);\n",
              "        }\n",
              "      </script>\n",
              "    </div>\n",
              "  </div>\n",
              "  "
            ]
          },
          "metadata": {},
          "execution_count": 35
        }
      ]
    },
    {
      "cell_type": "code",
      "source": [
        "# 내적\n",
        "v1 = pd.np.array([1,2,3]) \n",
        "v2 = pd.np.array([2,3,4]) \n",
        "(v1*v2).sum() # 굉장히 효율적인 계산"
      ],
      "metadata": {
        "colab": {
          "base_uri": "https://localhost:8080/"
        },
        "id": "g5rKi9h0ChjK",
        "outputId": "fdd78474-b093-4631-f100-66cf19698ab3"
      },
      "execution_count": 43,
      "outputs": [
        {
          "output_type": "stream",
          "name": "stderr",
          "text": [
            "/usr/local/lib/python3.7/dist-packages/ipykernel_launcher.py:2: FutureWarning: The pandas.np module is deprecated and will be removed from pandas in a future version. Import numpy directly instead\n",
            "  \n",
            "/usr/local/lib/python3.7/dist-packages/ipykernel_launcher.py:3: FutureWarning: The pandas.np module is deprecated and will be removed from pandas in a future version. Import numpy directly instead\n",
            "  This is separate from the ipykernel package so we can avoid doing imports until\n"
          ]
        },
        {
          "output_type": "execute_result",
          "data": {
            "text/plain": [
              "20"
            ]
          },
          "metadata": {},
          "execution_count": 43
        }
      ]
    },
    {
      "cell_type": "code",
      "source": [
        "sum([x1 * x2 for x1, x2 in zip(v1,v2)])"
      ],
      "metadata": {
        "colab": {
          "base_uri": "https://localhost:8080/"
        },
        "id": "ahQqP-qSEQvw",
        "outputId": "18487c8e-ea85-4fcb-95e5-3ff3ca66acbd"
      },
      "execution_count": 50,
      "outputs": [
        {
          "output_type": "execute_result",
          "data": {
            "text/plain": [
              "20"
            ]
          },
          "metadata": {},
          "execution_count": 50
        }
      ]
    },
    {
      "cell_type": "code",
      "source": [
        "v1"
      ],
      "metadata": {
        "colab": {
          "base_uri": "https://localhost:8080/"
        },
        "id": "mDyuH2VCFD-Q",
        "outputId": "5fa3574f-186e-4ad6-cfab-493b3e36ecc5"
      },
      "execution_count": 51,
      "outputs": [
        {
          "output_type": "execute_result",
          "data": {
            "text/plain": [
              "array([1, 2, 3])"
            ]
          },
          "metadata": {},
          "execution_count": 51
        }
      ]
    },
    {
      "cell_type": "code",
      "source": [
        "v1.reshape(-1,1).T"
      ],
      "metadata": {
        "colab": {
          "base_uri": "https://localhost:8080/"
        },
        "id": "eVO8FpESEpo3",
        "outputId": "4b77b20e-4e52-4e64-cf9b-dbef9d4825ae"
      },
      "execution_count": 47,
      "outputs": [
        {
          "output_type": "execute_result",
          "data": {
            "text/plain": [
              "array([[1, 2, 3]])"
            ]
          },
          "metadata": {},
          "execution_count": 47
        }
      ]
    },
    {
      "cell_type": "code",
      "source": [
        "v2.reshape(-1,1)"
      ],
      "metadata": {
        "colab": {
          "base_uri": "https://localhost:8080/"
        },
        "id": "ud-C6CyeE314",
        "outputId": "3c9fb13d-3a1c-45c9-8e0f-74964242b74b"
      },
      "execution_count": 48,
      "outputs": [
        {
          "output_type": "execute_result",
          "data": {
            "text/plain": [
              "array([[2],\n",
              "       [3],\n",
              "       [4]])"
            ]
          },
          "metadata": {},
          "execution_count": 48
        }
      ]
    },
    {
      "cell_type": "code",
      "source": [
        "v1.reshape(-1,1).T@v2.reshape(-1,1) # @ : 행렬곱 연산자"
      ],
      "metadata": {
        "colab": {
          "base_uri": "https://localhost:8080/"
        },
        "id": "ZQvO0PITE7Qz",
        "outputId": "cb14cb63-c6ec-486a-d96a-83679fb2f133"
      },
      "execution_count": 49,
      "outputs": [
        {
          "output_type": "execute_result",
          "data": {
            "text/plain": [
              "array([[20]])"
            ]
          },
          "metadata": {},
          "execution_count": 49
        }
      ]
    },
    {
      "cell_type": "code",
      "source": [
        "# 중복단어 개수세기\n",
        "df = df.T\n",
        "df.sent0.dot(df.sent1)"
      ],
      "metadata": {
        "colab": {
          "base_uri": "https://localhost:8080/"
        },
        "id": "zBXQyprtE83z",
        "outputId": "3563bf2b-552c-4232-875a-6543439cc0a4"
      },
      "execution_count": 52,
      "outputs": [
        {
          "output_type": "execute_result",
          "data": {
            "text/plain": [
              "0"
            ]
          },
          "metadata": {},
          "execution_count": 52
        }
      ]
    },
    {
      "cell_type": "code",
      "source": [
        "df.sent0.dot(df.sent2)"
      ],
      "metadata": {
        "colab": {
          "base_uri": "https://localhost:8080/"
        },
        "id": "RKZyoGu7FRau",
        "outputId": "da4bf735-830a-41f7-b6ef-f7ed1a429786"
      },
      "execution_count": 53,
      "outputs": [
        {
          "output_type": "execute_result",
          "data": {
            "text/plain": [
              "1"
            ]
          },
          "metadata": {},
          "execution_count": 53
        }
      ]
    },
    {
      "cell_type": "code",
      "source": [
        "df.sent0.dot(df.sent3)"
      ],
      "metadata": {
        "colab": {
          "base_uri": "https://localhost:8080/"
        },
        "id": "vD73SG6IFSUz",
        "outputId": "aa105eab-7d22-4e65-d0c8-de523ac53524"
      },
      "execution_count": 54,
      "outputs": [
        {
          "output_type": "execute_result",
          "data": {
            "text/plain": [
              "1"
            ]
          },
          "metadata": {},
          "execution_count": 54
        }
      ]
    },
    {
      "cell_type": "code",
      "source": [
        "# 내적이 1이되게한 단어를 찾기\n",
        "[(k,v) for (k,v) in (df.sent0 & df.sent3).items() if v] "
      ],
      "metadata": {
        "colab": {
          "base_uri": "https://localhost:8080/"
        },
        "id": "mjm2QM7YFTVp",
        "outputId": "cc4820ed-c055-439a-fb4d-9ffa7ebf6328"
      },
      "execution_count": 55,
      "outputs": [
        {
          "output_type": "execute_result",
          "data": {
            "text/plain": [
              "[('moticello', 1)]"
            ]
          },
          "metadata": {},
          "execution_count": 55
        }
      ]
    },
    {
      "cell_type": "code",
      "source": [
        "(df.sent0 & df.sent3).items() "
      ],
      "metadata": {
        "colab": {
          "base_uri": "https://localhost:8080/"
        },
        "id": "hHtA77UTFme4",
        "outputId": "0d1b79c5-c068-47f9-96ec-198bc382bb64"
      },
      "execution_count": 56,
      "outputs": [
        {
          "output_type": "execute_result",
          "data": {
            "text/plain": [
              "<zip at 0x7fce22d36fa0>"
            ]
          },
          "metadata": {},
          "execution_count": 56
        }
      ]
    },
    {
      "cell_type": "code",
      "source": [
        "(df.sent0 & df.sent3)"
      ],
      "metadata": {
        "colab": {
          "base_uri": "https://localhost:8080/"
        },
        "id": "x2dJOb54FoFD",
        "outputId": "7e982a80-7b66-49da-c029-56b10be46782"
      },
      "execution_count": 57,
      "outputs": [
        {
          "output_type": "execute_result",
          "data": {
            "text/plain": [
              "thomas          0\n",
              "jefferson       0\n",
              "began           0\n",
              "building        0\n",
              "moticello       1\n",
              "at              0\n",
              "the             0\n",
              "age             0\n",
              "of              0\n",
              "26.             0\n",
              "construction    0\n",
              "was             0\n",
              "done            0\n",
              "mostly          0\n",
              "by              0\n",
              "local           0\n",
              "masons          0\n",
              "and             0\n",
              "carpenters.     0\n",
              "he              0\n",
              "moved           0\n",
              "into            0\n",
              "south           0\n",
              "pavilion        0\n",
              "in              0\n",
              "1770.           0\n",
              "turning         0\n",
              "a               0\n",
              "neoclassical    0\n",
              "masterpiece     0\n",
              "jefferson's     0\n",
              "obsession.      0\n",
              "dtype: int64"
            ]
          },
          "metadata": {},
          "execution_count": 57
        }
      ]
    },
    {
      "cell_type": "code",
      "source": [
        "import re \n",
        "sentence = \"\"\"thomas jefferson began building moticello at the age of 26.\"\"\"\n",
        "tokens = re.split(r'[-\\s.,;!?]+' , sentence) # 공백이나 몇가지 문장부호를 기준으로 분할함\n",
        "tokens\n",
        "\n",
        "#  정규식 파헤치기\n",
        "# [] : 대괄호는 주어진 텍스트가 부합해야할 문자들의 집합을 지정함\n",
        "# + : []다음 나오는 + , 주어진 문자 부류의 문자들이 하나이상 부합해야함을 뜻함\n",
        "# \\s : \\\\t\\n\\r\\f\\v 등의 공백문자들을 대표함\n",
        "# \\t 탭\n",
        "# \\r 캐리지 리턴\n",
        "# \\n 새줄\n",
        "# \\f 폼피드\n",
        "# \\v 수직탭 문자\n",
        "# r'[a-z] , r'[0-9], r'[_a-zA-Z] : 밑줄문자나 영문소문자, 대문자와 부합함\n",
        "# [-] : 정규 표현식의 까다로운 규칙에 해당함\n"
      ],
      "metadata": {
        "colab": {
          "base_uri": "https://localhost:8080/"
        },
        "id": "Z4--ixYWFr7B",
        "outputId": "1009b335-a2ac-4439-b910-4f3b347c9300"
      },
      "execution_count": 58,
      "outputs": [
        {
          "output_type": "execute_result",
          "data": {
            "text/plain": [
              "['thomas',\n",
              " 'jefferson',\n",
              " 'began',\n",
              " 'building',\n",
              " 'moticello',\n",
              " 'at',\n",
              " 'the',\n",
              " 'age',\n",
              " 'of',\n",
              " '26',\n",
              " '']"
            ]
          },
          "metadata": {},
          "execution_count": 58
        }
      ]
    },
    {
      "cell_type": "code",
      "source": [
        "# 단어 분리를 위한 정규 표현식 개선\n",
        "pattern = re.compile(r'([-\\s.,;:!?])+')\n",
        "tokens = pattern.split(sentence) \n",
        "tokens[-10:]"
      ],
      "metadata": {
        "colab": {
          "base_uri": "https://localhost:8080/"
        },
        "id": "InMP5PNCGQTB",
        "outputId": "281a9132-83ba-4e19-bd5d-0c414c025c73"
      },
      "execution_count": 59,
      "outputs": [
        {
          "output_type": "execute_result",
          "data": {
            "text/plain": [
              "[' ', 'the', ' ', 'age', ' ', 'of', ' ', '26', '.', '']"
            ]
          },
          "metadata": {},
          "execution_count": 59
        }
      ]
    },
    {
      "cell_type": "code",
      "source": [
        "sentence = \"\"\"thomas jefferson began building moticello at the age of 26.\"\"\"\n",
        "pattern = re.compile(r'([-\\s.,;:!?])+')\n",
        "tokens = pattern.split(sentence) \n",
        "[x for x in tokens if x and x not in '- \\t\\n.,;!?']"
      ],
      "metadata": {
        "colab": {
          "base_uri": "https://localhost:8080/"
        },
        "id": "qEqyFcCeKyVM",
        "outputId": "cc943e93-eb39-44ac-c3f0-10bb30cb6b2e"
      },
      "execution_count": 60,
      "outputs": [
        {
          "output_type": "execute_result",
          "data": {
            "text/plain": [
              "['thomas',\n",
              " 'jefferson',\n",
              " 'began',\n",
              " 'building',\n",
              " 'moticello',\n",
              " 'at',\n",
              " 'the',\n",
              " 'age',\n",
              " 'of',\n",
              " '26']"
            ]
          },
          "metadata": {},
          "execution_count": 60
        }
      ]
    },
    {
      "cell_type": "code",
      "source": [
        "# regex : 부합집합중첩, 다중 스레드 적용 유니코드 완벽지원, 근사 정규 표현식 부합, 더큰  maxcache(500개)"
      ],
      "metadata": {
        "id": "bypE0I_gLGgA"
      },
      "execution_count": 61,
      "outputs": []
    },
    {
      "cell_type": "code",
      "source": [
        "# 주요 토큰화 라이브러리 \n",
        "# spacy : 정확,유연, 빠름, 파이썬\n",
        "# coreNLP : 스탠퍼드, 더욱 정확하지만 덜 유연, 빠름, JAVA8에 의존\n",
        "# NLTK : 표준 라이브러리, 유명, 파이썬\n"
      ],
      "metadata": {
        "id": "iOO1HSDWLdnA"
      },
      "execution_count": 62,
      "outputs": []
    },
    {
      "cell_type": "code",
      "source": [
        "from nltk.tokenize import RegexpTokenizer \n",
        "tokenizer = RegexpTokenizer(r'\\w+|$[0-9.]+|\\S+')\n",
        "tokenizer.tokenize(sentence)"
      ],
      "metadata": {
        "colab": {
          "base_uri": "https://localhost:8080/"
        },
        "id": "r_P8pZ8vLw4C",
        "outputId": "6a3dce32-e78b-4994-e390-eaf0f1fe126e"
      },
      "execution_count": 63,
      "outputs": [
        {
          "output_type": "execute_result",
          "data": {
            "text/plain": [
              "['thomas',\n",
              " 'jefferson',\n",
              " 'began',\n",
              " 'building',\n",
              " 'moticello',\n",
              " 'at',\n",
              " 'the',\n",
              " 'age',\n",
              " 'of',\n",
              " '26',\n",
              " '.']"
            ]
          },
          "metadata": {},
          "execution_count": 63
        }
      ]
    },
    {
      "cell_type": "code",
      "source": [
        "# 좀더 강력한 토큰화 함수 :  treebandwordtokenizer, 소숫점, 축양형도 토큰화 가능\n",
        "from nltk.tokenize import TreebankWordTokenizer\n",
        "sentence = \"\"\"Monticello wasn't designated as UNESCO World heritage site until 1987.\"\"\"\n",
        "tokenizer = TreebankWordTokenizer()"
      ],
      "metadata": {
        "id": "l2W2W1_3MII5"
      },
      "execution_count": 65,
      "outputs": []
    },
    {
      "cell_type": "code",
      "source": [
        "tokenizer.tokenize(sentence)"
      ],
      "metadata": {
        "colab": {
          "base_uri": "https://localhost:8080/"
        },
        "id": "BZr0fo_FMyFI",
        "outputId": "600943de-2354-49ff-e384-6e1da10f644d"
      },
      "execution_count": 67,
      "outputs": [
        {
          "output_type": "execute_result",
          "data": {
            "text/plain": [
              "['Monticello',\n",
              " 'was',\n",
              " \"n't\",\n",
              " 'designated',\n",
              " 'as',\n",
              " 'UNESCO',\n",
              " 'World',\n",
              " 'heritage',\n",
              " 'site',\n",
              " 'until',\n",
              " '1987',\n",
              " '.']"
            ]
          },
          "metadata": {},
          "execution_count": 67
        }
      ]
    },
    {
      "cell_type": "code",
      "source": [
        "# n-gram을 활용한 어휘 확장\n",
        "#tokenize_2grams(sentence)"
      ],
      "metadata": {
        "id": "oKksSJbuM2QQ"
      },
      "execution_count": 77,
      "outputs": []
    },
    {
      "cell_type": "code",
      "source": [
        "from nltk.util import ngrams\n",
        "tokens = [x for x in tokens if x and x not in '= \\t\\n.,;:!?']\n",
        "\n",
        "list(ngrams(tokens,2))"
      ],
      "metadata": {
        "colab": {
          "base_uri": "https://localhost:8080/"
        },
        "id": "AIuW2fYANqQc",
        "outputId": "607c6ad7-fbdb-40be-919f-d7d373580cc6"
      },
      "execution_count": 78,
      "outputs": [
        {
          "output_type": "execute_result",
          "data": {
            "text/plain": [
              "[('thomas', 'jefferson'),\n",
              " ('jefferson', 'began'),\n",
              " ('began', 'building'),\n",
              " ('building', 'moticello'),\n",
              " ('moticello', 'at'),\n",
              " ('at', 'the'),\n",
              " ('the', 'age'),\n",
              " ('age', 'of'),\n",
              " ('of', '26')]"
            ]
          },
          "metadata": {},
          "execution_count": 78
        }
      ]
    },
    {
      "cell_type": "code",
      "source": [
        "list(ngrams(tokens,3))"
      ],
      "metadata": {
        "colab": {
          "base_uri": "https://localhost:8080/"
        },
        "id": "AT0PJRCCOt46",
        "outputId": "aa74f1c3-9e60-4188-dd1d-e7bf06b10f73"
      },
      "execution_count": 79,
      "outputs": [
        {
          "output_type": "execute_result",
          "data": {
            "text/plain": [
              "[('thomas', 'jefferson', 'began'),\n",
              " ('jefferson', 'began', 'building'),\n",
              " ('began', 'building', 'moticello'),\n",
              " ('building', 'moticello', 'at'),\n",
              " ('moticello', 'at', 'the'),\n",
              " ('at', 'the', 'age'),\n",
              " ('the', 'age', 'of'),\n",
              " ('age', 'of', '26')]"
            ]
          },
          "metadata": {},
          "execution_count": 79
        }
      ]
    },
    {
      "cell_type": "code",
      "source": [
        "two_grams = list(ngrams(tokens,2))\n",
        "[\" \".join(x) for x in two_grams]\n"
      ],
      "metadata": {
        "colab": {
          "base_uri": "https://localhost:8080/"
        },
        "id": "pq7RidEkOwvZ",
        "outputId": "6e50e453-406e-43b6-aa4c-247157592274"
      },
      "execution_count": 80,
      "outputs": [
        {
          "output_type": "execute_result",
          "data": {
            "text/plain": [
              "['thomas jefferson',\n",
              " 'jefferson began',\n",
              " 'began building',\n",
              " 'building moticello',\n",
              " 'moticello at',\n",
              " 'at the',\n",
              " 'the age',\n",
              " 'age of',\n",
              " 'of 26']"
            ]
          },
          "metadata": {},
          "execution_count": 80
        }
      ]
    },
    {
      "cell_type": "code",
      "source": [
        "stop_words = ['a','an','the','on','of','off','this','is']\n",
        "tokens = ['the','house','is','on','fire'] \n",
        "tokens_without_stopwords = [x for x in tokens if x not in stop_words] \n",
        "tokens_without_stopwords"
      ],
      "metadata": {
        "colab": {
          "base_uri": "https://localhost:8080/"
        },
        "id": "lI_2B0AiPDiK",
        "outputId": "926462e7-6d33-4685-af41-3f2f6bda3d8f"
      },
      "execution_count": 81,
      "outputs": [
        {
          "output_type": "execute_result",
          "data": {
            "text/plain": [
              "['house', 'fire']"
            ]
          },
          "metadata": {},
          "execution_count": 81
        }
      ]
    },
    {
      "cell_type": "code",
      "source": [
        "# nltk의 불용어 목록\n",
        "import nltk\n",
        "nltk.download('stopwords') \n",
        "stop_words = nltk.corpus.stopwords.words('english')\n",
        "len(stop_words)\n"
      ],
      "metadata": {
        "colab": {
          "base_uri": "https://localhost:8080/"
        },
        "id": "UBcwFUeNQuom",
        "outputId": "f7d99bf0-10f2-4928-de91-444b809460f1"
      },
      "execution_count": 83,
      "outputs": [
        {
          "output_type": "stream",
          "name": "stdout",
          "text": [
            "[nltk_data] Downloading package stopwords to /root/nltk_data...\n",
            "[nltk_data]   Package stopwords is already up-to-date!\n"
          ]
        },
        {
          "output_type": "execute_result",
          "data": {
            "text/plain": [
              "179"
            ]
          },
          "metadata": {},
          "execution_count": 83
        }
      ]
    },
    {
      "cell_type": "code",
      "source": [
        "stop_words[:7]"
      ],
      "metadata": {
        "colab": {
          "base_uri": "https://localhost:8080/"
        },
        "id": "l3AOKwQUQ4rj",
        "outputId": "c27ce3e7-ad40-4114-b152-40ca691d8421"
      },
      "execution_count": 84,
      "outputs": [
        {
          "output_type": "execute_result",
          "data": {
            "text/plain": [
              "['i', 'me', 'my', 'myself', 'we', 'our', 'ours']"
            ]
          },
          "metadata": {},
          "execution_count": 84
        }
      ]
    },
    {
      "cell_type": "code",
      "source": [
        "# 여러 불용어 집합을 같이 사용하기\n",
        "from sklearn.feature_extraction.text import ENGLISH_STOP_WORDS as sklearn_stop_words \n",
        "len(sklearn_stop_words)"
      ],
      "metadata": {
        "colab": {
          "base_uri": "https://localhost:8080/"
        },
        "id": "7sGmQvlWQ6kg",
        "outputId": "5a8ca418-f956-4550-80be-299c509c540f"
      },
      "execution_count": 85,
      "outputs": [
        {
          "output_type": "execute_result",
          "data": {
            "text/plain": [
              "318"
            ]
          },
          "metadata": {},
          "execution_count": 85
        }
      ]
    },
    {
      "cell_type": "code",
      "source": [
        "len(stop_words)"
      ],
      "metadata": {
        "colab": {
          "base_uri": "https://localhost:8080/"
        },
        "id": "ip4wz1pzRVWv",
        "outputId": "cd565c4f-e2b3-45cc-a7af-ae3332a62ce6"
      },
      "execution_count": 86,
      "outputs": [
        {
          "output_type": "execute_result",
          "data": {
            "text/plain": [
              "179"
            ]
          },
          "metadata": {},
          "execution_count": 86
        }
      ]
    },
    {
      "cell_type": "code",
      "source": [
        "# len(stop_words.union(sklearn_stop_words))"
      ],
      "metadata": {
        "id": "IrbzpDNVRXKP"
      },
      "execution_count": 91,
      "outputs": []
    },
    {
      "cell_type": "code",
      "source": [
        "# len(stop_words.intersection(sklearn_stop_words))"
      ],
      "metadata": {
        "id": "hHpEvcqDRam1"
      },
      "execution_count": 92,
      "outputs": []
    },
    {
      "cell_type": "code",
      "source": [
        "tokens = ['House','Visitors','Center'] \n",
        "normalized_tokens = [x.lower() for x in tokens] \n",
        "print(normalized_tokens)"
      ],
      "metadata": {
        "colab": {
          "base_uri": "https://localhost:8080/"
        },
        "id": "ktGYRHzWRlxc",
        "outputId": "9a13f851-6ee5-4382-fce7-a6159389755d"
      },
      "execution_count": 93,
      "outputs": [
        {
          "output_type": "stream",
          "name": "stdout",
          "text": [
            "['house', 'visitors', 'center']\n"
          ]
        }
      ]
    },
    {
      "cell_type": "code",
      "source": [
        "# 정규화 : 재현율을 높여주지만, 정밀도를 낮춤\n",
        "# 별로 관심없는 문서들이 검색결과에 포함될 가능성 생김\n",
        "# 검색엔진을 위한 파이프라인을 구축할때는 두종류의 검색어에 맞는 두종류의 색인을 구축 (정규화 o/x)\n"
      ],
      "metadata": {
        "id": "yToGQyheSj0d"
      },
      "execution_count": 94,
      "outputs": []
    },
    {
      "cell_type": "code",
      "source": [
        "# 어간 추출(stemming)\n",
        "# 영어의 어간추출은 단어들에서 접미사를 제거함으로써 의미가 비슷한 단어들을 하나의 공통어간으로 묶음\n",
        "# 어간이 반드시 영어사전에 나오는 정확한 철자의 단어일 필요없음\n",
        "# 어간추출은 문서에 담긴 정보와 의미를 최대한 유지하면서 어휘의 크기를 줄이는 방법\n",
        "def stem(phrase):\n",
        "  return ' '.join([re.findall('^(.*ss|.*?)(s)?$', word)[0][0].strip(\"'\") for word in phrase.lower().split()])\n",
        "\n",
        "  # 만일 단어가 하나의 s로 끝나면 어간은 단어에서 s를 제외한 부분이고 접미사는 S이다\n",
        "  # 만일 단어가 s로 끝나지 않으면 어간은 그 단어 자체이고 접미사는 없다\n"
      ],
      "metadata": {
        "id": "svNJPxrzTvLO"
      },
      "execution_count": 95,
      "outputs": []
    },
    {
      "cell_type": "code",
      "source": [
        "stem('houses')"
      ],
      "metadata": {
        "colab": {
          "base_uri": "https://localhost:8080/",
          "height": 35
        },
        "id": "Me_RtmuFXfwX",
        "outputId": "5b337e95-e498-4a9a-ac9e-ad32c8092ed5"
      },
      "execution_count": 96,
      "outputs": [
        {
          "output_type": "execute_result",
          "data": {
            "text/plain": [
              "'house'"
            ],
            "application/vnd.google.colaboratory.intrinsic+json": {
              "type": "string"
            }
          },
          "metadata": {},
          "execution_count": 96
        }
      ]
    },
    {
      "cell_type": "code",
      "source": [
        "stem(\"Doctor House's calls\")"
      ],
      "metadata": {
        "colab": {
          "base_uri": "https://localhost:8080/",
          "height": 35
        },
        "id": "SJG_L_ABXhJP",
        "outputId": "dbb32afd-148d-4f21-f9fd-627ec0a401a7"
      },
      "execution_count": 97,
      "outputs": [
        {
          "output_type": "execute_result",
          "data": {
            "text/plain": [
              "'doctor house call'"
            ],
            "application/vnd.google.colaboratory.intrinsic+json": {
              "type": "string"
            }
          },
          "metadata": {},
          "execution_count": 97
        }
      ]
    },
    {
      "cell_type": "code",
      "source": [
        "# 어간추출기\n",
        "from nltk.stem.porter import PorterStemmer \n",
        "stemmer = PorterStemmer() \n",
        "' '.join([stemmer.stem(w).strip(\"'\") for w in \"dish washer's washed dishes\".split()])"
      ],
      "metadata": {
        "colab": {
          "base_uri": "https://localhost:8080/",
          "height": 35
        },
        "id": "WaVrn1yZXpEd",
        "outputId": "205f095a-a331-4676-88fe-99771554d508"
      },
      "execution_count": 98,
      "outputs": [
        {
          "output_type": "execute_result",
          "data": {
            "text/plain": [
              "'dish washer wash dish'"
            ],
            "application/vnd.google.colaboratory.intrinsic+json": {
              "type": "string"
            }
          },
          "metadata": {},
          "execution_count": 98
        }
      ]
    },
    {
      "cell_type": "code",
      "source": [
        "# 표제어 추출 (lemmatization) \n",
        "# 어근수준으로 내려가서 정규화하는것\n",
        "# 차원축소를 하게 하지만 모형이 덜 정확해지는 단점이 있음\n",
        "# 뿌리가 같지만 의미가 완전히 같지는 않은 여러 철자변형을 모두 같은 단어로 간주함\n",
        "# chat, chatter, chatty, chatting을 똑같이 취급\n",
        "# 단어의 의미를 고려해서 단어들을 정규화한다는 점에서 표제어 추출은 어간추출이나 대소문자 정규화보다 좀더 정확한 정규화 방법이라 할 수있음\n"
      ],
      "metadata": {
        "id": "4rgNcgV6YfpW"
      },
      "execution_count": 99,
      "outputs": []
    },
    {
      "cell_type": "code",
      "source": [
        "nltk.download('wordnet')\n",
        "from nltk.stem import WordNetLemmatizer \n",
        "lemmatizer = WordNetLemmatizer()\n",
        "lemmatizer.lemmatize(\"better\")  # 명사로 판단"
      ],
      "metadata": {
        "colab": {
          "base_uri": "https://localhost:8080/",
          "height": 72
        },
        "id": "egbjPhUjZwMS",
        "outputId": "b1068237-4ab1-4d10-e53e-8a04431223dd"
      },
      "execution_count": 100,
      "outputs": [
        {
          "output_type": "stream",
          "name": "stdout",
          "text": [
            "[nltk_data] Downloading package wordnet to /root/nltk_data...\n",
            "[nltk_data]   Unzipping corpora/wordnet.zip.\n"
          ]
        },
        {
          "output_type": "execute_result",
          "data": {
            "text/plain": [
              "'better'"
            ],
            "application/vnd.google.colaboratory.intrinsic+json": {
              "type": "string"
            }
          },
          "metadata": {},
          "execution_count": 100
        }
      ]
    },
    {
      "cell_type": "code",
      "source": [
        "lemmatizer.lemmatize(\"better\",pos=\"a\") "
      ],
      "metadata": {
        "colab": {
          "base_uri": "https://localhost:8080/",
          "height": 35
        },
        "id": "duCEhKtPZ8bS",
        "outputId": "fe82ea1d-b61e-487c-f672-c9299b3a03f2"
      },
      "execution_count": 101,
      "outputs": [
        {
          "output_type": "execute_result",
          "data": {
            "text/plain": [
              "'good'"
            ],
            "application/vnd.google.colaboratory.intrinsic+json": {
              "type": "string"
            }
          },
          "metadata": {},
          "execution_count": 101
        }
      ]
    },
    {
      "cell_type": "code",
      "source": [
        "lemmatizer.lemmatize(\"goods\", pos=\"n\") "
      ],
      "metadata": {
        "colab": {
          "base_uri": "https://localhost:8080/",
          "height": 35
        },
        "id": "dSGkt5wBaA6J",
        "outputId": "b6e6780f-1ed1-4463-df7a-fffb62da45eb"
      },
      "execution_count": 102,
      "outputs": [
        {
          "output_type": "execute_result",
          "data": {
            "text/plain": [
              "'good'"
            ],
            "application/vnd.google.colaboratory.intrinsic+json": {
              "type": "string"
            }
          },
          "metadata": {},
          "execution_count": 102
        }
      ]
    },
    {
      "cell_type": "code",
      "source": [
        "lemmatizer.lemmatize(\"goods\", pos=\"a\") "
      ],
      "metadata": {
        "colab": {
          "base_uri": "https://localhost:8080/",
          "height": 35
        },
        "id": "nwX7gUUKaKGi",
        "outputId": "1c3d1d7c-f407-4c4e-80af-d26133cfa3ba"
      },
      "execution_count": 103,
      "outputs": [
        {
          "output_type": "execute_result",
          "data": {
            "text/plain": [
              "'goods'"
            ],
            "application/vnd.google.colaboratory.intrinsic+json": {
              "type": "string"
            }
          },
          "metadata": {},
          "execution_count": 103
        }
      ]
    },
    {
      "cell_type": "code",
      "source": [
        "lemmatizer.lemmatize(\"best\", pos=\"a\") "
      ],
      "metadata": {
        "colab": {
          "base_uri": "https://localhost:8080/",
          "height": 35
        },
        "id": "6LPPqPY-aMSs",
        "outputId": "326f1b94-489d-4b33-bda7-bc93094f6d93"
      },
      "execution_count": 104,
      "outputs": [
        {
          "output_type": "execute_result",
          "data": {
            "text/plain": [
              "'best'"
            ],
            "application/vnd.google.colaboratory.intrinsic+json": {
              "type": "string"
            }
          },
          "metadata": {},
          "execution_count": 104
        }
      ]
    },
    {
      "cell_type": "code",
      "source": [
        "# 일반적으로 어간 추출이 표제어 추출보다 더 빠르고 필요한 코드와 자료집합도 덜 복잡함\n",
        "# 둘다 어휘의 크기를 줄이는 대신 텍스트의 중의성을 높인다.\n"
      ],
      "metadata": {
        "id": "BVIPjR5JaOF8"
      },
      "execution_count": null,
      "outputs": []
    }
  ]
}